{
 "cells": [
  {
   "cell_type": "code",
   "execution_count": 75,
   "id": "2d4b8c66-40ad-494d-b251-2c358fc7a7b0",
   "metadata": {},
   "outputs": [
    {
     "data": {
      "text/html": [
       "<div>\n",
       "<style scoped>\n",
       "    .dataframe tbody tr th:only-of-type {\n",
       "        vertical-align: middle;\n",
       "    }\n",
       "\n",
       "    .dataframe tbody tr th {\n",
       "        vertical-align: top;\n",
       "    }\n",
       "\n",
       "    .dataframe thead th {\n",
       "        text-align: right;\n",
       "    }\n",
       "</style>\n",
       "<table border=\"1\" class=\"dataframe\">\n",
       "  <thead>\n",
       "    <tr style=\"text-align: right;\">\n",
       "      <th></th>\n",
       "      <th>Organization Name</th>\n",
       "      <th>Metric</th>\n",
       "      <th>Year</th>\n",
       "      <th>Value</th>\n",
       "      <th>Unit</th>\n",
       "      <th>Analyst Code</th>\n",
       "      <th>Analyst Date</th>\n",
       "      <th>Validation Status</th>\n",
       "      <th>Row count</th>\n",
       "    </tr>\n",
       "  </thead>\n",
       "  <tbody>\n",
       "    <tr>\n",
       "      <th>0</th>\n",
       "      <td>Company 0</td>\n",
       "      <td>WASTE_TOTAL</td>\n",
       "      <td>2020</td>\n",
       "      <td>1293.2</td>\n",
       "      <td>tons</td>\n",
       "      <td>REP3</td>\n",
       "      <td>04/01/2021</td>\n",
       "      <td>VALID</td>\n",
       "      <td>1</td>\n",
       "    </tr>\n",
       "    <tr>\n",
       "      <th>1</th>\n",
       "      <td>Company 0</td>\n",
       "      <td>CO2_EMISSIONS</td>\n",
       "      <td>2020</td>\n",
       "      <td>8558</td>\n",
       "      <td>tons</td>\n",
       "      <td>REP4</td>\n",
       "      <td>04/11/2021</td>\n",
       "      <td>VALID</td>\n",
       "      <td>1</td>\n",
       "    </tr>\n",
       "    <tr>\n",
       "      <th>2</th>\n",
       "      <td>Company 0</td>\n",
       "      <td>EMISSION_REDUCTION_TARGET</td>\n",
       "      <td>2020</td>\n",
       "      <td>yes</td>\n",
       "      <td>-</td>\n",
       "      <td>REP12</td>\n",
       "      <td>04/20/2021</td>\n",
       "      <td>VALID</td>\n",
       "      <td>1</td>\n",
       "    </tr>\n",
       "    <tr>\n",
       "      <th>3</th>\n",
       "      <td>Company 1</td>\n",
       "      <td>WASTE_TOTAL</td>\n",
       "      <td>2020</td>\n",
       "      <td>3.2</td>\n",
       "      <td>tons</td>\n",
       "      <td>REP3</td>\n",
       "      <td>04/01/2021</td>\n",
       "      <td>VALID</td>\n",
       "      <td>1</td>\n",
       "    </tr>\n",
       "    <tr>\n",
       "      <th>4</th>\n",
       "      <td>Company 1</td>\n",
       "      <td>CO2_EMISSIONS</td>\n",
       "      <td>2020</td>\n",
       "      <td>23456</td>\n",
       "      <td>tons</td>\n",
       "      <td>REP4</td>\n",
       "      <td>04/11/2021</td>\n",
       "      <td>VALID</td>\n",
       "      <td>1</td>\n",
       "    </tr>\n",
       "  </tbody>\n",
       "</table>\n",
       "</div>"
      ],
      "text/plain": [
       "  Organization Name                     Metric  Year   Value  Unit  \\\n",
       "0         Company 0                WASTE_TOTAL  2020  1293.2  tons   \n",
       "1         Company 0              CO2_EMISSIONS  2020    8558  tons   \n",
       "2         Company 0  EMISSION_REDUCTION_TARGET  2020     yes     -   \n",
       "3         Company 1                WASTE_TOTAL  2020     3.2  tons   \n",
       "4         Company 1              CO2_EMISSIONS  2020   23456  tons   \n",
       "\n",
       "  Analyst Code Analyst Date Validation Status  Row count  \n",
       "0         REP3   04/01/2021             VALID          1  \n",
       "1         REP4   04/11/2021             VALID          1  \n",
       "2        REP12   04/20/2021             VALID          1  \n",
       "3         REP3   04/01/2021             VALID          1  \n",
       "4         REP4   04/11/2021             VALID          1  "
      ]
     },
     "execution_count": 75,
     "metadata": {},
     "output_type": "execute_result"
    }
   ],
   "source": [
    "import pandas as pd\n",
    "import numpy as np\n",
    "\n",
    "esg=pd.read_csv(\"C:/Users/dishi/OneDrive/Desktop/PYTHON DATASETS/CLARITY AI ASSESSMENT.csv\")\n",
    "\n",
    "dict={'Value types':'-99 means value not found',\n",
    "       'Analyst Date':'Date in which data was researched and entered'}\n",
    "\n",
    "# renaming the last column for readebility\n",
    "esg.rename(mapper={'Count of Rows in Dataset':'Row count'}, inplace=True, axis=1) \n",
    "row_number=esg['Row count'].sum()\n",
    "\n",
    "for col in esg.columns:\n",
    "    if esg[col].dtype=='object':\n",
    "        esg[col]=esg[col].str.strip()\n",
    "        \n",
    "esg.head()     "
   ]
  },
  {
   "cell_type": "code",
   "execution_count": 76,
   "id": "9079577a-5d0c-4b65-900e-e22dbbc2de7d",
   "metadata": {},
   "outputs": [
    {
     "name": "stdout",
     "output_type": "stream",
     "text": [
      "PROBLEM 1- Overall dataset:\n",
      "To analyze the distribution of unique datapoints per validation status:\n",
      "Validation Status\n",
      "NOT FOUND    49.013276\n",
      "VALID        29.709365\n",
      "INVALID      21.277359\n",
      "Name: proportion, dtype: float64\n"
     ]
    }
   ],
   "source": [
    "print('PROBLEM 1- Overall dataset:')\n",
    "print('To analyze the distribution of unique datapoints per validation status:')\n",
    "\n",
    "dist=esg['Validation Status'].value_counts(normalize=True)*100\n",
    "print(dist)\n",
    "\n",
    "notfound=49\n",
    "valid=29.7\n",
    "invalid=21.2"
   ]
  },
  {
   "cell_type": "code",
   "execution_count": 77,
   "id": "d860edb7-108a-4c52-893e-f3c74eabcec5",
   "metadata": {},
   "outputs": [
    {
     "name": "stdout",
     "output_type": "stream",
     "text": [
      "BAR CHART TO VISUALIZE THE DISTRIBUTION\n"
     ]
    },
    {
     "data": {
      "text/plain": [
       "<Axes: title={'center': 'Distribution of Validation Status'}, xlabel='Validation Status', ylabel='Count'>"
      ]
     },
     "execution_count": 77,
     "metadata": {},
     "output_type": "execute_result"
    },
    {
     "data": {
      "image/png": "[encoded data removed]",
      "text/plain": [
       "<Figure size 640x480 with 1 Axes>"
      ]
     },
     "metadata": {},
     "output_type": "display_data"
    }
   ],
   "source": [
    "print('BAR CHART TO VISUALIZE THE DISTRIBUTION')\n",
    "\n",
    "esg['Validation Status'].value_counts().plot(\n",
    "    kind='bar',\n",
    "    title='Distribution of Validation Status',\n",
    "    ylabel='Count',  # Sets the y-axis label\n",
    "    xlabel='Validation Status',  # Sets the x-axis label\n",
    "    color='skyblue'\n",
    ")"
   ]
  },
  {
   "cell_type": "code",
   "execution_count": 78,
   "id": "d2c2697e-a5de-4303-90bd-b16d42fee4e8",
   "metadata": {},
   "outputs": [
    {
     "name": "stdout",
     "output_type": "stream",
     "text": [
      "PROBLEM 2 - Collector analysis:\n",
      "1.) Number of valid datapoints per collector:\n"
     ]
    },
    {
     "data": {
      "text/html": [
       "<div>\n",
       "<style scoped>\n",
       "    .dataframe tbody tr th:only-of-type {\n",
       "        vertical-align: middle;\n",
       "    }\n",
       "\n",
       "    .dataframe tbody tr th {\n",
       "        vertical-align: top;\n",
       "    }\n",
       "\n",
       "    .dataframe thead th {\n",
       "        text-align: right;\n",
       "    }\n",
       "</style>\n",
       "<table border=\"1\" class=\"dataframe\">\n",
       "  <thead>\n",
       "    <tr style=\"text-align: right;\">\n",
       "      <th></th>\n",
       "      <th>Analyst Code</th>\n",
       "      <th>Number of valid datapoints collected</th>\n",
       "    </tr>\n",
       "  </thead>\n",
       "  <tbody>\n",
       "    <tr>\n",
       "      <th>5</th>\n",
       "      <td>REP3</td>\n",
       "      <td>286</td>\n",
       "    </tr>\n",
       "    <tr>\n",
       "      <th>6</th>\n",
       "      <td>REP4</td>\n",
       "      <td>142</td>\n",
       "    </tr>\n",
       "    <tr>\n",
       "      <th>0</th>\n",
       "      <td>REP1</td>\n",
       "      <td>141</td>\n",
       "    </tr>\n",
       "    <tr>\n",
       "      <th>8</th>\n",
       "      <td>REP7</td>\n",
       "      <td>87</td>\n",
       "    </tr>\n",
       "    <tr>\n",
       "      <th>3</th>\n",
       "      <td>REP12</td>\n",
       "      <td>73</td>\n",
       "    </tr>\n",
       "    <tr>\n",
       "      <th>7</th>\n",
       "      <td>REP6</td>\n",
       "      <td>52</td>\n",
       "    </tr>\n",
       "    <tr>\n",
       "      <th>9</th>\n",
       "      <td>REP9</td>\n",
       "      <td>33</td>\n",
       "    </tr>\n",
       "    <tr>\n",
       "      <th>1</th>\n",
       "      <td>REP10</td>\n",
       "      <td>9</td>\n",
       "    </tr>\n",
       "    <tr>\n",
       "      <th>2</th>\n",
       "      <td>REP11</td>\n",
       "      <td>3</td>\n",
       "    </tr>\n",
       "    <tr>\n",
       "      <th>4</th>\n",
       "      <td>REP2</td>\n",
       "      <td>2</td>\n",
       "    </tr>\n",
       "  </tbody>\n",
       "</table>\n",
       "</div>"
      ],
      "text/plain": [
       "  Analyst Code  Number of valid datapoints collected\n",
       "5         REP3                                   286\n",
       "6         REP4                                   142\n",
       "0         REP1                                   141\n",
       "8         REP7                                    87\n",
       "3        REP12                                    73\n",
       "7         REP6                                    52\n",
       "9         REP9                                    33\n",
       "1        REP10                                     9\n",
       "2        REP11                                     3\n",
       "4         REP2                                     2"
      ]
     },
     "execution_count": 78,
     "metadata": {},
     "output_type": "execute_result"
    }
   ],
   "source": [
    "print('PROBLEM 2 - Collector analysis:')\n",
    "print('1.) Number of valid datapoints per collector:')\n",
    "\n",
    "# filtering the dataset to work only with valid data\n",
    "datavalid=esg[ esg['Validation Status']=='VALID' ]\n",
    "datavalid.head()\n",
    "\n",
    "# pivot table that groups by each analyst and counts the number of times the 'VALID' validation status occurred\n",
    "validpercol=datavalid.groupby('Analyst Code').agg( {'Validation Status':'count'} )\n",
    "validpercol.reset_index(inplace=True)\n",
    "validpercol.columns=['Analyst Code','Number of valid datapoints collected']\n",
    "\n",
    "# sorting from the analyst that collected the most valid datapoints to the least\n",
    "validpercol.sort_values(by='Number of valid datapoints collected', inplace=True, ascending=False)\n",
    "validpercol"
   ]
  },
  {
   "cell_type": "code",
   "execution_count": 79,
   "id": "64335afb-02e5-4e76-b8d3-c09e1ee888d9",
   "metadata": {},
   "outputs": [
    {
     "name": "stdout",
     "output_type": "stream",
     "text": [
      "PROBLEM 2 - Collector analysis:\n",
      "2.) Overall average data points collected per collector:\n",
      "There are 10 analysts in this dataset in total.\n",
      "The total number of found datapoints collected in this dataset is 1421.\n",
      "The average overall data points collected per analyst is 142.1.\n"
     ]
    }
   ],
   "source": [
    "print('PROBLEM 2 - Collector analysis:')\n",
    "print('2.) Overall average data points collected per collector:')\n",
    "\n",
    "# finding the total number of analysts in a dataset\n",
    "number_collectors=esg['Analyst Code'].nunique()\n",
    "print('There are {} analysts in this dataset in total.'.format( number_collectors))\n",
    "\n",
    "# when the Validation Status is NOT FOUND, the Value == -99, and it means that the data point was not found\n",
    "not_found_datapoints=esg['Value'].value_counts().get('-99',0)\n",
    "# 1366 not collected data points\n",
    "\n",
    "# total number of found data points collected in this dataset\n",
    "collected_data=esg[ esg['Value'] != '-99'] \n",
    "datapoints=collected_data['Value'].count()\n",
    "\n",
    "print('The total number of found datapoints collected in this dataset is {}.'.format(datapoints))\n",
    "average_data_coll=datapoints/10\n",
    "\n",
    "print('The average overall data points collected per analyst is {}.'.format(average_data_coll) )"
   ]
  },
  {
   "cell_type": "code",
   "execution_count": 80,
   "id": "3e56d5d1-6f92-4727-b249-9b49d2195c5d",
   "metadata": {},
   "outputs": [
    {
     "name": "stdout",
     "output_type": "stream",
     "text": [
      "PROBLEM 2 - Collector analysis:\n",
      "3.) Average data points collected per collector per day:\n"
     ]
    },
    {
     "data": {
      "text/html": [
       "<div>\n",
       "<style scoped>\n",
       "    .dataframe tbody tr th:only-of-type {\n",
       "        vertical-align: middle;\n",
       "    }\n",
       "\n",
       "    .dataframe tbody tr th {\n",
       "        vertical-align: top;\n",
       "    }\n",
       "\n",
       "    .dataframe thead th {\n",
       "        text-align: right;\n",
       "    }\n",
       "</style>\n",
       "<table border=\"1\" class=\"dataframe\">\n",
       "  <thead>\n",
       "    <tr style=\"text-align: right;\">\n",
       "      <th></th>\n",
       "      <th>Analyst Code</th>\n",
       "      <th>Number of days each analyst collected data</th>\n",
       "      <th>Total number of data points found</th>\n",
       "      <th>Average data points per day per analyst</th>\n",
       "    </tr>\n",
       "  </thead>\n",
       "  <tbody>\n",
       "    <tr>\n",
       "      <th>5</th>\n",
       "      <td>REP3</td>\n",
       "      <td>26</td>\n",
       "      <td>506</td>\n",
       "      <td>19.0</td>\n",
       "    </tr>\n",
       "    <tr>\n",
       "      <th>0</th>\n",
       "      <td>REP1</td>\n",
       "      <td>9</td>\n",
       "      <td>142</td>\n",
       "      <td>16.0</td>\n",
       "    </tr>\n",
       "    <tr>\n",
       "      <th>6</th>\n",
       "      <td>REP4</td>\n",
       "      <td>19</td>\n",
       "      <td>310</td>\n",
       "      <td>16.0</td>\n",
       "    </tr>\n",
       "    <tr>\n",
       "      <th>8</th>\n",
       "      <td>REP7</td>\n",
       "      <td>11</td>\n",
       "      <td>145</td>\n",
       "      <td>13.0</td>\n",
       "    </tr>\n",
       "    <tr>\n",
       "      <th>7</th>\n",
       "      <td>REP6</td>\n",
       "      <td>10</td>\n",
       "      <td>106</td>\n",
       "      <td>11.0</td>\n",
       "    </tr>\n",
       "    <tr>\n",
       "      <th>3</th>\n",
       "      <td>REP12</td>\n",
       "      <td>13</td>\n",
       "      <td>135</td>\n",
       "      <td>10.0</td>\n",
       "    </tr>\n",
       "    <tr>\n",
       "      <th>4</th>\n",
       "      <td>REP2</td>\n",
       "      <td>2</td>\n",
       "      <td>20</td>\n",
       "      <td>10.0</td>\n",
       "    </tr>\n",
       "    <tr>\n",
       "      <th>1</th>\n",
       "      <td>REP10</td>\n",
       "      <td>1</td>\n",
       "      <td>9</td>\n",
       "      <td>9.0</td>\n",
       "    </tr>\n",
       "    <tr>\n",
       "      <th>2</th>\n",
       "      <td>REP11</td>\n",
       "      <td>2</td>\n",
       "      <td>14</td>\n",
       "      <td>7.0</td>\n",
       "    </tr>\n",
       "    <tr>\n",
       "      <th>9</th>\n",
       "      <td>REP9</td>\n",
       "      <td>5</td>\n",
       "      <td>34</td>\n",
       "      <td>7.0</td>\n",
       "    </tr>\n",
       "  </tbody>\n",
       "</table>\n",
       "</div>"
      ],
      "text/plain": [
       "  Analyst Code  Number of days each analyst collected data  \\\n",
       "5         REP3                                          26   \n",
       "0         REP1                                           9   \n",
       "6         REP4                                          19   \n",
       "8         REP7                                          11   \n",
       "7         REP6                                          10   \n",
       "3        REP12                                          13   \n",
       "4         REP2                                           2   \n",
       "1        REP10                                           1   \n",
       "2        REP11                                           2   \n",
       "9         REP9                                           5   \n",
       "\n",
       "   Total number of data points found  Average data points per day per analyst  \n",
       "5                                506                                     19.0  \n",
       "0                                142                                     16.0  \n",
       "6                                310                                     16.0  \n",
       "8                                145                                     13.0  \n",
       "7                                106                                     11.0  \n",
       "3                                135                                     10.0  \n",
       "4                                 20                                     10.0  \n",
       "1                                  9                                      9.0  \n",
       "2                                 14                                      7.0  \n",
       "9                                 34                                      7.0  "
      ]
     },
     "execution_count": 80,
     "metadata": {},
     "output_type": "execute_result"
    }
   ],
   "source": [
    "print('PROBLEM 2 - Collector analysis:')\n",
    "print('3.) Average data points collected per collector per day:')\n",
    "\n",
    "# We need to know:\n",
    "# 1. Total data points found and collected per analyst\n",
    "# 2. Number of days each analyst worked & found data points\n",
    "\n",
    "collected_data.head() # the dataset with found data points collected, the one we need for the analysis\n",
    "\n",
    "# number of unique days each analyst found data points:\n",
    "analystday=collected_data.groupby('Analyst Code').agg({'Analyst Date':'nunique'})\n",
    "analystday.reset_index(inplace=True)\n",
    "analystday.sort_values(by='Analyst Date', ascending=False, inplace=True)\n",
    "analystday.columns=['Analyst Code','Number of days each analyst collected data']\n",
    "\n",
    "analystdata=collected_data.groupby('Analyst Code').agg({'Row count':'sum'})\n",
    "analystdata.reset_index(inplace=True)\n",
    "analystdata.columns=['Analyst Code','Total number of data points found']\n",
    "analystdata.sort_values(by='Total number of data points found', ascending=False, inplace=True)\n",
    "\n",
    "\n",
    "datas=pd.merge( left=analystday, right=analystdata, left_on='Analyst Code', right_on='Analyst Code', how='outer')\n",
    "datas['Average data points per day per analyst']=(datas['Total number of data points found'] / datas['Number of days each analyst collected data']).round(\n",
    "    decimals=0)\n",
    "datas.sort_values(by='Average data points per day per analyst', ascending=False, inplace=True)\n",
    "datas"
   ]
  },
  {
   "cell_type": "code",
   "execution_count": 81,
   "id": "dc9ed9b0-93d0-4e6d-86bf-e8d68d320293",
   "metadata": {},
   "outputs": [
    {
     "name": "stdout",
     "output_type": "stream",
     "text": [
      "  Organization Name                     Metric  Year   Value  Unit  \\\n",
      "0         Company 0                WASTE_TOTAL  2020  1293.2  tons   \n",
      "1         Company 0              CO2_EMISSIONS  2020    8558  tons   \n",
      "2         Company 0  EMISSION_REDUCTION_TARGET  2020     yes     -   \n",
      "3         Company 1                WASTE_TOTAL  2020     3.2  tons   \n",
      "4         Company 1              CO2_EMISSIONS  2020   23456  tons   \n",
      "\n",
      "  Analyst Code Analyst Date Validation Status  Row count  \n",
      "0         REP3   04/01/2021             VALID          1  \n",
      "1         REP4   04/11/2021             VALID          1  \n",
      "2        REP12   04/20/2021             VALID          1  \n",
      "3         REP3   04/01/2021             VALID          1  \n",
      "4         REP4   04/11/2021             VALID          1  \n",
      "This is the total number of days per analyst that the analyst tried collecting data\n",
      "__________________________________________________________________\n",
      "  Analyst Code  Number of days each analyst collected data\n",
      "5         REP3                                          28\n",
      "3        REP12                                          19\n",
      "6         REP4                                          19\n",
      "7         REP6                                          13\n",
      "8         REP7                                          11\n",
      "0         REP1                                          10\n",
      "1        REP10                                           8\n",
      "9         REP9                                           5\n",
      "2        REP11                                           4\n",
      "4         REP2                                           2\n"
     ]
    }
   ],
   "source": [
    "print(collected_data.head())\n",
    "\n",
    "analystday=esg.groupby('Analyst Code').agg({'Analyst Date':'nunique'})\n",
    "analystday.reset_index(inplace=True)\n",
    "analystday.sort_values(by='Analyst Date', ascending=False, inplace=True)\n",
    "\n",
    "analystday.columns=['Analyst Code','Number of days each analyst collected data']\n",
    "print('This is the total number of days per analyst that the analyst tried collecting data')\n",
    "print('__________________________________________________________________')\n",
    "print(analystday)"
   ]
  },
  {
   "cell_type": "code",
   "execution_count": 82,
   "id": "17d18c47-8372-4881-abf6-8550a48b3f92",
   "metadata": {},
   "outputs": [
    {
     "name": "stdout",
     "output_type": "stream",
     "text": [
      "PROBLEM 3 - Metric Analysis:\n",
      "1.) Number of valid and invalid datapoints per metric\n"
     ]
    },
    {
     "data": {
      "text/html": [
       "<div>\n",
       "<style scoped>\n",
       "    .dataframe tbody tr th:only-of-type {\n",
       "        vertical-align: middle;\n",
       "    }\n",
       "\n",
       "    .dataframe tbody tr th {\n",
       "        vertical-align: top;\n",
       "    }\n",
       "\n",
       "    .dataframe thead th {\n",
       "        text-align: right;\n",
       "    }\n",
       "</style>\n",
       "<table border=\"1\" class=\"dataframe\">\n",
       "  <thead>\n",
       "    <tr style=\"text-align: right;\">\n",
       "      <th></th>\n",
       "      <th>Metric</th>\n",
       "      <th>Valid data points</th>\n",
       "      <th>Invalid data points</th>\n",
       "    </tr>\n",
       "  </thead>\n",
       "  <tbody>\n",
       "    <tr>\n",
       "      <th>0</th>\n",
       "      <td>CO2_EMISSIONS</td>\n",
       "      <td>108</td>\n",
       "      <td>77</td>\n",
       "    </tr>\n",
       "    <tr>\n",
       "      <th>1</th>\n",
       "      <td>EMISSION_REDUCTION_TARGET</td>\n",
       "      <td>355</td>\n",
       "      <td>241</td>\n",
       "    </tr>\n",
       "    <tr>\n",
       "      <th>2</th>\n",
       "      <td>WASTE_TOTAL</td>\n",
       "      <td>365</td>\n",
       "      <td>275</td>\n",
       "    </tr>\n",
       "  </tbody>\n",
       "</table>\n",
       "</div>"
      ],
      "text/plain": [
       "                      Metric  Valid data points  Invalid data points\n",
       "0              CO2_EMISSIONS                108                   77\n",
       "1  EMISSION_REDUCTION_TARGET                355                  241\n",
       "2                WASTE_TOTAL                365                  275"
      ]
     },
     "execution_count": 82,
     "metadata": {},
     "output_type": "execute_result"
    }
   ],
   "source": [
    "print('PROBLEM 3 - Metric Analysis:')\n",
    "print('1.) Number of valid and invalid datapoints per metric')\n",
    "\n",
    "valid=esg[ esg['Validation Status']=='VALID'] \n",
    "invalid=esg[ esg['Validation Status']=='INVALID']\n",
    "\n",
    "valid['Validation Status'].value_counts()\n",
    "invalid['Validation Status'].value_counts()\n",
    "\n",
    "valid_metric=valid.groupby('Metric').agg( {'Validation Status':'count'} )\n",
    "valid_metric.reset_index(inplace=True)\n",
    "\n",
    "valid_metric.columns=['Metric','Valid data points']\n",
    "valid_metric.sort_values(by='Valid data points', ascending=False, inplace=True)\n",
    "\n",
    "# SAME FOR INVALID DATA POINTS \n",
    "\n",
    "invalid_metric=invalid.groupby('Metric').agg( {'Validation Status':'count'} )\n",
    "invalid_metric.reset_index(inplace=True)\n",
    "\n",
    "invalid_metric.columns=['Metric','Invalid data points']\n",
    "invalid_metric.sort_values(by='Invalid data points', ascending=False, inplace=True)\n",
    "\n",
    "validity=pd.merge(left=valid_metric, right=invalid_metric, \n",
    "                  left_on='Metric', right_on='Metric', how='outer')\n",
    "\n",
    "validity"
   ]
  },
  {
   "cell_type": "code",
   "execution_count": 83,
   "id": "235dd546-a63b-4fb6-bada-036021c56186",
   "metadata": {},
   "outputs": [
    {
     "name": "stdout",
     "output_type": "stream",
     "text": [
      "PROBLEM 4 - Company Analysis:\n",
      "1.) Number of companies where all data points are NOT FOUND:\n",
      "   Company Name  Number of Metrics that are NOT FOUND\n",
      "43  Company 156                                     3\n",
      "44  Company 157                                     3\n",
      "45  Company 158                                     3\n",
      "46  Company 159                                     3\n",
      "48  Company 160                                     3\n"
     ]
    }
   ],
   "source": [
    "print('PROBLEM 4 - Company Analysis:')\n",
    "print('1.) Number of companies where all data points are NOT FOUND:')\n",
    "esg.head()\n",
    "\n",
    "notfound=esg[ esg['Validation Status']=='NOT FOUND']\n",
    "notfound.head()\n",
    "\n",
    "# for each firm we want to see the number of unique metric not found (there are max 3 metrics researched per firm)\n",
    "data1=notfound.groupby('Organization Name').agg( {'Metric':'nunique'} )\n",
    "data1.reset_index(inplace=True)\n",
    "data1.columns=['Company Name','Number of Metrics that are NOT FOUND']\n",
    "\n",
    "# firms for which all metrics were not found\n",
    "allnotfound=data1[ data1['Number of Metrics that are NOT FOUND']==3 ]\n",
    "allnotfound['Company Name'].value_counts().values # to check that there is no repeating firms\n",
    "\n",
    "print(allnotfound.head())\n"
   ]
  },
  {
   "cell_type": "code",
   "execution_count": 84,
   "id": "76f2be4c-5beb-4420-9081-ee202ffcf67c",
   "metadata": {},
   "outputs": [
    {
     "data": {
      "text/plain": [
       "np.int64(74)"
      ]
     },
     "execution_count": 84,
     "metadata": {},
     "output_type": "execute_result"
    }
   ],
   "source": [
    "firms_all_not_found=allnotfound['Company Name'].count()\n",
    "firms_all_not_found"
   ]
  },
  {
   "cell_type": "code",
   "execution_count": 87,
   "id": "5a3fe6e4-b472-4a3d-8bb7-fcf6d2388754",
   "metadata": {},
   "outputs": [
    {
     "name": "stdout",
     "output_type": "stream",
     "text": [
      "PROBLEM 4 - Company Analysis:\n",
      "1.) Number of companies where all data points are VALID:\n"
     ]
    },
    {
     "data": {
      "text/html": [
       "<div>\n",
       "<style scoped>\n",
       "    .dataframe tbody tr th:only-of-type {\n",
       "        vertical-align: middle;\n",
       "    }\n",
       "\n",
       "    .dataframe tbody tr th {\n",
       "        vertical-align: top;\n",
       "    }\n",
       "\n",
       "    .dataframe thead th {\n",
       "        text-align: right;\n",
       "    }\n",
       "</style>\n",
       "<table border=\"1\" class=\"dataframe\">\n",
       "  <thead>\n",
       "    <tr style=\"text-align: right;\">\n",
       "      <th></th>\n",
       "      <th>Company Name</th>\n",
       "      <th>Number of Metrics that are VALID</th>\n",
       "    </tr>\n",
       "  </thead>\n",
       "  <tbody>\n",
       "    <tr>\n",
       "      <th>0</th>\n",
       "      <td>Company 0</td>\n",
       "      <td>3</td>\n",
       "    </tr>\n",
       "    <tr>\n",
       "      <th>1</th>\n",
       "      <td>Company 1</td>\n",
       "      <td>3</td>\n",
       "    </tr>\n",
       "    <tr>\n",
       "      <th>3</th>\n",
       "      <td>Company 101</td>\n",
       "      <td>3</td>\n",
       "    </tr>\n",
       "    <tr>\n",
       "      <th>4</th>\n",
       "      <td>Company 102</td>\n",
       "      <td>3</td>\n",
       "    </tr>\n",
       "    <tr>\n",
       "      <th>7</th>\n",
       "      <td>Company 105</td>\n",
       "      <td>3</td>\n",
       "    </tr>\n",
       "  </tbody>\n",
       "</table>\n",
       "</div>"
      ],
      "text/plain": [
       "  Company Name  Number of Metrics that are VALID\n",
       "0    Company 0                                 3\n",
       "1    Company 1                                 3\n",
       "3  Company 101                                 3\n",
       "4  Company 102                                 3\n",
       "7  Company 105                                 3"
      ]
     },
     "execution_count": 87,
     "metadata": {},
     "output_type": "execute_result"
    }
   ],
   "source": [
    "print('PROBLEM 4 - Company Analysis:')\n",
    "print('1.) Number of companies where all data points are VALID:')\n",
    "esg.head()\n",
    "\n",
    "valid=esg[ esg['Validation Status']=='VALID']\n",
    "valid.head()\n",
    "\n",
    "# for each firm we want to see the number of unique metric not found (there are max 3 metrics researched per firm)\n",
    "data2=valid.groupby('Organization Name').agg( {'Metric':'nunique'} )\n",
    "data2.reset_index(inplace=True)\n",
    "data2.columns=['Company Name','Number of Metrics that are VALID']\n",
    "\n",
    "# firms for which all metrics were not found\n",
    "allvalid=data2[ data2['Number of Metrics that are VALID']==3 ]\n",
    "allvalid['Company Name'].value_counts().values # to check that there is no repeating firms\n",
    "allvalid.head()"
   ]
  },
  {
   "cell_type": "code",
   "execution_count": 90,
   "id": "595e4dbb-6eb0-4333-ab6f-1bf78c9f1db1",
   "metadata": {},
   "outputs": [
    {
     "name": "stdout",
     "output_type": "stream",
     "text": [
      "25\n"
     ]
    }
   ],
   "source": [
    "firms_all_found=allvalid['Company Name'].count()\n",
    "print(firms_all_found)"
   ]
  },
  {
   "cell_type": "code",
   "execution_count": 1,
   "id": "59c33f72-58bc-4244-9f11-02c6a9429c7d",
   "metadata": {},
   "outputs": [],
   "source": [
    "import numpy as np\n",
    "import pandas as pd\n",
    "import plotly.express as px\n",
    "%matplotlib inline"
   ]
  },
  {
   "cell_type": "code",
   "execution_count": 2,
   "id": "2ddaa6ea-8163-4ea9-968a-1e193c70eb50",
   "metadata": {},
   "outputs": [
    {
     "data": {
      "text/html": [
       "<div>\n",
       "<style scoped>\n",
       "    .dataframe tbody tr th:only-of-type {\n",
       "        vertical-align: middle;\n",
       "    }\n",
       "\n",
       "    .dataframe tbody tr th {\n",
       "        vertical-align: top;\n",
       "    }\n",
       "\n",
       "    .dataframe thead th {\n",
       "        text-align: right;\n",
       "    }\n",
       "</style>\n",
       "<table border=\"1\" class=\"dataframe\">\n",
       "  <thead>\n",
       "    <tr style=\"text-align: right;\">\n",
       "      <th></th>\n",
       "      <th>Date</th>\n",
       "      <th>New York</th>\n",
       "      <th>London</th>\n",
       "      <th>Tokyo</th>\n",
       "      <th>Madrid</th>\n",
       "      <th>Sydney</th>\n",
       "    </tr>\n",
       "  </thead>\n",
       "  <tbody>\n",
       "    <tr>\n",
       "      <th>0</th>\n",
       "      <td>01/06/2024</td>\n",
       "      <td>25</td>\n",
       "      <td>18</td>\n",
       "      <td>27</td>\n",
       "      <td>30</td>\n",
       "      <td>15</td>\n",
       "    </tr>\n",
       "    <tr>\n",
       "      <th>1</th>\n",
       "      <td>02/06/2024</td>\n",
       "      <td>26</td>\n",
       "      <td>17</td>\n",
       "      <td>28</td>\n",
       "      <td>31</td>\n",
       "      <td>16</td>\n",
       "    </tr>\n",
       "    <tr>\n",
       "      <th>2</th>\n",
       "      <td>03/06/2024</td>\n",
       "      <td>24</td>\n",
       "      <td>19</td>\n",
       "      <td>29</td>\n",
       "      <td>32</td>\n",
       "      <td>15</td>\n",
       "    </tr>\n",
       "    <tr>\n",
       "      <th>3</th>\n",
       "      <td>04/06/2024</td>\n",
       "      <td>23</td>\n",
       "      <td>20</td>\n",
       "      <td>30</td>\n",
       "      <td>33</td>\n",
       "      <td>14</td>\n",
       "    </tr>\n",
       "    <tr>\n",
       "      <th>4</th>\n",
       "      <td>05/06/2024</td>\n",
       "      <td>22</td>\n",
       "      <td>21</td>\n",
       "      <td>31</td>\n",
       "      <td>34</td>\n",
       "      <td>13</td>\n",
       "    </tr>\n",
       "  </tbody>\n",
       "</table>\n",
       "</div>"
      ],
      "text/plain": [
       "         Date  New York  London  Tokyo  Madrid  Sydney\n",
       "0  01/06/2024        25      18     27      30      15\n",
       "1  02/06/2024        26      17     28      31      16\n",
       "2  03/06/2024        24      19     29      32      15\n",
       "3  04/06/2024        23      20     30      33      14\n",
       "4  05/06/2024        22      21     31      34      13"
      ]
     },
     "execution_count": 2,
     "metadata": {},
     "output_type": "execute_result"
    }
   ],
   "source": [
    "d1=pd.read_csv(\"C:/Users/dishi/OneDrive/Desktop/PYTHON DATASETS/p1.csv\")\n",
    "d1.head()"
   ]
  },
  {
   "cell_type": "code",
   "execution_count": 8,
   "id": "18e361dd-34ae-4173-a8cf-56555bb53c52",
   "metadata": {},
   "outputs": [
    {
     "data": {
      "text/html": [
       "<div>\n",
       "<style scoped>\n",
       "    .dataframe tbody tr th:only-of-type {\n",
       "        vertical-align: middle;\n",
       "    }\n",
       "\n",
       "    .dataframe tbody tr th {\n",
       "        vertical-align: top;\n",
       "    }\n",
       "\n",
       "    .dataframe thead th {\n",
       "        text-align: right;\n",
       "    }\n",
       "</style>\n",
       "<table border=\"1\" class=\"dataframe\">\n",
       "  <thead>\n",
       "    <tr style=\"text-align: right;\">\n",
       "      <th></th>\n",
       "      <th>Date</th>\n",
       "      <th>New York</th>\n",
       "      <th>London</th>\n",
       "      <th>Tokyo</th>\n",
       "      <th>Madrid</th>\n",
       "      <th>Sydney</th>\n",
       "      <th>index</th>\n",
       "    </tr>\n",
       "  </thead>\n",
       "  <tbody>\n",
       "    <tr>\n",
       "      <th>0</th>\n",
       "      <td>01/06/2024</td>\n",
       "      <td>25</td>\n",
       "      <td>18</td>\n",
       "      <td>27</td>\n",
       "      <td>30</td>\n",
       "      <td>15</td>\n",
       "      <td>01</td>\n",
       "    </tr>\n",
       "    <tr>\n",
       "      <th>1</th>\n",
       "      <td>02/06/2024</td>\n",
       "      <td>26</td>\n",
       "      <td>17</td>\n",
       "      <td>28</td>\n",
       "      <td>31</td>\n",
       "      <td>16</td>\n",
       "      <td>02</td>\n",
       "    </tr>\n",
       "    <tr>\n",
       "      <th>2</th>\n",
       "      <td>03/06/2024</td>\n",
       "      <td>24</td>\n",
       "      <td>19</td>\n",
       "      <td>29</td>\n",
       "      <td>32</td>\n",
       "      <td>15</td>\n",
       "      <td>03</td>\n",
       "    </tr>\n",
       "    <tr>\n",
       "      <th>3</th>\n",
       "      <td>04/06/2024</td>\n",
       "      <td>23</td>\n",
       "      <td>20</td>\n",
       "      <td>30</td>\n",
       "      <td>33</td>\n",
       "      <td>14</td>\n",
       "      <td>04</td>\n",
       "    </tr>\n",
       "    <tr>\n",
       "      <th>4</th>\n",
       "      <td>05/06/2024</td>\n",
       "      <td>22</td>\n",
       "      <td>21</td>\n",
       "      <td>31</td>\n",
       "      <td>34</td>\n",
       "      <td>13</td>\n",
       "      <td>05</td>\n",
       "    </tr>\n",
       "  </tbody>\n",
       "</table>\n",
       "</div>"
      ],
      "text/plain": [
       "         Date  New York  London  Tokyo  Madrid  Sydney index\n",
       "0  01/06/2024        25      18     27      30      15    01\n",
       "1  02/06/2024        26      17     28      31      16    02\n",
       "2  03/06/2024        24      19     29      32      15    03\n",
       "3  04/06/2024        23      20     30      33      14    04\n",
       "4  05/06/2024        22      21     31      34      13    05"
      ]
     },
     "execution_count": 8,
     "metadata": {},
     "output_type": "execute_result"
    }
   ],
   "source": [
    "splits=d1['Date'].str.split( pat='/', expand=True) \n",
    "d1['index']=splits[0]\n",
    "d1.head()"
   ]
  },
  {
   "cell_type": "code",
   "execution_count": 10,
   "id": "779bcd76-e857-46ac-a975-911aafb6b963",
   "metadata": {},
   "outputs": [
    {
     "data": {
      "text/html": [
       "<div>\n",
       "<style scoped>\n",
       "    .dataframe tbody tr th:only-of-type {\n",
       "        vertical-align: middle;\n",
       "    }\n",
       "\n",
       "    .dataframe tbody tr th {\n",
       "        vertical-align: top;\n",
       "    }\n",
       "\n",
       "    .dataframe thead th {\n",
       "        text-align: right;\n",
       "    }\n",
       "</style>\n",
       "<table border=\"1\" class=\"dataframe\">\n",
       "  <thead>\n",
       "    <tr style=\"text-align: right;\">\n",
       "      <th></th>\n",
       "      <th>New York</th>\n",
       "      <th>London</th>\n",
       "      <th>Tokyo</th>\n",
       "      <th>Madrid</th>\n",
       "      <th>Sydney</th>\n",
       "      <th>index</th>\n",
       "    </tr>\n",
       "  </thead>\n",
       "  <tbody>\n",
       "    <tr>\n",
       "      <th>0</th>\n",
       "      <td>25</td>\n",
       "      <td>18</td>\n",
       "      <td>27</td>\n",
       "      <td>30</td>\n",
       "      <td>15</td>\n",
       "      <td>01</td>\n",
       "    </tr>\n",
       "    <tr>\n",
       "      <th>1</th>\n",
       "      <td>26</td>\n",
       "      <td>17</td>\n",
       "      <td>28</td>\n",
       "      <td>31</td>\n",
       "      <td>16</td>\n",
       "      <td>02</td>\n",
       "    </tr>\n",
       "  </tbody>\n",
       "</table>\n",
       "</div>"
      ],
      "text/plain": [
       "   New York  London  Tokyo  Madrid  Sydney index\n",
       "0        25      18     27      30      15    01\n",
       "1        26      17     28      31      16    02"
      ]
     },
     "execution_count": 10,
     "metadata": {},
     "output_type": "execute_result"
    }
   ],
   "source": [
    "d1=d1.drop(labels='Date', axis=1)\n",
    "d1.head(2)"
   ]
  },
  {
   "cell_type": "code",
   "execution_count": 11,
   "id": "9d0de80e-d8ee-4c90-99b1-fd17b9c1065d",
   "metadata": {},
   "outputs": [
    {
     "data": {
      "text/html": [
       "<div>\n",
       "<style scoped>\n",
       "    .dataframe tbody tr th:only-of-type {\n",
       "        vertical-align: middle;\n",
       "    }\n",
       "\n",
       "    .dataframe tbody tr th {\n",
       "        vertical-align: top;\n",
       "    }\n",
       "\n",
       "    .dataframe thead th {\n",
       "        text-align: right;\n",
       "    }\n",
       "</style>\n",
       "<table border=\"1\" class=\"dataframe\">\n",
       "  <thead>\n",
       "    <tr style=\"text-align: right;\">\n",
       "      <th></th>\n",
       "      <th>index</th>\n",
       "      <th>city</th>\n",
       "      <th>climate</th>\n",
       "    </tr>\n",
       "  </thead>\n",
       "  <tbody>\n",
       "    <tr>\n",
       "      <th>0</th>\n",
       "      <td>01</td>\n",
       "      <td>New York</td>\n",
       "      <td>25</td>\n",
       "    </tr>\n",
       "    <tr>\n",
       "      <th>1</th>\n",
       "      <td>02</td>\n",
       "      <td>New York</td>\n",
       "      <td>26</td>\n",
       "    </tr>\n",
       "    <tr>\n",
       "      <th>2</th>\n",
       "      <td>03</td>\n",
       "      <td>New York</td>\n",
       "      <td>24</td>\n",
       "    </tr>\n",
       "    <tr>\n",
       "      <th>3</th>\n",
       "      <td>04</td>\n",
       "      <td>New York</td>\n",
       "      <td>23</td>\n",
       "    </tr>\n",
       "    <tr>\n",
       "      <th>4</th>\n",
       "      <td>05</td>\n",
       "      <td>New York</td>\n",
       "      <td>22</td>\n",
       "    </tr>\n",
       "  </tbody>\n",
       "</table>\n",
       "</div>"
      ],
      "text/plain": [
       "  index      city  climate\n",
       "0    01  New York       25\n",
       "1    02  New York       26\n",
       "2    03  New York       24\n",
       "3    04  New York       23\n",
       "4    05  New York       22"
      ]
     },
     "execution_count": 11,
     "metadata": {},
     "output_type": "execute_result"
    }
   ],
   "source": [
    "d1melted=d1.melt( id_vars='index', value_name='climate', var_name='city')\n",
    "d1melted.head()"
   ]
  },
  {
   "cell_type": "code",
   "execution_count": 12,
   "id": "a9efad69-6594-4eb1-98a8-153ee83e81f1",
   "metadata": {},
   "outputs": [
    {
     "data": {
      "application/vnd.plotly.v1+json": {
       "config": {
        "plotlyServerURL": "https://plot.ly"
       },
       "data": [
        {
         "hovertemplate": "city=New York<br>date in june 2024=%{x}<br>daily temperature=%{y}<extra></extra>",
         "legendgroup": "New York",
         "line": {
          "color": "#636efa",
          "dash": "solid"
         },
         "marker": {
          "symbol": "circle"
         },
         "mode": "lines",
         "name": "New York",
         "orientation": "v",
         "showlegend": true,
         "type": "scatter",
         "x": [
          "01",
          "02",
          "03",
          "04",
          "05",
          "06",
          "07",
          "08",
          "09",
          "10"
         ],
         "xaxis": "x",
         "y": {
          "_inputArray": {
           "0": 25,
           "1": 26,
           "2": 24,
           "3": 23,
           "4": 22,
           "5": 24,
           "6": 25,
           "7": 26,
           "8": 27,
           "9": 28,
           "bdata": "GRoYFxYYGRobHA==",
           "dtype": "i1",
           "shape": "10"
          },
          "bdata": "GRoYFxYYGRobHA==",
          "dtype": "i1"
         },
         "yaxis": "y"
        },
        {
         "hovertemplate": "city=London<br>date in june 2024=%{x}<br>daily temperature=%{y}<extra></extra>",
         "legendgroup": "London",
         "line": {
          "color": "#EF553B",
          "dash": "solid"
         },
         "marker": {
          "symbol": "circle"
         },
         "mode": "lines",
         "name": "London",
         "orientation": "v",
         "showlegend": true,
         "type": "scatter",
         "x": [
          "01",
          "02",
          "03",
          "04",
          "05",
          "06",
          "07",
          "08",
          "09",
          "10"
         ],
         "xaxis": "x",
         "y": {
          "_inputArray": {
           "0": 18,
           "1": 17,
           "2": 19,
           "3": 20,
           "4": 21,
           "5": 20,
           "6": 18,
           "7": 17,
           "8": 16,
           "9": 15,
           "bdata": "EhETFBUUEhEQDw==",
           "dtype": "i1",
           "shape": "10"
          },
          "bdata": "EhETFBUUEhEQDw==",
          "dtype": "i1"
         },
         "yaxis": "y"
        },
        {
         "hovertemplate": "city=Tokyo<br>date in june 2024=%{x}<br>daily temperature=%{y}<extra></extra>",
         "legendgroup": "Tokyo",
         "line": {
          "color": "#00cc96",
          "dash": "solid"
         },
         "marker": {
          "symbol": "circle"
         },
         "mode": "lines",
         "name": "Tokyo",
         "orientation": "v",
         "showlegend": true,
         "type": "scatter",
         "x": [
          "01",
          "02",
          "03",
          "04",
          "05",
          "06",
          "07",
          "08",
          "09",
          "10"
         ],
         "xaxis": "x",
         "y": {
          "_inputArray": {
           "0": 27,
           "1": 28,
           "2": 29,
           "3": 30,
           "4": 31,
           "5": 30,
           "6": 29,
           "7": 28,
           "8": 27,
           "9": 26,
           "bdata": "GxwdHh8eHRwbGg==",
           "dtype": "i1",
           "shape": "10"
          },
          "bdata": "GxwdHh8eHRwbGg==",
          "dtype": "i1"
         },
         "yaxis": "y"
        },
        {
         "hovertemplate": "city=Madrid<br>date in june 2024=%{x}<br>daily temperature=%{y}<extra></extra>",
         "legendgroup": "Madrid",
         "line": {
          "color": "#ab63fa",
          "dash": "solid"
         },
         "marker": {
          "symbol": "circle"
         },
         "mode": "lines",
         "name": "Madrid",
         "orientation": "v",
         "showlegend": true,
         "type": "scatter",
         "x": [
          "01",
          "02",
          "03",
          "04",
          "05",
          "06",
          "07",
          "08",
          "09",
          "10"
         ],
         "xaxis": "x",
         "y": {
          "_inputArray": {
           "0": 30,
           "1": 31,
           "2": 32,
           "3": 33,
           "4": 34,
           "5": 32,
           "6": 31,
           "7": 30,
           "8": 29,
           "9": 28,
           "bdata": "Hh8gISIgHx4dHA==",
           "dtype": "i1",
           "shape": "10"
          },
          "bdata": "Hh8gISIgHx4dHA==",
          "dtype": "i1"
         },
         "yaxis": "y"
        },
        {
         "hovertemplate": "city=Sydney<br>date in june 2024=%{x}<br>daily temperature=%{y}<extra></extra>",
         "legendgroup": "Sydney",
         "line": {
          "color": "#FFA15A",
          "dash": "solid"
         },
         "marker": {
          "symbol": "circle"
         },
         "mode": "lines",
         "name": "Sydney",
         "orientation": "v",
         "showlegend": true,
         "type": "scatter",
         "x": [
          "01",
          "02",
          "03",
          "04",
          "05",
          "06",
          "07",
          "08",
          "09",
          "10"
         ],
         "xaxis": "x",
         "y": {
          "_inputArray": {
           "0": 15,
           "1": 16,
           "2": 15,
           "3": 14,
           "4": 13,
           "5": 14,
           "6": 15,
           "7": 16,
           "8": 17,
           "9": 18,
           "bdata": "DxAPDg0ODxAREg==",
           "dtype": "i1",
           "shape": "10"
          },
          "bdata": "DxAPDg0ODxAREg==",
          "dtype": "i1"
         },
         "yaxis": "y"
        }
       ],
       "layout": {
        "autosize": true,
        "legend": {
         "title": {
          "text": "city"
         },
         "tracegroupgap": 0
        },
        "template": {
         "data": {
          "bar": [
           {
            "error_x": {
             "color": "#2a3f5f"
            },
            "error_y": {
             "color": "#2a3f5f"
            },
            "marker": {
             "line": {
              "color": "#E5ECF6",
              "width": 0.5
             },
             "pattern": {
              "fillmode": "overlay",
              "size": 10,
              "solidity": 0.2
             }
            },
            "type": "bar"
           }
          ],
          "barpolar": [
           {
            "marker": {
             "line": {
              "color": "#E5ECF6",
              "width": 0.5
             },
             "pattern": {
              "fillmode": "overlay",
              "size": 10,
              "solidity": 0.2
             }
            },
            "type": "barpolar"
           }
          ],
          "carpet": [
           {
            "aaxis": {
             "endlinecolor": "#2a3f5f",
             "gridcolor": "white",
             "linecolor": "white",
             "minorgridcolor": "white",
             "startlinecolor": "#2a3f5f"
            },
            "baxis": {
             "endlinecolor": "#2a3f5f",
             "gridcolor": "white",
             "linecolor": "white",
             "minorgridcolor": "white",
             "startlinecolor": "#2a3f5f"
            },
            "type": "carpet"
           }
          ],
          "choropleth": [
           {
            "colorbar": {
             "outlinewidth": 0,
             "ticks": ""
            },
            "type": "choropleth"
           }
          ],
          "contour": [
           {
            "colorbar": {
             "outlinewidth": 0,
             "ticks": ""
            },
            "colorscale": [
             [
              0,
              "#0d0887"
             ],
             [
              0.1111111111111111,
              "#46039f"
             ],
             [
              0.2222222222222222,
              "#7201a8"
             ],
             [
              0.3333333333333333,
              "#9c179e"
             ],
             [
              0.4444444444444444,
              "#bd3786"
             ],
             [
              0.5555555555555556,
              "#d8576b"
             ],
             [
              0.6666666666666666,
              "#ed7953"
             ],
             [
              0.7777777777777778,
              "#fb9f3a"
             ],
             [
              0.8888888888888888,
              "#fdca26"
             ],
             [
              1,
              "#f0f921"
             ]
            ],
            "type": "contour"
           }
          ],
          "contourcarpet": [
           {
            "colorbar": {
             "outlinewidth": 0,
             "ticks": ""
            },
            "type": "contourcarpet"
           }
          ],
          "heatmap": [
           {
            "colorbar": {
             "outlinewidth": 0,
             "ticks": ""
            },
            "colorscale": [
             [
              0,
              "#0d0887"
             ],
             [
              0.1111111111111111,
              "#46039f"
             ],
             [
              0.2222222222222222,
              "#7201a8"
             ],
             [
              0.3333333333333333,
              "#9c179e"
             ],
             [
              0.4444444444444444,
              "#bd3786"
             ],
             [
              0.5555555555555556,
              "#d8576b"
             ],
             [
              0.6666666666666666,
              "#ed7953"
             ],
             [
              0.7777777777777778,
              "#fb9f3a"
             ],
             [
              0.8888888888888888,
              "#fdca26"
             ],
             [
              1,
              "#f0f921"
             ]
            ],
            "type": "heatmap"
           }
          ],
          "histogram": [
           {
            "marker": {
             "pattern": {
              "fillmode": "overlay",
              "size": 10,
              "solidity": 0.2
             }
            },
            "type": "histogram"
           }
          ],
          "histogram2d": [
           {
            "colorbar": {
             "outlinewidth": 0,
             "ticks": ""
            },
            "colorscale": [
             [
              0,
              "#0d0887"
             ],
             [
              0.1111111111111111,
              "#46039f"
             ],
             [
              0.2222222222222222,
              "#7201a8"
             ],
             [
              0.3333333333333333,
              "#9c179e"
             ],
             [
              0.4444444444444444,
              "#bd3786"
             ],
             [
              0.5555555555555556,
              "#d8576b"
             ],
             [
              0.6666666666666666,
              "#ed7953"
             ],
             [
              0.7777777777777778,
              "#fb9f3a"
             ],
             [
              0.8888888888888888,
              "#fdca26"
             ],
             [
              1,
              "#f0f921"
             ]
            ],
            "type": "histogram2d"
           }
          ],
          "histogram2dcontour": [
           {
            "colorbar": {
             "outlinewidth": 0,
             "ticks": ""
            },
            "colorscale": [
             [
              0,
              "#0d0887"
             ],
             [
              0.1111111111111111,
              "#46039f"
             ],
             [
              0.2222222222222222,
              "#7201a8"
             ],
             [
              0.3333333333333333,
              "#9c179e"
             ],
             [
              0.4444444444444444,
              "#bd3786"
             ],
             [
              0.5555555555555556,
              "#d8576b"
             ],
             [
              0.6666666666666666,
              "#ed7953"
             ],
             [
              0.7777777777777778,
              "#fb9f3a"
             ],
             [
              0.8888888888888888,
              "#fdca26"
             ],
             [
              1,
              "#f0f921"
             ]
            ],
            "type": "histogram2dcontour"
           }
          ],
          "mesh3d": [
           {
            "colorbar": {
             "outlinewidth": 0,
             "ticks": ""
            },
            "type": "mesh3d"
           }
          ],
          "parcoords": [
           {
            "line": {
             "colorbar": {
              "outlinewidth": 0,
              "ticks": ""
             }
            },
            "type": "parcoords"
           }
          ],
          "pie": [
           {
            "automargin": true,
            "type": "pie"
           }
          ],
          "scatter": [
           {
            "fillpattern": {
             "fillmode": "overlay",
             "size": 10,
             "solidity": 0.2
            },
            "type": "scatter"
           }
          ],
          "scatter3d": [
           {
            "line": {
             "colorbar": {
              "outlinewidth": 0,
              "ticks": ""
             }
            },
            "marker": {
             "colorbar": {
              "outlinewidth": 0,
              "ticks": ""
             }
            },
            "type": "scatter3d"
           }
          ],
          "scattercarpet": [
           {
            "marker": {
             "colorbar": {
              "outlinewidth": 0,
              "ticks": ""
             }
            },
            "type": "scattercarpet"
           }
          ],
          "scattergeo": [
           {
            "marker": {
             "colorbar": {
              "outlinewidth": 0,
              "ticks": ""
             }
            },
            "type": "scattergeo"
           }
          ],
          "scattergl": [
           {
            "marker": {
             "colorbar": {
              "outlinewidth": 0,
              "ticks": ""
             }
            },
            "type": "scattergl"
           }
          ],
          "scattermap": [
           {
            "marker": {
             "colorbar": {
              "outlinewidth": 0,
              "ticks": ""
             }
            },
            "type": "scattermap"
           }
          ],
          "scattermapbox": [
           {
            "marker": {
             "colorbar": {
              "outlinewidth": 0,
              "ticks": ""
             }
            },
            "type": "scattermapbox"
           }
          ],
          "scatterpolar": [
           {
            "marker": {
             "colorbar": {
              "outlinewidth": 0,
              "ticks": ""
             }
            },
            "type": "scatterpolar"
           }
          ],
          "scatterpolargl": [
           {
            "marker": {
             "colorbar": {
              "outlinewidth": 0,
              "ticks": ""
             }
            },
            "type": "scatterpolargl"
           }
          ],
          "scatterternary": [
           {
            "marker": {
             "colorbar": {
              "outlinewidth": 0,
              "ticks": ""
             }
            },
            "type": "scatterternary"
           }
          ],
          "surface": [
           {
            "colorbar": {
             "outlinewidth": 0,
             "ticks": ""
            },
            "colorscale": [
             [
              0,
              "#0d0887"
             ],
             [
              0.1111111111111111,
              "#46039f"
             ],
             [
              0.2222222222222222,
              "#7201a8"
             ],
             [
              0.3333333333333333,
              "#9c179e"
             ],
             [
              0.4444444444444444,
              "#bd3786"
             ],
             [
              0.5555555555555556,
              "#d8576b"
             ],
             [
              0.6666666666666666,
              "#ed7953"
             ],
             [
              0.7777777777777778,
              "#fb9f3a"
             ],
             [
              0.8888888888888888,
              "#fdca26"
             ],
             [
              1,
              "#f0f921"
             ]
            ],
            "type": "surface"
           }
          ],
          "table": [
           {
            "cells": {
             "fill": {
              "color": "#EBF0F8"
             },
             "line": {
              "color": "white"
             }
            },
            "header": {
             "fill": {
              "color": "#C8D4E3"
             },
             "line": {
              "color": "white"
             }
            },
            "type": "table"
           }
          ]
         },
         "layout": {
          "annotationdefaults": {
           "arrowcolor": "#2a3f5f",
           "arrowhead": 0,
           "arrowwidth": 1
          },
          "autotypenumbers": "strict",
          "coloraxis": {
           "colorbar": {
            "outlinewidth": 0,
            "ticks": ""
           }
          },
          "colorscale": {
           "diverging": [
            [
             0,
             "#8e0152"
            ],
            [
             0.1,
             "#c51b7d"
            ],
            [
             0.2,
             "#de77ae"
            ],
            [
             0.3,
             "#f1b6da"
            ],
            [
             0.4,
             "#fde0ef"
            ],
            [
             0.5,
             "#f7f7f7"
            ],
            [
             0.6,
             "#e6f5d0"
            ],
            [
             0.7,
             "#b8e186"
            ],
            [
             0.8,
             "#7fbc41"
            ],
            [
             0.9,
             "#4d9221"
            ],
            [
             1,
             "#276419"
            ]
           ],
           "sequential": [
            [
             0,
             "#0d0887"
            ],
            [
             0.1111111111111111,
             "#46039f"
            ],
            [
             0.2222222222222222,
             "#7201a8"
            ],
            [
             0.3333333333333333,
             "#9c179e"
            ],
            [
             0.4444444444444444,
             "#bd3786"
            ],
            [
             0.5555555555555556,
             "#d8576b"
            ],
            [
             0.6666666666666666,
             "#ed7953"
            ],
            [
             0.7777777777777778,
             "#fb9f3a"
            ],
            [
             0.8888888888888888,
             "#fdca26"
            ],
            [
             1,
             "#f0f921"
            ]
           ],
           "sequentialminus": [
            [
             0,
             "#0d0887"
            ],
            [
             0.1111111111111111,
             "#46039f"
            ],
            [
             0.2222222222222222,
             "#7201a8"
            ],
            [
             0.3333333333333333,
             "#9c179e"
            ],
            [
             0.4444444444444444,
             "#bd3786"
            ],
            [
             0.5555555555555556,
             "#d8576b"
            ],
            [
             0.6666666666666666,
             "#ed7953"
            ],
            [
             0.7777777777777778,
             "#fb9f3a"
            ],
            [
             0.8888888888888888,
             "#fdca26"
            ],
            [
             1,
             "#f0f921"
            ]
           ]
          },
          "colorway": [
           "#636efa",
           "#EF553B",
           "#00cc96",
           "#ab63fa",
           "#FFA15A",
           "#19d3f3",
           "#FF6692",
           "#B6E880",
           "#FF97FF",
           "#FECB52"
          ],
          "font": {
           "color": "#2a3f5f"
          },
          "geo": {
           "bgcolor": "white",
           "lakecolor": "white",
           "landcolor": "#E5ECF6",
           "showlakes": true,
           "showland": true,
           "subunitcolor": "white"
          },
          "hoverlabel": {
           "align": "left"
          },
          "hovermode": "closest",
          "mapbox": {
           "style": "light"
          },
          "paper_bgcolor": "white",
          "plot_bgcolor": "#E5ECF6",
          "polar": {
           "angularaxis": {
            "gridcolor": "white",
            "linecolor": "white",
            "ticks": ""
           },
           "bgcolor": "#E5ECF6",
           "radialaxis": {
            "gridcolor": "white",
            "linecolor": "white",
            "ticks": ""
           }
          },
          "scene": {
           "xaxis": {
            "backgroundcolor": "#E5ECF6",
            "gridcolor": "white",
            "gridwidth": 2,
            "linecolor": "white",
            "showbackground": true,
            "ticks": "",
            "zerolinecolor": "white"
           },
           "yaxis": {
            "backgroundcolor": "#E5ECF6",
            "gridcolor": "white",
            "gridwidth": 2,
            "linecolor": "white",
            "showbackground": true,
            "ticks": "",
            "zerolinecolor": "white"
           },
           "zaxis": {
            "backgroundcolor": "#E5ECF6",
            "gridcolor": "white",
            "gridwidth": 2,
            "linecolor": "white",
            "showbackground": true,
            "ticks": "",
            "zerolinecolor": "white"
           }
          },
          "shapedefaults": {
           "line": {
            "color": "#2a3f5f"
           }
          },
          "ternary": {
           "aaxis": {
            "gridcolor": "white",
            "linecolor": "white",
            "ticks": ""
           },
           "baxis": {
            "gridcolor": "white",
            "linecolor": "white",
            "ticks": ""
           },
           "bgcolor": "#E5ECF6",
           "caxis": {
            "gridcolor": "white",
            "linecolor": "white",
            "ticks": ""
           }
          },
          "title": {
           "x": 0.05
          },
          "xaxis": {
           "automargin": true,
           "gridcolor": "white",
           "linecolor": "white",
           "ticks": "",
           "title": {
            "standoff": 15
           },
           "zerolinecolor": "white",
           "zerolinewidth": 2
          },
          "yaxis": {
           "automargin": true,
           "gridcolor": "white",
           "linecolor": "white",
           "ticks": "",
           "title": {
            "standoff": 15
           },
           "zerolinecolor": "white",
           "zerolinewidth": 2
          }
         }
        },
        "title": {
         "text": "Interactive Temperature graph per city"
        },
        "xaxis": {
         "anchor": "y",
         "autorange": true,
         "domain": [
          0,
          1
         ],
         "range": [
          0,
          9
         ],
         "title": {
          "text": "date in june 2024"
         },
         "type": "category"
        },
        "yaxis": {
         "anchor": "x",
         "autorange": true,
         "domain": [
          0,
          1
         ],
         "range": [
          11.833333333333334,
          35.166666666666664
         ],
         "title": {
          "text": "daily temperature"
         },
         "type": "linear"
        }
       }
      },
      "image/png": "[encoded data removed]"
     },
     "metadata": {},
     "output_type": "display_data"
    }
   ],
   "source": [
    "fig1=px.line( d1melted, color='city', x='index', y='climate', labels={'index':'date in june 2024',\n",
    "                                                                      'climate':'daily temperature'}, \n",
    "             title='Interactive Temperature graph per city')\n",
    "fig1.show()"
   ]
  },
  {
   "cell_type": "code",
   "execution_count": 14,
   "id": "34e94fe8-8d39-4b1a-9949-c2f9b9e99968",
   "metadata": {},
   "outputs": [
    {
     "data": {
      "text/html": [
       "<div>\n",
       "<style scoped>\n",
       "    .dataframe tbody tr th:only-of-type {\n",
       "        vertical-align: middle;\n",
       "    }\n",
       "\n",
       "    .dataframe tbody tr th {\n",
       "        vertical-align: top;\n",
       "    }\n",
       "\n",
       "    .dataframe thead th {\n",
       "        text-align: right;\n",
       "    }\n",
       "</style>\n",
       "<table border=\"1\" class=\"dataframe\">\n",
       "  <thead>\n",
       "    <tr style=\"text-align: right;\">\n",
       "      <th></th>\n",
       "      <th>Country</th>\n",
       "      <th>ISO_Code</th>\n",
       "      <th>GDP_2018</th>\n",
       "      <th>GDP_2019</th>\n",
       "      <th>GDP_2020</th>\n",
       "      <th>GDP_2021</th>\n",
       "      <th>GDP_2022</th>\n",
       "    </tr>\n",
       "  </thead>\n",
       "  <tbody>\n",
       "    <tr>\n",
       "      <th>0</th>\n",
       "      <td>United States</td>\n",
       "      <td>USA</td>\n",
       "      <td>62641</td>\n",
       "      <td>65112</td>\n",
       "      <td>63543</td>\n",
       "      <td>69834</td>\n",
       "      <td>74306</td>\n",
       "    </tr>\n",
       "    <tr>\n",
       "      <th>1</th>\n",
       "      <td>Germany</td>\n",
       "      <td>DEU</td>\n",
       "      <td>48553</td>\n",
       "      <td>50206</td>\n",
       "      <td>46934</td>\n",
       "      <td>51628</td>\n",
       "      <td>55305</td>\n",
       "    </tr>\n",
       "    <tr>\n",
       "      <th>2</th>\n",
       "      <td>India</td>\n",
       "      <td>IND</td>\n",
       "      <td>2009</td>\n",
       "      <td>2100</td>\n",
       "      <td>1900</td>\n",
       "      <td>2277</td>\n",
       "      <td>2522</td>\n",
       "    </tr>\n",
       "    <tr>\n",
       "      <th>3</th>\n",
       "      <td>China</td>\n",
       "      <td>CHN</td>\n",
       "      <td>9770</td>\n",
       "      <td>10261</td>\n",
       "      <td>10410</td>\n",
       "      <td>12556</td>\n",
       "      <td>12971</td>\n",
       "    </tr>\n",
       "    <tr>\n",
       "      <th>4</th>\n",
       "      <td>Brazil</td>\n",
       "      <td>BRA</td>\n",
       "      <td>9210</td>\n",
       "      <td>8950</td>\n",
       "      <td>6820</td>\n",
       "      <td>7511</td>\n",
       "      <td>8229</td>\n",
       "    </tr>\n",
       "  </tbody>\n",
       "</table>\n",
       "</div>"
      ],
      "text/plain": [
       "         Country ISO_Code  GDP_2018  GDP_2019  GDP_2020  GDP_2021  GDP_2022\n",
       "0  United States      USA     62641     65112     63543     69834     74306\n",
       "1        Germany      DEU     48553     50206     46934     51628     55305\n",
       "2          India      IND      2009      2100      1900      2277      2522\n",
       "3          China      CHN      9770     10261     10410     12556     12971\n",
       "4         Brazil      BRA      9210      8950      6820      7511      8229"
      ]
     },
     "execution_count": 14,
     "metadata": {},
     "output_type": "execute_result"
    }
   ],
   "source": [
    "d2=pd.read_csv(\"C:/Users/dishi/OneDrive/Desktop/PYTHON DATASETS/p2.csv\")\n",
    "d2.head()"
   ]
  },
  {
   "cell_type": "code",
   "execution_count": 21,
   "id": "eb2f668c-2dae-4fe9-add4-1232c9937bbd",
   "metadata": {},
   "outputs": [
    {
     "data": {
      "text/html": [
       "<div>\n",
       "<style scoped>\n",
       "    .dataframe tbody tr th:only-of-type {\n",
       "        vertical-align: middle;\n",
       "    }\n",
       "\n",
       "    .dataframe tbody tr th {\n",
       "        vertical-align: top;\n",
       "    }\n",
       "\n",
       "    .dataframe thead th {\n",
       "        text-align: right;\n",
       "    }\n",
       "</style>\n",
       "<table border=\"1\" class=\"dataframe\">\n",
       "  <thead>\n",
       "    <tr style=\"text-align: right;\">\n",
       "      <th></th>\n",
       "      <th>Country</th>\n",
       "      <th>ISO_Code</th>\n",
       "      <th>GDP_2018</th>\n",
       "      <th>GDP_2019</th>\n",
       "      <th>GDP_2020</th>\n",
       "      <th>GDP_2021</th>\n",
       "      <th>GDP_2022</th>\n",
       "      <th>Mean gdp</th>\n",
       "      <th>Mean GDP</th>\n",
       "    </tr>\n",
       "  </thead>\n",
       "  <tbody>\n",
       "    <tr>\n",
       "      <th>0</th>\n",
       "      <td>United States</td>\n",
       "      <td>USA</td>\n",
       "      <td>62641</td>\n",
       "      <td>65112</td>\n",
       "      <td>63543</td>\n",
       "      <td>69834</td>\n",
       "      <td>74306</td>\n",
       "      <td>67087.2</td>\n",
       "      <td>67087.2</td>\n",
       "    </tr>\n",
       "    <tr>\n",
       "      <th>1</th>\n",
       "      <td>Germany</td>\n",
       "      <td>DEU</td>\n",
       "      <td>48553</td>\n",
       "      <td>50206</td>\n",
       "      <td>46934</td>\n",
       "      <td>51628</td>\n",
       "      <td>55305</td>\n",
       "      <td>50525.2</td>\n",
       "      <td>50525.2</td>\n",
       "    </tr>\n",
       "    <tr>\n",
       "      <th>2</th>\n",
       "      <td>India</td>\n",
       "      <td>IND</td>\n",
       "      <td>2009</td>\n",
       "      <td>2100</td>\n",
       "      <td>1900</td>\n",
       "      <td>2277</td>\n",
       "      <td>2522</td>\n",
       "      <td>2161.6</td>\n",
       "      <td>2161.6</td>\n",
       "    </tr>\n",
       "    <tr>\n",
       "      <th>3</th>\n",
       "      <td>China</td>\n",
       "      <td>CHN</td>\n",
       "      <td>9770</td>\n",
       "      <td>10261</td>\n",
       "      <td>10410</td>\n",
       "      <td>12556</td>\n",
       "      <td>12971</td>\n",
       "      <td>11193.6</td>\n",
       "      <td>11193.6</td>\n",
       "    </tr>\n",
       "    <tr>\n",
       "      <th>4</th>\n",
       "      <td>Brazil</td>\n",
       "      <td>BRA</td>\n",
       "      <td>9210</td>\n",
       "      <td>8950</td>\n",
       "      <td>6820</td>\n",
       "      <td>7511</td>\n",
       "      <td>8229</td>\n",
       "      <td>8144.0</td>\n",
       "      <td>8144.0</td>\n",
       "    </tr>\n",
       "  </tbody>\n",
       "</table>\n",
       "</div>"
      ],
      "text/plain": [
       "         Country ISO_Code  GDP_2018  GDP_2019  GDP_2020  GDP_2021  GDP_2022  \\\n",
       "0  United States      USA     62641     65112     63543     69834     74306   \n",
       "1        Germany      DEU     48553     50206     46934     51628     55305   \n",
       "2          India      IND      2009      2100      1900      2277      2522   \n",
       "3          China      CHN      9770     10261     10410     12556     12971   \n",
       "4         Brazil      BRA      9210      8950      6820      7511      8229   \n",
       "\n",
       "   Mean gdp  Mean GDP  \n",
       "0   67087.2   67087.2  \n",
       "1   50525.2   50525.2  \n",
       "2    2161.6    2161.6  \n",
       "3   11193.6   11193.6  \n",
       "4    8144.0    8144.0  "
      ]
     },
     "execution_count": 21,
     "metadata": {},
     "output_type": "execute_result"
    }
   ],
   "source": [
    "gdps=d2.iloc[:,2:]\n",
    "mean=gdps.mean(axis=1)\n",
    "mean.head() # this is the average gdp per nation from 2018 to 2022\n",
    "d2['Mean GDP']=mean\n",
    "d2.head()"
   ]
  },
  {
   "cell_type": "code",
   "execution_count": 23,
   "id": "843050b4-1b1f-438a-9080-2d33916f91e9",
   "metadata": {},
   "outputs": [
    {
     "data": {
      "text/html": [
       "<div>\n",
       "<style scoped>\n",
       "    .dataframe tbody tr th:only-of-type {\n",
       "        vertical-align: middle;\n",
       "    }\n",
       "\n",
       "    .dataframe tbody tr th {\n",
       "        vertical-align: top;\n",
       "    }\n",
       "\n",
       "    .dataframe thead th {\n",
       "        text-align: right;\n",
       "    }\n",
       "</style>\n",
       "<table border=\"1\" class=\"dataframe\">\n",
       "  <thead>\n",
       "    <tr style=\"text-align: right;\">\n",
       "      <th></th>\n",
       "      <th>Country</th>\n",
       "      <th>ISO_Code</th>\n",
       "      <th>Mean GDP</th>\n",
       "    </tr>\n",
       "  </thead>\n",
       "  <tbody>\n",
       "    <tr>\n",
       "      <th>9</th>\n",
       "      <td>Canada</td>\n",
       "      <td>CAN</td>\n",
       "      <td>49250.0</td>\n",
       "    </tr>\n",
       "  </tbody>\n",
       "</table>\n",
       "</div>"
      ],
      "text/plain": [
       "  Country ISO_Code  Mean GDP\n",
       "9  Canada      CAN   49250.0"
      ]
     },
     "execution_count": 23,
     "metadata": {},
     "output_type": "execute_result"
    }
   ],
   "source": [
    "plot1=d2.loc[:,['Country','ISO_Code','Mean GDP']]\n",
    "plot1.tail(1)"
   ]
  },
  {
   "cell_type": "code",
   "execution_count": 30,
   "id": "ed1333b9-5230-4835-8c03-f3dadd6c1207",
   "metadata": {},
   "outputs": [
    {
     "data": {
      "application/vnd.plotly.v1+json": {
       "config": {
        "plotlyServerURL": "https://plot.ly"
       },
       "data": [
        {
         "coloraxis": "coloraxis",
         "geo": "geo",
         "hovertemplate": "<b>%{hovertext}</b><br><br>ISO_Code=%{location}<br>Mean GDP=%{z}<extra></extra>",
         "hovertext": [
          "United States",
          "Germany",
          "India",
          "China",
          "Brazil",
          "South Africa",
          "Russia",
          "Japan",
          "Australia",
          "Canada"
         ],
         "locations": [
          "USA",
          "DEU",
          "IND",
          "CHN",
          "BRA",
          "ZAF",
          "RUS",
          "JPN",
          "AUS",
          "CAN"
         ],
         "name": "",
         "type": "choropleth",
         "z": {
          "_inputArray": {
           "0": 67087.2,
           "1": 50525.200000000004,
           "2": 2161.6,
           "3": 11193.6,
           "4": 8144,
           "5": 6209.599999999999,
           "6": 11803.4,
           "7": 40386.6,
           "8": 59177.6,
           "9": 49250,
           "bdata": "MzMzM/Ng8EBnZmZmpqvoQDMzMzMz46BAzczMzMzcxUAAAAAAANC/QJmZmZmZQbhAMzMzM7MNx0AzMzMzU7jjQDMzMzMz5exAAAAAAEAM6EA=",
           "dtype": "f8",
           "shape": "10"
          },
          "bdata": "MzMzM/Ng8EBnZmZmpqvoQDMzMzMz46BAzczMzMzcxUAAAAAAANC/QJmZmZmZQbhAMzMzM7MNx0AzMzMzU7jjQDMzMzMz5exAAAAAAEAM6EA=",
          "dtype": "f8"
         }
        }
       ],
       "layout": {
        "coloraxis": {
         "colorbar": {
          "title": {
           "text": "Mean GDP"
          }
         },
         "colorscale": [
          [
           0,
           "#0d0887"
          ],
          [
           0.1111111111111111,
           "#46039f"
          ],
          [
           0.2222222222222222,
           "#7201a8"
          ],
          [
           0.3333333333333333,
           "#9c179e"
          ],
          [
           0.4444444444444444,
           "#bd3786"
          ],
          [
           0.5555555555555556,
           "#d8576b"
          ],
          [
           0.6666666666666666,
           "#ed7953"
          ],
          [
           0.7777777777777778,
           "#fb9f3a"
          ],
          [
           0.8888888888888888,
           "#fdca26"
          ],
          [
           1,
           "#f0f921"
          ]
         ]
        },
        "geo": {
         "center": {},
         "domain": {
          "x": [
           0,
           1
          ],
          "y": [
           0,
           1
          ]
         },
         "projection": {
          "rotation": {
           "lat": 8.12697792000778,
           "lon": -31.080788327197247
          },
          "scale": 1.250755153137279,
          "type": "orthographic"
         }
        },
        "height": 400,
        "legend": {
         "tracegroupgap": 0
        },
        "template": {
         "data": {
          "bar": [
           {
            "error_x": {
             "color": "#2a3f5f"
            },
            "error_y": {
             "color": "#2a3f5f"
            },
            "marker": {
             "line": {
              "color": "#E5ECF6",
              "width": 0.5
             },
             "pattern": {
              "fillmode": "overlay",
              "size": 10,
              "solidity": 0.2
             }
            },
            "type": "bar"
           }
          ],
          "barpolar": [
           {
            "marker": {
             "line": {
              "color": "#E5ECF6",
              "width": 0.5
             },
             "pattern": {
              "fillmode": "overlay",
              "size": 10,
              "solidity": 0.2
             }
            },
            "type": "barpolar"
           }
          ],
          "carpet": [
           {
            "aaxis": {
             "endlinecolor": "#2a3f5f",
             "gridcolor": "white",
             "linecolor": "white",
             "minorgridcolor": "white",
             "startlinecolor": "#2a3f5f"
            },
            "baxis": {
             "endlinecolor": "#2a3f5f",
             "gridcolor": "white",
             "linecolor": "white",
             "minorgridcolor": "white",
             "startlinecolor": "#2a3f5f"
            },
            "type": "carpet"
           }
          ],
          "choropleth": [
           {
            "colorbar": {
             "outlinewidth": 0,
             "ticks": ""
            },
            "type": "choropleth"
           }
          ],
          "contour": [
           {
            "colorbar": {
             "outlinewidth": 0,
             "ticks": ""
            },
            "colorscale": [
             [
              0,
              "#0d0887"
             ],
             [
              0.1111111111111111,
              "#46039f"
             ],
             [
              0.2222222222222222,
              "#7201a8"
             ],
             [
              0.3333333333333333,
              "#9c179e"
             ],
             [
              0.4444444444444444,
              "#bd3786"
             ],
             [
              0.5555555555555556,
              "#d8576b"
             ],
             [
              0.6666666666666666,
              "#ed7953"
             ],
             [
              0.7777777777777778,
              "#fb9f3a"
             ],
             [
              0.8888888888888888,
              "#fdca26"
             ],
             [
              1,
              "#f0f921"
             ]
            ],
            "type": "contour"
           }
          ],
          "contourcarpet": [
           {
            "colorbar": {
             "outlinewidth": 0,
             "ticks": ""
            },
            "type": "contourcarpet"
           }
          ],
          "heatmap": [
           {
            "colorbar": {
             "outlinewidth": 0,
             "ticks": ""
            },
            "colorscale": [
             [
              0,
              "#0d0887"
             ],
             [
              0.1111111111111111,
              "#46039f"
             ],
             [
              0.2222222222222222,
              "#7201a8"
             ],
             [
              0.3333333333333333,
              "#9c179e"
             ],
             [
              0.4444444444444444,
              "#bd3786"
             ],
             [
              0.5555555555555556,
              "#d8576b"
             ],
             [
              0.6666666666666666,
              "#ed7953"
             ],
             [
              0.7777777777777778,
              "#fb9f3a"
             ],
             [
              0.8888888888888888,
              "#fdca26"
             ],
             [
              1,
              "#f0f921"
             ]
            ],
            "type": "heatmap"
           }
          ],
          "histogram": [
           {
            "marker": {
             "pattern": {
              "fillmode": "overlay",
              "size": 10,
              "solidity": 0.2
             }
            },
            "type": "histogram"
           }
          ],
          "histogram2d": [
           {
            "colorbar": {
             "outlinewidth": 0,
             "ticks": ""
            },
            "colorscale": [
             [
              0,
              "#0d0887"
             ],
             [
              0.1111111111111111,
              "#46039f"
             ],
             [
              0.2222222222222222,
              "#7201a8"
             ],
             [
              0.3333333333333333,
              "#9c179e"
             ],
             [
              0.4444444444444444,
              "#bd3786"
             ],
             [
              0.5555555555555556,
              "#d8576b"
             ],
             [
              0.6666666666666666,
              "#ed7953"
             ],
             [
              0.7777777777777778,
              "#fb9f3a"
             ],
             [
              0.8888888888888888,
              "#fdca26"
             ],
             [
              1,
              "#f0f921"
             ]
            ],
            "type": "histogram2d"
           }
          ],
          "histogram2dcontour": [
           {
            "colorbar": {
             "outlinewidth": 0,
             "ticks": ""
            },
            "colorscale": [
             [
              0,
              "#0d0887"
             ],
             [
              0.1111111111111111,
              "#46039f"
             ],
             [
              0.2222222222222222,
              "#7201a8"
             ],
             [
              0.3333333333333333,
              "#9c179e"
             ],
             [
              0.4444444444444444,
              "#bd3786"
             ],
             [
              0.5555555555555556,
              "#d8576b"
             ],
             [
              0.6666666666666666,
              "#ed7953"
             ],
             [
              0.7777777777777778,
              "#fb9f3a"
             ],
             [
              0.8888888888888888,
              "#fdca26"
             ],
             [
              1,
              "#f0f921"
             ]
            ],
            "type": "histogram2dcontour"
           }
          ],
          "mesh3d": [
           {
            "colorbar": {
             "outlinewidth": 0,
             "ticks": ""
            },
            "type": "mesh3d"
           }
          ],
          "parcoords": [
           {
            "line": {
             "colorbar": {
              "outlinewidth": 0,
              "ticks": ""
             }
            },
            "type": "parcoords"
           }
          ],
          "pie": [
           {
            "automargin": true,
            "type": "pie"
           }
          ],
          "scatter": [
           {
            "fillpattern": {
             "fillmode": "overlay",
             "size": 10,
             "solidity": 0.2
            },
            "type": "scatter"
           }
          ],
          "scatter3d": [
           {
            "line": {
             "colorbar": {
              "outlinewidth": 0,
              "ticks": ""
             }
            },
            "marker": {
             "colorbar": {
              "outlinewidth": 0,
              "ticks": ""
             }
            },
            "type": "scatter3d"
           }
          ],
          "scattercarpet": [
           {
            "marker": {
             "colorbar": {
              "outlinewidth": 0,
              "ticks": ""
             }
            },
            "type": "scattercarpet"
           }
          ],
          "scattergeo": [
           {
            "marker": {
             "colorbar": {
              "outlinewidth": 0,
              "ticks": ""
             }
            },
            "type": "scattergeo"
           }
          ],
          "scattergl": [
           {
            "marker": {
             "colorbar": {
              "outlinewidth": 0,
              "ticks": ""
             }
            },
            "type": "scattergl"
           }
          ],
          "scattermap": [
           {
            "marker": {
             "colorbar": {
              "outlinewidth": 0,
              "ticks": ""
             }
            },
            "type": "scattermap"
           }
          ],
          "scattermapbox": [
           {
            "marker": {
             "colorbar": {
              "outlinewidth": 0,
              "ticks": ""
             }
            },
            "type": "scattermapbox"
           }
          ],
          "scatterpolar": [
           {
            "marker": {
             "colorbar": {
              "outlinewidth": 0,
              "ticks": ""
             }
            },
            "type": "scatterpolar"
           }
          ],
          "scatterpolargl": [
           {
            "marker": {
             "colorbar": {
              "outlinewidth": 0,
              "ticks": ""
             }
            },
            "type": "scatterpolargl"
           }
          ],
          "scatterternary": [
           {
            "marker": {
             "colorbar": {
              "outlinewidth": 0,
              "ticks": ""
             }
            },
            "type": "scatterternary"
           }
          ],
          "surface": [
           {
            "colorbar": {
             "outlinewidth": 0,
             "ticks": ""
            },
            "colorscale": [
             [
              0,
              "#0d0887"
             ],
             [
              0.1111111111111111,
              "#46039f"
             ],
             [
              0.2222222222222222,
              "#7201a8"
             ],
             [
              0.3333333333333333,
              "#9c179e"
             ],
             [
              0.4444444444444444,
              "#bd3786"
             ],
             [
              0.5555555555555556,
              "#d8576b"
             ],
             [
              0.6666666666666666,
              "#ed7953"
             ],
             [
              0.7777777777777778,
              "#fb9f3a"
             ],
             [
              0.8888888888888888,
              "#fdca26"
             ],
             [
              1,
              "#f0f921"
             ]
            ],
            "type": "surface"
           }
          ],
          "table": [
           {
            "cells": {
             "fill": {
              "color": "#EBF0F8"
             },
             "line": {
              "color": "white"
             }
            },
            "header": {
             "fill": {
              "color": "#C8D4E3"
             },
             "line": {
              "color": "white"
             }
            },
            "type": "table"
           }
          ]
         },
         "layout": {
          "annotationdefaults": {
           "arrowcolor": "#2a3f5f",
           "arrowhead": 0,
           "arrowwidth": 1
          },
          "autotypenumbers": "strict",
          "coloraxis": {
           "colorbar": {
            "outlinewidth": 0,
            "ticks": ""
           }
          },
          "colorscale": {
           "diverging": [
            [
             0,
             "#8e0152"
            ],
            [
             0.1,
             "#c51b7d"
            ],
            [
             0.2,
             "#de77ae"
            ],
            [
             0.3,
             "#f1b6da"
            ],
            [
             0.4,
             "#fde0ef"
            ],
            [
             0.5,
             "#f7f7f7"
            ],
            [
             0.6,
             "#e6f5d0"
            ],
            [
             0.7,
             "#b8e186"
            ],
            [
             0.8,
             "#7fbc41"
            ],
            [
             0.9,
             "#4d9221"
            ],
            [
             1,
             "#276419"
            ]
           ],
           "sequential": [
            [
             0,
             "#0d0887"
            ],
            [
             0.1111111111111111,
             "#46039f"
            ],
            [
             0.2222222222222222,
             "#7201a8"
            ],
            [
             0.3333333333333333,
             "#9c179e"
            ],
            [
             0.4444444444444444,
             "#bd3786"
            ],
            [
             0.5555555555555556,
             "#d8576b"
            ],
            [
             0.6666666666666666,
             "#ed7953"
            ],
            [
             0.7777777777777778,
             "#fb9f3a"
            ],
            [
             0.8888888888888888,
             "#fdca26"
            ],
            [
             1,
             "#f0f921"
            ]
           ],
           "sequentialminus": [
            [
             0,
             "#0d0887"
            ],
            [
             0.1111111111111111,
             "#46039f"
            ],
            [
             0.2222222222222222,
             "#7201a8"
            ],
            [
             0.3333333333333333,
             "#9c179e"
            ],
            [
             0.4444444444444444,
             "#bd3786"
            ],
            [
             0.5555555555555556,
             "#d8576b"
            ],
            [
             0.6666666666666666,
             "#ed7953"
            ],
            [
             0.7777777777777778,
             "#fb9f3a"
            ],
            [
             0.8888888888888888,
             "#fdca26"
            ],
            [
             1,
             "#f0f921"
            ]
           ]
          },
          "colorway": [
           "#636efa",
           "#EF553B",
           "#00cc96",
           "#ab63fa",
           "#FFA15A",
           "#19d3f3",
           "#FF6692",
           "#B6E880",
           "#FF97FF",
           "#FECB52"
          ],
          "font": {
           "color": "#2a3f5f"
          },
          "geo": {
           "bgcolor": "white",
           "lakecolor": "white",
           "landcolor": "#E5ECF6",
           "showlakes": true,
           "showland": true,
           "subunitcolor": "white"
          },
          "hoverlabel": {
           "align": "left"
          },
          "hovermode": "closest",
          "mapbox": {
           "style": "light"
          },
          "paper_bgcolor": "white",
          "plot_bgcolor": "#E5ECF6",
          "polar": {
           "angularaxis": {
            "gridcolor": "white",
            "linecolor": "white",
            "ticks": ""
           },
           "bgcolor": "#E5ECF6",
           "radialaxis": {
            "gridcolor": "white",
            "linecolor": "white",
            "ticks": ""
           }
          },
          "scene": {
           "xaxis": {
            "backgroundcolor": "#E5ECF6",
            "gridcolor": "white",
            "gridwidth": 2,
            "linecolor": "white",
            "showbackground": true,
            "ticks": "",
            "zerolinecolor": "white"
           },
           "yaxis": {
            "backgroundcolor": "#E5ECF6",
            "gridcolor": "white",
            "gridwidth": 2,
            "linecolor": "white",
            "showbackground": true,
            "ticks": "",
            "zerolinecolor": "white"
           },
           "zaxis": {
            "backgroundcolor": "#E5ECF6",
            "gridcolor": "white",
            "gridwidth": 2,
            "linecolor": "white",
            "showbackground": true,
            "ticks": "",
            "zerolinecolor": "white"
           }
          },
          "shapedefaults": {
           "line": {
            "color": "#2a3f5f"
           }
          },
          "ternary": {
           "aaxis": {
            "gridcolor": "white",
            "linecolor": "white",
            "ticks": ""
           },
           "baxis": {
            "gridcolor": "white",
            "linecolor": "white",
            "ticks": ""
           },
           "bgcolor": "#E5ECF6",
           "caxis": {
            "gridcolor": "white",
            "linecolor": "white",
            "ticks": ""
           }
          },
          "title": {
           "x": 0.05
          },
          "xaxis": {
           "automargin": true,
           "gridcolor": "white",
           "linecolor": "white",
           "ticks": "",
           "title": {
            "standoff": 15
           },
           "zerolinecolor": "white",
           "zerolinewidth": 2
          },
          "yaxis": {
           "automargin": true,
           "gridcolor": "white",
           "linecolor": "white",
           "ticks": "",
           "title": {
            "standoff": 15
           },
           "zerolinecolor": "white",
           "zerolinewidth": 2
          }
         }
        },
        "title": {
         "text": "Mean GDP per Country"
        },
        "width": 800
       }
      },
      "image/png": "[encoded data removed]"
     },
     "metadata": {},
     "output_type": "display_data"
    }
   ],
   "source": [
    "fig3=px.choropleth( plot1, locations='ISO_Code', hover_name='Country', color='Mean GDP', \n",
    "                   projection='orthographic', color_continuous_scale='Plasma', title='Mean GDP per Country')\n",
    "fig3.update_layout( height=400, \n",
    "                   width=800)\n",
    "fig3.show()"
   ]
  },
  {
   "cell_type": "code",
   "execution_count": null,
   "id": "0b930901-250e-4197-9126-2c3fe6af109c",
   "metadata": {},
   "outputs": [],
   "source": []
  }
 ],
 "metadata": {
  "kernelspec": {
   "display_name": "Python 3 (ipykernel)",
   "language": "python",
   "name": "python3"
  },
  "language_info": {
   "codemirror_mode": {
    "name": "ipython",
    "version": 3
   },
   "file_extension": ".py",
   "mimetype": "text/x-python",
   "name": "python",
   "nbconvert_exporter": "python",
   "pygments_lexer": "ipython3",
   "version": "3.12.1"
  }
 },
 "nbformat": 4,
 "nbformat_minor": 5
}
