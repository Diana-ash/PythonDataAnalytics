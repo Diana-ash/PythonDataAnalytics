{
 "cells": [
  {
   "cell_type": "code",
   "execution_count": 1,
   "id": "bc0dbaa3-657d-4387-9f7a-b17a5dd22209",
   "metadata": {},
   "outputs": [],
   "source": [
    "import pandas as pd\n",
    "import numpy as np\n",
    "import matplotlib.pyplot as plt\n",
    "import seaborn as sns\n",
    "import plotly.express as px\n",
    "%matplotlib inline"
   ]
  },
  {
   "cell_type": "raw",
   "id": "8aba73b3-e5a4-4bb8-b8e6-5e3022aefea8",
   "metadata": {},
   "source": [
    "Metadata:\n",
    "\n",
    "Age (numeric)\n",
    "Sex (text: male, female)\n",
    "Job (numeric: 0 - unskilled and non-resident, 1 - unskilled and resident, 2 - skilled, 3 - highly skilled)\n",
    "Housing (text: own, rent, or free)\n",
    "Saving accounts (text - little, moderate, quite rich, rich)\n",
    "Checking account (numeric, in DM - Deutsch Mark)\n",
    "Credit amount (numeric, in DM)\n",
    "Duration (numeric, in month)\n",
    "Purpose (text: car, furniture/equipment, radio/TV, domestic appliances, repairs, education, business, vacation/others)"
   ]
  },
  {
   "cell_type": "code",
   "execution_count": 2,
   "id": "f0fb8bd4-f107-49f8-91cf-905d25d6336e",
   "metadata": {},
   "outputs": [
    {
     "data": {
      "text/html": [
       "<div>\n",
       "<style scoped>\n",
       "    .dataframe tbody tr th:only-of-type {\n",
       "        vertical-align: middle;\n",
       "    }\n",
       "\n",
       "    .dataframe tbody tr th {\n",
       "        vertical-align: top;\n",
       "    }\n",
       "\n",
       "    .dataframe thead th {\n",
       "        text-align: right;\n",
       "    }\n",
       "</style>\n",
       "<table border=\"1\" class=\"dataframe\">\n",
       "  <thead>\n",
       "    <tr style=\"text-align: right;\">\n",
       "      <th></th>\n",
       "      <th>Unnamed: 0</th>\n",
       "      <th>Age</th>\n",
       "      <th>Sex</th>\n",
       "      <th>Job</th>\n",
       "      <th>Housing</th>\n",
       "      <th>Saving accounts</th>\n",
       "      <th>Checking account</th>\n",
       "      <th>Credit amount</th>\n",
       "      <th>Duration</th>\n",
       "      <th>Purpose</th>\n",
       "    </tr>\n",
       "  </thead>\n",
       "  <tbody>\n",
       "    <tr>\n",
       "      <th>997</th>\n",
       "      <td>997</td>\n",
       "      <td>38</td>\n",
       "      <td>male</td>\n",
       "      <td>2</td>\n",
       "      <td>own</td>\n",
       "      <td>little</td>\n",
       "      <td>NaN</td>\n",
       "      <td>804</td>\n",
       "      <td>12</td>\n",
       "      <td>radio/TV</td>\n",
       "    </tr>\n",
       "    <tr>\n",
       "      <th>998</th>\n",
       "      <td>998</td>\n",
       "      <td>23</td>\n",
       "      <td>male</td>\n",
       "      <td>2</td>\n",
       "      <td>free</td>\n",
       "      <td>little</td>\n",
       "      <td>little</td>\n",
       "      <td>1845</td>\n",
       "      <td>45</td>\n",
       "      <td>radio/TV</td>\n",
       "    </tr>\n",
       "    <tr>\n",
       "      <th>999</th>\n",
       "      <td>999</td>\n",
       "      <td>27</td>\n",
       "      <td>male</td>\n",
       "      <td>2</td>\n",
       "      <td>own</td>\n",
       "      <td>moderate</td>\n",
       "      <td>moderate</td>\n",
       "      <td>4576</td>\n",
       "      <td>45</td>\n",
       "      <td>car</td>\n",
       "    </tr>\n",
       "  </tbody>\n",
       "</table>\n",
       "</div>"
      ],
      "text/plain": [
       "     Unnamed: 0  Age   Sex  Job Housing Saving accounts Checking account  \\\n",
       "997         997   38  male    2     own          little              NaN   \n",
       "998         998   23  male    2    free          little           little   \n",
       "999         999   27  male    2     own        moderate         moderate   \n",
       "\n",
       "     Credit amount  Duration   Purpose  \n",
       "997            804        12  radio/TV  \n",
       "998           1845        45  radio/TV  \n",
       "999           4576        45       car  "
      ]
     },
     "execution_count": 2,
     "metadata": {},
     "output_type": "execute_result"
    }
   ],
   "source": [
    "credit=pd.read_csv(\"C:/Users/dishi/OneDrive/Desktop/PYTHON DATASETS/german_credit_data.csv\")\n",
    "credit.tail(3)"
   ]
  },
  {
   "cell_type": "code",
   "execution_count": 3,
   "id": "d97dc054-8ca0-43b8-838f-dfec605aa55d",
   "metadata": {},
   "outputs": [
    {
     "name": "stdout",
     "output_type": "stream",
     "text": [
      "<class 'pandas.core.frame.DataFrame'>\n",
      "RangeIndex: 1000 entries, 0 to 999\n",
      "Data columns (total 10 columns):\n",
      " #   Column            Non-Null Count  Dtype \n",
      "---  ------            --------------  ----- \n",
      " 0   Unnamed: 0        1000 non-null   int64 \n",
      " 1   Age               1000 non-null   int64 \n",
      " 2   Sex               1000 non-null   object\n",
      " 3   Job               1000 non-null   int64 \n",
      " 4   Housing           1000 non-null   object\n",
      " 5   Saving accounts   817 non-null    object\n",
      " 6   Checking account  606 non-null    object\n",
      " 7   Credit amount     1000 non-null   int64 \n",
      " 8   Duration          1000 non-null   int64 \n",
      " 9   Purpose           1000 non-null   object\n",
      "dtypes: int64(5), object(5)\n",
      "memory usage: 78.3+ KB\n"
     ]
    }
   ],
   "source": [
    "credit.info()\n",
    "d1 = credit.dropna(axis=0) # dropped nans"
   ]
  },
  {
   "cell_type": "code",
   "execution_count": 4,
   "id": "98238881-9e5d-448f-9bf9-02f58e2c967e",
   "metadata": {},
   "outputs": [
    {
     "data": {
      "text/html": [
       "<div>\n",
       "<style scoped>\n",
       "    .dataframe tbody tr th:only-of-type {\n",
       "        vertical-align: middle;\n",
       "    }\n",
       "\n",
       "    .dataframe tbody tr th {\n",
       "        vertical-align: top;\n",
       "    }\n",
       "\n",
       "    .dataframe thead th {\n",
       "        text-align: right;\n",
       "    }\n",
       "</style>\n",
       "<table border=\"1\" class=\"dataframe\">\n",
       "  <thead>\n",
       "    <tr style=\"text-align: right;\">\n",
       "      <th></th>\n",
       "      <th>Unnamed: 0</th>\n",
       "      <th>Age</th>\n",
       "      <th>Sex</th>\n",
       "      <th>Job</th>\n",
       "      <th>Housing</th>\n",
       "      <th>Saving accounts</th>\n",
       "      <th>Checking account</th>\n",
       "      <th>Credit amount</th>\n",
       "      <th>Duration</th>\n",
       "      <th>Purpose</th>\n",
       "    </tr>\n",
       "  </thead>\n",
       "  <tbody>\n",
       "    <tr>\n",
       "      <th>0</th>\n",
       "      <td>0</td>\n",
       "      <td>67</td>\n",
       "      <td>male</td>\n",
       "      <td>2</td>\n",
       "      <td>own</td>\n",
       "      <td>NaN</td>\n",
       "      <td>little</td>\n",
       "      <td>1169</td>\n",
       "      <td>6</td>\n",
       "      <td>radio/TV</td>\n",
       "    </tr>\n",
       "    <tr>\n",
       "      <th>1</th>\n",
       "      <td>1</td>\n",
       "      <td>22</td>\n",
       "      <td>female</td>\n",
       "      <td>2</td>\n",
       "      <td>own</td>\n",
       "      <td>little</td>\n",
       "      <td>moderate</td>\n",
       "      <td>5951</td>\n",
       "      <td>48</td>\n",
       "      <td>radio/TV</td>\n",
       "    </tr>\n",
       "  </tbody>\n",
       "</table>\n",
       "</div>"
      ],
      "text/plain": [
       "   Unnamed: 0  Age     Sex  Job Housing Saving accounts Checking account  \\\n",
       "0           0   67    male    2     own             NaN           little   \n",
       "1           1   22  female    2     own          little         moderate   \n",
       "\n",
       "   Credit amount  Duration   Purpose  \n",
       "0           1169         6  radio/TV  \n",
       "1           5951        48  radio/TV  "
      ]
     },
     "execution_count": 4,
     "metadata": {},
     "output_type": "execute_result"
    }
   ],
   "source": [
    "credit.head(2)"
   ]
  },
  {
   "cell_type": "code",
   "execution_count": 5,
   "id": "9257b342-f3e5-450a-9c65-4c9e93842a58",
   "metadata": {},
   "outputs": [
    {
     "name": "stdout",
     "output_type": "stream",
     "text": [
      "The distribution of the Age variable is skewed to the right, with the highest frequency of people aged 26.28 asking for a credit\n",
      "0    27\n",
      "Name: Age, dtype: int64\n"
     ]
    },
    {
     "data": {
      "image/png": "[encoded data removed]",
      "text/plain": [
       "<Figure size 640x480 with 1 Axes>"
      ]
     },
     "metadata": {},
     "output_type": "display_data"
    }
   ],
   "source": [
    "p1=sns.histplot( x=credit['Age'], data=credit, color='blue', kde=True)\n",
    "p1.set_title('Distribution of Age variable, positive skew')\n",
    "\n",
    "print('The distribution of the Age variable is skewed to the right, with the highest frequency of people aged 26.28 asking for a credit')\n",
    "print(credit['Age'].mode() ) # 27 years is the most frequent age in the dataset"
   ]
  },
  {
   "cell_type": "raw",
   "id": "f0f70628-07cd-49f3-a347-1b96b9c797ce",
   "metadata": {},
   "source": [
    "1. HOW IS THE AGE OF APPLICANTS DISTRIBUTED, AND DO YOUNGER VERSUS OLDER APPLICANTS DIFFER IN THE CREDIT AMOUNTS AND DURATIONS THEY REQUEST?"
   ]
  },
  {
   "cell_type": "code",
   "execution_count": 6,
   "id": "f9006bb3-91a0-4cd7-9ab4-434fb2170ece",
   "metadata": {},
   "outputs": [
    {
     "data": {
      "text/plain": [
       "count    1000.000000\n",
       "mean       35.546000\n",
       "std        11.375469\n",
       "min        19.000000\n",
       "25%        27.000000\n",
       "50%        33.000000\n",
       "75%        42.000000\n",
       "max        75.000000\n",
       "Name: Age, dtype: float64"
      ]
     },
     "execution_count": 6,
     "metadata": {},
     "output_type": "execute_result"
    }
   ],
   "source": [
    "credit['Age'].describe() "
   ]
  },
  {
   "cell_type": "code",
   "execution_count": 7,
   "id": "a5a4f2dc-e528-4ef4-97b9-5273db88b6c3",
   "metadata": {},
   "outputs": [
    {
     "data": {
      "text/html": [
       "<div>\n",
       "<style scoped>\n",
       "    .dataframe tbody tr th:only-of-type {\n",
       "        vertical-align: middle;\n",
       "    }\n",
       "\n",
       "    .dataframe tbody tr th {\n",
       "        vertical-align: top;\n",
       "    }\n",
       "\n",
       "    .dataframe thead th {\n",
       "        text-align: right;\n",
       "    }\n",
       "</style>\n",
       "<table border=\"1\" class=\"dataframe\">\n",
       "  <thead>\n",
       "    <tr style=\"text-align: right;\">\n",
       "      <th></th>\n",
       "      <th>Unnamed: 0</th>\n",
       "      <th>Age</th>\n",
       "      <th>Sex</th>\n",
       "      <th>Job</th>\n",
       "      <th>Housing</th>\n",
       "      <th>Saving accounts</th>\n",
       "      <th>Checking account</th>\n",
       "      <th>Credit amount</th>\n",
       "      <th>Duration</th>\n",
       "      <th>Purpose</th>\n",
       "      <th>Age category</th>\n",
       "    </tr>\n",
       "  </thead>\n",
       "  <tbody>\n",
       "    <tr>\n",
       "      <th>0</th>\n",
       "      <td>0</td>\n",
       "      <td>67</td>\n",
       "      <td>male</td>\n",
       "      <td>2</td>\n",
       "      <td>own</td>\n",
       "      <td>NaN</td>\n",
       "      <td>little</td>\n",
       "      <td>1169</td>\n",
       "      <td>6</td>\n",
       "      <td>radio/TV</td>\n",
       "      <td>Senior applicant</td>\n",
       "    </tr>\n",
       "    <tr>\n",
       "      <th>1</th>\n",
       "      <td>1</td>\n",
       "      <td>22</td>\n",
       "      <td>female</td>\n",
       "      <td>2</td>\n",
       "      <td>own</td>\n",
       "      <td>little</td>\n",
       "      <td>moderate</td>\n",
       "      <td>5951</td>\n",
       "      <td>48</td>\n",
       "      <td>radio/TV</td>\n",
       "      <td>Very young applicant</td>\n",
       "    </tr>\n",
       "    <tr>\n",
       "      <th>2</th>\n",
       "      <td>2</td>\n",
       "      <td>49</td>\n",
       "      <td>male</td>\n",
       "      <td>1</td>\n",
       "      <td>own</td>\n",
       "      <td>little</td>\n",
       "      <td>NaN</td>\n",
       "      <td>2096</td>\n",
       "      <td>12</td>\n",
       "      <td>education</td>\n",
       "      <td>Late middle age applicant</td>\n",
       "    </tr>\n",
       "    <tr>\n",
       "      <th>3</th>\n",
       "      <td>3</td>\n",
       "      <td>45</td>\n",
       "      <td>male</td>\n",
       "      <td>2</td>\n",
       "      <td>free</td>\n",
       "      <td>little</td>\n",
       "      <td>little</td>\n",
       "      <td>7882</td>\n",
       "      <td>42</td>\n",
       "      <td>furniture/equipment</td>\n",
       "      <td>Early middle age applicant</td>\n",
       "    </tr>\n",
       "    <tr>\n",
       "      <th>4</th>\n",
       "      <td>4</td>\n",
       "      <td>53</td>\n",
       "      <td>male</td>\n",
       "      <td>2</td>\n",
       "      <td>free</td>\n",
       "      <td>little</td>\n",
       "      <td>little</td>\n",
       "      <td>4870</td>\n",
       "      <td>24</td>\n",
       "      <td>car</td>\n",
       "      <td>Late middle age applicant</td>\n",
       "    </tr>\n",
       "  </tbody>\n",
       "</table>\n",
       "</div>"
      ],
      "text/plain": [
       "   Unnamed: 0  Age     Sex  Job Housing Saving accounts Checking account  \\\n",
       "0           0   67    male    2     own             NaN           little   \n",
       "1           1   22  female    2     own          little         moderate   \n",
       "2           2   49    male    1     own          little              NaN   \n",
       "3           3   45    male    2    free          little           little   \n",
       "4           4   53    male    2    free          little           little   \n",
       "\n",
       "   Credit amount  Duration              Purpose                Age category  \n",
       "0           1169         6             radio/TV            Senior applicant  \n",
       "1           5951        48             radio/TV        Very young applicant  \n",
       "2           2096        12            education   Late middle age applicant  \n",
       "3           7882        42  furniture/equipment  Early middle age applicant  \n",
       "4           4870        24                  car   Late middle age applicant  "
      ]
     },
     "execution_count": 7,
     "metadata": {},
     "output_type": "execute_result"
    }
   ],
   "source": [
    "credit['Age'].describe() \n",
    "\n",
    "x=[] \n",
    "\n",
    "# CUSTOM FUNCTION TO CLASSIFY APPLICANTS BY AGE CATEGORY\n",
    "def agecategory(row):\n",
    "    if row['Age'] <= 24:\n",
    "        output='Very young applicant'\n",
    "    elif row['Age'] > 24 and row['Age'] <= 32:\n",
    "        output='Young applicant'\n",
    "    elif row['Age'] > 32 and row['Age'] <= 45:\n",
    "        output='Early middle age applicant'\n",
    "    elif row['Age'] > 45 and row['Age'] <= 55:\n",
    "        output='Late middle age applicant'\n",
    "    elif row['Age'] > 55 and row['Age'] <= 75:\n",
    "        output='Senior applicant'\n",
    "    else:\n",
    "        output='Error to check'\n",
    "    return output \n",
    "\n",
    "credit['Age category']=credit.apply( agecategory, axis=1)\n",
    "credit.head()"
   ]
  },
  {
   "cell_type": "code",
   "execution_count": 8,
   "id": "41703fa4-4aa2-4c82-9aaf-f07a06600d64",
   "metadata": {},
   "outputs": [
    {
     "data": {
      "text/html": [
       "<div>\n",
       "<style scoped>\n",
       "    .dataframe tbody tr th:only-of-type {\n",
       "        vertical-align: middle;\n",
       "    }\n",
       "\n",
       "    .dataframe tbody tr th {\n",
       "        vertical-align: top;\n",
       "    }\n",
       "\n",
       "    .dataframe thead th {\n",
       "        text-align: right;\n",
       "    }\n",
       "</style>\n",
       "<table border=\"1\" class=\"dataframe\">\n",
       "  <thead>\n",
       "    <tr style=\"text-align: right;\">\n",
       "      <th></th>\n",
       "      <th>Unnamed: 0</th>\n",
       "      <th>Age</th>\n",
       "      <th>Sex</th>\n",
       "      <th>Job</th>\n",
       "      <th>Housing</th>\n",
       "      <th>Saving accounts</th>\n",
       "      <th>Checking account</th>\n",
       "      <th>Credit amount</th>\n",
       "      <th>Duration</th>\n",
       "      <th>Purpose</th>\n",
       "      <th>Age category</th>\n",
       "    </tr>\n",
       "  </thead>\n",
       "  <tbody>\n",
       "    <tr>\n",
       "      <th>0</th>\n",
       "      <td>0</td>\n",
       "      <td>67</td>\n",
       "      <td>male</td>\n",
       "      <td>2</td>\n",
       "      <td>own</td>\n",
       "      <td>NaN</td>\n",
       "      <td>little</td>\n",
       "      <td>1169</td>\n",
       "      <td>6</td>\n",
       "      <td>radio/TV</td>\n",
       "      <td>Senior applicant</td>\n",
       "    </tr>\n",
       "    <tr>\n",
       "      <th>1</th>\n",
       "      <td>1</td>\n",
       "      <td>22</td>\n",
       "      <td>female</td>\n",
       "      <td>2</td>\n",
       "      <td>own</td>\n",
       "      <td>little</td>\n",
       "      <td>moderate</td>\n",
       "      <td>5951</td>\n",
       "      <td>48</td>\n",
       "      <td>radio/TV</td>\n",
       "      <td>Very young applicant</td>\n",
       "    </tr>\n",
       "  </tbody>\n",
       "</table>\n",
       "</div>"
      ],
      "text/plain": [
       "   Unnamed: 0  Age     Sex  Job Housing Saving accounts Checking account  \\\n",
       "0           0   67    male    2     own             NaN           little   \n",
       "1           1   22  female    2     own          little         moderate   \n",
       "\n",
       "   Credit amount  Duration   Purpose          Age category  \n",
       "0           1169         6  radio/TV      Senior applicant  \n",
       "1           5951        48  radio/TV  Very young applicant  "
      ]
     },
     "execution_count": 8,
     "metadata": {},
     "output_type": "execute_result"
    }
   ],
   "source": [
    "age_group=credit.groupby('Age category').agg( {'Credit amount':'mean',\n",
    "                                               'Duration':'mean'})\n",
    "age_group.reset_index(inplace=True)\n",
    "credit.head(2)"
   ]
  },
  {
   "cell_type": "code",
   "execution_count": 9,
   "id": "9ab5ef74-33ce-4b18-a94b-59da47780688",
   "metadata": {},
   "outputs": [
    {
     "name": "stdout",
     "output_type": "stream",
     "text": [
      "       Sex              Purpose  Credit amount   Duration\n",
      "15    male      vacation/others    7061.222222  28.444444\n",
      "8     male             business    4392.525641  26.923077\n",
      "9     male                  car    3922.333333  21.090535\n",
      "11    male            education    3390.171429  23.885714\n",
      "12    male  furniture/equipment    3269.112150  20.261682\n",
      "14    male              repairs    2905.058824  19.941176\n",
      "13    male             radio/TV    2525.635897  20.225641\n",
      "10    male  domestic appliances    1586.166667  18.166667\n",
      "7   female      vacation/others   11653.666667  44.000000\n",
      "1   female                  car    3369.723404  20.095745\n",
      "0   female             business    3195.421053  27.000000\n",
      "4   female  furniture/equipment    2774.729730  17.891892\n",
      "5   female             radio/TV    2400.517647  19.635294\n",
      "3   female            education    2134.041667  13.541667\n",
      "6   female              repairs    2126.400000  16.200000\n",
      "2   female  domestic appliances    1409.833333  15.500000\n"
     ]
    }
   ],
   "source": [
    "gender_group = credit.groupby(['Sex','Purpose']).agg({'Credit amount': 'mean', 'Duration': 'mean'})\n",
    "\n",
    "gender_group.reset_index(inplace=True)\n",
    "gender_group.sort_values(by =['Sex','Credit amount'], ascending=[False, False], inplace=True)\n",
    "print(gender_group)"
   ]
  },
  {
   "cell_type": "code",
   "execution_count": 10,
   "id": "5c093115-c496-426f-b87d-5b4569cdc287",
   "metadata": {},
   "outputs": [
    {
     "name": "stdout",
     "output_type": "stream",
     "text": [
      "                 Age category  Average credit amount  \\\n",
      "2            Senior applicant                3430.44   \n",
      "0  Early middle age applicant                3387.47   \n",
      "4             Young applicant                3350.78   \n",
      "1   Late middle age applicant                3012.44   \n",
      "3        Very young applicant                2958.76   \n",
      "\n",
      "   Average Duration of credit  \n",
      "2                        21.0  \n",
      "0                        21.0  \n",
      "4                        22.0  \n",
      "1                        20.0  \n",
      "3                        20.0  \n"
     ]
    }
   ],
   "source": [
    "age_group=credit.groupby('Age category').agg( {'Credit amount':'mean',\n",
    "                                               'Duration':'mean'})\n",
    "age_group.reset_index(inplace=True)\n",
    "age_group.columns=['Age category','Average credit amount','Average Duration of credit']\n",
    "\n",
    "age_group.sort_values(by='Average credit amount', ascending=False, inplace=True)\n",
    "\n",
    "age_group['Average credit amount']=age_group['Average credit amount'].round(decimals=2)\n",
    "age_group['Average Duration of credit']=age_group['Average Duration of credit'].round(decimals=0)\n",
    "print(age_group)"
   ]
  },
  {
   "cell_type": "code",
   "execution_count": 11,
   "id": "e320af4a-4002-46ca-852c-659ef33a1276",
   "metadata": {},
   "outputs": [
    {
     "data": {
      "text/html": [
       "<div>\n",
       "<style scoped>\n",
       "    .dataframe tbody tr th:only-of-type {\n",
       "        vertical-align: middle;\n",
       "    }\n",
       "\n",
       "    .dataframe tbody tr th {\n",
       "        vertical-align: top;\n",
       "    }\n",
       "\n",
       "    .dataframe thead th {\n",
       "        text-align: right;\n",
       "    }\n",
       "</style>\n",
       "<table border=\"1\" class=\"dataframe\">\n",
       "  <thead>\n",
       "    <tr style=\"text-align: right;\">\n",
       "      <th></th>\n",
       "      <th>Unnamed: 0</th>\n",
       "      <th>Age</th>\n",
       "      <th>Sex</th>\n",
       "      <th>Job</th>\n",
       "      <th>Housing</th>\n",
       "      <th>Saving accounts</th>\n",
       "      <th>Checking account</th>\n",
       "      <th>Credit amount</th>\n",
       "      <th>Duration</th>\n",
       "      <th>Purpose</th>\n",
       "      <th>Age category</th>\n",
       "    </tr>\n",
       "  </thead>\n",
       "  <tbody>\n",
       "    <tr>\n",
       "      <th>0</th>\n",
       "      <td>0</td>\n",
       "      <td>67</td>\n",
       "      <td>male</td>\n",
       "      <td>2</td>\n",
       "      <td>own</td>\n",
       "      <td>NaN</td>\n",
       "      <td>little</td>\n",
       "      <td>1169</td>\n",
       "      <td>6</td>\n",
       "      <td>radio/TV</td>\n",
       "      <td>Senior applicant</td>\n",
       "    </tr>\n",
       "    <tr>\n",
       "      <th>1</th>\n",
       "      <td>1</td>\n",
       "      <td>22</td>\n",
       "      <td>female</td>\n",
       "      <td>2</td>\n",
       "      <td>own</td>\n",
       "      <td>little</td>\n",
       "      <td>moderate</td>\n",
       "      <td>5951</td>\n",
       "      <td>48</td>\n",
       "      <td>radio/TV</td>\n",
       "      <td>Very young applicant</td>\n",
       "    </tr>\n",
       "  </tbody>\n",
       "</table>\n",
       "</div>"
      ],
      "text/plain": [
       "   Unnamed: 0  Age     Sex  Job Housing Saving accounts Checking account  \\\n",
       "0           0   67    male    2     own             NaN           little   \n",
       "1           1   22  female    2     own          little         moderate   \n",
       "\n",
       "   Credit amount  Duration   Purpose          Age category  \n",
       "0           1169         6  radio/TV      Senior applicant  \n",
       "1           5951        48  radio/TV  Very young applicant  "
      ]
     },
     "execution_count": 11,
     "metadata": {},
     "output_type": "execute_result"
    }
   ],
   "source": [
    "credit.head(2)"
   ]
  },
  {
   "cell_type": "code",
   "execution_count": 12,
   "id": "ffdc93ca-c2bf-4264-bfa1-b8d0fa822312",
   "metadata": {},
   "outputs": [
    {
     "name": "stdout",
     "output_type": "stream",
     "text": [
      "Very young applicants as well as Late middle aged applicants are asking for the smallest credits amongst all groups\n"
     ]
    },
    {
     "data": {
      "image/png": "[encoded data removed]",
      "text/plain": [
       "<Figure size 640x480 with 1 Axes>"
      ]
     },
     "metadata": {},
     "output_type": "display_data"
    }
   ],
   "source": [
    "sns.barplot( data=credit, y='Credit amount', estimator='mean', hue='Age category')\n",
    "print('Very young applicants as well as Late middle aged applicants are asking for the smallest credits amongst all groups')"
   ]
  },
  {
   "cell_type": "code",
   "execution_count": 13,
   "id": "8f08e318-2396-4581-ae14-7b127dae4d00",
   "metadata": {},
   "outputs": [
    {
     "name": "stdout",
     "output_type": "stream",
     "text": [
      "Average duration amounts vary little amongst age groups, with a higher duration for young applicants and a lower duration for late middle aged applicants\n"
     ]
    },
    {
     "data": {
      "image/png": "[encoded data removed]",
      "text/plain": [
       "<Figure size 640x480 with 1 Axes>"
      ]
     },
     "metadata": {},
     "output_type": "display_data"
    }
   ],
   "source": [
    "sns.barplot( data=credit, y='Duration', estimator='mean', hue='Age category')\n",
    "print('Average duration amounts vary little amongst age groups, with a higher duration for young applicants and a lower duration for late middle aged applicants')"
   ]
  },
  {
   "cell_type": "code",
   "execution_count": 14,
   "id": "1cd20ffb-9201-4b5e-af91-250d7d1795dc",
   "metadata": {},
   "outputs": [
    {
     "data": {
      "text/html": [
       "<div>\n",
       "<style scoped>\n",
       "    .dataframe tbody tr th:only-of-type {\n",
       "        vertical-align: middle;\n",
       "    }\n",
       "\n",
       "    .dataframe tbody tr th {\n",
       "        vertical-align: top;\n",
       "    }\n",
       "\n",
       "    .dataframe thead th {\n",
       "        text-align: right;\n",
       "    }\n",
       "</style>\n",
       "<table border=\"1\" class=\"dataframe\">\n",
       "  <thead>\n",
       "    <tr style=\"text-align: right;\">\n",
       "      <th></th>\n",
       "      <th>Sex</th>\n",
       "      <th>Housing</th>\n",
       "    </tr>\n",
       "  </thead>\n",
       "  <tbody>\n",
       "    <tr>\n",
       "      <th>0</th>\n",
       "      <td>female</td>\n",
       "      <td>0.583333</td>\n",
       "    </tr>\n",
       "    <tr>\n",
       "      <th>1</th>\n",
       "      <td>male</td>\n",
       "      <td>0.709040</td>\n",
       "    </tr>\n",
       "  </tbody>\n",
       "</table>\n",
       "</div>"
      ],
      "text/plain": [
       "      Sex   Housing\n",
       "0  female  0.583333\n",
       "1    male  0.709040"
      ]
     },
     "execution_count": 14,
     "metadata": {},
     "output_type": "execute_result"
    }
   ],
   "source": [
    "credit.head(2)\n",
    "credit['Saving accounts'].value_counts()\n",
    "df1=credit[ ~credit.isna().any(axis=1)] # dropping the null values\n",
    "df1.head(2)\n",
    "\n",
    "df1['Saving accounts'].value_counts()\n",
    "\n",
    "def littlesaving(col, v1, **kwargs):\n",
    "    normalize=kwargs.get('normalize', False)\n",
    "    if normalize:\n",
    "        return col.value_counts(normalize=True).get(v1,0)\n",
    "    else:\n",
    "        return col.value_counts().get(v1,0)\n",
    "\n",
    "gr1=pd.DataFrame( df1.groupby('Sex')['Housing'].apply(littlesaving, 'own', normalize=True) )\n",
    "gr1.reset_index(inplace=True)\n",
    "gr1"
   ]
  },
  {
   "cell_type": "code",
   "execution_count": 15,
   "id": "67678d65-79e0-4572-9aee-2b5c2eb99983",
   "metadata": {},
   "outputs": [
    {
     "name": "stdout",
     "output_type": "stream",
     "text": [
      "        Credit amount\n",
      "Sex                  \n",
      "female    2877.774194\n",
      "male      3448.040580\n",
      "The credit amount asked for is influenced by the sex of the applicant, with males asking for higher credits in general\n"
     ]
    }
   ],
   "source": [
    "credit.head(2)\n",
    "gr1=credit.groupby('Sex').agg({'Credit amount':'mean'})\n",
    "print(gr1) \n",
    "print('The credit amount asked for is influenced by the sex of the applicant, with males asking for higher credits in general')"
   ]
  },
  {
   "cell_type": "code",
   "execution_count": 16,
   "id": "ceb08b0e-41b4-44f5-83b8-be10208049ef",
   "metadata": {},
   "outputs": [
    {
     "name": "stdout",
     "output_type": "stream",
     "text": [
      "How does housing status (own, rent, or free) relate to both the requested credit amount and loan duration, and does it suggest differences in financial stability?\n"
     ]
    }
   ],
   "source": [
    "print('How does housing status (own, rent, or free) relate to both the requested credit amount and loan duration, and does it suggest differences in financial stability?')"
   ]
  },
  {
   "cell_type": "raw",
   "id": "d820b6be-1f8e-40a0-b77b-420a8761979f",
   "metadata": {},
   "source": []
  },
  {
   "cell_type": "code",
   "execution_count": 17,
   "id": "22b0c0e8-9a7b-4f97-9a7b-5209e0a26cc2",
   "metadata": {},
   "outputs": [
    {
     "data": {
      "text/html": [
       "<div>\n",
       "<style scoped>\n",
       "    .dataframe tbody tr th:only-of-type {\n",
       "        vertical-align: middle;\n",
       "    }\n",
       "\n",
       "    .dataframe tbody tr th {\n",
       "        vertical-align: top;\n",
       "    }\n",
       "\n",
       "    .dataframe thead th {\n",
       "        text-align: right;\n",
       "    }\n",
       "</style>\n",
       "<table border=\"1\" class=\"dataframe\">\n",
       "  <thead>\n",
       "    <tr style=\"text-align: right;\">\n",
       "      <th></th>\n",
       "      <th>Unnamed: 0</th>\n",
       "      <th>Age</th>\n",
       "      <th>Sex</th>\n",
       "      <th>Job</th>\n",
       "      <th>Housing</th>\n",
       "      <th>Saving accounts</th>\n",
       "      <th>Checking account</th>\n",
       "      <th>Credit amount</th>\n",
       "      <th>Duration</th>\n",
       "      <th>Purpose</th>\n",
       "      <th>Age category</th>\n",
       "    </tr>\n",
       "  </thead>\n",
       "  <tbody>\n",
       "    <tr>\n",
       "      <th>0</th>\n",
       "      <td>0</td>\n",
       "      <td>67</td>\n",
       "      <td>male</td>\n",
       "      <td>2</td>\n",
       "      <td>own</td>\n",
       "      <td>NaN</td>\n",
       "      <td>little</td>\n",
       "      <td>1169</td>\n",
       "      <td>6</td>\n",
       "      <td>radio/TV</td>\n",
       "      <td>Senior applicant</td>\n",
       "    </tr>\n",
       "    <tr>\n",
       "      <th>1</th>\n",
       "      <td>1</td>\n",
       "      <td>22</td>\n",
       "      <td>female</td>\n",
       "      <td>2</td>\n",
       "      <td>own</td>\n",
       "      <td>little</td>\n",
       "      <td>moderate</td>\n",
       "      <td>5951</td>\n",
       "      <td>48</td>\n",
       "      <td>radio/TV</td>\n",
       "      <td>Very young applicant</td>\n",
       "    </tr>\n",
       "  </tbody>\n",
       "</table>\n",
       "</div>"
      ],
      "text/plain": [
       "   Unnamed: 0  Age     Sex  Job Housing Saving accounts Checking account  \\\n",
       "0           0   67    male    2     own             NaN           little   \n",
       "1           1   22  female    2     own          little         moderate   \n",
       "\n",
       "   Credit amount  Duration   Purpose          Age category  \n",
       "0           1169         6  radio/TV      Senior applicant  \n",
       "1           5951        48  radio/TV  Very young applicant  "
      ]
     },
     "execution_count": 17,
     "metadata": {},
     "output_type": "execute_result"
    }
   ],
   "source": [
    "credit.head(2)"
   ]
  },
  {
   "cell_type": "code",
   "execution_count": 18,
   "id": "a7b2718b-3425-4368-a8a9-fad2afeb09b5",
   "metadata": {},
   "outputs": [
    {
     "name": "stdout",
     "output_type": "stream",
     "text": [
      "  Housing  Mean credit  Mean duration\n",
      "0    Free       4906.0           27.0\n",
      "1     Own       3061.0           20.0\n",
      "2    Rent       3123.0           19.0\n",
      "The most distinctive difference is that applicants that live in free housing tend to ask for higher credit amounts as well as longer credit durations\n",
      "The results for both mean credit and mean duration are relatively simillar when grouped by housing status\n"
     ]
    }
   ],
   "source": [
    "gr3=credit.groupby('Housing').agg({'Credit amount':'mean',\n",
    "                                   'Duration':'mean'})\n",
    "gr3.reset_index(inplace=True)\n",
    "gr3.columns=['Housing','Mean credit','Mean duration']\n",
    "gr3['Housing']=gr3['Housing'].str.title()\n",
    "\n",
    "def rounding(df):\n",
    "    for col in df.columns:\n",
    "        if df[col].dtype=='float64':\n",
    "            df[col]=df[col].round(decimals=0)\n",
    "    return df\n",
    "\n",
    "gr3=rounding(gr3)\n",
    "print(gr3)\n",
    "print('The most distinctive difference is that applicants that live in free housing tend to ask for higher credit amounts as well as longer credit durations')\n",
    "print('The results for both mean credit and mean duration are relatively simillar when grouped by housing status')"
   ]
  },
  {
   "cell_type": "code",
   "execution_count": 19,
   "id": "4db47095-97ad-4e93-a583-57a563c9bcdc",
   "metadata": {},
   "outputs": [
    {
     "data": {
      "text/plain": [
       "<Axes: ylabel='Duration'>"
      ]
     },
     "execution_count": 19,
     "metadata": {},
     "output_type": "execute_result"
    },
    {
     "data": {
      "image/png": "[encoded data removed]",
      "text/plain": [
       "<Figure size 640x480 with 1 Axes>"
      ]
     },
     "metadata": {},
     "output_type": "display_data"
    }
   ],
   "source": [
    "sns.barplot( data=credit, y='Duration', hue='Housing', estimator='mean')"
   ]
  },
  {
   "cell_type": "code",
   "execution_count": 20,
   "id": "d8b36014-073a-4b64-b091-2fde5569ec38",
   "metadata": {},
   "outputs": [
    {
     "data": {
      "text/plain": [
       "<Axes: ylabel='Credit amount'>"
      ]
     },
     "execution_count": 20,
     "metadata": {},
     "output_type": "execute_result"
    },
    {
     "data": {
      "image/png": "[encoded data removed]",
      "text/plain": [
       "<Figure size 640x480 with 1 Axes>"
      ]
     },
     "metadata": {},
     "output_type": "display_data"
    }
   ],
   "source": [
    "sns.barplot( data=credit, y='Credit amount', hue='Housing', estimator='mean')"
   ]
  },
  {
   "cell_type": "code",
   "execution_count": 21,
   "id": "65f93a76-a9d8-45e4-85cb-e35b30c1e1bc",
   "metadata": {},
   "outputs": [
    {
     "data": {
      "text/html": [
       "<div>\n",
       "<style scoped>\n",
       "    .dataframe tbody tr th:only-of-type {\n",
       "        vertical-align: middle;\n",
       "    }\n",
       "\n",
       "    .dataframe tbody tr th {\n",
       "        vertical-align: top;\n",
       "    }\n",
       "\n",
       "    .dataframe thead th {\n",
       "        text-align: right;\n",
       "    }\n",
       "</style>\n",
       "<table border=\"1\" class=\"dataframe\">\n",
       "  <thead>\n",
       "    <tr style=\"text-align: right;\">\n",
       "      <th></th>\n",
       "      <th>Unnamed: 0</th>\n",
       "      <th>Age</th>\n",
       "      <th>Sex</th>\n",
       "      <th>Job</th>\n",
       "      <th>Housing</th>\n",
       "      <th>Saving accounts</th>\n",
       "      <th>Checking account</th>\n",
       "      <th>Credit amount</th>\n",
       "      <th>Duration</th>\n",
       "      <th>Purpose</th>\n",
       "      <th>Age category</th>\n",
       "    </tr>\n",
       "  </thead>\n",
       "  <tbody>\n",
       "    <tr>\n",
       "      <th>0</th>\n",
       "      <td>0</td>\n",
       "      <td>67</td>\n",
       "      <td>male</td>\n",
       "      <td>2</td>\n",
       "      <td>own</td>\n",
       "      <td>NaN</td>\n",
       "      <td>little</td>\n",
       "      <td>1169</td>\n",
       "      <td>6</td>\n",
       "      <td>radio/TV</td>\n",
       "      <td>Senior applicant</td>\n",
       "    </tr>\n",
       "  </tbody>\n",
       "</table>\n",
       "</div>"
      ],
      "text/plain": [
       "   Unnamed: 0  Age   Sex  Job Housing Saving accounts Checking account  \\\n",
       "0           0   67  male    2     own             NaN           little   \n",
       "\n",
       "   Credit amount  Duration   Purpose      Age category  \n",
       "0           1169         6  radio/TV  Senior applicant  "
      ]
     },
     "execution_count": 21,
     "metadata": {},
     "output_type": "execute_result"
    }
   ],
   "source": [
    "credit.head(1)"
   ]
  },
  {
   "cell_type": "code",
   "execution_count": 22,
   "id": "72c7bdfe-b647-47f8-b52f-3db9a455cea8",
   "metadata": {},
   "outputs": [
    {
     "name": "stdout",
     "output_type": "stream",
     "text": [
      "What do the saving accounts and checking accounts data reveal about applicants’ financial behavior, and how do these balances connect with credit amount and loan purpose?\n"
     ]
    },
    {
     "data": {
      "text/html": [
       "<div>\n",
       "<style scoped>\n",
       "    .dataframe tbody tr th:only-of-type {\n",
       "        vertical-align: middle;\n",
       "    }\n",
       "\n",
       "    .dataframe tbody tr th {\n",
       "        vertical-align: top;\n",
       "    }\n",
       "\n",
       "    .dataframe thead th {\n",
       "        text-align: right;\n",
       "    }\n",
       "</style>\n",
       "<table border=\"1\" class=\"dataframe\">\n",
       "  <thead>\n",
       "    <tr style=\"text-align: right;\">\n",
       "      <th></th>\n",
       "      <th>Unnamed: 0</th>\n",
       "      <th>Age</th>\n",
       "      <th>Sex</th>\n",
       "      <th>Job</th>\n",
       "      <th>Housing</th>\n",
       "      <th>Saving accounts</th>\n",
       "      <th>Checking account</th>\n",
       "      <th>Credit amount</th>\n",
       "      <th>Duration</th>\n",
       "      <th>Purpose</th>\n",
       "      <th>Age category</th>\n",
       "    </tr>\n",
       "  </thead>\n",
       "  <tbody>\n",
       "    <tr>\n",
       "      <th>1</th>\n",
       "      <td>1</td>\n",
       "      <td>22</td>\n",
       "      <td>female</td>\n",
       "      <td>2</td>\n",
       "      <td>own</td>\n",
       "      <td>little</td>\n",
       "      <td>moderate</td>\n",
       "      <td>5951</td>\n",
       "      <td>48</td>\n",
       "      <td>radio/TV</td>\n",
       "      <td>Very young applicant</td>\n",
       "    </tr>\n",
       "  </tbody>\n",
       "</table>\n",
       "</div>"
      ],
      "text/plain": [
       "   Unnamed: 0  Age     Sex  Job Housing Saving accounts Checking account  \\\n",
       "1           1   22  female    2     own          little         moderate   \n",
       "\n",
       "   Credit amount  Duration   Purpose          Age category  \n",
       "1           5951        48  radio/TV  Very young applicant  "
      ]
     },
     "execution_count": 22,
     "metadata": {},
     "output_type": "execute_result"
    }
   ],
   "source": [
    "print('What do the saving accounts and checking accounts data reveal about applicants’ financial behavior, and how do these balances connect with credit amount and loan purpose?')\n",
    "dff=credit[ ~credit.isna().any(axis=1) ] # we get rid of the rows that have missing data for columns 5 and 6\n",
    "dff.head(1)"
   ]
  },
  {
   "cell_type": "code",
   "execution_count": 25,
   "id": "c345cc1e-10c6-4327-bac0-8925912ef695",
   "metadata": {},
   "outputs": [
    {
     "data": {
      "text/html": [
       "<div>\n",
       "<style scoped>\n",
       "    .dataframe tbody tr th:only-of-type {\n",
       "        vertical-align: middle;\n",
       "    }\n",
       "\n",
       "    .dataframe tbody tr th {\n",
       "        vertical-align: top;\n",
       "    }\n",
       "\n",
       "    .dataframe thead th {\n",
       "        text-align: right;\n",
       "    }\n",
       "</style>\n",
       "<table border=\"1\" class=\"dataframe\">\n",
       "  <thead>\n",
       "    <tr style=\"text-align: right;\">\n",
       "      <th></th>\n",
       "      <th>Unnamed: 0</th>\n",
       "      <th>Age</th>\n",
       "      <th>Sex</th>\n",
       "      <th>Job</th>\n",
       "      <th>Housing</th>\n",
       "      <th>Saving accounts</th>\n",
       "      <th>Checking account</th>\n",
       "      <th>Credit amount</th>\n",
       "      <th>Duration</th>\n",
       "      <th>Purpose</th>\n",
       "      <th>Age category</th>\n",
       "    </tr>\n",
       "  </thead>\n",
       "  <tbody>\n",
       "    <tr>\n",
       "      <th>0</th>\n",
       "      <td>0</td>\n",
       "      <td>67</td>\n",
       "      <td>male</td>\n",
       "      <td>2</td>\n",
       "      <td>own</td>\n",
       "      <td>NaN</td>\n",
       "      <td>little</td>\n",
       "      <td>1169</td>\n",
       "      <td>6</td>\n",
       "      <td>radio/TV</td>\n",
       "      <td>Senior applicant</td>\n",
       "    </tr>\n",
       "    <tr>\n",
       "      <th>1</th>\n",
       "      <td>1</td>\n",
       "      <td>22</td>\n",
       "      <td>female</td>\n",
       "      <td>2</td>\n",
       "      <td>own</td>\n",
       "      <td>little</td>\n",
       "      <td>moderate</td>\n",
       "      <td>5951</td>\n",
       "      <td>48</td>\n",
       "      <td>radio/TV</td>\n",
       "      <td>Very young applicant</td>\n",
       "    </tr>\n",
       "  </tbody>\n",
       "</table>\n",
       "</div>"
      ],
      "text/plain": [
       "   Unnamed: 0  Age     Sex  Job Housing Saving accounts Checking account  \\\n",
       "0           0   67    male    2     own             NaN           little   \n",
       "1           1   22  female    2     own          little         moderate   \n",
       "\n",
       "   Credit amount  Duration   Purpose          Age category  \n",
       "0           1169         6  radio/TV      Senior applicant  \n",
       "1           5951        48  radio/TV  Very young applicant  "
      ]
     },
     "execution_count": 25,
     "metadata": {},
     "output_type": "execute_result"
    }
   ],
   "source": [
    "credit.head(2)"
   ]
  },
  {
   "cell_type": "code",
   "execution_count": 39,
   "id": "41b7f2e6-27a7-4701-9158-cc4feb93837a",
   "metadata": {},
   "outputs": [
    {
     "data": {
      "text/html": [
       "<div>\n",
       "<style scoped>\n",
       "    .dataframe tbody tr th:only-of-type {\n",
       "        vertical-align: middle;\n",
       "    }\n",
       "\n",
       "    .dataframe tbody tr th {\n",
       "        vertical-align: top;\n",
       "    }\n",
       "\n",
       "    .dataframe thead th {\n",
       "        text-align: right;\n",
       "    }\n",
       "</style>\n",
       "<table border=\"1\" class=\"dataframe\">\n",
       "  <thead>\n",
       "    <tr style=\"text-align: right;\">\n",
       "      <th></th>\n",
       "      <th>Unnamed: 0</th>\n",
       "      <th>Age</th>\n",
       "      <th>Sex</th>\n",
       "      <th>Job</th>\n",
       "      <th>Housing</th>\n",
       "      <th>Saving accounts</th>\n",
       "      <th>Checking account</th>\n",
       "      <th>Credit amount</th>\n",
       "      <th>Duration</th>\n",
       "      <th>Purpose</th>\n",
       "      <th>Age category</th>\n",
       "      <th>Residency</th>\n",
       "    </tr>\n",
       "  </thead>\n",
       "  <tbody>\n",
       "    <tr>\n",
       "      <th>0</th>\n",
       "      <td>0</td>\n",
       "      <td>67</td>\n",
       "      <td>male</td>\n",
       "      <td>2</td>\n",
       "      <td>own</td>\n",
       "      <td>NaN</td>\n",
       "      <td>little</td>\n",
       "      <td>1169</td>\n",
       "      <td>6</td>\n",
       "      <td>radio/TV</td>\n",
       "      <td>Senior applicant</td>\n",
       "      <td>resident</td>\n",
       "    </tr>\n",
       "    <tr>\n",
       "      <th>1</th>\n",
       "      <td>1</td>\n",
       "      <td>22</td>\n",
       "      <td>female</td>\n",
       "      <td>2</td>\n",
       "      <td>own</td>\n",
       "      <td>little</td>\n",
       "      <td>moderate</td>\n",
       "      <td>5951</td>\n",
       "      <td>48</td>\n",
       "      <td>radio/TV</td>\n",
       "      <td>Very young applicant</td>\n",
       "      <td>resident</td>\n",
       "    </tr>\n",
       "  </tbody>\n",
       "</table>\n",
       "</div>"
      ],
      "text/plain": [
       "   Unnamed: 0  Age     Sex  Job Housing Saving accounts Checking account  \\\n",
       "0           0   67    male    2     own             NaN           little   \n",
       "1           1   22  female    2     own          little         moderate   \n",
       "\n",
       "   Credit amount  Duration   Purpose          Age category Residency  \n",
       "0           1169         6  radio/TV      Senior applicant  resident  \n",
       "1           5951        48  radio/TV  Very young applicant  resident  "
      ]
     },
     "execution_count": 39,
     "metadata": {},
     "output_type": "execute_result"
    }
   ],
   "source": [
    "credit['Job'].value_counts()\n",
    "credit['Job']=pd.to_numeric( credit['Job'], errors='coerce')\n",
    "\n",
    "def resident(row):\n",
    "    if row['Job'] != 0:\n",
    "        output='resident'\n",
    "    else:\n",
    "        output='non resident'\n",
    "    return output\n",
    "\n",
    "credit['Residency']=credit.apply(resident, axis=1)\n",
    "credit.head(2)"
   ]
  },
  {
   "cell_type": "code",
   "execution_count": 49,
   "id": "e1011058-40f8-48dc-bca5-3226c25ee1fe",
   "metadata": {},
   "outputs": [
    {
     "name": "stdout",
     "output_type": "stream",
     "text": [
      "   Job type  Mean credit amount  Mean credit duration\n",
      "1         1              2359.0                  17.0\n",
      "0         0              2745.0                  17.0\n",
      "2         2              3071.0                  21.0\n",
      "3         3              5435.0                  25.0\n",
      "We can observe a trend where people with better jobs generally ask for a larger loan, as well as a longer repayment period\n",
      "However, people with job type 0 tend to ask for a higher loan amount that those of type 1, according to the data\n"
     ]
    }
   ],
   "source": [
    "credit['Job']=credit['Job'].astype('object')\n",
    "\n",
    "jobs=credit.groupby('Job').agg({'Credit amount':'mean',\n",
    "                                'Duration':'mean'})\n",
    "jobs.reset_index(inplace=True)\n",
    "jobs.columns=['Job type','Mean credit amount','Mean credit duration']\n",
    "jobs=rounding(jobs)\n",
    "jobs=jobs.sort_values(by=['Mean credit amount','Mean credit duration'], ascending=[True,True])\n",
    "print(jobs)\n",
    "\n",
    "print('We can observe a trend where people with better jobs generally ask for a larger loan, as well as a longer repayment period')\n",
    "print('However, people with job type 0 tend to ask for a higher loan amount that those of type 1, according to the data')"
   ]
  },
  {
   "cell_type": "code",
   "execution_count": 83,
   "id": "4328c392-6414-4506-92fe-5472cfeae5bf",
   "metadata": {},
   "outputs": [
    {
     "name": "stdout",
     "output_type": "stream",
     "text": [
      "Amongst almost all job types, the most common request was a car loan, with the exeption of job type 2, where radio/TV was a more common choice\n",
      "Domestic appliances and repairs were the 2 groups for which the richest people did not request loans for\n"
     ]
    },
    {
     "data": {
      "text/html": [
       "<div>\n",
       "<style scoped>\n",
       "    .dataframe tbody tr th:only-of-type {\n",
       "        vertical-align: middle;\n",
       "    }\n",
       "\n",
       "    .dataframe tbody tr th {\n",
       "        vertical-align: top;\n",
       "    }\n",
       "\n",
       "    .dataframe thead th {\n",
       "        text-align: right;\n",
       "    }\n",
       "</style>\n",
       "<table border=\"1\" class=\"dataframe\">\n",
       "  <thead>\n",
       "    <tr style=\"text-align: right;\">\n",
       "      <th></th>\n",
       "      <th>Purpose</th>\n",
       "      <th>Requests, job0</th>\n",
       "      <th>Requests, job1</th>\n",
       "      <th>Requests, job2</th>\n",
       "      <th>Requests, job3</th>\n",
       "      <th>Sum per purpose</th>\n",
       "    </tr>\n",
       "  </thead>\n",
       "  <tbody>\n",
       "    <tr>\n",
       "      <th>0</th>\n",
       "      <td>Business</td>\n",
       "      <td>2</td>\n",
       "      <td>20</td>\n",
       "      <td>60</td>\n",
       "      <td>15.0</td>\n",
       "      <td>97.0</td>\n",
       "    </tr>\n",
       "    <tr>\n",
       "      <th>1</th>\n",
       "      <td>Car</td>\n",
       "      <td>12</td>\n",
       "      <td>66</td>\n",
       "      <td>190</td>\n",
       "      <td>69.0</td>\n",
       "      <td>337.0</td>\n",
       "    </tr>\n",
       "    <tr>\n",
       "      <th>2</th>\n",
       "      <td>Domestic Appliances</td>\n",
       "      <td>1</td>\n",
       "      <td>1</td>\n",
       "      <td>10</td>\n",
       "      <td>NaN</td>\n",
       "      <td>12.0</td>\n",
       "    </tr>\n",
       "    <tr>\n",
       "      <th>3</th>\n",
       "      <td>Education</td>\n",
       "      <td>1</td>\n",
       "      <td>15</td>\n",
       "      <td>35</td>\n",
       "      <td>8.0</td>\n",
       "      <td>59.0</td>\n",
       "    </tr>\n",
       "    <tr>\n",
       "      <th>4</th>\n",
       "      <td>Furniture/Equipment</td>\n",
       "      <td>1</td>\n",
       "      <td>33</td>\n",
       "      <td>126</td>\n",
       "      <td>21.0</td>\n",
       "      <td>181.0</td>\n",
       "    </tr>\n",
       "    <tr>\n",
       "      <th>5</th>\n",
       "      <td>Radio/Tv</td>\n",
       "      <td>2</td>\n",
       "      <td>57</td>\n",
       "      <td>195</td>\n",
       "      <td>26.0</td>\n",
       "      <td>280.0</td>\n",
       "    </tr>\n",
       "    <tr>\n",
       "      <th>6</th>\n",
       "      <td>Repairs</td>\n",
       "      <td>2</td>\n",
       "      <td>7</td>\n",
       "      <td>13</td>\n",
       "      <td>NaN</td>\n",
       "      <td>22.0</td>\n",
       "    </tr>\n",
       "    <tr>\n",
       "      <th>7</th>\n",
       "      <td>Vacation/Others</td>\n",
       "      <td>1</td>\n",
       "      <td>1</td>\n",
       "      <td>1</td>\n",
       "      <td>9.0</td>\n",
       "      <td>12.0</td>\n",
       "    </tr>\n",
       "  </tbody>\n",
       "</table>\n",
       "</div>"
      ],
      "text/plain": [
       "               Purpose  Requests, job0  Requests, job1  Requests, job2  \\\n",
       "0             Business               2              20              60   \n",
       "1                  Car              12              66             190   \n",
       "2  Domestic Appliances               1               1              10   \n",
       "3            Education               1              15              35   \n",
       "4  Furniture/Equipment               1              33             126   \n",
       "5             Radio/Tv               2              57             195   \n",
       "6              Repairs               2               7              13   \n",
       "7      Vacation/Others               1               1               1   \n",
       "\n",
       "   Requests, job3  Sum per purpose  \n",
       "0            15.0             97.0  \n",
       "1            69.0            337.0  \n",
       "2             NaN             12.0  \n",
       "3             8.0             59.0  \n",
       "4            21.0            181.0  \n",
       "5            26.0            280.0  \n",
       "6             NaN             22.0  \n",
       "7             9.0             12.0  "
      ]
     },
     "execution_count": 83,
     "metadata": {},
     "output_type": "execute_result"
    }
   ],
   "source": [
    "credit.head(2)\n",
    "credit['Purpose'].value_counts()\n",
    "\n",
    "credit['Job']=pd.to_numeric( credit['Job'], errors='coerce')\n",
    "\n",
    "job0=credit[ credit['Job']==0]\n",
    "job1=credit[ credit['Job']==1]\n",
    "job2=credit[ credit['Job']==2]\n",
    "job3=credit[ credit['Job']==3]\n",
    "\n",
    "p0=job0.groupby('Purpose').agg({'Job':'count'})\n",
    "p0.reset_index(inplace=True)\n",
    "p0.columns=['Purpose', 'Requests, job0']\n",
    "p0\n",
    "\n",
    "p1=job1.groupby('Purpose').agg({'Job':'count'})\n",
    "p1.reset_index(inplace=True)\n",
    "p1.columns=['Purpose', 'Requests, job1']\n",
    "p1\n",
    "\n",
    "p2=job2.groupby('Purpose').agg({'Job':'count'})\n",
    "p2.reset_index(inplace=True)\n",
    "p2.columns=['Purpose', 'Requests, job2']\n",
    "p2\n",
    "\n",
    "p3=job3.groupby('Purpose').agg({'Job':'count'})\n",
    "p3.reset_index(inplace=True)\n",
    "p3.columns=['Purpose', 'Requests, job3']\n",
    "p3\n",
    "\n",
    "merge1=pd.merge(left=p0, right=p1, left_on='Purpose', right_on='Purpose', how='outer')\n",
    "merge2=pd.merge(left=merge1, right=p2, left_on='Purpose', right_on='Purpose', how='outer')\n",
    "merge3=pd.merge(left=merge2, right=p3, left_on='Purpose', right_on='Purpose', how='outer')\n",
    "merge3.sort_values( by='Purpose', ascending=True, inplace=True)\n",
    "merge3['Purpose']=merge3['Purpose'].str.title()\n",
    "merge3['Sum per purpose']=merge3.select_dtypes(include='number').apply('sum', axis=1)\n",
    "print('Amongst almost all job types, the most common request was a car loan, with the exeption of job type 2, where radio/TV was a more common choice')\n",
    "print('Domestic appliances and repairs were the 2 groups for which the richest people did not request loans for')\n",
    "merge3"
   ]
  },
  {
   "cell_type": "code",
   "execution_count": 87,
   "id": "33eeda3d-5cc7-47cb-82eb-c9358f74dfff",
   "metadata": {},
   "outputs": [
    {
     "name": "stdout",
     "output_type": "stream",
     "text": [
      "It is important to note that education is not high on the list of purposes for loan requests\n",
      "That said, from all the job groups, it seems that education was most prioritised by group job type 2\n"
     ]
    },
    {
     "data": {
      "image/png": "[encoded data removed]",
      "text/plain": [
       "<Figure size 640x480 with 1 Axes>"
      ]
     },
     "metadata": {},
     "output_type": "display_data"
    }
   ],
   "source": [
    "fig2=credit['Purpose'].value_counts(normalize=True).plot( kind='bar', color='green', title='Loan purposes')\n",
    "print('It is important to note that education is not high on the list of purposes for loan requests')\n",
    "print('That said, from all the job groups, it seems that education was most prioritised by group job type 2')"
   ]
  },
  {
   "cell_type": "raw",
   "id": "e268f658-0f36-4036-b0ba-7543dfeda3cb",
   "metadata": {},
   "source": [
    "CREDIT RISK ANALYSIS QUESTIONS\n",
    "\n",
    "Are certain job categories more likely to request larger loans or longer repayment periods, and do they cluster around specific purposes like car purchases, furniture, or education?\n",
    "How does the purpose of the loan vary with age, gender, and financial indicators, and are there particular purposes that tend to involve higher or riskier credit amounts?\n",
    "Given the missing values in saving accounts, what impact might this have on the analysis, and what methods could be used to handle these gaps without biasing the results?"
   ]
  },
  {
   "cell_type": "code",
   "execution_count": 55,
   "id": "fa3d30f9-4983-4289-9fe1-550c2dc4b486",
   "metadata": {},
   "outputs": [
    {
     "name": "stdout",
     "output_type": "stream",
     "text": [
      "<class 'pandas.core.frame.DataFrame'>\n",
      "RangeIndex: 1000 entries, 0 to 999\n",
      "Data columns (total 12 columns):\n",
      " #   Column            Non-Null Count  Dtype \n",
      "---  ------            --------------  ----- \n",
      " 0   Unnamed: 0        1000 non-null   int64 \n",
      " 1   Age               1000 non-null   int64 \n",
      " 2   Sex               1000 non-null   object\n",
      " 3   Job               1000 non-null   object\n",
      " 4   Housing           1000 non-null   object\n",
      " 5   Saving accounts   817 non-null    object\n",
      " 6   Checking account  606 non-null    object\n",
      " 7   Credit amount     1000 non-null   int64 \n",
      " 8   Duration          1000 non-null   int64 \n",
      " 9   Purpose           1000 non-null   object\n",
      " 10  Age category      1000 non-null   object\n",
      " 11  Residency         1000 non-null   object\n",
      "dtypes: int64(4), object(8)\n",
      "memory usage: 93.9+ KB\n"
     ]
    }
   ],
   "source": [
    "credit.info()"
   ]
  },
  {
   "cell_type": "code",
   "execution_count": 56,
   "id": "de66ae8d-7374-4b1b-b3ac-54cd04210999",
   "metadata": {},
   "outputs": [
    {
     "data": {
      "text/plain": [
       "array([2, 2, 1, 2, 2, 1, 2, 3, 1, 3, 2, 2, 2, 1, 2, 1, 2, 2, 3, 2, 2, 2,\n",
       "       1, 2, 2, 1, 1, 2, 2, 2, 2, 2, 2, 1, 3, 1, 2, 2, 2, 2, 3, 2, 1, 2,\n",
       "       1, 3, 2, 0, 1, 2, 1, 3, 2, 2, 2, 1, 3, 2, 3, 1, 2, 2, 3, 2, 2, 2,\n",
       "       2, 2, 2, 2, 2, 1, 3, 1, 3, 3, 2, 2, 1, 2, 2, 2, 1, 1, 1, 3, 2, 2,\n",
       "       3, 2, 2, 2, 1, 2, 2, 2, 2, 2, 2, 3, 1, 2, 2, 2, 2, 3, 3, 2, 2, 2,\n",
       "       2, 2, 1, 2, 2, 2, 3, 2, 2, 3, 2, 3, 1, 2, 2, 2, 1, 2, 3, 2, 2, 2,\n",
       "       1, 2, 2, 2, 2, 1, 2, 1, 0, 3, 3, 2, 2, 2, 2, 2, 2, 2, 2, 2, 2, 2,\n",
       "       3, 2, 2, 1, 2, 1, 2, 2, 2, 3, 2, 2, 2, 2, 2, 2, 2, 2, 3, 2, 2, 3,\n",
       "       2, 2, 3, 2, 2, 3, 1, 2, 2, 2, 3, 0, 2, 2, 3, 1, 2, 2, 2, 3, 2, 2,\n",
       "       2, 3, 2, 1, 2, 2, 1, 3, 2, 2, 1, 2, 2, 1, 2, 3, 2, 1, 2, 2, 1, 2,\n",
       "       1, 2, 2, 2, 2, 2, 2, 3, 2, 2, 2, 1, 2, 1, 1, 3, 0, 1, 2, 2, 2, 2,\n",
       "       2, 2, 1, 2, 2, 2, 2, 2, 1, 1, 2, 2, 2, 1, 1, 2, 2, 1, 2, 2, 3, 1,\n",
       "       1, 2, 2, 2, 3, 2, 2, 2, 3, 2, 1, 2, 2, 1, 2, 3, 2, 2, 1, 2, 2, 1,\n",
       "       2, 3, 2, 2, 2, 3, 3, 2, 3, 2, 2, 1, 2, 2, 0, 2, 1, 2, 2, 2, 1, 1,\n",
       "       2, 1, 0, 2, 2, 1, 1, 2, 1, 1, 2, 1, 3, 2, 3, 2, 2, 1, 2, 2, 2, 2,\n",
       "       3, 2, 3, 1, 2, 3, 1, 2, 2, 1, 2, 1, 2, 3, 1, 1, 2, 0, 1, 2, 2, 2,\n",
       "       3, 2, 2, 1, 2, 3, 2, 2, 2, 3, 2, 2, 0, 2, 2, 2, 2, 2, 2, 2, 2, 3,\n",
       "       3, 2, 2, 2, 3, 1, 2, 3, 2, 2, 1, 2, 2, 3, 2, 2, 3, 1, 3, 2, 3, 2,\n",
       "       3, 2, 2, 1, 2, 2, 2, 1, 2, 2, 2, 2, 3, 2, 2, 3, 3, 1, 2, 2, 1, 2,\n",
       "       3, 2, 2, 2, 1, 3, 2, 2, 2, 2, 2, 0, 1, 3, 3, 2, 2, 2, 1, 2, 0, 0,\n",
       "       3, 2, 2, 1, 3, 1, 2, 2, 3, 2, 3, 2, 2, 3, 2, 3, 2, 2, 2, 2, 2, 2,\n",
       "       3, 2, 2, 2, 1, 2, 2, 1, 2, 2, 1, 3, 2, 2, 2, 2, 1, 2, 1, 2, 2, 2,\n",
       "       2, 3, 2, 2, 1, 2, 2, 3, 2, 2, 1, 2, 3, 2, 1, 2, 2, 2, 2, 2, 2, 1,\n",
       "       2, 3, 2, 3, 2, 3, 2, 2, 2, 2, 1, 2, 2, 2, 2, 2, 2, 2, 1, 2, 2, 1,\n",
       "       2, 1, 2, 2, 2, 2, 2, 2, 3, 2, 3, 1, 2, 2, 2, 1, 1, 2, 2, 2, 1, 2,\n",
       "       2, 1, 2, 2, 3, 2, 2, 2, 2, 1, 2, 1, 2, 2, 3, 2, 2, 2, 2, 2, 1, 2,\n",
       "       3, 1, 1, 2, 2, 2, 2, 1, 2, 1, 2, 1, 3, 2, 2, 1, 1, 2, 1, 2, 1, 1,\n",
       "       3, 1, 2, 1, 2, 2, 2, 2, 1, 3, 2, 2, 3, 2, 2, 2, 2, 1, 2, 2, 2, 3,\n",
       "       3, 2, 2, 1, 2, 2, 2, 2, 2, 2, 2, 2, 2, 1, 2, 2, 2, 2, 1, 2, 2, 2,\n",
       "       2, 2, 0, 1, 3, 2, 3, 2, 2, 2, 2, 1, 3, 1, 2, 3, 2, 2, 1, 2, 2, 2,\n",
       "       2, 2, 2, 3, 1, 3, 2, 2, 2, 2, 1, 2, 3, 2, 1, 3, 2, 2, 1, 2, 2, 2,\n",
       "       2, 2, 1, 2, 2, 2, 2, 2, 2, 1, 2, 1, 2, 2, 2, 0, 2, 3, 1, 2, 2, 2,\n",
       "       2, 2, 2, 2, 2, 1, 3, 2, 3, 1, 3, 2, 2, 3, 2, 2, 3, 2, 1, 1, 2, 1,\n",
       "       1, 2, 2, 2, 2, 1, 1, 2, 2, 0, 3, 1, 3, 1, 2, 1, 2, 2, 3, 1, 2, 1,\n",
       "       2, 2, 2, 1, 1, 2, 2, 2, 0, 2, 2, 2, 2, 2, 1, 3, 2, 1, 1, 2, 2, 1,\n",
       "       2, 3, 3, 2, 0, 2, 2, 2, 3, 2, 2, 2, 1, 1, 3, 1, 2, 2, 2, 2, 2, 3,\n",
       "       2, 2, 2, 2, 2, 1, 2, 0, 2, 1, 2, 2, 0, 2, 1, 2, 3, 0, 2, 1, 2, 2,\n",
       "       2, 2, 2, 2, 3, 2, 2, 2, 2, 1, 3, 2, 2, 2, 2, 2, 2, 2, 2, 2, 1, 2,\n",
       "       2, 1, 2, 2, 2, 1, 2, 2, 2, 2, 2, 2, 2, 1, 2, 2, 2, 1, 2, 2, 2, 2,\n",
       "       2, 2, 2, 2, 2, 1, 1, 2, 2, 2, 2, 2, 2, 2, 2, 2, 1, 2, 3, 2, 3, 2,\n",
       "       3, 2, 2, 0, 2, 2, 2, 2, 3, 2, 3, 2, 1, 2, 2, 3, 3, 2, 1, 2, 2, 2,\n",
       "       2, 2, 3, 3, 1, 2, 1, 1, 2, 1, 2, 2, 2, 3, 2, 3, 2, 3, 2, 3, 2, 2,\n",
       "       2, 2, 2, 2, 2, 1, 1, 2, 2, 2, 2, 3, 1, 3, 2, 3, 3, 1, 2, 1, 2, 2,\n",
       "       2, 3, 1, 2, 0, 2, 2, 3, 2, 3, 1, 1, 1, 2, 2, 2, 2, 2, 1, 2, 1, 3,\n",
       "       2, 1, 2, 1, 0, 2, 2, 1, 2, 2, 1, 2, 2, 3, 3, 2, 1, 2, 2, 2, 3, 1,\n",
       "       1, 1, 1, 3, 2, 1, 3, 2, 2, 2], dtype=object)"
      ]
     },
     "execution_count": 56,
     "metadata": {},
     "output_type": "execute_result"
    }
   ],
   "source": [
    "credit['Job'].values"
   ]
  },
  {
   "cell_type": "code",
   "execution_count": null,
   "id": "000eade6-fab3-44c9-99e5-b547bb3719a5",
   "metadata": {},
   "outputs": [],
   "source": []
  }
 ],
 "metadata": {
  "kernelspec": {
   "display_name": "Python 3 (ipykernel)",
   "language": "python",
   "name": "python3"
  },
  "language_info": {
   "codemirror_mode": {
    "name": "ipython",
    "version": 3
   },
   "file_extension": ".py",
   "mimetype": "text/x-python",
   "name": "python",
   "nbconvert_exporter": "python",
   "pygments_lexer": "ipython3",
   "version": "3.12.1"
  }
 },
 "nbformat": 4,
 "nbformat_minor": 5
}
