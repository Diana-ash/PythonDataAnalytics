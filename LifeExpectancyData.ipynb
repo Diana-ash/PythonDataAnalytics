{
 "cells": [
  {
   "cell_type": "raw",
   "id": "3a4922a9-8cd1-4d27-8cab-dd8b6de132c2",
   "metadata": {},
   "source": [
    "life = dataset with regions, full data\n",
    "d2015 = data for geograpphical plotting, only for year 2015 with ISO country codes\n",
    "\n",
    "There are no unclassified regions\n",
    "There are countries missing ISO codes"
   ]
  },
  {
   "cell_type": "code",
   "execution_count": 1,
   "id": "41d36854-cfe5-49f7-8958-f59ad2773820",
   "metadata": {},
   "outputs": [],
   "source": [
    "import pandas as pd\n",
    "import numpy as np\n",
    "import matplotlib.pyplot as plt\n",
    "import seaborn as sns\n",
    "import plotly.express as px\n",
    "%matplotlib inline"
   ]
  },
  {
   "cell_type": "raw",
   "id": "eb3b8858-dac9-4bd6-a772-5769a68870c0",
   "metadata": {},
   "source": [
    "The data-set aims to answer the following key questions:\n",
    "\n",
    "Does various predicting factors which has been chosen initially really affect the Life expectancy? What are the predicting variables actually affecting the life expectancy?\n",
    "Should a country having a lower life expectancy value(<65) increase its healthcare expenditure in order to improve its average lifespan?\n",
    "How does Infant and Adult mortality rates affect life expectancy?\n",
    "Does Life Expectancy has positive or negative correlation with eating habits, lifestyle, exercise, smoking, drinking alcohol etc.\n",
    "What is the impact of schooling on the lifespan of humans?\n",
    "Does Life Expectancy have positive or negative relationship with drinking alcohol?\n",
    "Do densely populated countries tend to have lower life expectancy?\n",
    "What is the impact of Immunization coverage on life Expectancy?"
   ]
  },
  {
   "cell_type": "code",
   "execution_count": 2,
   "id": "7bdda71c-3718-4a84-b226-6d6775ce2972",
   "metadata": {},
   "outputs": [
    {
     "data": {
      "text/html": [
       "<div>\n",
       "<style scoped>\n",
       "    .dataframe tbody tr th:only-of-type {\n",
       "        vertical-align: middle;\n",
       "    }\n",
       "\n",
       "    .dataframe tbody tr th {\n",
       "        vertical-align: top;\n",
       "    }\n",
       "\n",
       "    .dataframe thead th {\n",
       "        text-align: right;\n",
       "    }\n",
       "</style>\n",
       "<table border=\"1\" class=\"dataframe\">\n",
       "  <thead>\n",
       "    <tr style=\"text-align: right;\">\n",
       "      <th></th>\n",
       "      <th>Country</th>\n",
       "      <th>Year</th>\n",
       "      <th>Status</th>\n",
       "      <th>Life expectancy</th>\n",
       "      <th>Adult Mortality</th>\n",
       "      <th>infant deaths</th>\n",
       "      <th>Alcohol</th>\n",
       "      <th>percentage expenditure</th>\n",
       "      <th>Hepatitis B</th>\n",
       "      <th>Measles</th>\n",
       "      <th>...</th>\n",
       "      <th>Polio</th>\n",
       "      <th>Total expenditure</th>\n",
       "      <th>Diphtheria</th>\n",
       "      <th>HIV/AIDS</th>\n",
       "      <th>GDP</th>\n",
       "      <th>Population</th>\n",
       "      <th>thinness  1-19 years</th>\n",
       "      <th>thinness 5-9 years</th>\n",
       "      <th>Income composition of resources</th>\n",
       "      <th>Schooling</th>\n",
       "    </tr>\n",
       "  </thead>\n",
       "  <tbody>\n",
       "    <tr>\n",
       "      <th>0</th>\n",
       "      <td>Afghanistan</td>\n",
       "      <td>2015</td>\n",
       "      <td>Developing</td>\n",
       "      <td>65.0</td>\n",
       "      <td>263.0</td>\n",
       "      <td>62</td>\n",
       "      <td>0.01</td>\n",
       "      <td>71.279624</td>\n",
       "      <td>65.0</td>\n",
       "      <td>1154</td>\n",
       "      <td>...</td>\n",
       "      <td>6.0</td>\n",
       "      <td>8.16</td>\n",
       "      <td>65.0</td>\n",
       "      <td>0.1</td>\n",
       "      <td>584.259210</td>\n",
       "      <td>33736494.0</td>\n",
       "      <td>17.2</td>\n",
       "      <td>17.3</td>\n",
       "      <td>0.479</td>\n",
       "      <td>10.1</td>\n",
       "    </tr>\n",
       "    <tr>\n",
       "      <th>1</th>\n",
       "      <td>Afghanistan</td>\n",
       "      <td>2014</td>\n",
       "      <td>Developing</td>\n",
       "      <td>59.9</td>\n",
       "      <td>271.0</td>\n",
       "      <td>64</td>\n",
       "      <td>0.01</td>\n",
       "      <td>73.523582</td>\n",
       "      <td>62.0</td>\n",
       "      <td>492</td>\n",
       "      <td>...</td>\n",
       "      <td>58.0</td>\n",
       "      <td>8.18</td>\n",
       "      <td>62.0</td>\n",
       "      <td>0.1</td>\n",
       "      <td>612.696514</td>\n",
       "      <td>327582.0</td>\n",
       "      <td>17.5</td>\n",
       "      <td>17.5</td>\n",
       "      <td>0.476</td>\n",
       "      <td>10.0</td>\n",
       "    </tr>\n",
       "    <tr>\n",
       "      <th>2</th>\n",
       "      <td>Afghanistan</td>\n",
       "      <td>2013</td>\n",
       "      <td>Developing</td>\n",
       "      <td>59.9</td>\n",
       "      <td>268.0</td>\n",
       "      <td>66</td>\n",
       "      <td>0.01</td>\n",
       "      <td>73.219243</td>\n",
       "      <td>64.0</td>\n",
       "      <td>430</td>\n",
       "      <td>...</td>\n",
       "      <td>62.0</td>\n",
       "      <td>8.13</td>\n",
       "      <td>64.0</td>\n",
       "      <td>0.1</td>\n",
       "      <td>631.744976</td>\n",
       "      <td>31731688.0</td>\n",
       "      <td>17.7</td>\n",
       "      <td>17.7</td>\n",
       "      <td>0.470</td>\n",
       "      <td>9.9</td>\n",
       "    </tr>\n",
       "    <tr>\n",
       "      <th>3</th>\n",
       "      <td>Afghanistan</td>\n",
       "      <td>2012</td>\n",
       "      <td>Developing</td>\n",
       "      <td>59.5</td>\n",
       "      <td>272.0</td>\n",
       "      <td>69</td>\n",
       "      <td>0.01</td>\n",
       "      <td>78.184215</td>\n",
       "      <td>67.0</td>\n",
       "      <td>2787</td>\n",
       "      <td>...</td>\n",
       "      <td>67.0</td>\n",
       "      <td>8.52</td>\n",
       "      <td>67.0</td>\n",
       "      <td>0.1</td>\n",
       "      <td>669.959000</td>\n",
       "      <td>3696958.0</td>\n",
       "      <td>17.9</td>\n",
       "      <td>18.0</td>\n",
       "      <td>0.463</td>\n",
       "      <td>9.8</td>\n",
       "    </tr>\n",
       "    <tr>\n",
       "      <th>4</th>\n",
       "      <td>Afghanistan</td>\n",
       "      <td>2011</td>\n",
       "      <td>Developing</td>\n",
       "      <td>59.2</td>\n",
       "      <td>275.0</td>\n",
       "      <td>71</td>\n",
       "      <td>0.01</td>\n",
       "      <td>7.097109</td>\n",
       "      <td>68.0</td>\n",
       "      <td>3013</td>\n",
       "      <td>...</td>\n",
       "      <td>68.0</td>\n",
       "      <td>7.87</td>\n",
       "      <td>68.0</td>\n",
       "      <td>0.1</td>\n",
       "      <td>63.537231</td>\n",
       "      <td>2978599.0</td>\n",
       "      <td>18.2</td>\n",
       "      <td>18.2</td>\n",
       "      <td>0.454</td>\n",
       "      <td>9.5</td>\n",
       "    </tr>\n",
       "  </tbody>\n",
       "</table>\n",
       "<p>5 rows × 22 columns</p>\n",
       "</div>"
      ],
      "text/plain": [
       "       Country  Year      Status  Life expectancy   Adult Mortality  \\\n",
       "0  Afghanistan  2015  Developing              65.0            263.0   \n",
       "1  Afghanistan  2014  Developing              59.9            271.0   \n",
       "2  Afghanistan  2013  Developing              59.9            268.0   \n",
       "3  Afghanistan  2012  Developing              59.5            272.0   \n",
       "4  Afghanistan  2011  Developing              59.2            275.0   \n",
       "\n",
       "   infant deaths  Alcohol  percentage expenditure  Hepatitis B  Measles   ...  \\\n",
       "0             62     0.01               71.279624         65.0      1154  ...   \n",
       "1             64     0.01               73.523582         62.0       492  ...   \n",
       "2             66     0.01               73.219243         64.0       430  ...   \n",
       "3             69     0.01               78.184215         67.0      2787  ...   \n",
       "4             71     0.01                7.097109         68.0      3013  ...   \n",
       "\n",
       "   Polio  Total expenditure  Diphtheria    HIV/AIDS         GDP  Population  \\\n",
       "0    6.0               8.16         65.0        0.1  584.259210  33736494.0   \n",
       "1   58.0               8.18         62.0        0.1  612.696514    327582.0   \n",
       "2   62.0               8.13         64.0        0.1  631.744976  31731688.0   \n",
       "3   67.0               8.52         67.0        0.1  669.959000   3696958.0   \n",
       "4   68.0               7.87         68.0        0.1   63.537231   2978599.0   \n",
       "\n",
       "    thinness  1-19 years   thinness 5-9 years  \\\n",
       "0                   17.2                 17.3   \n",
       "1                   17.5                 17.5   \n",
       "2                   17.7                 17.7   \n",
       "3                   17.9                 18.0   \n",
       "4                   18.2                 18.2   \n",
       "\n",
       "   Income composition of resources  Schooling  \n",
       "0                            0.479       10.1  \n",
       "1                            0.476       10.0  \n",
       "2                            0.470        9.9  \n",
       "3                            0.463        9.8  \n",
       "4                            0.454        9.5  \n",
       "\n",
       "[5 rows x 22 columns]"
      ]
     },
     "execution_count": 2,
     "metadata": {},
     "output_type": "execute_result"
    }
   ],
   "source": [
    "life=pd.read_csv(\"C:/Users/dishi/OneDrive/Desktop/PYTHON DATASETS/life.csv\")\n",
    "life.head()"
   ]
  },
  {
   "cell_type": "code",
   "execution_count": 3,
   "id": "25a8e181-67d0-497e-a6ff-dc480d0e6fe7",
   "metadata": {},
   "outputs": [
    {
     "data": {
      "text/plain": [
       "array(['Afghanistan', 'Albania', 'Algeria', 'Angola',\n",
       "       'Antigua and Barbuda', 'Argentina', 'Armenia', 'Australia',\n",
       "       'Austria', 'Azerbaijan', 'Bahamas', 'Bahrain', 'Bangladesh',\n",
       "       'Barbados', 'Belarus', 'Belgium', 'Belize', 'Benin', 'Bhutan',\n",
       "       'Bolivia (Plurinational State of)', 'Bosnia and Herzegovina',\n",
       "       'Botswana', 'Brazil', 'Brunei Darussalam', 'Bulgaria',\n",
       "       'Burkina Faso', 'Burundi', \"Côte d'Ivoire\", 'Cabo Verde',\n",
       "       'Cambodia', 'Cameroon', 'Canada', 'Central African Republic',\n",
       "       'Chad', 'Chile', 'China', 'Colombia', 'Comoros', 'Congo',\n",
       "       'Costa Rica', 'Croatia', 'Cuba', 'Cyprus', 'Czechia',\n",
       "       \"Democratic People's Republic of Korea\",\n",
       "       'Democratic Republic of the Congo', 'Denmark', 'Djibouti',\n",
       "       'Dominican Republic', 'Ecuador', 'Egypt', 'El Salvador',\n",
       "       'Equatorial Guinea', 'Eritrea', 'Estonia', 'Ethiopia', 'Fiji',\n",
       "       'Finland', 'France', 'Gabon', 'Gambia', 'Georgia', 'Germany',\n",
       "       'Ghana', 'Greece', 'Grenada', 'Guatemala', 'Guinea',\n",
       "       'Guinea-Bissau', 'Guyana', 'Haiti', 'Honduras', 'Hungary',\n",
       "       'Iceland', 'India', 'Indonesia', 'Iran (Islamic Republic of)',\n",
       "       'Iraq', 'Ireland', 'Israel', 'Italy', 'Jamaica', 'Japan', 'Jordan',\n",
       "       'Kazakhstan', 'Kenya', 'Kiribati', 'Kuwait', 'Kyrgyzstan',\n",
       "       \"Lao People's Democratic Republic\", 'Latvia', 'Lebanon', 'Lesotho',\n",
       "       'Liberia', 'Libya', 'Lithuania', 'Luxembourg', 'Madagascar',\n",
       "       'Malawi', 'Malaysia', 'Maldives', 'Mali', 'Malta', 'Mauritania',\n",
       "       'Mauritius', 'Mexico', 'Micronesia (Federated States of)',\n",
       "       'Mongolia', 'Montenegro', 'Morocco', 'Mozambique', 'Myanmar',\n",
       "       'Namibia', 'Nepal', 'Netherlands', 'New Zealand', 'Nicaragua',\n",
       "       'Niger', 'Nigeria', 'Norway', 'Oman', 'Pakistan', 'Panama',\n",
       "       'Papua New Guinea', 'Paraguay', 'Peru', 'Philippines', 'Poland',\n",
       "       'Portugal', 'Qatar', 'Republic of Korea', 'Republic of Moldova',\n",
       "       'Romania', 'Russian Federation', 'Rwanda', 'Saint Lucia',\n",
       "       'Saint Vincent and the Grenadines', 'Samoa',\n",
       "       'Sao Tome and Principe', 'Saudi Arabia', 'Senegal', 'Serbia',\n",
       "       'Seychelles', 'Sierra Leone', 'Singapore', 'Slovakia', 'Slovenia',\n",
       "       'Solomon Islands', 'Somalia', 'South Africa', 'South Sudan',\n",
       "       'Spain', 'Sri Lanka', 'Sudan', 'Suriname', 'Swaziland', 'Sweden',\n",
       "       'Switzerland', 'Syrian Arab Republic', 'Tajikistan', 'Thailand',\n",
       "       'The former Yugoslav republic of Macedonia', 'Timor-Leste', 'Togo',\n",
       "       'Tonga', 'Trinidad and Tobago', 'Tunisia', 'Turkey',\n",
       "       'Turkmenistan', 'Uganda', 'Ukraine', 'United Arab Emirates',\n",
       "       'United Kingdom of Great Britain and Northern Ireland',\n",
       "       'United Republic of Tanzania', 'United States of America',\n",
       "       'Uruguay', 'Uzbekistan', 'Vanuatu',\n",
       "       'Venezuela (Bolivarian Republic of)', 'Viet Nam', 'Yemen',\n",
       "       'Zambia', 'Zimbabwe'], dtype=object)"
      ]
     },
     "execution_count": 3,
     "metadata": {},
     "output_type": "execute_result"
    }
   ],
   "source": [
    "d2015=life[ life['Year']==2015].copy()\n",
    "d2015.head() # the latest year the data is given for\n",
    "d2015['Country'].values"
   ]
  },
  {
   "cell_type": "code",
   "execution_count": 4,
   "id": "c3a465d4-ee7b-4334-a802-768d73357114",
   "metadata": {},
   "outputs": [
    {
     "data": {
      "text/html": [
       "<div>\n",
       "<style scoped>\n",
       "    .dataframe tbody tr th:only-of-type {\n",
       "        vertical-align: middle;\n",
       "    }\n",
       "\n",
       "    .dataframe tbody tr th {\n",
       "        vertical-align: top;\n",
       "    }\n",
       "\n",
       "    .dataframe thead th {\n",
       "        text-align: right;\n",
       "    }\n",
       "</style>\n",
       "<table border=\"1\" class=\"dataframe\">\n",
       "  <thead>\n",
       "    <tr style=\"text-align: right;\">\n",
       "      <th></th>\n",
       "      <th>Country</th>\n",
       "      <th>Year</th>\n",
       "      <th>Status</th>\n",
       "      <th>Life expectancy</th>\n",
       "      <th>Adult Mortality</th>\n",
       "      <th>infant deaths</th>\n",
       "      <th>Alcohol</th>\n",
       "      <th>percentage expenditure</th>\n",
       "      <th>Hepatitis B</th>\n",
       "      <th>Measles</th>\n",
       "      <th>...</th>\n",
       "      <th>Total expenditure</th>\n",
       "      <th>Diphtheria</th>\n",
       "      <th>HIV/AIDS</th>\n",
       "      <th>GDP</th>\n",
       "      <th>Population</th>\n",
       "      <th>thinness  1-19 years</th>\n",
       "      <th>thinness 5-9 years</th>\n",
       "      <th>Income composition of resources</th>\n",
       "      <th>Schooling</th>\n",
       "      <th>codes</th>\n",
       "    </tr>\n",
       "  </thead>\n",
       "  <tbody>\n",
       "    <tr>\n",
       "      <th>2858</th>\n",
       "      <td>Venezuela (Bolivarian Republic of)</td>\n",
       "      <td>2015</td>\n",
       "      <td>Developing</td>\n",
       "      <td>74.1</td>\n",
       "      <td>157.0</td>\n",
       "      <td>9</td>\n",
       "      <td>NaN</td>\n",
       "      <td>0.0</td>\n",
       "      <td>87.0</td>\n",
       "      <td>0</td>\n",
       "      <td>...</td>\n",
       "      <td>NaN</td>\n",
       "      <td>87.0</td>\n",
       "      <td>0.1</td>\n",
       "      <td>NaN</td>\n",
       "      <td>NaN</td>\n",
       "      <td>1.6</td>\n",
       "      <td>1.5</td>\n",
       "      <td>0.769</td>\n",
       "      <td>14.3</td>\n",
       "      <td>NaN</td>\n",
       "    </tr>\n",
       "    <tr>\n",
       "      <th>2874</th>\n",
       "      <td>Viet Nam</td>\n",
       "      <td>2015</td>\n",
       "      <td>Developing</td>\n",
       "      <td>76.0</td>\n",
       "      <td>127.0</td>\n",
       "      <td>28</td>\n",
       "      <td>NaN</td>\n",
       "      <td>0.0</td>\n",
       "      <td>97.0</td>\n",
       "      <td>256</td>\n",
       "      <td>...</td>\n",
       "      <td>NaN</td>\n",
       "      <td>97.0</td>\n",
       "      <td>0.1</td>\n",
       "      <td>NaN</td>\n",
       "      <td>NaN</td>\n",
       "      <td>14.2</td>\n",
       "      <td>14.5</td>\n",
       "      <td>0.678</td>\n",
       "      <td>12.6</td>\n",
       "      <td>VNM</td>\n",
       "    </tr>\n",
       "    <tr>\n",
       "      <th>2890</th>\n",
       "      <td>Yemen</td>\n",
       "      <td>2015</td>\n",
       "      <td>Developing</td>\n",
       "      <td>65.7</td>\n",
       "      <td>224.0</td>\n",
       "      <td>37</td>\n",
       "      <td>NaN</td>\n",
       "      <td>0.0</td>\n",
       "      <td>69.0</td>\n",
       "      <td>468</td>\n",
       "      <td>...</td>\n",
       "      <td>NaN</td>\n",
       "      <td>69.0</td>\n",
       "      <td>0.1</td>\n",
       "      <td>NaN</td>\n",
       "      <td>NaN</td>\n",
       "      <td>13.6</td>\n",
       "      <td>13.4</td>\n",
       "      <td>0.499</td>\n",
       "      <td>9.0</td>\n",
       "      <td>YEM</td>\n",
       "    </tr>\n",
       "    <tr>\n",
       "      <th>2906</th>\n",
       "      <td>Zambia</td>\n",
       "      <td>2015</td>\n",
       "      <td>Developing</td>\n",
       "      <td>61.8</td>\n",
       "      <td>33.0</td>\n",
       "      <td>27</td>\n",
       "      <td>NaN</td>\n",
       "      <td>0.0</td>\n",
       "      <td>9.0</td>\n",
       "      <td>9</td>\n",
       "      <td>...</td>\n",
       "      <td>NaN</td>\n",
       "      <td>9.0</td>\n",
       "      <td>4.1</td>\n",
       "      <td>1313.889646</td>\n",
       "      <td>161587.0</td>\n",
       "      <td>6.3</td>\n",
       "      <td>6.1</td>\n",
       "      <td>0.576</td>\n",
       "      <td>12.5</td>\n",
       "      <td>ZMB</td>\n",
       "    </tr>\n",
       "    <tr>\n",
       "      <th>2922</th>\n",
       "      <td>Zimbabwe</td>\n",
       "      <td>2015</td>\n",
       "      <td>Developing</td>\n",
       "      <td>67.0</td>\n",
       "      <td>336.0</td>\n",
       "      <td>22</td>\n",
       "      <td>NaN</td>\n",
       "      <td>0.0</td>\n",
       "      <td>87.0</td>\n",
       "      <td>0</td>\n",
       "      <td>...</td>\n",
       "      <td>NaN</td>\n",
       "      <td>87.0</td>\n",
       "      <td>6.2</td>\n",
       "      <td>118.693830</td>\n",
       "      <td>15777451.0</td>\n",
       "      <td>5.6</td>\n",
       "      <td>5.5</td>\n",
       "      <td>0.507</td>\n",
       "      <td>10.3</td>\n",
       "      <td>ZWE</td>\n",
       "    </tr>\n",
       "  </tbody>\n",
       "</table>\n",
       "<p>5 rows × 23 columns</p>\n",
       "</div>"
      ],
      "text/plain": [
       "                                 Country  Year      Status  Life expectancy   \\\n",
       "2858  Venezuela (Bolivarian Republic of)  2015  Developing              74.1   \n",
       "2874                            Viet Nam  2015  Developing              76.0   \n",
       "2890                               Yemen  2015  Developing              65.7   \n",
       "2906                              Zambia  2015  Developing              61.8   \n",
       "2922                            Zimbabwe  2015  Developing              67.0   \n",
       "\n",
       "      Adult Mortality  infant deaths  Alcohol  percentage expenditure  \\\n",
       "2858            157.0              9      NaN                     0.0   \n",
       "2874            127.0             28      NaN                     0.0   \n",
       "2890            224.0             37      NaN                     0.0   \n",
       "2906             33.0             27      NaN                     0.0   \n",
       "2922            336.0             22      NaN                     0.0   \n",
       "\n",
       "      Hepatitis B  Measles   ...  Total expenditure  Diphtheria    HIV/AIDS  \\\n",
       "2858         87.0         0  ...                NaN         87.0        0.1   \n",
       "2874         97.0       256  ...                NaN         97.0        0.1   \n",
       "2890         69.0       468  ...                NaN         69.0        0.1   \n",
       "2906          9.0         9  ...                NaN          9.0        4.1   \n",
       "2922         87.0         0  ...                NaN         87.0        6.2   \n",
       "\n",
       "              GDP  Population   thinness  1-19 years   thinness 5-9 years  \\\n",
       "2858          NaN         NaN                    1.6                  1.5   \n",
       "2874          NaN         NaN                   14.2                 14.5   \n",
       "2890          NaN         NaN                   13.6                 13.4   \n",
       "2906  1313.889646    161587.0                    6.3                  6.1   \n",
       "2922   118.693830  15777451.0                    5.6                  5.5   \n",
       "\n",
       "      Income composition of resources  Schooling  codes  \n",
       "2858                            0.769       14.3    NaN  \n",
       "2874                            0.678       12.6    VNM  \n",
       "2890                            0.499        9.0    YEM  \n",
       "2906                            0.576       12.5    ZMB  \n",
       "2922                            0.507       10.3    ZWE  \n",
       "\n",
       "[5 rows x 23 columns]"
      ]
     },
     "execution_count": 4,
     "metadata": {},
     "output_type": "execute_result"
    }
   ],
   "source": [
    "life.head()\n",
    "codes=['AFG', 'ALB', 'DZA', 'AGO', 'ATG', 'ARG', 'ARM', 'AUS', 'AUT', 'AZE',\n",
    " 'BHS', 'BHR', 'BGD', 'BRB', 'BLR', 'BEL', 'BLZ', 'BEN', 'BTN', np.nan,\n",
    " 'BIH', 'BWA', 'BRA', 'BRN', 'BGR', 'BFA', 'BDI', 'CIV', 'CPV', 'KHM',\n",
    " 'CMR', 'CAN', 'CAF', 'TCD', 'CHL', 'CHN', 'COL', 'COM', 'COG', 'CRI',\n",
    " 'HRV', 'CUB', 'CYP', 'CZE', 'PRK', np.nan, 'DNK', 'DJI', 'DOM', 'ECU',\n",
    " 'EGY', 'SLV', 'GNQ', 'ERI', 'EST', 'ETH', 'FJI', 'FIN', 'FRA', 'GAB',\n",
    " 'GMB', 'GEO', 'DEU', 'GHA', 'GRC', 'GRD', 'GTM', 'GIN', 'GNB', 'GUY',\n",
    " 'HTI', 'HND', 'HUN', 'ISL', 'IND', 'IDN', np.nan, 'IRQ', 'IRL', 'ISR',\n",
    " 'ITA', 'JAM', 'JPN', 'JOR', 'KAZ', 'KEN', 'KIR', 'KWT', 'KGZ', 'LAO',\n",
    " 'LVA', 'LBN', 'LSO', 'LBR', 'LBY', 'LTU', 'LUX', 'MDG', 'MWI', 'MYS',\n",
    " 'MDV', 'MLI', 'MLT', 'MRT', 'MUS', 'MEX', np.nan, 'MNG', 'MNE', 'MAR',\n",
    " 'MOZ', 'MMR', 'NAM', 'NPL', 'NLD', 'NZL', 'NIC', 'NER', 'NGA', 'NOR',\n",
    " 'OMN', 'PAK', 'PAN', 'PNG', 'PRY', 'PER', 'PHL', 'POL', 'PRT', 'QAT',\n",
    " np.nan, 'MDA', 'ROU', 'RUS', 'RWA', 'LCA', 'VCT', 'WSM', 'STP', 'SAU',\n",
    " 'SEN', 'SRB', 'SYC', 'SLE', 'SGP', 'SVK', 'SVN', 'SLB', 'SOM', 'ZAF',\n",
    " 'SSD', 'ESP', 'LKA', 'SDN', 'SUR', np.nan, 'SWE', 'CHE', 'SYR', 'TJK',\n",
    " 'THA', np.nan, 'TLS', 'TGO', 'TON', 'TTO', 'TUN', 'TUR', 'TKM', 'UGA',\n",
    " 'UKR', 'ARE', 'GBR', 'TZA', 'USA', 'URY', 'UZB', 'VUT', np.nan, 'VNM',\n",
    " 'YEM', 'ZMB', 'ZWE']\n",
    "d2015['codes']=codes\n",
    "d2015.tail()"
   ]
  },
  {
   "cell_type": "code",
   "execution_count": 5,
   "id": "9db6ba23-deea-4671-9e99-aba6906c575d",
   "metadata": {},
   "outputs": [
    {
     "data": {
      "application/vnd.plotly.v1+json": {
       "config": {
        "plotlyServerURL": "https://plot.ly"
       },
       "data": [
        {
         "coloraxis": "coloraxis",
         "geo": "geo",
         "hovertemplate": "<b>%{hovertext}</b><br><br>codes=%{location}<br>Life expectancy =%{z}<extra></extra>",
         "hovertext": [
          "Afghanistan",
          "Albania",
          "Algeria",
          "Angola",
          "Antigua and Barbuda",
          "Argentina",
          "Armenia",
          "Australia",
          "Austria",
          "Azerbaijan",
          "Bahamas",
          "Bahrain",
          "Bangladesh",
          "Barbados",
          "Belarus",
          "Belgium",
          "Belize",
          "Benin",
          "Bhutan",
          "Bolivia (Plurinational State of)",
          "Bosnia and Herzegovina",
          "Botswana",
          "Brazil",
          "Brunei Darussalam",
          "Bulgaria",
          "Burkina Faso",
          "Burundi",
          "Côte d'Ivoire",
          "Cabo Verde",
          "Cambodia",
          "Cameroon",
          "Canada",
          "Central African Republic",
          "Chad",
          "Chile",
          "China",
          "Colombia",
          "Comoros",
          "Congo",
          "Costa Rica",
          "Croatia",
          "Cuba",
          "Cyprus",
          "Czechia",
          "Democratic People's Republic of Korea",
          "Democratic Republic of the Congo",
          "Denmark",
          "Djibouti",
          "Dominican Republic",
          "Ecuador",
          "Egypt",
          "El Salvador",
          "Equatorial Guinea",
          "Eritrea",
          "Estonia",
          "Ethiopia",
          "Fiji",
          "Finland",
          "France",
          "Gabon",
          "Gambia",
          "Georgia",
          "Germany",
          "Ghana",
          "Greece",
          "Grenada",
          "Guatemala",
          "Guinea",
          "Guinea-Bissau",
          "Guyana",
          "Haiti",
          "Honduras",
          "Hungary",
          "Iceland",
          "India",
          "Indonesia",
          "Iran (Islamic Republic of)",
          "Iraq",
          "Ireland",
          "Israel",
          "Italy",
          "Jamaica",
          "Japan",
          "Jordan",
          "Kazakhstan",
          "Kenya",
          "Kiribati",
          "Kuwait",
          "Kyrgyzstan",
          "Lao People's Democratic Republic",
          "Latvia",
          "Lebanon",
          "Lesotho",
          "Liberia",
          "Libya",
          "Lithuania",
          "Luxembourg",
          "Madagascar",
          "Malawi",
          "Malaysia",
          "Maldives",
          "Mali",
          "Malta",
          "Mauritania",
          "Mauritius",
          "Mexico",
          "Micronesia (Federated States of)",
          "Mongolia",
          "Montenegro",
          "Morocco",
          "Mozambique",
          "Myanmar",
          "Namibia",
          "Nepal",
          "Netherlands",
          "New Zealand",
          "Nicaragua",
          "Niger",
          "Nigeria",
          "Norway",
          "Oman",
          "Pakistan",
          "Panama",
          "Papua New Guinea",
          "Paraguay",
          "Peru",
          "Philippines",
          "Poland",
          "Portugal",
          "Qatar",
          "Republic of Korea",
          "Republic of Moldova",
          "Romania",
          "Russian Federation",
          "Rwanda",
          "Saint Lucia",
          "Saint Vincent and the Grenadines",
          "Samoa",
          "Sao Tome and Principe",
          "Saudi Arabia",
          "Senegal",
          "Serbia",
          "Seychelles",
          "Sierra Leone",
          "Singapore",
          "Slovakia",
          "Slovenia",
          "Solomon Islands",
          "Somalia",
          "South Africa",
          "South Sudan",
          "Spain",
          "Sri Lanka",
          "Sudan",
          "Suriname",
          "Swaziland",
          "Sweden",
          "Switzerland",
          "Syrian Arab Republic",
          "Tajikistan",
          "Thailand",
          "The former Yugoslav republic of Macedonia",
          "Timor-Leste",
          "Togo",
          "Tonga",
          "Trinidad and Tobago",
          "Tunisia",
          "Turkey",
          "Turkmenistan",
          "Uganda",
          "Ukraine",
          "United Arab Emirates",
          "United Kingdom of Great Britain and Northern Ireland",
          "United Republic of Tanzania",
          "United States of America",
          "Uruguay",
          "Uzbekistan",
          "Vanuatu",
          "Venezuela (Bolivarian Republic of)",
          "Viet Nam",
          "Yemen",
          "Zambia",
          "Zimbabwe"
         ],
         "locations": [
          "AFG",
          "ALB",
          "DZA",
          "AGO",
          "ATG",
          "ARG",
          "ARM",
          "AUS",
          "AUT",
          "AZE",
          "BHS",
          "BHR",
          "BGD",
          "BRB",
          "BLR",
          "BEL",
          "BLZ",
          "BEN",
          "BTN",
          null,
          "BIH",
          "BWA",
          "BRA",
          "BRN",
          "BGR",
          "BFA",
          "BDI",
          "CIV",
          "CPV",
          "KHM",
          "CMR",
          "CAN",
          "CAF",
          "TCD",
          "CHL",
          "CHN",
          "COL",
          "COM",
          "COG",
          "CRI",
          "HRV",
          "CUB",
          "CYP",
          "CZE",
          "PRK",
          null,
          "DNK",
          "DJI",
          "DOM",
          "ECU",
          "EGY",
          "SLV",
          "GNQ",
          "ERI",
          "EST",
          "ETH",
          "FJI",
          "FIN",
          "FRA",
          "GAB",
          "GMB",
          "GEO",
          "DEU",
          "GHA",
          "GRC",
          "GRD",
          "GTM",
          "GIN",
          "GNB",
          "GUY",
          "HTI",
          "HND",
          "HUN",
          "ISL",
          "IND",
          "IDN",
          null,
          "IRQ",
          "IRL",
          "ISR",
          "ITA",
          "JAM",
          "JPN",
          "JOR",
          "KAZ",
          "KEN",
          "KIR",
          "KWT",
          "KGZ",
          "LAO",
          "LVA",
          "LBN",
          "LSO",
          "LBR",
          "LBY",
          "LTU",
          "LUX",
          "MDG",
          "MWI",
          "MYS",
          "MDV",
          "MLI",
          "MLT",
          "MRT",
          "MUS",
          "MEX",
          null,
          "MNG",
          "MNE",
          "MAR",
          "MOZ",
          "MMR",
          "NAM",
          "NPL",
          "NLD",
          "NZL",
          "NIC",
          "NER",
          "NGA",
          "NOR",
          "OMN",
          "PAK",
          "PAN",
          "PNG",
          "PRY",
          "PER",
          "PHL",
          "POL",
          "PRT",
          "QAT",
          null,
          "MDA",
          "ROU",
          "RUS",
          "RWA",
          "LCA",
          "VCT",
          "WSM",
          "STP",
          "SAU",
          "SEN",
          "SRB",
          "SYC",
          "SLE",
          "SGP",
          "SVK",
          "SVN",
          "SLB",
          "SOM",
          "ZAF",
          "SSD",
          "ESP",
          "LKA",
          "SDN",
          "SUR",
          null,
          "SWE",
          "CHE",
          "SYR",
          "TJK",
          "THA",
          null,
          "TLS",
          "TGO",
          "TON",
          "TTO",
          "TUN",
          "TUR",
          "TKM",
          "UGA",
          "UKR",
          "ARE",
          "GBR",
          "TZA",
          "USA",
          "URY",
          "UZB",
          "VUT",
          null,
          "VNM",
          "YEM",
          "ZMB",
          "ZWE"
         ],
         "name": "",
         "type": "choropleth",
         "z": {
          "_inputArray": {
           "0": 65,
           "1": 77.8,
           "10": 76.1,
           "100": 78.5,
           "101": 58.2,
           "102": 81.7,
           "103": 63.1,
           "104": 74.6,
           "105": 76.7,
           "106": 69.4,
           "107": 68.8,
           "108": 76.1,
           "109": 74.3,
           "11": 76.9,
           "110": 57.6,
           "111": 66.6,
           "112": 65.8,
           "113": 69.2,
           "114": 81.9,
           "115": 81.6,
           "116": 74.8,
           "117": 61.8,
           "118": 54.5,
           "119": 81.8,
           "12": 71.8,
           "120": 76.6,
           "121": 66.4,
           "122": 77.8,
           "123": 62.9,
           "124": 74,
           "125": 75.5,
           "126": 68.5,
           "127": 77.5,
           "128": 81.1,
           "129": 78.2,
           "13": 75.5,
           "130": 82.3,
           "131": 72.1,
           "132": 75,
           "133": 75,
           "134": 66.1,
           "135": 75.2,
           "136": 73.2,
           "137": 74,
           "138": 67.5,
           "139": 74.5,
           "14": 72.3,
           "140": 66.7,
           "141": 75.6,
           "142": 73.2,
           "143": 51,
           "144": 83.1,
           "145": 76.7,
           "146": 88,
           "147": 69.2,
           "148": 55,
           "149": 62.9,
           "15": 81.1,
           "150": 57.3,
           "151": 82.8,
           "152": 74.9,
           "153": 64.1,
           "154": 71.6,
           "155": 58.9,
           "156": 82.4,
           "157": 83.4,
           "158": 64.5,
           "159": 69.7,
           "16": 71,
           "160": 74.9,
           "161": 75.7,
           "162": 68.3,
           "163": 59.9,
           "164": 73.5,
           "165": 71.2,
           "166": 75.3,
           "167": 75.8,
           "168": 66.3,
           "169": 62.3,
           "17": 60,
           "170": 71.3,
           "171": 77.1,
           "172": 81.2,
           "173": 61.8,
           "174": 79.3,
           "175": 77,
           "176": 69.4,
           "177": 72,
           "178": 74.1,
           "179": 76,
           "18": 69.8,
           "180": 65.7,
           "181": 61.8,
           "182": 67,
           "19": 77,
           "2": 75.6,
           "20": 77.4,
           "21": 65.7,
           "22": 75,
           "23": 77.7,
           "24": 74.5,
           "25": 59.9,
           "26": 59.6,
           "27": 53.3,
           "28": 73.3,
           "29": 68.7,
           "3": 52.4,
           "30": 57.3,
           "31": 82.2,
           "32": 52.5,
           "33": 53.1,
           "34": 85,
           "35": 76.1,
           "36": 74.8,
           "37": 63.5,
           "38": 64.7,
           "39": 79.6,
           "4": 76.4,
           "40": 78,
           "41": 79.1,
           "42": 85,
           "43": 78.8,
           "44": 76,
           "45": 59.8,
           "46": 86,
           "47": 63.5,
           "48": 73.9,
           "49": 76.2,
           "5": 76.3,
           "50": 79,
           "51": 73.5,
           "52": 58.2,
           "53": 64.7,
           "54": 77.6,
           "55": 64.8,
           "56": 69.9,
           "57": 81.1,
           "58": 82.4,
           "59": 66,
           "6": 74.8,
           "60": 61.1,
           "61": 74.4,
           "62": 81,
           "63": 62.4,
           "64": 81,
           "65": 73.6,
           "66": 71.9,
           "67": 59,
           "68": 58.9,
           "69": 66.2,
           "7": 82.8,
           "70": 63.5,
           "71": 74.6,
           "72": 75.8,
           "73": 82.7,
           "74": 68.3,
           "75": 69.1,
           "76": 75.5,
           "77": 68.9,
           "78": 81.4,
           "79": 82.5,
           "8": 81.5,
           "80": 82.7,
           "81": 76.2,
           "82": 83.7,
           "83": 74.1,
           "84": 72,
           "85": 63.4,
           "86": 66.3,
           "87": 74.7,
           "88": 71.1,
           "89": 65.7,
           "9": 72.7,
           "90": 74.6,
           "91": 74.9,
           "92": 53.7,
           "93": 61.4,
           "94": 72.7,
           "95": 73.6,
           "96": 82,
           "97": 65.5,
           "98": 58.3,
           "99": 75,
           "bdata": "AAAAAABAUEAzMzMzM3NTQGZmZmZm5lJAMzMzMzMzSkCamZmZmRlTQDMzMzMzE1NAMzMzMzOzUkAzMzMzM7NUQAAAAAAAYFRAzczMzMwsUkBmZmZmZgZTQJqZmZmZOVNAMzMzMzPzUUAAAAAAAOBSQDMzMzMzE1JAZmZmZmZGVEAAAAAAAMBRQAAAAAAAAE5AMzMzMzNzUUAAAAAAAEBTQJqZmZmZWVNAzczMzMxsUEAAAAAAAMBSQM3MzMzMbFNAAAAAAACgUkAzMzMzM/NNQM3MzMzMzE1AZmZmZmamSkAzMzMzM1NSQM3MzMzMLFFAZmZmZmamTEDNzMzMzIxUQAAAAAAAQEpAzczMzMyMSkAAAAAAAEBVQGZmZmZmBlNAMzMzMzOzUkAAAAAAAMBPQM3MzMzMLFBAZmZmZmbmU0AAAAAAAIBTQGZmZmZmxlNAAAAAAABAVUAzMzMzM7NTQAAAAAAAAFNAZmZmZmbmTUAAAAAAAIBVQAAAAAAAwE9AmpmZmZl5UkDNzMzMzAxTQAAAAAAAwFNAAAAAAABgUkCamZmZmRlNQM3MzMzMLFBAZmZmZmZmU0AzMzMzMzNQQJqZmZmZeVFAZmZmZmZGVECamZmZmZlUQAAAAAAAgFBAzczMzMyMTkCamZmZmZlSQAAAAAAAQFRAMzMzMzMzT0AAAAAAAEBUQGZmZmZmZlJAmpmZmZn5UUAAAAAAAIBNQDMzMzMzc01AzczMzMyMUEAAAAAAAMBPQGZmZmZmplJAMzMzMzPzUkDNzMzMzKxUQDMzMzMzE1FAZmZmZmZGUUAAAAAAAOBSQJqZmZmZOVFAmpmZmZlZVEAAAAAAAKBUQM3MzMzMrFRAzczMzMwMU0DNzMzMzOxUQGZmZmZmhlJAAAAAAAAAUkAzMzMzM7NPQDMzMzMzk1BAzczMzMysUkBmZmZmZsZRQM3MzMzMbFBAZmZmZmamUkCamZmZmblSQJqZmZmZ2UpAMzMzMzOzTkDNzMzMzCxSQGZmZmZmZlJAAAAAAACAVEAAAAAAAGBQQGZmZmZmJk1AAAAAAADAUkAAAAAAAKBTQJqZmZmZGU1AzczMzMxsVEDNzMzMzIxPQGZmZmZmplJAzczMzMwsU0CamZmZmVlRQDMzMzMzM1FAZmZmZmYGU0AzMzMzM5NSQM3MzMzMzExAZmZmZmamUEAzMzMzM3NQQM3MzMzMTFFAmpmZmZl5VEBmZmZmZmZUQDMzMzMzs1JAZmZmZmbmTkAAAAAAAEBLQDMzMzMzc1RAZmZmZmYmU0CamZmZmZlQQDMzMzMzc1NAMzMzMzNzT0AAAAAAAIBSQAAAAAAA4FJAAAAAAAAgUUAAAAAAAGBTQGZmZmZmRlRAzczMzMyMU0AzMzMzM5NUQGZmZmZmBlJAAAAAAADAUkAAAAAAAMBSQGZmZmZmhlBAzczMzMzMUkDNzMzMzExSQAAAAAAAgFJAAAAAAADgUEAAAAAAAKBSQM3MzMzMrFBAZmZmZmbmUkDNzMzMzExSQAAAAAAAgElAZmZmZmbGVEDNzMzMzCxTQAAAAAAAAFZAzczMzMxMUUAAAAAAAIBLQDMzMzMzc09AZmZmZmamTEAzMzMzM7NUQJqZmZmZuVJAZmZmZmYGUEBmZmZmZuZRQDMzMzMzc01AmpmZmZmZVECamZmZmdlUQAAAAAAAIFBAzczMzMxsUUCamZmZmblSQM3MzMzM7FJAMzMzMzMTUUAzMzMzM/NNQAAAAAAAYFJAzczMzMzMUUAzMzMzM9NSQDMzMzMz81JAMzMzMzOTUEBmZmZmZiZPQDMzMzMz01FAZmZmZmZGU0DNzMzMzExUQGZmZmZm5k5AMzMzMzPTU0AAAAAAAEBTQJqZmZmZWVFAAAAAAAAAUkBmZmZmZoZSQAAAAAAAAFNAzczMzMxsUEBmZmZmZuZOQAAAAAAAwFBA",
           "dtype": "f8",
           "shape": "183"
          },
          "bdata": "AAAAAABAUEAzMzMzM3NTQGZmZmZm5lJAMzMzMzMzSkCamZmZmRlTQDMzMzMzE1NAMzMzMzOzUkAzMzMzM7NUQAAAAAAAYFRAzczMzMwsUkBmZmZmZgZTQJqZmZmZOVNAMzMzMzPzUUAAAAAAAOBSQDMzMzMzE1JAZmZmZmZGVEAAAAAAAMBRQAAAAAAAAE5AMzMzMzNzUUAAAAAAAEBTQJqZmZmZWVNAzczMzMxsUEAAAAAAAMBSQM3MzMzMbFNAAAAAAACgUkAzMzMzM/NNQM3MzMzMzE1AZmZmZmamSkAzMzMzM1NSQM3MzMzMLFFAZmZmZmamTEDNzMzMzIxUQAAAAAAAQEpAzczMzMyMSkAAAAAAAEBVQGZmZmZmBlNAMzMzMzOzUkAAAAAAAMBPQM3MzMzMLFBAZmZmZmbmU0AAAAAAAIBTQGZmZmZmxlNAAAAAAABAVUAzMzMzM7NTQAAAAAAAAFNAZmZmZmbmTUAAAAAAAIBVQAAAAAAAwE9AmpmZmZl5UkDNzMzMzAxTQAAAAAAAwFNAAAAAAABgUkCamZmZmRlNQM3MzMzMLFBAZmZmZmZmU0AzMzMzMzNQQJqZmZmZeVFAZmZmZmZGVECamZmZmZlUQAAAAAAAgFBAzczMzMyMTkCamZmZmZlSQAAAAAAAQFRAMzMzMzMzT0AAAAAAAEBUQGZmZmZmZlJAmpmZmZn5UUAAAAAAAIBNQDMzMzMzc01AzczMzMyMUEAAAAAAAMBPQGZmZmZmplJAMzMzMzPzUkDNzMzMzKxUQDMzMzMzE1FAZmZmZmZGUUAAAAAAAOBSQJqZmZmZOVFAmpmZmZlZVEAAAAAAAKBUQM3MzMzMrFRAzczMzMwMU0DNzMzMzOxUQGZmZmZmhlJAAAAAAAAAUkAzMzMzM7NPQDMzMzMzk1BAzczMzMysUkBmZmZmZsZRQM3MzMzMbFBAZmZmZmamUkCamZmZmblSQJqZmZmZ2UpAMzMzMzOzTkDNzMzMzCxSQGZmZmZmZlJAAAAAAACAVEAAAAAAAGBQQGZmZmZmJk1AAAAAAADAUkAAAAAAAKBTQJqZmZmZGU1AzczMzMxsVEDNzMzMzIxPQGZmZmZmplJAzczMzMwsU0CamZmZmVlRQDMzMzMzM1FAZmZmZmYGU0AzMzMzM5NSQM3MzMzMzExAZmZmZmamUEAzMzMzM3NQQM3MzMzMTFFAmpmZmZl5VEBmZmZmZmZUQDMzMzMzs1JAZmZmZmbmTkAAAAAAAEBLQDMzMzMzc1RAZmZmZmYmU0CamZmZmZlQQDMzMzMzc1NAMzMzMzNzT0AAAAAAAIBSQAAAAAAA4FJAAAAAAAAgUUAAAAAAAGBTQGZmZmZmRlRAzczMzMyMU0AzMzMzM5NUQGZmZmZmBlJAAAAAAADAUkAAAAAAAMBSQGZmZmZmhlBAzczMzMzMUkDNzMzMzExSQAAAAAAAgFJAAAAAAADgUEAAAAAAAKBSQM3MzMzMrFBAZmZmZmbmUkDNzMzMzExSQAAAAAAAgElAZmZmZmbGVEDNzMzMzCxTQAAAAAAAAFZAzczMzMxMUUAAAAAAAIBLQDMzMzMzc09AZmZmZmamTEAzMzMzM7NUQJqZmZmZuVJAZmZmZmYGUEBmZmZmZuZRQDMzMzMzc01AmpmZmZmZVECamZmZmdlUQAAAAAAAIFBAzczMzMxsUUCamZmZmblSQM3MzMzM7FJAMzMzMzMTUUAzMzMzM/NNQAAAAAAAYFJAzczMzMzMUUAzMzMzM9NSQDMzMzMz81JAMzMzMzOTUEBmZmZmZiZPQDMzMzMz01FAZmZmZmZGU0DNzMzMzExUQGZmZmZm5k5AMzMzMzPTU0AAAAAAAEBTQJqZmZmZWVFAAAAAAAAAUkBmZmZmZoZSQAAAAAAAAFNAzczMzMxsUEBmZmZmZuZOQAAAAAAAwFBA",
          "dtype": "f8"
         }
        }
       ],
       "layout": {
        "coloraxis": {
         "colorbar": {
          "title": {
           "text": "Life expectancy "
          }
         },
         "colorscale": [
          [
           0,
           "#440154"
          ],
          [
           0.1111111111111111,
           "#482878"
          ],
          [
           0.2222222222222222,
           "#3e4989"
          ],
          [
           0.3333333333333333,
           "#31688e"
          ],
          [
           0.4444444444444444,
           "#26828e"
          ],
          [
           0.5555555555555556,
           "#1f9e89"
          ],
          [
           0.6666666666666666,
           "#35b779"
          ],
          [
           0.7777777777777778,
           "#6ece58"
          ],
          [
           0.8888888888888888,
           "#b5de2b"
          ],
          [
           1,
           "#fde725"
          ]
         ]
        },
        "geo": {
         "center": {},
         "domain": {
          "x": [
           0,
           1
          ],
          "y": [
           0,
           1
          ]
         },
         "projection": {
          "type": "robinson"
         }
        },
        "height": 400,
        "legend": {
         "tracegroupgap": 0
        },
        "template": {
         "data": {
          "bar": [
           {
            "error_x": {
             "color": "#2a3f5f"
            },
            "error_y": {
             "color": "#2a3f5f"
            },
            "marker": {
             "line": {
              "color": "#E5ECF6",
              "width": 0.5
             },
             "pattern": {
              "fillmode": "overlay",
              "size": 10,
              "solidity": 0.2
             }
            },
            "type": "bar"
           }
          ],
          "barpolar": [
           {
            "marker": {
             "line": {
              "color": "#E5ECF6",
              "width": 0.5
             },
             "pattern": {
              "fillmode": "overlay",
              "size": 10,
              "solidity": 0.2
             }
            },
            "type": "barpolar"
           }
          ],
          "carpet": [
           {
            "aaxis": {
             "endlinecolor": "#2a3f5f",
             "gridcolor": "white",
             "linecolor": "white",
             "minorgridcolor": "white",
             "startlinecolor": "#2a3f5f"
            },
            "baxis": {
             "endlinecolor": "#2a3f5f",
             "gridcolor": "white",
             "linecolor": "white",
             "minorgridcolor": "white",
             "startlinecolor": "#2a3f5f"
            },
            "type": "carpet"
           }
          ],
          "choropleth": [
           {
            "colorbar": {
             "outlinewidth": 0,
             "ticks": ""
            },
            "type": "choropleth"
           }
          ],
          "contour": [
           {
            "colorbar": {
             "outlinewidth": 0,
             "ticks": ""
            },
            "colorscale": [
             [
              0,
              "#0d0887"
             ],
             [
              0.1111111111111111,
              "#46039f"
             ],
             [
              0.2222222222222222,
              "#7201a8"
             ],
             [
              0.3333333333333333,
              "#9c179e"
             ],
             [
              0.4444444444444444,
              "#bd3786"
             ],
             [
              0.5555555555555556,
              "#d8576b"
             ],
             [
              0.6666666666666666,
              "#ed7953"
             ],
             [
              0.7777777777777778,
              "#fb9f3a"
             ],
             [
              0.8888888888888888,
              "#fdca26"
             ],
             [
              1,
              "#f0f921"
             ]
            ],
            "type": "contour"
           }
          ],
          "contourcarpet": [
           {
            "colorbar": {
             "outlinewidth": 0,
             "ticks": ""
            },
            "type": "contourcarpet"
           }
          ],
          "heatmap": [
           {
            "colorbar": {
             "outlinewidth": 0,
             "ticks": ""
            },
            "colorscale": [
             [
              0,
              "#0d0887"
             ],
             [
              0.1111111111111111,
              "#46039f"
             ],
             [
              0.2222222222222222,
              "#7201a8"
             ],
             [
              0.3333333333333333,
              "#9c179e"
             ],
             [
              0.4444444444444444,
              "#bd3786"
             ],
             [
              0.5555555555555556,
              "#d8576b"
             ],
             [
              0.6666666666666666,
              "#ed7953"
             ],
             [
              0.7777777777777778,
              "#fb9f3a"
             ],
             [
              0.8888888888888888,
              "#fdca26"
             ],
             [
              1,
              "#f0f921"
             ]
            ],
            "type": "heatmap"
           }
          ],
          "histogram": [
           {
            "marker": {
             "pattern": {
              "fillmode": "overlay",
              "size": 10,
              "solidity": 0.2
             }
            },
            "type": "histogram"
           }
          ],
          "histogram2d": [
           {
            "colorbar": {
             "outlinewidth": 0,
             "ticks": ""
            },
            "colorscale": [
             [
              0,
              "#0d0887"
             ],
             [
              0.1111111111111111,
              "#46039f"
             ],
             [
              0.2222222222222222,
              "#7201a8"
             ],
             [
              0.3333333333333333,
              "#9c179e"
             ],
             [
              0.4444444444444444,
              "#bd3786"
             ],
             [
              0.5555555555555556,
              "#d8576b"
             ],
             [
              0.6666666666666666,
              "#ed7953"
             ],
             [
              0.7777777777777778,
              "#fb9f3a"
             ],
             [
              0.8888888888888888,
              "#fdca26"
             ],
             [
              1,
              "#f0f921"
             ]
            ],
            "type": "histogram2d"
           }
          ],
          "histogram2dcontour": [
           {
            "colorbar": {
             "outlinewidth": 0,
             "ticks": ""
            },
            "colorscale": [
             [
              0,
              "#0d0887"
             ],
             [
              0.1111111111111111,
              "#46039f"
             ],
             [
              0.2222222222222222,
              "#7201a8"
             ],
             [
              0.3333333333333333,
              "#9c179e"
             ],
             [
              0.4444444444444444,
              "#bd3786"
             ],
             [
              0.5555555555555556,
              "#d8576b"
             ],
             [
              0.6666666666666666,
              "#ed7953"
             ],
             [
              0.7777777777777778,
              "#fb9f3a"
             ],
             [
              0.8888888888888888,
              "#fdca26"
             ],
             [
              1,
              "#f0f921"
             ]
            ],
            "type": "histogram2dcontour"
           }
          ],
          "mesh3d": [
           {
            "colorbar": {
             "outlinewidth": 0,
             "ticks": ""
            },
            "type": "mesh3d"
           }
          ],
          "parcoords": [
           {
            "line": {
             "colorbar": {
              "outlinewidth": 0,
              "ticks": ""
             }
            },
            "type": "parcoords"
           }
          ],
          "pie": [
           {
            "automargin": true,
            "type": "pie"
           }
          ],
          "scatter": [
           {
            "fillpattern": {
             "fillmode": "overlay",
             "size": 10,
             "solidity": 0.2
            },
            "type": "scatter"
           }
          ],
          "scatter3d": [
           {
            "line": {
             "colorbar": {
              "outlinewidth": 0,
              "ticks": ""
             }
            },
            "marker": {
             "colorbar": {
              "outlinewidth": 0,
              "ticks": ""
             }
            },
            "type": "scatter3d"
           }
          ],
          "scattercarpet": [
           {
            "marker": {
             "colorbar": {
              "outlinewidth": 0,
              "ticks": ""
             }
            },
            "type": "scattercarpet"
           }
          ],
          "scattergeo": [
           {
            "marker": {
             "colorbar": {
              "outlinewidth": 0,
              "ticks": ""
             }
            },
            "type": "scattergeo"
           }
          ],
          "scattergl": [
           {
            "marker": {
             "colorbar": {
              "outlinewidth": 0,
              "ticks": ""
             }
            },
            "type": "scattergl"
           }
          ],
          "scattermap": [
           {
            "marker": {
             "colorbar": {
              "outlinewidth": 0,
              "ticks": ""
             }
            },
            "type": "scattermap"
           }
          ],
          "scattermapbox": [
           {
            "marker": {
             "colorbar": {
              "outlinewidth": 0,
              "ticks": ""
             }
            },
            "type": "scattermapbox"
           }
          ],
          "scatterpolar": [
           {
            "marker": {
             "colorbar": {
              "outlinewidth": 0,
              "ticks": ""
             }
            },
            "type": "scatterpolar"
           }
          ],
          "scatterpolargl": [
           {
            "marker": {
             "colorbar": {
              "outlinewidth": 0,
              "ticks": ""
             }
            },
            "type": "scatterpolargl"
           }
          ],
          "scatterternary": [
           {
            "marker": {
             "colorbar": {
              "outlinewidth": 0,
              "ticks": ""
             }
            },
            "type": "scatterternary"
           }
          ],
          "surface": [
           {
            "colorbar": {
             "outlinewidth": 0,
             "ticks": ""
            },
            "colorscale": [
             [
              0,
              "#0d0887"
             ],
             [
              0.1111111111111111,
              "#46039f"
             ],
             [
              0.2222222222222222,
              "#7201a8"
             ],
             [
              0.3333333333333333,
              "#9c179e"
             ],
             [
              0.4444444444444444,
              "#bd3786"
             ],
             [
              0.5555555555555556,
              "#d8576b"
             ],
             [
              0.6666666666666666,
              "#ed7953"
             ],
             [
              0.7777777777777778,
              "#fb9f3a"
             ],
             [
              0.8888888888888888,
              "#fdca26"
             ],
             [
              1,
              "#f0f921"
             ]
            ],
            "type": "surface"
           }
          ],
          "table": [
           {
            "cells": {
             "fill": {
              "color": "#EBF0F8"
             },
             "line": {
              "color": "white"
             }
            },
            "header": {
             "fill": {
              "color": "#C8D4E3"
             },
             "line": {
              "color": "white"
             }
            },
            "type": "table"
           }
          ]
         },
         "layout": {
          "annotationdefaults": {
           "arrowcolor": "#2a3f5f",
           "arrowhead": 0,
           "arrowwidth": 1
          },
          "autotypenumbers": "strict",
          "coloraxis": {
           "colorbar": {
            "outlinewidth": 0,
            "ticks": ""
           }
          },
          "colorscale": {
           "diverging": [
            [
             0,
             "#8e0152"
            ],
            [
             0.1,
             "#c51b7d"
            ],
            [
             0.2,
             "#de77ae"
            ],
            [
             0.3,
             "#f1b6da"
            ],
            [
             0.4,
             "#fde0ef"
            ],
            [
             0.5,
             "#f7f7f7"
            ],
            [
             0.6,
             "#e6f5d0"
            ],
            [
             0.7,
             "#b8e186"
            ],
            [
             0.8,
             "#7fbc41"
            ],
            [
             0.9,
             "#4d9221"
            ],
            [
             1,
             "#276419"
            ]
           ],
           "sequential": [
            [
             0,
             "#0d0887"
            ],
            [
             0.1111111111111111,
             "#46039f"
            ],
            [
             0.2222222222222222,
             "#7201a8"
            ],
            [
             0.3333333333333333,
             "#9c179e"
            ],
            [
             0.4444444444444444,
             "#bd3786"
            ],
            [
             0.5555555555555556,
             "#d8576b"
            ],
            [
             0.6666666666666666,
             "#ed7953"
            ],
            [
             0.7777777777777778,
             "#fb9f3a"
            ],
            [
             0.8888888888888888,
             "#fdca26"
            ],
            [
             1,
             "#f0f921"
            ]
           ],
           "sequentialminus": [
            [
             0,
             "#0d0887"
            ],
            [
             0.1111111111111111,
             "#46039f"
            ],
            [
             0.2222222222222222,
             "#7201a8"
            ],
            [
             0.3333333333333333,
             "#9c179e"
            ],
            [
             0.4444444444444444,
             "#bd3786"
            ],
            [
             0.5555555555555556,
             "#d8576b"
            ],
            [
             0.6666666666666666,
             "#ed7953"
            ],
            [
             0.7777777777777778,
             "#fb9f3a"
            ],
            [
             0.8888888888888888,
             "#fdca26"
            ],
            [
             1,
             "#f0f921"
            ]
           ]
          },
          "colorway": [
           "#636efa",
           "#EF553B",
           "#00cc96",
           "#ab63fa",
           "#FFA15A",
           "#19d3f3",
           "#FF6692",
           "#B6E880",
           "#FF97FF",
           "#FECB52"
          ],
          "font": {
           "color": "#2a3f5f"
          },
          "geo": {
           "bgcolor": "white",
           "lakecolor": "white",
           "landcolor": "#E5ECF6",
           "showlakes": true,
           "showland": true,
           "subunitcolor": "white"
          },
          "hoverlabel": {
           "align": "left"
          },
          "hovermode": "closest",
          "mapbox": {
           "style": "light"
          },
          "paper_bgcolor": "white",
          "plot_bgcolor": "#E5ECF6",
          "polar": {
           "angularaxis": {
            "gridcolor": "white",
            "linecolor": "white",
            "ticks": ""
           },
           "bgcolor": "#E5ECF6",
           "radialaxis": {
            "gridcolor": "white",
            "linecolor": "white",
            "ticks": ""
           }
          },
          "scene": {
           "xaxis": {
            "backgroundcolor": "#E5ECF6",
            "gridcolor": "white",
            "gridwidth": 2,
            "linecolor": "white",
            "showbackground": true,
            "ticks": "",
            "zerolinecolor": "white"
           },
           "yaxis": {
            "backgroundcolor": "#E5ECF6",
            "gridcolor": "white",
            "gridwidth": 2,
            "linecolor": "white",
            "showbackground": true,
            "ticks": "",
            "zerolinecolor": "white"
           },
           "zaxis": {
            "backgroundcolor": "#E5ECF6",
            "gridcolor": "white",
            "gridwidth": 2,
            "linecolor": "white",
            "showbackground": true,
            "ticks": "",
            "zerolinecolor": "white"
           }
          },
          "shapedefaults": {
           "line": {
            "color": "#2a3f5f"
           }
          },
          "ternary": {
           "aaxis": {
            "gridcolor": "white",
            "linecolor": "white",
            "ticks": ""
           },
           "baxis": {
            "gridcolor": "white",
            "linecolor": "white",
            "ticks": ""
           },
           "bgcolor": "#E5ECF6",
           "caxis": {
            "gridcolor": "white",
            "linecolor": "white",
            "ticks": ""
           }
          },
          "title": {
           "x": 0.05
          },
          "xaxis": {
           "automargin": true,
           "gridcolor": "white",
           "linecolor": "white",
           "ticks": "",
           "title": {
            "standoff": 15
           },
           "zerolinecolor": "white",
           "zerolinewidth": 2
          },
          "yaxis": {
           "automargin": true,
           "gridcolor": "white",
           "linecolor": "white",
           "ticks": "",
           "title": {
            "standoff": 15
           },
           "zerolinecolor": "white",
           "zerolinewidth": 2
          }
         }
        },
        "title": {
         "text": "Life Expectancy, 2015"
        },
        "width": 800
       }
      },
      "image/png": "[encoded data removed]"
     },
     "metadata": {},
     "output_type": "display_data"
    }
   ],
   "source": [
    "fig1=px.choropleth( d2015, locations='codes', hover_name='Country', color='Life expectancy ', \n",
    "              color_continuous_scale='Viridis', projection='robinson', title='Life Expectancy, 2015')\n",
    "fig1.update_layout( width=800, height=400)\n",
    "fig1.show()"
   ]
  },
  {
   "cell_type": "code",
   "execution_count": 6,
   "id": "9d827a62-16cd-4b50-9a25-e6512da269cb",
   "metadata": {},
   "outputs": [
    {
     "data": {
      "application/vnd.plotly.v1+json": {
       "config": {
        "plotlyServerURL": "https://plot.ly"
       },
       "data": [
        {
         "coloraxis": "coloraxis",
         "geo": "geo",
         "hovertemplate": "<b>%{hovertext}</b><br><br>codes=%{location}<br>GDP=%{z}<extra></extra>",
         "hovertext": [
          "Afghanistan",
          "Albania",
          "Algeria",
          "Angola",
          "Antigua and Barbuda",
          "Argentina",
          "Armenia",
          "Australia",
          "Austria",
          "Azerbaijan",
          "Bahamas",
          "Bahrain",
          "Bangladesh",
          "Barbados",
          "Belarus",
          "Belgium",
          "Belize",
          "Benin",
          "Bhutan",
          "Bolivia (Plurinational State of)",
          "Bosnia and Herzegovina",
          "Botswana",
          "Brazil",
          "Brunei Darussalam",
          "Bulgaria",
          "Burkina Faso",
          "Burundi",
          "Côte d'Ivoire",
          "Cabo Verde",
          "Cambodia",
          "Cameroon",
          "Canada",
          "Central African Republic",
          "Chad",
          "Chile",
          "China",
          "Colombia",
          "Comoros",
          "Congo",
          "Costa Rica",
          "Croatia",
          "Cuba",
          "Cyprus",
          "Czechia",
          "Democratic People's Republic of Korea",
          "Democratic Republic of the Congo",
          "Denmark",
          "Djibouti",
          "Dominican Republic",
          "Ecuador",
          "Egypt",
          "El Salvador",
          "Equatorial Guinea",
          "Eritrea",
          "Estonia",
          "Ethiopia",
          "Fiji",
          "Finland",
          "France",
          "Gabon",
          "Gambia",
          "Georgia",
          "Germany",
          "Ghana",
          "Greece",
          "Grenada",
          "Guatemala",
          "Guinea",
          "Guinea-Bissau",
          "Guyana",
          "Haiti",
          "Honduras",
          "Hungary",
          "Iceland",
          "India",
          "Indonesia",
          "Iran (Islamic Republic of)",
          "Iraq",
          "Ireland",
          "Israel",
          "Italy",
          "Jamaica",
          "Japan",
          "Jordan",
          "Kazakhstan",
          "Kenya",
          "Kiribati",
          "Kuwait",
          "Kyrgyzstan",
          "Lao People's Democratic Republic",
          "Latvia",
          "Lebanon",
          "Lesotho",
          "Liberia",
          "Libya",
          "Lithuania",
          "Luxembourg",
          "Madagascar",
          "Malawi",
          "Malaysia",
          "Maldives",
          "Mali",
          "Malta",
          "Mauritania",
          "Mauritius",
          "Mexico",
          "Micronesia (Federated States of)",
          "Mongolia",
          "Montenegro",
          "Morocco",
          "Mozambique",
          "Myanmar",
          "Namibia",
          "Nepal",
          "Netherlands",
          "New Zealand",
          "Nicaragua",
          "Niger",
          "Nigeria",
          "Norway",
          "Oman",
          "Pakistan",
          "Panama",
          "Papua New Guinea",
          "Paraguay",
          "Peru",
          "Philippines",
          "Poland",
          "Portugal",
          "Qatar",
          "Republic of Korea",
          "Republic of Moldova",
          "Romania",
          "Russian Federation",
          "Rwanda",
          "Saint Lucia",
          "Saint Vincent and the Grenadines",
          "Samoa",
          "Sao Tome and Principe",
          "Saudi Arabia",
          "Senegal",
          "Serbia",
          "Seychelles",
          "Sierra Leone",
          "Singapore",
          "Slovakia",
          "Slovenia",
          "Solomon Islands",
          "Somalia",
          "South Africa",
          "South Sudan",
          "Spain",
          "Sri Lanka",
          "Sudan",
          "Suriname",
          "Swaziland",
          "Sweden",
          "Switzerland",
          "Syrian Arab Republic",
          "Tajikistan",
          "Thailand",
          "The former Yugoslav republic of Macedonia",
          "Timor-Leste",
          "Togo",
          "Tonga",
          "Trinidad and Tobago",
          "Tunisia",
          "Turkey",
          "Turkmenistan",
          "Uganda",
          "Ukraine",
          "United Arab Emirates",
          "United Kingdom of Great Britain and Northern Ireland",
          "United Republic of Tanzania",
          "United States of America",
          "Uruguay",
          "Uzbekistan",
          "Vanuatu",
          "Venezuela (Bolivarian Republic of)",
          "Viet Nam",
          "Yemen",
          "Zambia",
          "Zimbabwe"
         ],
         "locations": [
          "AFG",
          "ALB",
          "DZA",
          "AGO",
          "ATG",
          "ARG",
          "ARM",
          "AUS",
          "AUT",
          "AZE",
          "BHS",
          "BHR",
          "BGD",
          "BRB",
          "BLR",
          "BEL",
          "BLZ",
          "BEN",
          "BTN",
          null,
          "BIH",
          "BWA",
          "BRA",
          "BRN",
          "BGR",
          "BFA",
          "BDI",
          "CIV",
          "CPV",
          "KHM",
          "CMR",
          "CAN",
          "CAF",
          "TCD",
          "CHL",
          "CHN",
          "COL",
          "COM",
          "COG",
          "CRI",
          "HRV",
          "CUB",
          "CYP",
          "CZE",
          "PRK",
          null,
          "DNK",
          "DJI",
          "DOM",
          "ECU",
          "EGY",
          "SLV",
          "GNQ",
          "ERI",
          "EST",
          "ETH",
          "FJI",
          "FIN",
          "FRA",
          "GAB",
          "GMB",
          "GEO",
          "DEU",
          "GHA",
          "GRC",
          "GRD",
          "GTM",
          "GIN",
          "GNB",
          "GUY",
          "HTI",
          "HND",
          "HUN",
          "ISL",
          "IND",
          "IDN",
          null,
          "IRQ",
          "IRL",
          "ISR",
          "ITA",
          "JAM",
          "JPN",
          "JOR",
          "KAZ",
          "KEN",
          "KIR",
          "KWT",
          "KGZ",
          "LAO",
          "LVA",
          "LBN",
          "LSO",
          "LBR",
          "LBY",
          "LTU",
          "LUX",
          "MDG",
          "MWI",
          "MYS",
          "MDV",
          "MLI",
          "MLT",
          "MRT",
          "MUS",
          "MEX",
          null,
          "MNG",
          "MNE",
          "MAR",
          "MOZ",
          "MMR",
          "NAM",
          "NPL",
          "NLD",
          "NZL",
          "NIC",
          "NER",
          "NGA",
          "NOR",
          "OMN",
          "PAK",
          "PAN",
          "PNG",
          "PRY",
          "PER",
          "PHL",
          "POL",
          "PRT",
          "QAT",
          null,
          "MDA",
          "ROU",
          "RUS",
          "RWA",
          "LCA",
          "VCT",
          "WSM",
          "STP",
          "SAU",
          "SEN",
          "SRB",
          "SYC",
          "SLE",
          "SGP",
          "SVK",
          "SVN",
          "SLB",
          "SOM",
          "ZAF",
          "SSD",
          "ESP",
          "LKA",
          "SDN",
          "SUR",
          null,
          "SWE",
          "CHE",
          "SYR",
          "TJK",
          "THA",
          null,
          "TLS",
          "TGO",
          "TON",
          "TTO",
          "TUN",
          "TUR",
          "TKM",
          "UGA",
          "UKR",
          "ARE",
          "GBR",
          "TZA",
          "USA",
          "URY",
          "UZB",
          "VUT",
          null,
          "VNM",
          "YEM",
          "ZMB",
          "ZWE"
         ],
         "name": "",
         "type": "choropleth",
         "z": {
          "_inputArray": {
           "0": 584.25921,
           "1": 3954.22783,
           "10": null,
           "100": 8395.785198,
           "101": 729.725338,
           "102": 23819.4636,
           "103": 1158.256469,
           "104": 9252.11724,
           "105": 9143.128494,
           "106": null,
           "107": 3944.1839,
           "108": 6461.192554,
           "109": 2847.285569,
           "11": 22688.87824,
           "110": 528.3125597,
           "111": 1194.59137,
           "112": 4737.66996,
           "113": 743.7653489,
           "114": 44292.88473,
           "115": 3821.8937,
           "116": 295.966488,
           "117": 358.99731,
           "118": 2655.157977,
           "119": 7455.24654,
           "12": 121.15812,
           "120": 16627.36433,
           "121": 1431.244865,
           "122": 13134.4367,
           "123": null,
           "124": 419.367724,
           "125": 63.343259,
           "126": 2878.33837,
           "127": 12565.9876,
           "128": 1922.681,
           "129": 66346.52267,
           "13": 15557.8381,
           "130": null,
           "131": null,
           "132": 8958.788593,
           "133": 9329.298351,
           "134": 71.348397,
           "135": null,
           "136": null,
           "137": 4149.363444,
           "138": 1624.63963,
           "139": 2732.86172,
           "14": 5949.11677,
           "140": 98.7256145,
           "141": 5237.255334,
           "142": 1539.464,
           "143": 587.538233,
           "144": 53629.73746,
           "145": null,
           "146": 2729.86383,
           "147": 1922.41388,
           "148": 426.98537,
           "149": 5769.77258,
           "15": 4356.875,
           "150": 758.725782,
           "151": 25683.84565,
           "152": 3844.89123,
           "153": 2513.884661,
           "154": 8818.982566,
           "155": 3136.92511,
           "156": 5585.25847,
           "157": 8989.8424,
           "158": null,
           "159": 918.6771543,
           "16": 4849.997495,
           "160": 5814.863134,
           "161": null,
           "162": 1161.76935,
           "163": 551.138346,
           "164": 493.775387,
           "165": 17321.83373,
           "166": 3828.91589,
           "167": 1979.52569,
           "168": 6432.668768,
           "169": 693.8963829,
           "17": 783.94791,
           "170": 2124.662666,
           "171": 3911.74689,
           "172": null,
           "173": null,
           "174": null,
           "175": 15524.84247,
           "176": 2137.576852,
           "177": 285.83414,
           "178": null,
           "179": null,
           "18": 2613.645177,
           "180": null,
           "181": 1313.889646,
           "182": 118.69383,
           "19": null,
           "2": 4132.76292,
           "20": 4574.9787,
           "21": 6532.651,
           "22": 8757.2622,
           "23": 3967.8951,
           "24": 6993.47736,
           "25": 615.592225,
           "26": 33.681223,
           "27": null,
           "28": 2954.119467,
           "29": 1163.18977,
           "3": 3695.793748,
           "30": 1244.429421,
           "31": 43315.744,
           "32": 348.381417,
           "33": 777.248751,
           "34": 13653.2264,
           "35": 869.211938,
           "36": 644.525556,
           "37": 727.6463868,
           "38": null,
           "39": 1146.36273,
           "4": 13566.9541,
           "40": 11579.6674,
           "41": 762.261218,
           "42": 2375.1127,
           "43": null,
           "44": null,
           "45": null,
           "46": 5314.64416,
           "47": 1862.167274,
           "48": 6468.471648,
           "49": 625.62224,
           "5": 13467.1236,
           "50": null,
           "51": 4127.11775,
           "52": 1347.31257,
           "53": null,
           "54": 1774.9291,
           "55": 645.4637627,
           "56": 4921.89629,
           "57": 4245.39744,
           "58": 36526.7711,
           "59": 7388.984144,
           "6": 369.654776,
           "60": null,
           "61": 3764.64912,
           "62": 41176.88158,
           "63": 1361.11395,
           "64": 187.78991,
           "65": 9212.192824,
           "66": 3923.573344,
           "67": 554.48766,
           "68": 596.8717189,
           "69": 4136.689919,
           "7": 56554.3876,
           "70": 814.5463952,
           "71": 2326.15856,
           "72": 12365.6263,
           "73": 5734.4436,
           "74": 1613.18878,
           "75": 3336.16686,
           "76": null,
           "77": 4974.2693,
           "78": 6664.144,
           "79": 35729.37253,
           "8": 43665.947,
           "80": 349.14755,
           "81": 4965.989857,
           "82": 34474.13736,
           "83": 496.99275,
           "84": 159.9817,
           "85": 1349.97144,
           "86": 1424.483611,
           "87": 28975.418,
           "88": null,
           "89": null,
           "9": 55.31382,
           "90": 13666.58336,
           "91": 846.632851,
           "92": 173.82893,
           "93": 452.38717,
           "94": null,
           "95": 14252.42853,
           "96": 1199.8223,
           "97": 41.8575951,
           "98": 362.6575444,
           "99": 9643.644683,
           "bdata": "X0ax3BJCgkAYPiKmdOSuQHehuU7DJLBAiEojZpbfrECP5PIfen/KQOXyH9KPTcpASyNm9nkad0B+HThnTJ3rQKrx0k0+UuVAVWr2QCuoS0AAAAAAAAD4f4KLFTU4KNZA/DVZox5KXkBkXdxG62LOQCeDo+QdPbdAAAAAAOAEsUDsEtVb//GyQGmM1lGVf4hAQ8ajVEprpEAAAAAAAAD4f5hMFYz63rFAsp3vp6aEuUCBBMWPoRrBQE0VjErK/65Aa9RDNHpRu0D99nXgvDyDQDoktVAy10BAAAAAAAAA+H/nU8cqPRSnQAwfEVPCLJJA3Xwjurdxk0CHFtnOdyblQDdStkgaxnVAxw4qcf1JiEDo2az6nKrKQD3WjAyyKYtAvEG0VjQkhECHtNfMK72GQAAAAAAAAPh/HT1+b3PpkUCt+lxt1Z3GQAN5dvkW0odAhXzQszmOokAAAAAAAAD4fwAAAAAAAPh/AAAAAAAA+H9kdavnpMK0QOId4EmrGJ1AOV/svXhEuUAbEvdY+oyDQAAAAAAAAPh/Gy/dJB4fsEDYnlkSQA2VQAAAAAAAAPh/24r9Zbe7m0DW7DfJtSuEQLvtQnPlObNAH7qgvmWVsEA+6Nms2NXhQI523PD73LxAAAAAAAAA+H9c5nRZTGmtQJpC5zUcG+RAhA1Pr3RElUARGVbxRnlnQPHydK4Y/sFAt0JYjSWnrkCKPEm65lOBQHE2wkf5poJA5BWInrAosECIVXIEX3SJQOi8xi5RLKJAvjCZKtAmyECBBMWPcWa2QI5Yi0/BNJlABYasblUQqkAAAAAAAAD4f9BE2PBEbrNAoBov3SQIukDZCMTrK3LhQGaIY11c0nVAt7JEZ/1ls0B5zEBlRNXgQKrx0k3iD39Adk8eFmr/Y0Ab2CrB4heVQPLTuDfvQZZAbxKDwNpL3EAAAAAAAAD4fwAAAAAAAPh/5lyKq0qxykDtYS8UEHWKQIwVNZiGumVA4X8r2TFGfEAAAAAAAAD4f60vEto21stAAd4CCUq/kkDc2h2txe1EQLDaRk2FqnZApfj4hNLVwkBxOV6B5GXAQF5kAn7NzYZAm1Wfq91C10DAPc+fBhmSQORmuAEPEsJA3st9cpDbwUAAAAAAAAD4f3gLJChe0K5Atww4SzE9uUCBlxk2kj6mQGHMTB+AgoBAWOcYkF2qkkChoX+Cq4GyQD18Pm8fPodA+Um1T5yg5UDf4AuTydutQKD/Hrx2f3JAlZ9U+/RvdkAKgVziUL6kQCjVPh0/H71AvcYuUdc80EC9++O9+lyWQBUdyeU3p8lAAAAAAAAA+H9Fn48y4jV6QGKHMenvq09A5SfVPq18pkDEQq1p/orIQE5iEFi5Cp5AyjfbXKgy8EAAAAAAAAD4fwAAAAAAAPh/bYyd8GR/wUDdlV0wpjjCQJJB7iJM1lFAAAAAAAAA+H8AAAAAAAD4f+19qgpdNbBAKa4q+45imUCeJF0zuVmlQDjAzHdwrlhAj6uRXUF1tEBg5dAi2w2YQAZlGk1OXIJAw7ZFmbcv6kAAAAAAAAD4f5v+7Ee6U6VA4KEo0KcJnkBaR1UTxK96QIuJzcfFibZANBDLZs61h0B3LSEf9hTZQG5uTE/ICa5AGF5J8sSjo0AVArnEfTnBQGiWBKjZgahA/wQXK0LRtUATYcPT647BQAAAAAAAAPh/xKbfz2q1jEARjln23La2QAAAAAAAAPh/toR80BMnkkBCzCVVGzmBQObrMvxn3H5A7BLVW3Xq0EB4uYjv1OmtQFa3ek4a7p5AnDBhNKsguUCNQczKK6+FQFg89UhTmaBAa7ddaH6PrkAAAAAAAAD4fwAAAAAAAPh/AAAAAAAA+H/ulA7Wa1LOQEQ1JVkns6BAkUQvo1jdcUAAAAAAAAD4fwAAAAAAAPh/AAAAAAAA+H8SbFz/joeUQPW+8bVnrF1A",
           "dtype": "f8",
           "shape": "183"
          },
          "bdata": "X0ax3BJCgkAYPiKmdOSuQHehuU7DJLBAiEojZpbfrECP5PIfen/KQOXyH9KPTcpASyNm9nkad0B+HThnTJ3rQKrx0k0+UuVAVWr2QCuoS0AAAAAAAAD4f4KLFTU4KNZA/DVZox5KXkBkXdxG62LOQCeDo+QdPbdAAAAAAOAEsUDsEtVb//GyQGmM1lGVf4hAQ8ajVEprpEAAAAAAAAD4f5hMFYz63rFAsp3vp6aEuUCBBMWPoRrBQE0VjErK/65Aa9RDNHpRu0D99nXgvDyDQDoktVAy10BAAAAAAAAA+H/nU8cqPRSnQAwfEVPCLJJA3Xwjurdxk0CHFtnOdyblQDdStkgaxnVAxw4qcf1JiEDo2az6nKrKQD3WjAyyKYtAvEG0VjQkhECHtNfMK72GQAAAAAAAAPh/HT1+b3PpkUCt+lxt1Z3GQAN5dvkW0odAhXzQszmOokAAAAAAAAD4fwAAAAAAAPh/AAAAAAAA+H9kdavnpMK0QOId4EmrGJ1AOV/svXhEuUAbEvdY+oyDQAAAAAAAAPh/Gy/dJB4fsEDYnlkSQA2VQAAAAAAAAPh/24r9Zbe7m0DW7DfJtSuEQLvtQnPlObNAH7qgvmWVsEA+6Nms2NXhQI523PD73LxAAAAAAAAA+H9c5nRZTGmtQJpC5zUcG+RAhA1Pr3RElUARGVbxRnlnQPHydK4Y/sFAt0JYjSWnrkCKPEm65lOBQHE2wkf5poJA5BWInrAosECIVXIEX3SJQOi8xi5RLKJAvjCZKtAmyECBBMWPcWa2QI5Yi0/BNJlABYasblUQqkAAAAAAAAD4f9BE2PBEbrNAoBov3SQIukDZCMTrK3LhQGaIY11c0nVAt7JEZ/1ls0B5zEBlRNXgQKrx0k3iD39Adk8eFmr/Y0Ab2CrB4heVQPLTuDfvQZZAbxKDwNpL3EAAAAAAAAD4fwAAAAAAAPh/5lyKq0qxykDtYS8UEHWKQIwVNZiGumVA4X8r2TFGfEAAAAAAAAD4f60vEto21stAAd4CCUq/kkDc2h2txe1EQLDaRk2FqnZApfj4hNLVwkBxOV6B5GXAQF5kAn7NzYZAm1Wfq91C10DAPc+fBhmSQORmuAEPEsJA3st9cpDbwUAAAAAAAAD4f3gLJChe0K5Atww4SzE9uUCBlxk2kj6mQGHMTB+AgoBAWOcYkF2qkkChoX+Cq4GyQD18Pm8fPodA+Um1T5yg5UDf4AuTydutQKD/Hrx2f3JAlZ9U+/RvdkAKgVziUL6kQCjVPh0/H71AvcYuUdc80EC9++O9+lyWQBUdyeU3p8lAAAAAAAAA+H9Fn48y4jV6QGKHMenvq09A5SfVPq18pkDEQq1p/orIQE5iEFi5Cp5AyjfbXKgy8EAAAAAAAAD4fwAAAAAAAPh/bYyd8GR/wUDdlV0wpjjCQJJB7iJM1lFAAAAAAAAA+H8AAAAAAAD4f+19qgpdNbBAKa4q+45imUCeJF0zuVmlQDjAzHdwrlhAj6uRXUF1tEBg5dAi2w2YQAZlGk1OXIJAw7ZFmbcv6kAAAAAAAAD4f5v+7Ee6U6VA4KEo0KcJnkBaR1UTxK96QIuJzcfFibZANBDLZs61h0B3LSEf9hTZQG5uTE/ICa5AGF5J8sSjo0AVArnEfTnBQGiWBKjZgahA/wQXK0LRtUATYcPT647BQAAAAAAAAPh/xKbfz2q1jEARjln23La2QAAAAAAAAPh/toR80BMnkkBCzCVVGzmBQObrMvxn3H5A7BLVW3Xq0EB4uYjv1OmtQFa3ek4a7p5AnDBhNKsguUCNQczKK6+FQFg89UhTmaBAa7ddaH6PrkAAAAAAAAD4fwAAAAAAAPh/AAAAAAAA+H/ulA7Wa1LOQEQ1JVkns6BAkUQvo1jdcUAAAAAAAAD4fwAAAAAAAPh/AAAAAAAA+H8SbFz/joeUQPW+8bVnrF1A",
          "dtype": "f8"
         }
        }
       ],
       "layout": {
        "coloraxis": {
         "colorbar": {
          "title": {
           "text": "GDP"
          }
         },
         "colorscale": [
          [
           0,
           "#0d0887"
          ],
          [
           0.1111111111111111,
           "#46039f"
          ],
          [
           0.2222222222222222,
           "#7201a8"
          ],
          [
           0.3333333333333333,
           "#9c179e"
          ],
          [
           0.4444444444444444,
           "#bd3786"
          ],
          [
           0.5555555555555556,
           "#d8576b"
          ],
          [
           0.6666666666666666,
           "#ed7953"
          ],
          [
           0.7777777777777778,
           "#fb9f3a"
          ],
          [
           0.8888888888888888,
           "#fdca26"
          ],
          [
           1,
           "#f0f921"
          ]
         ]
        },
        "geo": {
         "center": {},
         "domain": {
          "x": [
           0,
           1
          ],
          "y": [
           0,
           1
          ]
         },
         "projection": {
          "type": "robinson"
         }
        },
        "height": 400,
        "legend": {
         "tracegroupgap": 0
        },
        "template": {
         "data": {
          "bar": [
           {
            "error_x": {
             "color": "#2a3f5f"
            },
            "error_y": {
             "color": "#2a3f5f"
            },
            "marker": {
             "line": {
              "color": "#E5ECF6",
              "width": 0.5
             },
             "pattern": {
              "fillmode": "overlay",
              "size": 10,
              "solidity": 0.2
             }
            },
            "type": "bar"
           }
          ],
          "barpolar": [
           {
            "marker": {
             "line": {
              "color": "#E5ECF6",
              "width": 0.5
             },
             "pattern": {
              "fillmode": "overlay",
              "size": 10,
              "solidity": 0.2
             }
            },
            "type": "barpolar"
           }
          ],
          "carpet": [
           {
            "aaxis": {
             "endlinecolor": "#2a3f5f",
             "gridcolor": "white",
             "linecolor": "white",
             "minorgridcolor": "white",
             "startlinecolor": "#2a3f5f"
            },
            "baxis": {
             "endlinecolor": "#2a3f5f",
             "gridcolor": "white",
             "linecolor": "white",
             "minorgridcolor": "white",
             "startlinecolor": "#2a3f5f"
            },
            "type": "carpet"
           }
          ],
          "choropleth": [
           {
            "colorbar": {
             "outlinewidth": 0,
             "ticks": ""
            },
            "type": "choropleth"
           }
          ],
          "contour": [
           {
            "colorbar": {
             "outlinewidth": 0,
             "ticks": ""
            },
            "colorscale": [
             [
              0,
              "#0d0887"
             ],
             [
              0.1111111111111111,
              "#46039f"
             ],
             [
              0.2222222222222222,
              "#7201a8"
             ],
             [
              0.3333333333333333,
              "#9c179e"
             ],
             [
              0.4444444444444444,
              "#bd3786"
             ],
             [
              0.5555555555555556,
              "#d8576b"
             ],
             [
              0.6666666666666666,
              "#ed7953"
             ],
             [
              0.7777777777777778,
              "#fb9f3a"
             ],
             [
              0.8888888888888888,
              "#fdca26"
             ],
             [
              1,
              "#f0f921"
             ]
            ],
            "type": "contour"
           }
          ],
          "contourcarpet": [
           {
            "colorbar": {
             "outlinewidth": 0,
             "ticks": ""
            },
            "type": "contourcarpet"
           }
          ],
          "heatmap": [
           {
            "colorbar": {
             "outlinewidth": 0,
             "ticks": ""
            },
            "colorscale": [
             [
              0,
              "#0d0887"
             ],
             [
              0.1111111111111111,
              "#46039f"
             ],
             [
              0.2222222222222222,
              "#7201a8"
             ],
             [
              0.3333333333333333,
              "#9c179e"
             ],
             [
              0.4444444444444444,
              "#bd3786"
             ],
             [
              0.5555555555555556,
              "#d8576b"
             ],
             [
              0.6666666666666666,
              "#ed7953"
             ],
             [
              0.7777777777777778,
              "#fb9f3a"
             ],
             [
              0.8888888888888888,
              "#fdca26"
             ],
             [
              1,
              "#f0f921"
             ]
            ],
            "type": "heatmap"
           }
          ],
          "histogram": [
           {
            "marker": {
             "pattern": {
              "fillmode": "overlay",
              "size": 10,
              "solidity": 0.2
             }
            },
            "type": "histogram"
           }
          ],
          "histogram2d": [
           {
            "colorbar": {
             "outlinewidth": 0,
             "ticks": ""
            },
            "colorscale": [
             [
              0,
              "#0d0887"
             ],
             [
              0.1111111111111111,
              "#46039f"
             ],
             [
              0.2222222222222222,
              "#7201a8"
             ],
             [
              0.3333333333333333,
              "#9c179e"
             ],
             [
              0.4444444444444444,
              "#bd3786"
             ],
             [
              0.5555555555555556,
              "#d8576b"
             ],
             [
              0.6666666666666666,
              "#ed7953"
             ],
             [
              0.7777777777777778,
              "#fb9f3a"
             ],
             [
              0.8888888888888888,
              "#fdca26"
             ],
             [
              1,
              "#f0f921"
             ]
            ],
            "type": "histogram2d"
           }
          ],
          "histogram2dcontour": [
           {
            "colorbar": {
             "outlinewidth": 0,
             "ticks": ""
            },
            "colorscale": [
             [
              0,
              "#0d0887"
             ],
             [
              0.1111111111111111,
              "#46039f"
             ],
             [
              0.2222222222222222,
              "#7201a8"
             ],
             [
              0.3333333333333333,
              "#9c179e"
             ],
             [
              0.4444444444444444,
              "#bd3786"
             ],
             [
              0.5555555555555556,
              "#d8576b"
             ],
             [
              0.6666666666666666,
              "#ed7953"
             ],
             [
              0.7777777777777778,
              "#fb9f3a"
             ],
             [
              0.8888888888888888,
              "#fdca26"
             ],
             [
              1,
              "#f0f921"
             ]
            ],
            "type": "histogram2dcontour"
           }
          ],
          "mesh3d": [
           {
            "colorbar": {
             "outlinewidth": 0,
             "ticks": ""
            },
            "type": "mesh3d"
           }
          ],
          "parcoords": [
           {
            "line": {
             "colorbar": {
              "outlinewidth": 0,
              "ticks": ""
             }
            },
            "type": "parcoords"
           }
          ],
          "pie": [
           {
            "automargin": true,
            "type": "pie"
           }
          ],
          "scatter": [
           {
            "fillpattern": {
             "fillmode": "overlay",
             "size": 10,
             "solidity": 0.2
            },
            "type": "scatter"
           }
          ],
          "scatter3d": [
           {
            "line": {
             "colorbar": {
              "outlinewidth": 0,
              "ticks": ""
             }
            },
            "marker": {
             "colorbar": {
              "outlinewidth": 0,
              "ticks": ""
             }
            },
            "type": "scatter3d"
           }
          ],
          "scattercarpet": [
           {
            "marker": {
             "colorbar": {
              "outlinewidth": 0,
              "ticks": ""
             }
            },
            "type": "scattercarpet"
           }
          ],
          "scattergeo": [
           {
            "marker": {
             "colorbar": {
              "outlinewidth": 0,
              "ticks": ""
             }
            },
            "type": "scattergeo"
           }
          ],
          "scattergl": [
           {
            "marker": {
             "colorbar": {
              "outlinewidth": 0,
              "ticks": ""
             }
            },
            "type": "scattergl"
           }
          ],
          "scattermap": [
           {
            "marker": {
             "colorbar": {
              "outlinewidth": 0,
              "ticks": ""
             }
            },
            "type": "scattermap"
           }
          ],
          "scattermapbox": [
           {
            "marker": {
             "colorbar": {
              "outlinewidth": 0,
              "ticks": ""
             }
            },
            "type": "scattermapbox"
           }
          ],
          "scatterpolar": [
           {
            "marker": {
             "colorbar": {
              "outlinewidth": 0,
              "ticks": ""
             }
            },
            "type": "scatterpolar"
           }
          ],
          "scatterpolargl": [
           {
            "marker": {
             "colorbar": {
              "outlinewidth": 0,
              "ticks": ""
             }
            },
            "type": "scatterpolargl"
           }
          ],
          "scatterternary": [
           {
            "marker": {
             "colorbar": {
              "outlinewidth": 0,
              "ticks": ""
             }
            },
            "type": "scatterternary"
           }
          ],
          "surface": [
           {
            "colorbar": {
             "outlinewidth": 0,
             "ticks": ""
            },
            "colorscale": [
             [
              0,
              "#0d0887"
             ],
             [
              0.1111111111111111,
              "#46039f"
             ],
             [
              0.2222222222222222,
              "#7201a8"
             ],
             [
              0.3333333333333333,
              "#9c179e"
             ],
             [
              0.4444444444444444,
              "#bd3786"
             ],
             [
              0.5555555555555556,
              "#d8576b"
             ],
             [
              0.6666666666666666,
              "#ed7953"
             ],
             [
              0.7777777777777778,
              "#fb9f3a"
             ],
             [
              0.8888888888888888,
              "#fdca26"
             ],
             [
              1,
              "#f0f921"
             ]
            ],
            "type": "surface"
           }
          ],
          "table": [
           {
            "cells": {
             "fill": {
              "color": "#EBF0F8"
             },
             "line": {
              "color": "white"
             }
            },
            "header": {
             "fill": {
              "color": "#C8D4E3"
             },
             "line": {
              "color": "white"
             }
            },
            "type": "table"
           }
          ]
         },
         "layout": {
          "annotationdefaults": {
           "arrowcolor": "#2a3f5f",
           "arrowhead": 0,
           "arrowwidth": 1
          },
          "autotypenumbers": "strict",
          "coloraxis": {
           "colorbar": {
            "outlinewidth": 0,
            "ticks": ""
           }
          },
          "colorscale": {
           "diverging": [
            [
             0,
             "#8e0152"
            ],
            [
             0.1,
             "#c51b7d"
            ],
            [
             0.2,
             "#de77ae"
            ],
            [
             0.3,
             "#f1b6da"
            ],
            [
             0.4,
             "#fde0ef"
            ],
            [
             0.5,
             "#f7f7f7"
            ],
            [
             0.6,
             "#e6f5d0"
            ],
            [
             0.7,
             "#b8e186"
            ],
            [
             0.8,
             "#7fbc41"
            ],
            [
             0.9,
             "#4d9221"
            ],
            [
             1,
             "#276419"
            ]
           ],
           "sequential": [
            [
             0,
             "#0d0887"
            ],
            [
             0.1111111111111111,
             "#46039f"
            ],
            [
             0.2222222222222222,
             "#7201a8"
            ],
            [
             0.3333333333333333,
             "#9c179e"
            ],
            [
             0.4444444444444444,
             "#bd3786"
            ],
            [
             0.5555555555555556,
             "#d8576b"
            ],
            [
             0.6666666666666666,
             "#ed7953"
            ],
            [
             0.7777777777777778,
             "#fb9f3a"
            ],
            [
             0.8888888888888888,
             "#fdca26"
            ],
            [
             1,
             "#f0f921"
            ]
           ],
           "sequentialminus": [
            [
             0,
             "#0d0887"
            ],
            [
             0.1111111111111111,
             "#46039f"
            ],
            [
             0.2222222222222222,
             "#7201a8"
            ],
            [
             0.3333333333333333,
             "#9c179e"
            ],
            [
             0.4444444444444444,
             "#bd3786"
            ],
            [
             0.5555555555555556,
             "#d8576b"
            ],
            [
             0.6666666666666666,
             "#ed7953"
            ],
            [
             0.7777777777777778,
             "#fb9f3a"
            ],
            [
             0.8888888888888888,
             "#fdca26"
            ],
            [
             1,
             "#f0f921"
            ]
           ]
          },
          "colorway": [
           "#636efa",
           "#EF553B",
           "#00cc96",
           "#ab63fa",
           "#FFA15A",
           "#19d3f3",
           "#FF6692",
           "#B6E880",
           "#FF97FF",
           "#FECB52"
          ],
          "font": {
           "color": "#2a3f5f"
          },
          "geo": {
           "bgcolor": "white",
           "lakecolor": "white",
           "landcolor": "#E5ECF6",
           "showlakes": true,
           "showland": true,
           "subunitcolor": "white"
          },
          "hoverlabel": {
           "align": "left"
          },
          "hovermode": "closest",
          "mapbox": {
           "style": "light"
          },
          "paper_bgcolor": "white",
          "plot_bgcolor": "#E5ECF6",
          "polar": {
           "angularaxis": {
            "gridcolor": "white",
            "linecolor": "white",
            "ticks": ""
           },
           "bgcolor": "#E5ECF6",
           "radialaxis": {
            "gridcolor": "white",
            "linecolor": "white",
            "ticks": ""
           }
          },
          "scene": {
           "xaxis": {
            "backgroundcolor": "#E5ECF6",
            "gridcolor": "white",
            "gridwidth": 2,
            "linecolor": "white",
            "showbackground": true,
            "ticks": "",
            "zerolinecolor": "white"
           },
           "yaxis": {
            "backgroundcolor": "#E5ECF6",
            "gridcolor": "white",
            "gridwidth": 2,
            "linecolor": "white",
            "showbackground": true,
            "ticks": "",
            "zerolinecolor": "white"
           },
           "zaxis": {
            "backgroundcolor": "#E5ECF6",
            "gridcolor": "white",
            "gridwidth": 2,
            "linecolor": "white",
            "showbackground": true,
            "ticks": "",
            "zerolinecolor": "white"
           }
          },
          "shapedefaults": {
           "line": {
            "color": "#2a3f5f"
           }
          },
          "ternary": {
           "aaxis": {
            "gridcolor": "white",
            "linecolor": "white",
            "ticks": ""
           },
           "baxis": {
            "gridcolor": "white",
            "linecolor": "white",
            "ticks": ""
           },
           "bgcolor": "#E5ECF6",
           "caxis": {
            "gridcolor": "white",
            "linecolor": "white",
            "ticks": ""
           }
          },
          "title": {
           "x": 0.05
          },
          "xaxis": {
           "automargin": true,
           "gridcolor": "white",
           "linecolor": "white",
           "ticks": "",
           "title": {
            "standoff": 15
           },
           "zerolinecolor": "white",
           "zerolinewidth": 2
          },
          "yaxis": {
           "automargin": true,
           "gridcolor": "white",
           "linecolor": "white",
           "ticks": "",
           "title": {
            "standoff": 15
           },
           "zerolinecolor": "white",
           "zerolinewidth": 2
          }
         }
        },
        "title": {
         "text": "GDP per capita in USD, 2015"
        },
        "width": 800
       }
      },
      "image/png": "[encoded data removed]"
     },
     "metadata": {},
     "output_type": "display_data"
    }
   ],
   "source": [
    "fig2=px.choropleth( d2015, locations='codes', color='GDP', hover_name='Country', projection='robinson', \n",
    "                   title='GDP per capita in USD, 2015')\n",
    "fig2.update_layout( width=800, height=400)\n",
    "fig2.show()"
   ]
  },
  {
   "cell_type": "code",
   "execution_count": 7,
   "id": "ba36034e-5113-4492-b75a-61014f0ea649",
   "metadata": {},
   "outputs": [
    {
     "data": {
      "text/html": [
       "<div>\n",
       "<style scoped>\n",
       "    .dataframe tbody tr th:only-of-type {\n",
       "        vertical-align: middle;\n",
       "    }\n",
       "\n",
       "    .dataframe tbody tr th {\n",
       "        vertical-align: top;\n",
       "    }\n",
       "\n",
       "    .dataframe thead th {\n",
       "        text-align: right;\n",
       "    }\n",
       "</style>\n",
       "<table border=\"1\" class=\"dataframe\">\n",
       "  <thead>\n",
       "    <tr style=\"text-align: right;\">\n",
       "      <th></th>\n",
       "      <th>Country</th>\n",
       "      <th>Year</th>\n",
       "      <th>Status</th>\n",
       "      <th>life exp</th>\n",
       "      <th>Adult Mortality</th>\n",
       "      <th>infant deaths</th>\n",
       "      <th>Alcohol</th>\n",
       "      <th>health exp/GDP</th>\n",
       "      <th>Hepatitis B</th>\n",
       "      <th>Measles</th>\n",
       "      <th>...</th>\n",
       "      <th>Polio</th>\n",
       "      <th>Total expenditure</th>\n",
       "      <th>Diphtheria</th>\n",
       "      <th>HIV/AIDS</th>\n",
       "      <th>GDP</th>\n",
       "      <th>Population</th>\n",
       "      <th>thinness  1-19 years</th>\n",
       "      <th>thinness 5-9 years</th>\n",
       "      <th>HDI</th>\n",
       "      <th>Schooling</th>\n",
       "    </tr>\n",
       "  </thead>\n",
       "  <tbody>\n",
       "    <tr>\n",
       "      <th>0</th>\n",
       "      <td>Afghanistan</td>\n",
       "      <td>2015</td>\n",
       "      <td>Developing</td>\n",
       "      <td>65.0</td>\n",
       "      <td>263.0</td>\n",
       "      <td>62</td>\n",
       "      <td>0.01</td>\n",
       "      <td>71.279624</td>\n",
       "      <td>65.0</td>\n",
       "      <td>1154</td>\n",
       "      <td>...</td>\n",
       "      <td>6.0</td>\n",
       "      <td>8.16</td>\n",
       "      <td>65.0</td>\n",
       "      <td>0.1</td>\n",
       "      <td>584.259210</td>\n",
       "      <td>33736494.0</td>\n",
       "      <td>17.2</td>\n",
       "      <td>17.3</td>\n",
       "      <td>0.479</td>\n",
       "      <td>10.1</td>\n",
       "    </tr>\n",
       "    <tr>\n",
       "      <th>1</th>\n",
       "      <td>Afghanistan</td>\n",
       "      <td>2014</td>\n",
       "      <td>Developing</td>\n",
       "      <td>59.9</td>\n",
       "      <td>271.0</td>\n",
       "      <td>64</td>\n",
       "      <td>0.01</td>\n",
       "      <td>73.523582</td>\n",
       "      <td>62.0</td>\n",
       "      <td>492</td>\n",
       "      <td>...</td>\n",
       "      <td>58.0</td>\n",
       "      <td>8.18</td>\n",
       "      <td>62.0</td>\n",
       "      <td>0.1</td>\n",
       "      <td>612.696514</td>\n",
       "      <td>327582.0</td>\n",
       "      <td>17.5</td>\n",
       "      <td>17.5</td>\n",
       "      <td>0.476</td>\n",
       "      <td>10.0</td>\n",
       "    </tr>\n",
       "    <tr>\n",
       "      <th>2</th>\n",
       "      <td>Afghanistan</td>\n",
       "      <td>2013</td>\n",
       "      <td>Developing</td>\n",
       "      <td>59.9</td>\n",
       "      <td>268.0</td>\n",
       "      <td>66</td>\n",
       "      <td>0.01</td>\n",
       "      <td>73.219243</td>\n",
       "      <td>64.0</td>\n",
       "      <td>430</td>\n",
       "      <td>...</td>\n",
       "      <td>62.0</td>\n",
       "      <td>8.13</td>\n",
       "      <td>64.0</td>\n",
       "      <td>0.1</td>\n",
       "      <td>631.744976</td>\n",
       "      <td>31731688.0</td>\n",
       "      <td>17.7</td>\n",
       "      <td>17.7</td>\n",
       "      <td>0.470</td>\n",
       "      <td>9.9</td>\n",
       "    </tr>\n",
       "    <tr>\n",
       "      <th>3</th>\n",
       "      <td>Afghanistan</td>\n",
       "      <td>2012</td>\n",
       "      <td>Developing</td>\n",
       "      <td>59.5</td>\n",
       "      <td>272.0</td>\n",
       "      <td>69</td>\n",
       "      <td>0.01</td>\n",
       "      <td>78.184215</td>\n",
       "      <td>67.0</td>\n",
       "      <td>2787</td>\n",
       "      <td>...</td>\n",
       "      <td>67.0</td>\n",
       "      <td>8.52</td>\n",
       "      <td>67.0</td>\n",
       "      <td>0.1</td>\n",
       "      <td>669.959000</td>\n",
       "      <td>3696958.0</td>\n",
       "      <td>17.9</td>\n",
       "      <td>18.0</td>\n",
       "      <td>0.463</td>\n",
       "      <td>9.8</td>\n",
       "    </tr>\n",
       "    <tr>\n",
       "      <th>4</th>\n",
       "      <td>Afghanistan</td>\n",
       "      <td>2011</td>\n",
       "      <td>Developing</td>\n",
       "      <td>59.2</td>\n",
       "      <td>275.0</td>\n",
       "      <td>71</td>\n",
       "      <td>0.01</td>\n",
       "      <td>7.097109</td>\n",
       "      <td>68.0</td>\n",
       "      <td>3013</td>\n",
       "      <td>...</td>\n",
       "      <td>68.0</td>\n",
       "      <td>7.87</td>\n",
       "      <td>68.0</td>\n",
       "      <td>0.1</td>\n",
       "      <td>63.537231</td>\n",
       "      <td>2978599.0</td>\n",
       "      <td>18.2</td>\n",
       "      <td>18.2</td>\n",
       "      <td>0.454</td>\n",
       "      <td>9.5</td>\n",
       "    </tr>\n",
       "  </tbody>\n",
       "</table>\n",
       "<p>5 rows × 22 columns</p>\n",
       "</div>"
      ],
      "text/plain": [
       "       Country  Year      Status  life exp  Adult Mortality  infant deaths  \\\n",
       "0  Afghanistan  2015  Developing      65.0            263.0             62   \n",
       "1  Afghanistan  2014  Developing      59.9            271.0             64   \n",
       "2  Afghanistan  2013  Developing      59.9            268.0             66   \n",
       "3  Afghanistan  2012  Developing      59.5            272.0             69   \n",
       "4  Afghanistan  2011  Developing      59.2            275.0             71   \n",
       "\n",
       "   Alcohol  health exp/GDP  Hepatitis B  Measles   ...  Polio  \\\n",
       "0     0.01       71.279624         65.0      1154  ...    6.0   \n",
       "1     0.01       73.523582         62.0       492  ...   58.0   \n",
       "2     0.01       73.219243         64.0       430  ...   62.0   \n",
       "3     0.01       78.184215         67.0      2787  ...   67.0   \n",
       "4     0.01        7.097109         68.0      3013  ...   68.0   \n",
       "\n",
       "   Total expenditure  Diphtheria    HIV/AIDS         GDP  Population  \\\n",
       "0               8.16         65.0        0.1  584.259210  33736494.0   \n",
       "1               8.18         62.0        0.1  612.696514    327582.0   \n",
       "2               8.13         64.0        0.1  631.744976  31731688.0   \n",
       "3               8.52         67.0        0.1  669.959000   3696958.0   \n",
       "4               7.87         68.0        0.1   63.537231   2978599.0   \n",
       "\n",
       "    thinness  1-19 years   thinness 5-9 years    HDI  Schooling  \n",
       "0                   17.2                 17.3  0.479       10.1  \n",
       "1                   17.5                 17.5  0.476       10.0  \n",
       "2                   17.7                 17.7  0.470        9.9  \n",
       "3                   17.9                 18.0  0.463        9.8  \n",
       "4                   18.2                 18.2  0.454        9.5  \n",
       "\n",
       "[5 rows x 22 columns]"
      ]
     },
     "execution_count": 7,
     "metadata": {},
     "output_type": "execute_result"
    }
   ],
   "source": [
    "renames={'percentage expenditure':'health exp/GDP', \n",
    "         'Life expectancy ':'life exp', \n",
    "         'Income composition of resources':'HDI'}\n",
    "\n",
    "life=life.rename( mapper=renames, axis=1) # column renames\n",
    "life.head()"
   ]
  },
  {
   "cell_type": "code",
   "execution_count": 8,
   "id": "f990df0a-7f23-4915-8e54-bbd176066817",
   "metadata": {},
   "outputs": [
    {
     "data": {
      "text/html": [
       "<div>\n",
       "<style scoped>\n",
       "    .dataframe tbody tr th:only-of-type {\n",
       "        vertical-align: middle;\n",
       "    }\n",
       "\n",
       "    .dataframe tbody tr th {\n",
       "        vertical-align: top;\n",
       "    }\n",
       "\n",
       "    .dataframe thead th {\n",
       "        text-align: right;\n",
       "    }\n",
       "</style>\n",
       "<table border=\"1\" class=\"dataframe\">\n",
       "  <thead>\n",
       "    <tr style=\"text-align: right;\">\n",
       "      <th></th>\n",
       "      <th>Country</th>\n",
       "      <th>Year</th>\n",
       "      <th>health exp/GDP</th>\n",
       "    </tr>\n",
       "  </thead>\n",
       "  <tbody>\n",
       "    <tr>\n",
       "      <th>1266</th>\n",
       "      <td>Israel</td>\n",
       "      <td>2015</td>\n",
       "      <td>0.00000</td>\n",
       "    </tr>\n",
       "    <tr>\n",
       "      <th>1267</th>\n",
       "      <td>Israel</td>\n",
       "      <td>2014</td>\n",
       "      <td>4348.33531</td>\n",
       "    </tr>\n",
       "  </tbody>\n",
       "</table>\n",
       "</div>"
      ],
      "text/plain": [
       "     Country  Year  health exp/GDP\n",
       "1266  Israel  2015         0.00000\n",
       "1267  Israel  2014      4348.33531"
      ]
     },
     "execution_count": 8,
     "metadata": {},
     "output_type": "execute_result"
    }
   ],
   "source": [
    "mylist=['United States of America','Singapore','Peru','Saudi Arabia','Israel']\n",
    "data1=life[ life['Country'].isin(mylist) ] # this is a new mask to filer out numerous values from a list\n",
    "data1['Country'].value_counts()\n",
    "data1.head(2)\n",
    "\n",
    "d1=data1.loc[:, ['Country','Year','health exp/GDP']]\n",
    "d1.head(2)"
   ]
  },
  {
   "cell_type": "code",
   "execution_count": 9,
   "id": "efaabfb8-2713-46c5-b29f-d906ab69e67d",
   "metadata": {},
   "outputs": [
    {
     "name": "stdout",
     "output_type": "stream",
     "text": [
      "Practicing the .isin method\n"
     ]
    },
    {
     "data": {
      "text/plain": [
       "0    nictorine\n",
       "3         kiwi\n",
       "dtype: object"
      ]
     },
     "execution_count": 9,
     "metadata": {},
     "output_type": "execute_result"
    }
   ],
   "source": [
    "print('Practicing the .isin method')\n",
    "fruits=['nictorine', 'banana', 'apple', 'kiwi', 'passionfruit',\n",
    "        'watermelon', 'melon', 'lemon', 'pamelo']\n",
    "fruits=pd.Series(fruits)\n",
    "favs=['kiwi','nictorine']\n",
    "f1=fruits[ fruits.isin( favs) ]\n",
    "f1"
   ]
  },
  {
   "cell_type": "code",
   "execution_count": 10,
   "id": "f586e1af-23b3-4224-8614-850f785f5443",
   "metadata": {},
   "outputs": [
    {
     "data": {
      "text/html": [
       "<div>\n",
       "<style scoped>\n",
       "    .dataframe tbody tr th:only-of-type {\n",
       "        vertical-align: middle;\n",
       "    }\n",
       "\n",
       "    .dataframe tbody tr th {\n",
       "        vertical-align: top;\n",
       "    }\n",
       "\n",
       "    .dataframe thead th {\n",
       "        text-align: right;\n",
       "    }\n",
       "</style>\n",
       "<table border=\"1\" class=\"dataframe\">\n",
       "  <thead>\n",
       "    <tr style=\"text-align: right;\">\n",
       "      <th></th>\n",
       "      <th>Country</th>\n",
       "      <th>Year</th>\n",
       "      <th>Status</th>\n",
       "      <th>life exp</th>\n",
       "      <th>Adult Mortality</th>\n",
       "      <th>infant deaths</th>\n",
       "      <th>Alcohol</th>\n",
       "      <th>health exp/GDP</th>\n",
       "      <th>Hepatitis B</th>\n",
       "      <th>Measles</th>\n",
       "      <th>...</th>\n",
       "      <th>Polio</th>\n",
       "      <th>Total expenditure</th>\n",
       "      <th>Diphtheria</th>\n",
       "      <th>HIV/AIDS</th>\n",
       "      <th>GDP</th>\n",
       "      <th>Population</th>\n",
       "      <th>thinness  1-19 years</th>\n",
       "      <th>thinness 5-9 years</th>\n",
       "      <th>HDI</th>\n",
       "      <th>Schooling</th>\n",
       "    </tr>\n",
       "  </thead>\n",
       "  <tbody>\n",
       "    <tr>\n",
       "      <th>0</th>\n",
       "      <td>Afghanistan</td>\n",
       "      <td>2015</td>\n",
       "      <td>Developing</td>\n",
       "      <td>65.0</td>\n",
       "      <td>263.0</td>\n",
       "      <td>62</td>\n",
       "      <td>0.01</td>\n",
       "      <td>71.279624</td>\n",
       "      <td>65.0</td>\n",
       "      <td>1154</td>\n",
       "      <td>...</td>\n",
       "      <td>6.0</td>\n",
       "      <td>8.16</td>\n",
       "      <td>65.0</td>\n",
       "      <td>0.1</td>\n",
       "      <td>584.25921</td>\n",
       "      <td>33736494.0</td>\n",
       "      <td>17.2</td>\n",
       "      <td>17.3</td>\n",
       "      <td>0.479</td>\n",
       "      <td>10.1</td>\n",
       "    </tr>\n",
       "  </tbody>\n",
       "</table>\n",
       "<p>1 rows × 22 columns</p>\n",
       "</div>"
      ],
      "text/plain": [
       "       Country  Year      Status  life exp  Adult Mortality  infant deaths  \\\n",
       "0  Afghanistan  2015  Developing      65.0            263.0             62   \n",
       "\n",
       "   Alcohol  health exp/GDP  Hepatitis B  Measles   ...  Polio  \\\n",
       "0     0.01       71.279624         65.0      1154  ...    6.0   \n",
       "\n",
       "   Total expenditure  Diphtheria    HIV/AIDS        GDP  Population  \\\n",
       "0               8.16         65.0        0.1  584.25921  33736494.0   \n",
       "\n",
       "    thinness  1-19 years   thinness 5-9 years    HDI  Schooling  \n",
       "0                   17.2                 17.3  0.479       10.1  \n",
       "\n",
       "[1 rows x 22 columns]"
      ]
     },
     "execution_count": 10,
     "metadata": {},
     "output_type": "execute_result"
    }
   ],
   "source": [
    "life.head(1)"
   ]
  },
  {
   "cell_type": "code",
   "execution_count": 11,
   "id": "2ddbbaac-0f19-4c7e-8605-e7711ec934a3",
   "metadata": {},
   "outputs": [
    {
     "name": "stdout",
     "output_type": "stream",
     "text": [
      "Global life expectancy has leaped by approx. 4 years from 2000 to 2014. It is a rapid increase.\n"
     ]
    },
    {
     "data": {
      "image/png": "[encoded data removed]",
      "text/plain": [
       "<Figure size 640x480 with 1 Axes>"
      ]
     },
     "metadata": {},
     "output_type": "display_data"
    }
   ],
   "source": [
    "g1=life.groupby('Year').agg({'life exp':'mean'})\n",
    "g1.reset_index(inplace=True)\n",
    "\n",
    "figure=plt.figure()\n",
    "axes=figure.add_axes([0.1,0.1,0.7,0.7])\n",
    "axes.plot( g1['Year'], g1['life exp'], color='green', lw=2.5, marker='o', markersize=5)\n",
    "axes.set_xlabel('Years')\n",
    "axes.set_ylabel('Life expectancy')\n",
    "axes.set_title('Global life expectancy')\n",
    "print('Global life expectancy has leaped by approx. 4 years from 2000 to 2014. It is a rapid increase.')"
   ]
  },
  {
   "cell_type": "code",
   "execution_count": 12,
   "id": "cac072ef-bc3c-4bdd-abd6-6256aabf0406",
   "metadata": {},
   "outputs": [],
   "source": [
    "africa=[\n",
    "    'Algeria', 'Angola', 'Benin', 'Botswana', 'Burkina Faso', 'Burundi', 'Cabo Verde',\n",
    "    'Cameroon', 'Central African Republic', 'Chad', 'Comoros', 'Congo', \"Côte d'Ivoire\",\n",
    "    'Djibouti', 'Egypt', 'Equatorial Guinea', 'Eritrea', 'Ethiopia', 'Gabon', 'Gambia',\n",
    "    'Ghana', 'Guinea', 'Guinea-Bissau', 'Kenya', 'Lesotho', 'Liberia', 'Libya',\n",
    "    'Madagascar', 'Malawi', 'Mali', 'Mauritania', 'Mauritius', 'Morocco', 'Mozambique',\n",
    "    'Namibia', 'Niger', 'Nigeria', 'Rwanda', 'Sao Tome and Principe', 'Senegal',\n",
    "    'Seychelles', 'Sierra Leone', 'Somalia', 'South Africa', 'South Sudan', 'Sudan',\n",
    "    'Swaziland', 'United Republic of Tanzania', 'Uganda', 'Zambia', 'Zimbabwe']\n",
    "asia=[\n",
    "    'Afghanistan', 'Armenia', 'Azerbaijan', 'Bahrain', 'Bangladesh', 'Bhutan',\n",
    "    'Brunei Darussalam', 'Cambodia', 'China', 'India', 'Indonesia',\n",
    "    'Iran (Islamic Republic of)', 'Iraq', 'Israel', 'Japan', 'Jordan', 'Kazakhstan',\n",
    "    'Kuwait', 'Kyrgyzstan', \"Lao People's Democratic Republic\", 'Lebanon', 'Malaysia',\n",
    "    'Maldives', 'Mongolia', 'Myanmar', 'Nepal', 'Oman', 'Pakistan', 'Papua New Guinea',\n",
    "    'Philippines', 'Qatar', 'Saudi Arabia', 'Singapore', 'Sri Lanka', 'Syrian Arab Republic',\n",
    "    'Tajikistan', 'Thailand', 'Timor-Leste', 'Turkey', 'Turkmenistan', 'United Arab Emirates',\n",
    "    'Uzbekistan', 'Viet Nam', 'Yemen']\n",
    "europe=[\n",
    "    'Albania', 'Austria', 'Belarus', 'Belgium', 'Bosnia and Herzegovina', 'Bulgaria',\n",
    "    'Croatia', 'Cyprus', 'Czechia', 'Denmark', 'Estonia', 'Finland', 'France', 'Georgia',\n",
    "    'Germany', 'Greece', 'Hungary', 'Iceland', 'Ireland', 'Italy', 'Latvia', 'Lithuania',\n",
    "    'Luxembourg', 'Malta', 'Montenegro', 'Netherlands', 'North Macedonia', 'Norway',\n",
    "    'Poland', 'Portugal', 'Republic of Moldova', 'Romania', 'Russian Federation',\n",
    "    'Serbia', 'Slovakia', 'Slovenia', 'Spain', 'Sweden', 'Switzerland', 'Ukraine',\n",
    "    'United Kingdom of Great Britain and Northern Ireland']\n",
    "north_america=[\n",
    "    'Belize', 'Canada', 'Costa Rica', 'El Salvador', 'Guatemala',\n",
    "    'Honduras', 'Mexico', 'Nicaragua', 'Panama', 'United States of America']\n",
    "south_america=[\n",
    "    'Antigua and Barbuda', 'Argentina', 'Bahamas', 'Barbados',\n",
    "    'Bolivia (Plurinational State of)', 'Brazil', 'Chile', 'Colombia',\n",
    "    'Cuba', 'Dominican Republic', 'Ecuador', 'Grenada', 'Guyana', 'Haiti',\n",
    "    'Jamaica', 'Paraguay', 'Peru', 'Saint Lucia',\n",
    "    'Saint Vincent and the Grenadines', 'Suriname',\n",
    "    'Trinidad and Tobago', 'Uruguay', 'Venezuela (Bolivarian Republic of)']\n",
    "oceania=[\n",
    "    'Australia', 'Fiji', 'Kiribati', 'Micronesia (Federated States of)', 'New Zealand',\n",
    "    'Samoa', 'Solomon Islands', 'Tonga', 'Vanuatu']"
   ]
  },
  {
   "cell_type": "code",
   "execution_count": 13,
   "id": "a4a29e94-3965-4798-bcd2-29d3931a88a6",
   "metadata": {},
   "outputs": [
    {
     "data": {
      "text/html": [
       "<div>\n",
       "<style scoped>\n",
       "    .dataframe tbody tr th:only-of-type {\n",
       "        vertical-align: middle;\n",
       "    }\n",
       "\n",
       "    .dataframe tbody tr th {\n",
       "        vertical-align: top;\n",
       "    }\n",
       "\n",
       "    .dataframe thead th {\n",
       "        text-align: right;\n",
       "    }\n",
       "</style>\n",
       "<table border=\"1\" class=\"dataframe\">\n",
       "  <thead>\n",
       "    <tr style=\"text-align: right;\">\n",
       "      <th></th>\n",
       "      <th>Country</th>\n",
       "      <th>Year</th>\n",
       "      <th>Status</th>\n",
       "      <th>life exp</th>\n",
       "      <th>Adult Mortality</th>\n",
       "      <th>infant deaths</th>\n",
       "      <th>Alcohol</th>\n",
       "      <th>health exp/GDP</th>\n",
       "      <th>Hepatitis B</th>\n",
       "      <th>Measles</th>\n",
       "      <th>...</th>\n",
       "      <th>Total expenditure</th>\n",
       "      <th>Diphtheria</th>\n",
       "      <th>HIV/AIDS</th>\n",
       "      <th>GDP</th>\n",
       "      <th>Population</th>\n",
       "      <th>thinness  1-19 years</th>\n",
       "      <th>thinness 5-9 years</th>\n",
       "      <th>HDI</th>\n",
       "      <th>Schooling</th>\n",
       "      <th>region</th>\n",
       "    </tr>\n",
       "  </thead>\n",
       "  <tbody>\n",
       "    <tr>\n",
       "      <th>0</th>\n",
       "      <td>Afghanistan</td>\n",
       "      <td>2015</td>\n",
       "      <td>Developing</td>\n",
       "      <td>65.0</td>\n",
       "      <td>263.0</td>\n",
       "      <td>62</td>\n",
       "      <td>0.01</td>\n",
       "      <td>71.279624</td>\n",
       "      <td>65.0</td>\n",
       "      <td>1154</td>\n",
       "      <td>...</td>\n",
       "      <td>8.16</td>\n",
       "      <td>65.0</td>\n",
       "      <td>0.1</td>\n",
       "      <td>584.259210</td>\n",
       "      <td>33736494.0</td>\n",
       "      <td>17.2</td>\n",
       "      <td>17.3</td>\n",
       "      <td>0.479</td>\n",
       "      <td>10.1</td>\n",
       "      <td>asia</td>\n",
       "    </tr>\n",
       "    <tr>\n",
       "      <th>1</th>\n",
       "      <td>Afghanistan</td>\n",
       "      <td>2014</td>\n",
       "      <td>Developing</td>\n",
       "      <td>59.9</td>\n",
       "      <td>271.0</td>\n",
       "      <td>64</td>\n",
       "      <td>0.01</td>\n",
       "      <td>73.523582</td>\n",
       "      <td>62.0</td>\n",
       "      <td>492</td>\n",
       "      <td>...</td>\n",
       "      <td>8.18</td>\n",
       "      <td>62.0</td>\n",
       "      <td>0.1</td>\n",
       "      <td>612.696514</td>\n",
       "      <td>327582.0</td>\n",
       "      <td>17.5</td>\n",
       "      <td>17.5</td>\n",
       "      <td>0.476</td>\n",
       "      <td>10.0</td>\n",
       "      <td>asia</td>\n",
       "    </tr>\n",
       "  </tbody>\n",
       "</table>\n",
       "<p>2 rows × 23 columns</p>\n",
       "</div>"
      ],
      "text/plain": [
       "       Country  Year      Status  life exp  Adult Mortality  infant deaths  \\\n",
       "0  Afghanistan  2015  Developing      65.0            263.0             62   \n",
       "1  Afghanistan  2014  Developing      59.9            271.0             64   \n",
       "\n",
       "   Alcohol  health exp/GDP  Hepatitis B  Measles   ...  Total expenditure  \\\n",
       "0     0.01       71.279624         65.0      1154  ...               8.16   \n",
       "1     0.01       73.523582         62.0       492  ...               8.18   \n",
       "\n",
       "   Diphtheria    HIV/AIDS         GDP  Population   thinness  1-19 years  \\\n",
       "0         65.0        0.1  584.259210  33736494.0                   17.2   \n",
       "1         62.0        0.1  612.696514    327582.0                   17.5   \n",
       "\n",
       "    thinness 5-9 years    HDI  Schooling  region  \n",
       "0                 17.3  0.479       10.1    asia  \n",
       "1                 17.5  0.476       10.0    asia  \n",
       "\n",
       "[2 rows x 23 columns]"
      ]
     },
     "execution_count": 13,
     "metadata": {},
     "output_type": "execute_result"
    }
   ],
   "source": [
    "life.head(1)\n",
    "\n",
    "def mapping(row):\n",
    "    if row['Country'] in africa:\n",
    "        region='africa'\n",
    "    elif row['Country'] in europe:\n",
    "        region='europe'\n",
    "    elif row['Country'] in oceania:\n",
    "        region='oceania'\n",
    "    elif row['Country'] in asia:\n",
    "        region='asia'\n",
    "    elif row['Country'] in north_america:\n",
    "        region='north america'\n",
    "    elif row['Country'] in south_america:\n",
    "        region='south america'\n",
    "    else:\n",
    "        region='unclassified'\n",
    "    return region \n",
    "\n",
    "life['region']=life.apply(mapping, axis=1)\n",
    "life.head(2)"
   ]
  },
  {
   "cell_type": "code",
   "execution_count": 14,
   "id": "7a980cf0-143d-4a33-8ce6-34317d890cb1",
   "metadata": {},
   "outputs": [
    {
     "data": {
      "text/html": [
       "<div>\n",
       "<style scoped>\n",
       "    .dataframe tbody tr th:only-of-type {\n",
       "        vertical-align: middle;\n",
       "    }\n",
       "\n",
       "    .dataframe tbody tr th {\n",
       "        vertical-align: top;\n",
       "    }\n",
       "\n",
       "    .dataframe thead th {\n",
       "        text-align: right;\n",
       "    }\n",
       "</style>\n",
       "<table border=\"1\" class=\"dataframe\">\n",
       "  <thead>\n",
       "    <tr style=\"text-align: right;\">\n",
       "      <th></th>\n",
       "      <th>Country</th>\n",
       "      <th>Year</th>\n",
       "      <th>Status</th>\n",
       "      <th>life exp</th>\n",
       "      <th>Adult Mortality</th>\n",
       "      <th>infant deaths</th>\n",
       "      <th>Alcohol</th>\n",
       "      <th>health exp/GDP</th>\n",
       "      <th>Hepatitis B</th>\n",
       "      <th>Measles</th>\n",
       "      <th>...</th>\n",
       "      <th>Total expenditure</th>\n",
       "      <th>Diphtheria</th>\n",
       "      <th>HIV/AIDS</th>\n",
       "      <th>GDP</th>\n",
       "      <th>Population</th>\n",
       "      <th>thinness  1-19 years</th>\n",
       "      <th>thinness 5-9 years</th>\n",
       "      <th>HDI</th>\n",
       "      <th>Schooling</th>\n",
       "      <th>region</th>\n",
       "    </tr>\n",
       "  </thead>\n",
       "  <tbody>\n",
       "    <tr>\n",
       "      <th>0</th>\n",
       "      <td>Afghanistan</td>\n",
       "      <td>2015</td>\n",
       "      <td>Developing</td>\n",
       "      <td>65.0</td>\n",
       "      <td>263.0</td>\n",
       "      <td>62</td>\n",
       "      <td>0.01</td>\n",
       "      <td>71.279624</td>\n",
       "      <td>65.0</td>\n",
       "      <td>1154</td>\n",
       "      <td>...</td>\n",
       "      <td>8.16</td>\n",
       "      <td>65.0</td>\n",
       "      <td>0.1</td>\n",
       "      <td>584.259210</td>\n",
       "      <td>33736494.0</td>\n",
       "      <td>17.2</td>\n",
       "      <td>17.3</td>\n",
       "      <td>0.479</td>\n",
       "      <td>10.1</td>\n",
       "      <td>asia</td>\n",
       "    </tr>\n",
       "    <tr>\n",
       "      <th>1</th>\n",
       "      <td>Afghanistan</td>\n",
       "      <td>2014</td>\n",
       "      <td>Developing</td>\n",
       "      <td>59.9</td>\n",
       "      <td>271.0</td>\n",
       "      <td>64</td>\n",
       "      <td>0.01</td>\n",
       "      <td>73.523582</td>\n",
       "      <td>62.0</td>\n",
       "      <td>492</td>\n",
       "      <td>...</td>\n",
       "      <td>8.18</td>\n",
       "      <td>62.0</td>\n",
       "      <td>0.1</td>\n",
       "      <td>612.696514</td>\n",
       "      <td>327582.0</td>\n",
       "      <td>17.5</td>\n",
       "      <td>17.5</td>\n",
       "      <td>0.476</td>\n",
       "      <td>10.0</td>\n",
       "      <td>asia</td>\n",
       "    </tr>\n",
       "    <tr>\n",
       "      <th>2</th>\n",
       "      <td>Afghanistan</td>\n",
       "      <td>2013</td>\n",
       "      <td>Developing</td>\n",
       "      <td>59.9</td>\n",
       "      <td>268.0</td>\n",
       "      <td>66</td>\n",
       "      <td>0.01</td>\n",
       "      <td>73.219243</td>\n",
       "      <td>64.0</td>\n",
       "      <td>430</td>\n",
       "      <td>...</td>\n",
       "      <td>8.13</td>\n",
       "      <td>64.0</td>\n",
       "      <td>0.1</td>\n",
       "      <td>631.744976</td>\n",
       "      <td>31731688.0</td>\n",
       "      <td>17.7</td>\n",
       "      <td>17.7</td>\n",
       "      <td>0.470</td>\n",
       "      <td>9.9</td>\n",
       "      <td>asia</td>\n",
       "    </tr>\n",
       "    <tr>\n",
       "      <th>3</th>\n",
       "      <td>Afghanistan</td>\n",
       "      <td>2012</td>\n",
       "      <td>Developing</td>\n",
       "      <td>59.5</td>\n",
       "      <td>272.0</td>\n",
       "      <td>69</td>\n",
       "      <td>0.01</td>\n",
       "      <td>78.184215</td>\n",
       "      <td>67.0</td>\n",
       "      <td>2787</td>\n",
       "      <td>...</td>\n",
       "      <td>8.52</td>\n",
       "      <td>67.0</td>\n",
       "      <td>0.1</td>\n",
       "      <td>669.959000</td>\n",
       "      <td>3696958.0</td>\n",
       "      <td>17.9</td>\n",
       "      <td>18.0</td>\n",
       "      <td>0.463</td>\n",
       "      <td>9.8</td>\n",
       "      <td>asia</td>\n",
       "    </tr>\n",
       "    <tr>\n",
       "      <th>4</th>\n",
       "      <td>Afghanistan</td>\n",
       "      <td>2011</td>\n",
       "      <td>Developing</td>\n",
       "      <td>59.2</td>\n",
       "      <td>275.0</td>\n",
       "      <td>71</td>\n",
       "      <td>0.01</td>\n",
       "      <td>7.097109</td>\n",
       "      <td>68.0</td>\n",
       "      <td>3013</td>\n",
       "      <td>...</td>\n",
       "      <td>7.87</td>\n",
       "      <td>68.0</td>\n",
       "      <td>0.1</td>\n",
       "      <td>63.537231</td>\n",
       "      <td>2978599.0</td>\n",
       "      <td>18.2</td>\n",
       "      <td>18.2</td>\n",
       "      <td>0.454</td>\n",
       "      <td>9.5</td>\n",
       "      <td>asia</td>\n",
       "    </tr>\n",
       "  </tbody>\n",
       "</table>\n",
       "<p>5 rows × 23 columns</p>\n",
       "</div>"
      ],
      "text/plain": [
       "       Country  Year      Status  life exp  Adult Mortality  infant deaths  \\\n",
       "0  Afghanistan  2015  Developing      65.0            263.0             62   \n",
       "1  Afghanistan  2014  Developing      59.9            271.0             64   \n",
       "2  Afghanistan  2013  Developing      59.9            268.0             66   \n",
       "3  Afghanistan  2012  Developing      59.5            272.0             69   \n",
       "4  Afghanistan  2011  Developing      59.2            275.0             71   \n",
       "\n",
       "   Alcohol  health exp/GDP  Hepatitis B  Measles   ...  Total expenditure  \\\n",
       "0     0.01       71.279624         65.0      1154  ...               8.16   \n",
       "1     0.01       73.523582         62.0       492  ...               8.18   \n",
       "2     0.01       73.219243         64.0       430  ...               8.13   \n",
       "3     0.01       78.184215         67.0      2787  ...               8.52   \n",
       "4     0.01        7.097109         68.0      3013  ...               7.87   \n",
       "\n",
       "   Diphtheria    HIV/AIDS         GDP  Population   thinness  1-19 years  \\\n",
       "0         65.0        0.1  584.259210  33736494.0                   17.2   \n",
       "1         62.0        0.1  612.696514    327582.0                   17.5   \n",
       "2         64.0        0.1  631.744976  31731688.0                   17.7   \n",
       "3         67.0        0.1  669.959000   3696958.0                   17.9   \n",
       "4         68.0        0.1   63.537231   2978599.0                   18.2   \n",
       "\n",
       "    thinness 5-9 years    HDI  Schooling  region  \n",
       "0                 17.3  0.479       10.1    asia  \n",
       "1                 17.5  0.476       10.0    asia  \n",
       "2                 17.7  0.470        9.9    asia  \n",
       "3                 18.0  0.463        9.8    asia  \n",
       "4                 18.2  0.454        9.5    asia  \n",
       "\n",
       "[5 rows x 23 columns]"
      ]
     },
     "execution_count": 14,
     "metadata": {},
     "output_type": "execute_result"
    }
   ],
   "source": [
    "life=life[ life['region'] !='unclassified'].copy()\n",
    "life['region'].value_counts()\n",
    "# now we have classified everything by region\n",
    "life.head()"
   ]
  },
  {
   "cell_type": "code",
   "execution_count": 15,
   "id": "a3a08736-c0e3-441d-af69-c0f08baed9da",
   "metadata": {},
   "outputs": [
    {
     "data": {
      "text/html": [
       "<div>\n",
       "<style scoped>\n",
       "    .dataframe tbody tr th:only-of-type {\n",
       "        vertical-align: middle;\n",
       "    }\n",
       "\n",
       "    .dataframe tbody tr th {\n",
       "        vertical-align: top;\n",
       "    }\n",
       "\n",
       "    .dataframe thead th {\n",
       "        text-align: right;\n",
       "    }\n",
       "</style>\n",
       "<table border=\"1\" class=\"dataframe\">\n",
       "  <thead>\n",
       "    <tr style=\"text-align: right;\">\n",
       "      <th></th>\n",
       "      <th>year</th>\n",
       "      <th>region</th>\n",
       "      <th>mean life exp</th>\n",
       "    </tr>\n",
       "  </thead>\n",
       "  <tbody>\n",
       "    <tr>\n",
       "      <th>0</th>\n",
       "      <td>2000</td>\n",
       "      <td>africa</td>\n",
       "      <td>54.433333</td>\n",
       "    </tr>\n",
       "    <tr>\n",
       "      <th>1</th>\n",
       "      <td>2000</td>\n",
       "      <td>asia</td>\n",
       "      <td>68.470455</td>\n",
       "    </tr>\n",
       "    <tr>\n",
       "      <th>2</th>\n",
       "      <td>2000</td>\n",
       "      <td>europe</td>\n",
       "      <td>75.202500</td>\n",
       "    </tr>\n",
       "    <tr>\n",
       "      <th>3</th>\n",
       "      <td>2000</td>\n",
       "      <td>north america</td>\n",
       "      <td>73.300000</td>\n",
       "    </tr>\n",
       "    <tr>\n",
       "      <th>4</th>\n",
       "      <td>2000</td>\n",
       "      <td>oceania</td>\n",
       "      <td>70.588889</td>\n",
       "    </tr>\n",
       "  </tbody>\n",
       "</table>\n",
       "</div>"
      ],
      "text/plain": [
       "   year         region  mean life exp\n",
       "0  2000         africa      54.433333\n",
       "1  2000           asia      68.470455\n",
       "2  2000         europe      75.202500\n",
       "3  2000  north america      73.300000\n",
       "4  2000        oceania      70.588889"
      ]
     },
     "execution_count": 15,
     "metadata": {},
     "output_type": "execute_result"
    }
   ],
   "source": [
    "g2=life.groupby(['Year','region']).agg({'life exp':'mean'})\n",
    "g2.reset_index(inplace=True)\n",
    "g2.columns=['year','region','mean life exp']\n",
    "g2.head()"
   ]
  },
  {
   "cell_type": "code",
   "execution_count": 16,
   "id": "9490e6c4-1624-4f4a-a863-edfd3bd89f82",
   "metadata": {},
   "outputs": [
    {
     "data": {
      "application/vnd.plotly.v1+json": {
       "config": {
        "plotlyServerURL": "https://plot.ly"
       },
       "data": [
        {
         "coloraxis": "coloraxis",
         "geo": "geo",
         "hovertemplate": "<b>%{hovertext}</b><br><br>codes=%{location}<br>Schooling=%{z}<extra></extra>",
         "hovertext": [
          "Afghanistan",
          "Albania",
          "Algeria",
          "Angola",
          "Antigua and Barbuda",
          "Argentina",
          "Armenia",
          "Australia",
          "Austria",
          "Azerbaijan",
          "Bahamas",
          "Bahrain",
          "Bangladesh",
          "Barbados",
          "Belarus",
          "Belgium",
          "Belize",
          "Benin",
          "Bhutan",
          "Bolivia (Plurinational State of)",
          "Bosnia and Herzegovina",
          "Botswana",
          "Brazil",
          "Brunei Darussalam",
          "Bulgaria",
          "Burkina Faso",
          "Burundi",
          "Côte d'Ivoire",
          "Cabo Verde",
          "Cambodia",
          "Cameroon",
          "Canada",
          "Central African Republic",
          "Chad",
          "Chile",
          "China",
          "Colombia",
          "Comoros",
          "Congo",
          "Costa Rica",
          "Croatia",
          "Cuba",
          "Cyprus",
          "Czechia",
          "Democratic People's Republic of Korea",
          "Democratic Republic of the Congo",
          "Denmark",
          "Djibouti",
          "Dominican Republic",
          "Ecuador",
          "Egypt",
          "El Salvador",
          "Equatorial Guinea",
          "Eritrea",
          "Estonia",
          "Ethiopia",
          "Fiji",
          "Finland",
          "France",
          "Gabon",
          "Gambia",
          "Georgia",
          "Germany",
          "Ghana",
          "Greece",
          "Grenada",
          "Guatemala",
          "Guinea",
          "Guinea-Bissau",
          "Guyana",
          "Haiti",
          "Honduras",
          "Hungary",
          "Iceland",
          "India",
          "Indonesia",
          "Iran (Islamic Republic of)",
          "Iraq",
          "Ireland",
          "Israel",
          "Italy",
          "Jamaica",
          "Japan",
          "Jordan",
          "Kazakhstan",
          "Kenya",
          "Kiribati",
          "Kuwait",
          "Kyrgyzstan",
          "Lao People's Democratic Republic",
          "Latvia",
          "Lebanon",
          "Lesotho",
          "Liberia",
          "Libya",
          "Lithuania",
          "Luxembourg",
          "Madagascar",
          "Malawi",
          "Malaysia",
          "Maldives",
          "Mali",
          "Malta",
          "Mauritania",
          "Mauritius",
          "Mexico",
          "Micronesia (Federated States of)",
          "Mongolia",
          "Montenegro",
          "Morocco",
          "Mozambique",
          "Myanmar",
          "Namibia",
          "Nepal",
          "Netherlands",
          "New Zealand",
          "Nicaragua",
          "Niger",
          "Nigeria",
          "Norway",
          "Oman",
          "Pakistan",
          "Panama",
          "Papua New Guinea",
          "Paraguay",
          "Peru",
          "Philippines",
          "Poland",
          "Portugal",
          "Qatar",
          "Republic of Korea",
          "Republic of Moldova",
          "Romania",
          "Russian Federation",
          "Rwanda",
          "Saint Lucia",
          "Saint Vincent and the Grenadines",
          "Samoa",
          "Sao Tome and Principe",
          "Saudi Arabia",
          "Senegal",
          "Serbia",
          "Seychelles",
          "Sierra Leone",
          "Singapore",
          "Slovakia",
          "Slovenia",
          "Solomon Islands",
          "Somalia",
          "South Africa",
          "South Sudan",
          "Spain",
          "Sri Lanka",
          "Sudan",
          "Suriname",
          "Swaziland",
          "Sweden",
          "Switzerland",
          "Syrian Arab Republic",
          "Tajikistan",
          "Thailand",
          "The former Yugoslav republic of Macedonia",
          "Timor-Leste",
          "Togo",
          "Tonga",
          "Trinidad and Tobago",
          "Tunisia",
          "Turkey",
          "Turkmenistan",
          "Uganda",
          "Ukraine",
          "United Arab Emirates",
          "United Kingdom of Great Britain and Northern Ireland",
          "United Republic of Tanzania",
          "United States of America",
          "Uruguay",
          "Uzbekistan",
          "Vanuatu",
          "Venezuela (Bolivarian Republic of)",
          "Viet Nam",
          "Yemen",
          "Zambia",
          "Zimbabwe"
         ],
         "locations": [
          "AFG",
          "ALB",
          "DZA",
          "AGO",
          "ATG",
          "ARG",
          "ARM",
          "AUS",
          "AUT",
          "AZE",
          "BHS",
          "BHR",
          "BGD",
          "BRB",
          "BLR",
          "BEL",
          "BLZ",
          "BEN",
          "BTN",
          null,
          "BIH",
          "BWA",
          "BRA",
          "BRN",
          "BGR",
          "BFA",
          "BDI",
          "CIV",
          "CPV",
          "KHM",
          "CMR",
          "CAN",
          "CAF",
          "TCD",
          "CHL",
          "CHN",
          "COL",
          "COM",
          "COG",
          "CRI",
          "HRV",
          "CUB",
          "CYP",
          "CZE",
          "PRK",
          null,
          "DNK",
          "DJI",
          "DOM",
          "ECU",
          "EGY",
          "SLV",
          "GNQ",
          "ERI",
          "EST",
          "ETH",
          "FJI",
          "FIN",
          "FRA",
          "GAB",
          "GMB",
          "GEO",
          "DEU",
          "GHA",
          "GRC",
          "GRD",
          "GTM",
          "GIN",
          "GNB",
          "GUY",
          "HTI",
          "HND",
          "HUN",
          "ISL",
          "IND",
          "IDN",
          null,
          "IRQ",
          "IRL",
          "ISR",
          "ITA",
          "JAM",
          "JPN",
          "JOR",
          "KAZ",
          "KEN",
          "KIR",
          "KWT",
          "KGZ",
          "LAO",
          "LVA",
          "LBN",
          "LSO",
          "LBR",
          "LBY",
          "LTU",
          "LUX",
          "MDG",
          "MWI",
          "MYS",
          "MDV",
          "MLI",
          "MLT",
          "MRT",
          "MUS",
          "MEX",
          null,
          "MNG",
          "MNE",
          "MAR",
          "MOZ",
          "MMR",
          "NAM",
          "NPL",
          "NLD",
          "NZL",
          "NIC",
          "NER",
          "NGA",
          "NOR",
          "OMN",
          "PAK",
          "PAN",
          "PNG",
          "PRY",
          "PER",
          "PHL",
          "POL",
          "PRT",
          "QAT",
          null,
          "MDA",
          "ROU",
          "RUS",
          "RWA",
          "LCA",
          "VCT",
          "WSM",
          "STP",
          "SAU",
          "SEN",
          "SRB",
          "SYC",
          "SLE",
          "SGP",
          "SVK",
          "SVN",
          "SLB",
          "SOM",
          "ZAF",
          "SSD",
          "ESP",
          "LKA",
          "SDN",
          "SUR",
          null,
          "SWE",
          "CHE",
          "SYR",
          "TJK",
          "THA",
          null,
          "TLS",
          "TGO",
          "TON",
          "TTO",
          "TUN",
          "TUR",
          "TKM",
          "UGA",
          "UKR",
          "ARE",
          "GBR",
          "TZA",
          "USA",
          "URY",
          "UZB",
          "VUT",
          null,
          "VNM",
          "YEM",
          "ZMB",
          "ZWE"
         ],
         "name": "",
         "type": "choropleth",
         "z": {
          "_inputArray": {
           "0": 10.1,
           "1": 14.2,
           "10": 12.6,
           "100": 12.7,
           "101": 8.4,
           "102": 14.6,
           "103": 8.5,
           "104": 15.2,
           "105": 13.3,
           "106": 11.7,
           "107": 14.8,
           "108": 15.1,
           "109": 12.1,
           "11": 14.5,
           "110": 9.1,
           "111": 9.1,
           "112": 11.7,
           "113": 12.2,
           "114": 18.1,
           "115": 19.2,
           "116": 11.7,
           "117": 5.4,
           "118": 10,
           "119": 17.7,
           "12": 10.2,
           "120": 13.7,
           "121": 8.1,
           "122": 13,
           "123": 10,
           "124": 12.3,
           "125": 13.4,
           "126": 11.7,
           "127": 16.4,
           "128": 16.6,
           "129": 13.4,
           "13": 15.3,
           "130": null,
           "131": null,
           "132": 14.7,
           "133": 15,
           "134": 10.8,
           "135": 13.1,
           "136": 13.3,
           "137": 12.9,
           "138": 11.2,
           "139": 16.1,
           "14": 15.6,
           "140": 9.5,
           "141": 14.4,
           "142": 14.1,
           "143": 9.5,
           "144": 15.4,
           "145": 15,
           "146": 17.3,
           "147": 9.6,
           "148": null,
           "149": 13,
           "15": 16.6,
           "150": 4.9,
           "151": 17.7,
           "152": 14,
           "153": 7.2,
           "154": 12.7,
           "155": 11.4,
           "156": 15.9,
           "157": 16,
           "158": 9,
           "159": 11.3,
           "16": 12.8,
           "160": 13.6,
           "161": 12.9,
           "162": 12.5,
           "163": 12,
           "164": 14.3,
           "165": 12.7,
           "166": 14.6,
           "167": 14.5,
           "168": 10.8,
           "169": 10,
           "17": 10.7,
           "170": 15.3,
           "171": 13.3,
           "172": null,
           "173": null,
           "174": null,
           "175": 15.5,
           "176": 12.1,
           "177": 10.8,
           "178": 14.3,
           "179": 12.6,
           "18": 12.5,
           "180": 9,
           "181": 12.5,
           "182": 10.3,
           "19": 13.8,
           "2": 14.4,
           "20": 14.2,
           "21": 12.6,
           "22": 15.2,
           "23": 14.9,
           "24": 15,
           "25": 7.7,
           "26": 10.6,
           "27": null,
           "28": 13.5,
           "29": 10.9,
           "3": 11.4,
           "30": 10.4,
           "31": 16.3,
           "32": 7.1,
           "33": 7.3,
           "34": 16.3,
           "35": 13.5,
           "36": 13.6,
           "37": 11.1,
           "38": 11.1,
           "39": 14.2,
           "4": 13.9,
           "40": 15.3,
           "41": 13.9,
           "42": 14.3,
           "43": null,
           "44": null,
           "45": null,
           "46": 19.2,
           "47": 6.3,
           "48": 13.2,
           "49": 14,
           "5": 17.3,
           "50": 13.1,
           "51": 13.2,
           "52": 9.2,
           "53": 5,
           "54": 16.5,
           "55": 8.4,
           "56": 15.3,
           "57": 17,
           "58": 16.3,
           "59": 12.6,
           "6": 12.7,
           "60": 8.9,
           "61": 13.9,
           "62": 17.1,
           "63": 11.4,
           "64": 17.2,
           "65": 15.8,
           "66": 10.7,
           "67": 8.8,
           "68": 9.2,
           "69": 10.3,
           "7": 20.4,
           "70": 9.1,
           "71": 11.2,
           "72": 15.6,
           "73": 19,
           "74": 11.6,
           "75": 12.9,
           "76": 14.8,
           "77": 10.1,
           "78": 18.6,
           "79": 16,
           "8": 15.9,
           "80": 16.3,
           "81": 12.8,
           "82": 15.3,
           "83": 13.1,
           "84": 15,
           "85": 11.1,
           "86": 11.9,
           "87": 13.3,
           "88": 13,
           "89": 10.8,
           "9": 12.7,
           "90": 16,
           "91": 13.3,
           "92": 10.7,
           "93": 9.9,
           "94": 13.4,
           "95": 16.5,
           "96": 13.9,
           "97": 10.3,
           "98": 10.8,
           "99": 13.1,
           "bdata": "MzMzMzMzJEBmZmZmZmYsQM3MzMzMzCxAzczMzMzMJkDNzMzMzMwrQM3MzMzMTDFAZmZmZmZmKUBmZmZmZmY0QM3MzMzMzC9AZmZmZmZmKUAzMzMzMzMpQAAAAAAAAC1AZmZmZmZmJECamZmZmZkuQDMzMzMzMy9AmpmZmZmZMECamZmZmZkpQGZmZmZmZiVAAAAAAAAAKUCamZmZmZkrQGZmZmZmZixAMzMzMzMzKUBmZmZmZmYuQM3MzMzMzC1AAAAAAAAALkDNzMzMzMweQDMzMzMzMyVAAAAAAAAA+H8AAAAAAAArQM3MzMzMzCVAzczMzMzMJEDNzMzMzEwwQGZmZmZmZhxAMzMzMzMzHUDNzMzMzEwwQAAAAAAAACtAMzMzMzMzK0AzMzMzMzMmQDMzMzMzMyZAZmZmZmZmLECamZmZmZkuQM3MzMzMzCtAmpmZmZmZLEAAAAAAAAD4fwAAAAAAAPh/AAAAAAAA+H8zMzMzMzMzQDMzMzMzMxlAZmZmZmZmKkAAAAAAAAAsQDMzMzMzMypAZmZmZmZmKkBmZmZmZmYiQAAAAAAAABRAAAAAAACAMEDNzMzMzMwgQJqZmZmZmS5AAAAAAAAAMUDNzMzMzEwwQDMzMzMzMylAzczMzMzMIUDNzMzMzMwrQJqZmZmZGTFAzczMzMzMJkAzMzMzMzMxQJqZmZmZmS9AZmZmZmZmJUCamZmZmZkhQGZmZmZmZiJAmpmZmZmZJEAzMzMzMzMiQGZmZmZmZiZAMzMzMzMzL0AAAAAAAAAzQDMzMzMzMydAzczMzMzMKUCamZmZmZktQDMzMzMzMyRAmpmZmZmZMkAAAAAAAAAwQM3MzMzMTDBAmpmZmZmZKUCamZmZmZkuQDMzMzMzMypAAAAAAAAALkAzMzMzMzMmQM3MzMzMzCdAmpmZmZmZKkAAAAAAAAAqQJqZmZmZmSVAAAAAAAAAMECamZmZmZkqQGZmZmZmZiVAzczMzMzMI0DNzMzMzMwqQAAAAAAAgDBAzczMzMzMK0CamZmZmZkkQJqZmZmZmSVAMzMzMzMzKkBmZmZmZmYpQM3MzMzMzCBAMzMzMzMzLUAAAAAAAAAhQGZmZmZmZi5AmpmZmZmZKkBmZmZmZmYnQJqZmZmZmS1AMzMzMzMzLkAzMzMzMzMoQDMzMzMzMyJAMzMzMzMzIkBmZmZmZmYnQGZmZmZmZihAmpmZmZkZMkAzMzMzMzMzQGZmZmZmZidAmpmZmZmZFUAAAAAAAAAkQDMzMzMzszFAZmZmZmZmK0AzMzMzMzMgQAAAAAAAACpAAAAAAAAAJECamZmZmZkoQM3MzMzMzCpAZmZmZmZmJ0BmZmZmZmYwQJqZmZmZmTBAzczMzMzMKkAAAAAAAAD4fwAAAAAAAPh/ZmZmZmZmLUAAAAAAAAAuQJqZmZmZmSVAMzMzMzMzKkCamZmZmZkqQM3MzMzMzClAZmZmZmZmJkCamZmZmRkwQAAAAAAAACNAzczMzMzMLEAzMzMzMzMsQAAAAAAAACNAzczMzMzMLkAAAAAAAAAuQM3MzMzMTDFAMzMzMzMzI0AAAAAAAAD4fwAAAAAAACpAmpmZmZmZE0AzMzMzM7MxQAAAAAAAACxAzczMzMzMHEBmZmZmZmYpQM3MzMzMzCZAzczMzMzML0AAAAAAAAAwQAAAAAAAACJAmpmZmZmZJkAzMzMzMzMrQM3MzMzMzClAAAAAAAAAKUAAAAAAAAAoQJqZmZmZmSxAZmZmZmZmKUAzMzMzMzMtQAAAAAAAAC1AmpmZmZmZJUAAAAAAAAAkQJqZmZmZmS5AmpmZmZmZKkAAAAAAAAD4fwAAAAAAAPh/AAAAAAAA+H8AAAAAAAAvQDMzMzMzMyhAmpmZmZmZJUCamZmZmZksQDMzMzMzMylAAAAAAAAAIkAAAAAAAAApQJqZmZmZmSRA",
           "dtype": "f8",
           "shape": "183"
          },
          "bdata": "MzMzMzMzJEBmZmZmZmYsQM3MzMzMzCxAzczMzMzMJkDNzMzMzMwrQM3MzMzMTDFAZmZmZmZmKUBmZmZmZmY0QM3MzMzMzC9AZmZmZmZmKUAzMzMzMzMpQAAAAAAAAC1AZmZmZmZmJECamZmZmZkuQDMzMzMzMy9AmpmZmZmZMECamZmZmZkpQGZmZmZmZiVAAAAAAAAAKUCamZmZmZkrQGZmZmZmZixAMzMzMzMzKUBmZmZmZmYuQM3MzMzMzC1AAAAAAAAALkDNzMzMzMweQDMzMzMzMyVAAAAAAAAA+H8AAAAAAAArQM3MzMzMzCVAzczMzMzMJEDNzMzMzEwwQGZmZmZmZhxAMzMzMzMzHUDNzMzMzEwwQAAAAAAAACtAMzMzMzMzK0AzMzMzMzMmQDMzMzMzMyZAZmZmZmZmLECamZmZmZkuQM3MzMzMzCtAmpmZmZmZLEAAAAAAAAD4fwAAAAAAAPh/AAAAAAAA+H8zMzMzMzMzQDMzMzMzMxlAZmZmZmZmKkAAAAAAAAAsQDMzMzMzMypAZmZmZmZmKkBmZmZmZmYiQAAAAAAAABRAAAAAAACAMEDNzMzMzMwgQJqZmZmZmS5AAAAAAAAAMUDNzMzMzEwwQDMzMzMzMylAzczMzMzMIUDNzMzMzMwrQJqZmZmZGTFAzczMzMzMJkAzMzMzMzMxQJqZmZmZmS9AZmZmZmZmJUCamZmZmZkhQGZmZmZmZiJAmpmZmZmZJEAzMzMzMzMiQGZmZmZmZiZAMzMzMzMzL0AAAAAAAAAzQDMzMzMzMydAzczMzMzMKUCamZmZmZktQDMzMzMzMyRAmpmZmZmZMkAAAAAAAAAwQM3MzMzMTDBAmpmZmZmZKUCamZmZmZkuQDMzMzMzMypAAAAAAAAALkAzMzMzMzMmQM3MzMzMzCdAmpmZmZmZKkAAAAAAAAAqQJqZmZmZmSVAAAAAAAAAMECamZmZmZkqQGZmZmZmZiVAzczMzMzMI0DNzMzMzMwqQAAAAAAAgDBAzczMzMzMK0CamZmZmZkkQJqZmZmZmSVAMzMzMzMzKkBmZmZmZmYpQM3MzMzMzCBAMzMzMzMzLUAAAAAAAAAhQGZmZmZmZi5AmpmZmZmZKkBmZmZmZmYnQJqZmZmZmS1AMzMzMzMzLkAzMzMzMzMoQDMzMzMzMyJAMzMzMzMzIkBmZmZmZmYnQGZmZmZmZihAmpmZmZkZMkAzMzMzMzMzQGZmZmZmZidAmpmZmZmZFUAAAAAAAAAkQDMzMzMzszFAZmZmZmZmK0AzMzMzMzMgQAAAAAAAACpAAAAAAAAAJECamZmZmZkoQM3MzMzMzCpAZmZmZmZmJ0BmZmZmZmYwQJqZmZmZmTBAzczMzMzMKkAAAAAAAAD4fwAAAAAAAPh/ZmZmZmZmLUAAAAAAAAAuQJqZmZmZmSVAMzMzMzMzKkCamZmZmZkqQM3MzMzMzClAZmZmZmZmJkCamZmZmRkwQAAAAAAAACNAzczMzMzMLEAzMzMzMzMsQAAAAAAAACNAzczMzMzMLkAAAAAAAAAuQM3MzMzMTDFAMzMzMzMzI0AAAAAAAAD4fwAAAAAAACpAmpmZmZmZE0AzMzMzM7MxQAAAAAAAACxAzczMzMzMHEBmZmZmZmYpQM3MzMzMzCZAzczMzMzML0AAAAAAAAAwQAAAAAAAACJAmpmZmZmZJkAzMzMzMzMrQM3MzMzMzClAAAAAAAAAKUAAAAAAAAAoQJqZmZmZmSxAZmZmZmZmKUAzMzMzMzMtQAAAAAAAAC1AmpmZmZmZJUAAAAAAAAAkQJqZmZmZmS5AmpmZmZmZKkAAAAAAAAD4fwAAAAAAAPh/AAAAAAAA+H8AAAAAAAAvQDMzMzMzMyhAmpmZmZmZJUCamZmZmZksQDMzMzMzMylAAAAAAAAAIkAAAAAAAAApQJqZmZmZmSRA",
          "dtype": "f8"
         }
        }
       ],
       "layout": {
        "coloraxis": {
         "colorbar": {
          "title": {
           "text": "Schooling"
          }
         },
         "colorscale": [
          [
           0,
           "#0d0887"
          ],
          [
           0.1111111111111111,
           "#46039f"
          ],
          [
           0.2222222222222222,
           "#7201a8"
          ],
          [
           0.3333333333333333,
           "#9c179e"
          ],
          [
           0.4444444444444444,
           "#bd3786"
          ],
          [
           0.5555555555555556,
           "#d8576b"
          ],
          [
           0.6666666666666666,
           "#ed7953"
          ],
          [
           0.7777777777777778,
           "#fb9f3a"
          ],
          [
           0.8888888888888888,
           "#fdca26"
          ],
          [
           1,
           "#f0f921"
          ]
         ]
        },
        "geo": {
         "center": {
          "lat": -18.037060365141087,
          "lon": 32.30667875971101
         },
         "domain": {
          "x": [
           0,
           1
          ],
          "y": [
           0,
           1
          ]
         },
         "projection": {
          "rotation": {
           "lon": 32.30667875971101
          },
          "scale": 0.6910290847271389,
          "type": "natural earth"
         }
        },
        "height": 600,
        "legend": {
         "tracegroupgap": 0
        },
        "template": {
         "data": {
          "bar": [
           {
            "error_x": {
             "color": "#2a3f5f"
            },
            "error_y": {
             "color": "#2a3f5f"
            },
            "marker": {
             "line": {
              "color": "#E5ECF6",
              "width": 0.5
             },
             "pattern": {
              "fillmode": "overlay",
              "size": 10,
              "solidity": 0.2
             }
            },
            "type": "bar"
           }
          ],
          "barpolar": [
           {
            "marker": {
             "line": {
              "color": "#E5ECF6",
              "width": 0.5
             },
             "pattern": {
              "fillmode": "overlay",
              "size": 10,
              "solidity": 0.2
             }
            },
            "type": "barpolar"
           }
          ],
          "carpet": [
           {
            "aaxis": {
             "endlinecolor": "#2a3f5f",
             "gridcolor": "white",
             "linecolor": "white",
             "minorgridcolor": "white",
             "startlinecolor": "#2a3f5f"
            },
            "baxis": {
             "endlinecolor": "#2a3f5f",
             "gridcolor": "white",
             "linecolor": "white",
             "minorgridcolor": "white",
             "startlinecolor": "#2a3f5f"
            },
            "type": "carpet"
           }
          ],
          "choropleth": [
           {
            "colorbar": {
             "outlinewidth": 0,
             "ticks": ""
            },
            "type": "choropleth"
           }
          ],
          "contour": [
           {
            "colorbar": {
             "outlinewidth": 0,
             "ticks": ""
            },
            "colorscale": [
             [
              0,
              "#0d0887"
             ],
             [
              0.1111111111111111,
              "#46039f"
             ],
             [
              0.2222222222222222,
              "#7201a8"
             ],
             [
              0.3333333333333333,
              "#9c179e"
             ],
             [
              0.4444444444444444,
              "#bd3786"
             ],
             [
              0.5555555555555556,
              "#d8576b"
             ],
             [
              0.6666666666666666,
              "#ed7953"
             ],
             [
              0.7777777777777778,
              "#fb9f3a"
             ],
             [
              0.8888888888888888,
              "#fdca26"
             ],
             [
              1,
              "#f0f921"
             ]
            ],
            "type": "contour"
           }
          ],
          "contourcarpet": [
           {
            "colorbar": {
             "outlinewidth": 0,
             "ticks": ""
            },
            "type": "contourcarpet"
           }
          ],
          "heatmap": [
           {
            "colorbar": {
             "outlinewidth": 0,
             "ticks": ""
            },
            "colorscale": [
             [
              0,
              "#0d0887"
             ],
             [
              0.1111111111111111,
              "#46039f"
             ],
             [
              0.2222222222222222,
              "#7201a8"
             ],
             [
              0.3333333333333333,
              "#9c179e"
             ],
             [
              0.4444444444444444,
              "#bd3786"
             ],
             [
              0.5555555555555556,
              "#d8576b"
             ],
             [
              0.6666666666666666,
              "#ed7953"
             ],
             [
              0.7777777777777778,
              "#fb9f3a"
             ],
             [
              0.8888888888888888,
              "#fdca26"
             ],
             [
              1,
              "#f0f921"
             ]
            ],
            "type": "heatmap"
           }
          ],
          "histogram": [
           {
            "marker": {
             "pattern": {
              "fillmode": "overlay",
              "size": 10,
              "solidity": 0.2
             }
            },
            "type": "histogram"
           }
          ],
          "histogram2d": [
           {
            "colorbar": {
             "outlinewidth": 0,
             "ticks": ""
            },
            "colorscale": [
             [
              0,
              "#0d0887"
             ],
             [
              0.1111111111111111,
              "#46039f"
             ],
             [
              0.2222222222222222,
              "#7201a8"
             ],
             [
              0.3333333333333333,
              "#9c179e"
             ],
             [
              0.4444444444444444,
              "#bd3786"
             ],
             [
              0.5555555555555556,
              "#d8576b"
             ],
             [
              0.6666666666666666,
              "#ed7953"
             ],
             [
              0.7777777777777778,
              "#fb9f3a"
             ],
             [
              0.8888888888888888,
              "#fdca26"
             ],
             [
              1,
              "#f0f921"
             ]
            ],
            "type": "histogram2d"
           }
          ],
          "histogram2dcontour": [
           {
            "colorbar": {
             "outlinewidth": 0,
             "ticks": ""
            },
            "colorscale": [
             [
              0,
              "#0d0887"
             ],
             [
              0.1111111111111111,
              "#46039f"
             ],
             [
              0.2222222222222222,
              "#7201a8"
             ],
             [
              0.3333333333333333,
              "#9c179e"
             ],
             [
              0.4444444444444444,
              "#bd3786"
             ],
             [
              0.5555555555555556,
              "#d8576b"
             ],
             [
              0.6666666666666666,
              "#ed7953"
             ],
             [
              0.7777777777777778,
              "#fb9f3a"
             ],
             [
              0.8888888888888888,
              "#fdca26"
             ],
             [
              1,
              "#f0f921"
             ]
            ],
            "type": "histogram2dcontour"
           }
          ],
          "mesh3d": [
           {
            "colorbar": {
             "outlinewidth": 0,
             "ticks": ""
            },
            "type": "mesh3d"
           }
          ],
          "parcoords": [
           {
            "line": {
             "colorbar": {
              "outlinewidth": 0,
              "ticks": ""
             }
            },
            "type": "parcoords"
           }
          ],
          "pie": [
           {
            "automargin": true,
            "type": "pie"
           }
          ],
          "scatter": [
           {
            "fillpattern": {
             "fillmode": "overlay",
             "size": 10,
             "solidity": 0.2
            },
            "type": "scatter"
           }
          ],
          "scatter3d": [
           {
            "line": {
             "colorbar": {
              "outlinewidth": 0,
              "ticks": ""
             }
            },
            "marker": {
             "colorbar": {
              "outlinewidth": 0,
              "ticks": ""
             }
            },
            "type": "scatter3d"
           }
          ],
          "scattercarpet": [
           {
            "marker": {
             "colorbar": {
              "outlinewidth": 0,
              "ticks": ""
             }
            },
            "type": "scattercarpet"
           }
          ],
          "scattergeo": [
           {
            "marker": {
             "colorbar": {
              "outlinewidth": 0,
              "ticks": ""
             }
            },
            "type": "scattergeo"
           }
          ],
          "scattergl": [
           {
            "marker": {
             "colorbar": {
              "outlinewidth": 0,
              "ticks": ""
             }
            },
            "type": "scattergl"
           }
          ],
          "scattermap": [
           {
            "marker": {
             "colorbar": {
              "outlinewidth": 0,
              "ticks": ""
             }
            },
            "type": "scattermap"
           }
          ],
          "scattermapbox": [
           {
            "marker": {
             "colorbar": {
              "outlinewidth": 0,
              "ticks": ""
             }
            },
            "type": "scattermapbox"
           }
          ],
          "scatterpolar": [
           {
            "marker": {
             "colorbar": {
              "outlinewidth": 0,
              "ticks": ""
             }
            },
            "type": "scatterpolar"
           }
          ],
          "scatterpolargl": [
           {
            "marker": {
             "colorbar": {
              "outlinewidth": 0,
              "ticks": ""
             }
            },
            "type": "scatterpolargl"
           }
          ],
          "scatterternary": [
           {
            "marker": {
             "colorbar": {
              "outlinewidth": 0,
              "ticks": ""
             }
            },
            "type": "scatterternary"
           }
          ],
          "surface": [
           {
            "colorbar": {
             "outlinewidth": 0,
             "ticks": ""
            },
            "colorscale": [
             [
              0,
              "#0d0887"
             ],
             [
              0.1111111111111111,
              "#46039f"
             ],
             [
              0.2222222222222222,
              "#7201a8"
             ],
             [
              0.3333333333333333,
              "#9c179e"
             ],
             [
              0.4444444444444444,
              "#bd3786"
             ],
             [
              0.5555555555555556,
              "#d8576b"
             ],
             [
              0.6666666666666666,
              "#ed7953"
             ],
             [
              0.7777777777777778,
              "#fb9f3a"
             ],
             [
              0.8888888888888888,
              "#fdca26"
             ],
             [
              1,
              "#f0f921"
             ]
            ],
            "type": "surface"
           }
          ],
          "table": [
           {
            "cells": {
             "fill": {
              "color": "#EBF0F8"
             },
             "line": {
              "color": "white"
             }
            },
            "header": {
             "fill": {
              "color": "#C8D4E3"
             },
             "line": {
              "color": "white"
             }
            },
            "type": "table"
           }
          ]
         },
         "layout": {
          "annotationdefaults": {
           "arrowcolor": "#2a3f5f",
           "arrowhead": 0,
           "arrowwidth": 1
          },
          "autotypenumbers": "strict",
          "coloraxis": {
           "colorbar": {
            "outlinewidth": 0,
            "ticks": ""
           }
          },
          "colorscale": {
           "diverging": [
            [
             0,
             "#8e0152"
            ],
            [
             0.1,
             "#c51b7d"
            ],
            [
             0.2,
             "#de77ae"
            ],
            [
             0.3,
             "#f1b6da"
            ],
            [
             0.4,
             "#fde0ef"
            ],
            [
             0.5,
             "#f7f7f7"
            ],
            [
             0.6,
             "#e6f5d0"
            ],
            [
             0.7,
             "#b8e186"
            ],
            [
             0.8,
             "#7fbc41"
            ],
            [
             0.9,
             "#4d9221"
            ],
            [
             1,
             "#276419"
            ]
           ],
           "sequential": [
            [
             0,
             "#0d0887"
            ],
            [
             0.1111111111111111,
             "#46039f"
            ],
            [
             0.2222222222222222,
             "#7201a8"
            ],
            [
             0.3333333333333333,
             "#9c179e"
            ],
            [
             0.4444444444444444,
             "#bd3786"
            ],
            [
             0.5555555555555556,
             "#d8576b"
            ],
            [
             0.6666666666666666,
             "#ed7953"
            ],
            [
             0.7777777777777778,
             "#fb9f3a"
            ],
            [
             0.8888888888888888,
             "#fdca26"
            ],
            [
             1,
             "#f0f921"
            ]
           ],
           "sequentialminus": [
            [
             0,
             "#0d0887"
            ],
            [
             0.1111111111111111,
             "#46039f"
            ],
            [
             0.2222222222222222,
             "#7201a8"
            ],
            [
             0.3333333333333333,
             "#9c179e"
            ],
            [
             0.4444444444444444,
             "#bd3786"
            ],
            [
             0.5555555555555556,
             "#d8576b"
            ],
            [
             0.6666666666666666,
             "#ed7953"
            ],
            [
             0.7777777777777778,
             "#fb9f3a"
            ],
            [
             0.8888888888888888,
             "#fdca26"
            ],
            [
             1,
             "#f0f921"
            ]
           ]
          },
          "colorway": [
           "#636efa",
           "#EF553B",
           "#00cc96",
           "#ab63fa",
           "#FFA15A",
           "#19d3f3",
           "#FF6692",
           "#B6E880",
           "#FF97FF",
           "#FECB52"
          ],
          "font": {
           "color": "#2a3f5f"
          },
          "geo": {
           "bgcolor": "white",
           "lakecolor": "white",
           "landcolor": "#E5ECF6",
           "showlakes": true,
           "showland": true,
           "subunitcolor": "white"
          },
          "hoverlabel": {
           "align": "left"
          },
          "hovermode": "closest",
          "mapbox": {
           "style": "light"
          },
          "paper_bgcolor": "white",
          "plot_bgcolor": "#E5ECF6",
          "polar": {
           "angularaxis": {
            "gridcolor": "white",
            "linecolor": "white",
            "ticks": ""
           },
           "bgcolor": "#E5ECF6",
           "radialaxis": {
            "gridcolor": "white",
            "linecolor": "white",
            "ticks": ""
           }
          },
          "scene": {
           "xaxis": {
            "backgroundcolor": "#E5ECF6",
            "gridcolor": "white",
            "gridwidth": 2,
            "linecolor": "white",
            "showbackground": true,
            "ticks": "",
            "zerolinecolor": "white"
           },
           "yaxis": {
            "backgroundcolor": "#E5ECF6",
            "gridcolor": "white",
            "gridwidth": 2,
            "linecolor": "white",
            "showbackground": true,
            "ticks": "",
            "zerolinecolor": "white"
           },
           "zaxis": {
            "backgroundcolor": "#E5ECF6",
            "gridcolor": "white",
            "gridwidth": 2,
            "linecolor": "white",
            "showbackground": true,
            "ticks": "",
            "zerolinecolor": "white"
           }
          },
          "shapedefaults": {
           "line": {
            "color": "#2a3f5f"
           }
          },
          "ternary": {
           "aaxis": {
            "gridcolor": "white",
            "linecolor": "white",
            "ticks": ""
           },
           "baxis": {
            "gridcolor": "white",
            "linecolor": "white",
            "ticks": ""
           },
           "bgcolor": "#E5ECF6",
           "caxis": {
            "gridcolor": "white",
            "linecolor": "white",
            "ticks": ""
           }
          },
          "title": {
           "x": 0.05
          },
          "xaxis": {
           "automargin": true,
           "gridcolor": "white",
           "linecolor": "white",
           "ticks": "",
           "title": {
            "standoff": 15
           },
           "zerolinecolor": "white",
           "zerolinewidth": 2
          },
          "yaxis": {
           "automargin": true,
           "gridcolor": "white",
           "linecolor": "white",
           "ticks": "",
           "title": {
            "standoff": 15
           },
           "zerolinecolor": "white",
           "zerolinewidth": 2
          }
         }
        },
        "title": {
         "text": "Years of schooling per country in 2015"
        },
        "width": 800
       }
      },
      "image/png": "[encoded data removed]"
     },
     "metadata": {},
     "output_type": "display_data"
    }
   ],
   "source": [
    "d2015.head()\n",
    "\n",
    "fig4=px.choropleth( d2015, locations='codes', color='Schooling', hover_name='Country', projection='natural earth',\n",
    "                   title='Years of schooling per country in 2015')\n",
    "fig4.update_layout( width=800, height=600)\n",
    "fig4.show()"
   ]
  },
  {
   "cell_type": "code",
   "execution_count": 17,
   "id": "8700cbf9-ba8b-4699-9cd6-0def14210668",
   "metadata": {},
   "outputs": [
    {
     "name": "stdout",
     "output_type": "stream",
     "text": [
      "The correlation between life expectancy and per capita GDP globally was of 0.462 from 2000 to 2015\n"
     ]
    }
   ],
   "source": [
    "renames={'region':'Region',\n",
    "         'life exp':'Life exp'}\n",
    "life=life.rename( mapper=renames, axis=1)\n",
    "life.head(1)\n",
    "life_gdp=life.loc[:,['Life exp','GDP']]\n",
    "thecorr=life_gdp.corr().iloc[0,1].round(decimals=3)\n",
    "print('The correlation between life expectancy and per capita GDP globally was of {data} from 2000 to 2015'.format( data=thecorr))"
   ]
  },
  {
   "cell_type": "code",
   "execution_count": 18,
   "id": "a663436a-a4f3-43b4-a8cc-73ac8f45df76",
   "metadata": {},
   "outputs": [
    {
     "data": {
      "text/plain": [
       "<seaborn.axisgrid.FacetGrid at 0x15921a2fda0>"
      ]
     },
     "execution_count": 18,
     "metadata": {},
     "output_type": "execute_result"
    },
    {
     "data": {
      "image/png": "[encoded data removed]",
      "text/plain": [
       "<Figure size 3000x500 with 6 Axes>"
      ]
     },
     "metadata": {},
     "output_type": "display_data"
    }
   ],
   "source": [
    "p1=sns.lmplot( life, x='Life exp', y='GDP', col='Region', )\n",
    "p1.set(xlim=[50,90])"
   ]
  },
  {
   "cell_type": "code",
   "execution_count": 19,
   "id": "6ccbd9d8-5d70-42f8-9497-4f3d2bc78105",
   "metadata": {},
   "outputs": [
    {
     "data": {
      "text/html": [
       "<div>\n",
       "<style scoped>\n",
       "    .dataframe tbody tr th:only-of-type {\n",
       "        vertical-align: middle;\n",
       "    }\n",
       "\n",
       "    .dataframe tbody tr th {\n",
       "        vertical-align: top;\n",
       "    }\n",
       "\n",
       "    .dataframe thead th {\n",
       "        text-align: right;\n",
       "    }\n",
       "</style>\n",
       "<table border=\"1\" class=\"dataframe\">\n",
       "  <thead>\n",
       "    <tr style=\"text-align: right;\">\n",
       "      <th></th>\n",
       "      <th>Region</th>\n",
       "      <th>health exp/GDP</th>\n",
       "    </tr>\n",
       "  </thead>\n",
       "  <tbody>\n",
       "    <tr>\n",
       "      <th>2</th>\n",
       "      <td>europe</td>\n",
       "      <td>2087.936359</td>\n",
       "    </tr>\n",
       "    <tr>\n",
       "      <th>4</th>\n",
       "      <td>oceania</td>\n",
       "      <td>1049.268524</td>\n",
       "    </tr>\n",
       "    <tr>\n",
       "      <th>3</th>\n",
       "      <td>north america</td>\n",
       "      <td>811.895547</td>\n",
       "    </tr>\n",
       "    <tr>\n",
       "      <th>1</th>\n",
       "      <td>asia</td>\n",
       "      <td>472.512538</td>\n",
       "    </tr>\n",
       "    <tr>\n",
       "      <th>5</th>\n",
       "      <td>south america</td>\n",
       "      <td>336.509948</td>\n",
       "    </tr>\n",
       "    <tr>\n",
       "      <th>0</th>\n",
       "      <td>africa</td>\n",
       "      <td>107.416137</td>\n",
       "    </tr>\n",
       "  </tbody>\n",
       "</table>\n",
       "</div>"
      ],
      "text/plain": [
       "          Region  health exp/GDP\n",
       "2         europe     2087.936359\n",
       "4        oceania     1049.268524\n",
       "3  north america      811.895547\n",
       "1           asia      472.512538\n",
       "5  south america      336.509948\n",
       "0         africa      107.416137"
      ]
     },
     "execution_count": 19,
     "metadata": {},
     "output_type": "execute_result"
    }
   ],
   "source": [
    "life.head(1)\n",
    "g2=life.groupby(['Region','Year']).agg({'health exp/GDP':'mean'})\n",
    "g2.reset_index(inplace=True)\n",
    "g22=g2.groupby('Region').agg({'health exp/GDP':'mean'})\n",
    "g22.reset_index(inplace=True)\n",
    "g22=g22.sort_values(by='health exp/GDP', ascending=False)\n",
    "g22"
   ]
  },
  {
   "cell_type": "code",
   "execution_count": 20,
   "id": "46d37d43-7800-4c84-8f67-95ecfbc17e76",
   "metadata": {},
   "outputs": [
    {
     "data": {
      "text/html": [
       "<div>\n",
       "<style scoped>\n",
       "    .dataframe tbody tr th:only-of-type {\n",
       "        vertical-align: middle;\n",
       "    }\n",
       "\n",
       "    .dataframe tbody tr th {\n",
       "        vertical-align: top;\n",
       "    }\n",
       "\n",
       "    .dataframe thead th {\n",
       "        text-align: right;\n",
       "    }\n",
       "</style>\n",
       "<table border=\"1\" class=\"dataframe\">\n",
       "  <thead>\n",
       "    <tr style=\"text-align: right;\">\n",
       "      <th></th>\n",
       "      <th>Country</th>\n",
       "      <th>Year</th>\n",
       "      <th>Status</th>\n",
       "      <th>Life exp</th>\n",
       "      <th>Adult Mortality</th>\n",
       "      <th>infant deaths</th>\n",
       "      <th>Alcohol</th>\n",
       "      <th>health exp/GDP</th>\n",
       "      <th>Hepatitis B</th>\n",
       "      <th>Measles</th>\n",
       "      <th>...</th>\n",
       "      <th>Total expenditure</th>\n",
       "      <th>Diphtheria</th>\n",
       "      <th>HIV/AIDS</th>\n",
       "      <th>GDP</th>\n",
       "      <th>Population</th>\n",
       "      <th>thinness  1-19 years</th>\n",
       "      <th>thinness 5-9 years</th>\n",
       "      <th>HDI</th>\n",
       "      <th>Schooling</th>\n",
       "      <th>Region</th>\n",
       "    </tr>\n",
       "  </thead>\n",
       "  <tbody>\n",
       "    <tr>\n",
       "      <th>2522</th>\n",
       "      <td>Switzerland</td>\n",
       "      <td>2014</td>\n",
       "      <td>Developed</td>\n",
       "      <td>83.2</td>\n",
       "      <td>51.0</td>\n",
       "      <td>0</td>\n",
       "      <td>9.61</td>\n",
       "      <td>19479.91161</td>\n",
       "      <td>NaN</td>\n",
       "      <td>23</td>\n",
       "      <td>...</td>\n",
       "      <td>11.66</td>\n",
       "      <td>96.0</td>\n",
       "      <td>0.1</td>\n",
       "      <td>85814.58857</td>\n",
       "      <td>8188649.0</td>\n",
       "      <td>0.4</td>\n",
       "      <td>0.3</td>\n",
       "      <td>0.936</td>\n",
       "      <td>15.9</td>\n",
       "      <td>europe</td>\n",
       "    </tr>\n",
       "  </tbody>\n",
       "</table>\n",
       "<p>1 rows × 23 columns</p>\n",
       "</div>"
      ],
      "text/plain": [
       "          Country  Year     Status  Life exp  Adult Mortality  infant deaths  \\\n",
       "2522  Switzerland  2014  Developed      83.2             51.0              0   \n",
       "\n",
       "      Alcohol  health exp/GDP  Hepatitis B  Measles   ...  Total expenditure  \\\n",
       "2522     9.61     19479.91161          NaN        23  ...              11.66   \n",
       "\n",
       "      Diphtheria    HIV/AIDS          GDP  Population   thinness  1-19 years  \\\n",
       "2522         96.0        0.1  85814.58857   8188649.0                    0.4   \n",
       "\n",
       "       thinness 5-9 years    HDI  Schooling  Region  \n",
       "2522                  0.3  0.936       15.9  europe  \n",
       "\n",
       "[1 rows x 23 columns]"
      ]
     },
     "execution_count": 20,
     "metadata": {},
     "output_type": "execute_result"
    }
   ],
   "source": [
    "life[ life['health exp/GDP']==life['health exp/GDP'].max() ]"
   ]
  },
  {
   "cell_type": "code",
   "execution_count": 21,
   "id": "53d50662-b976-468b-81cb-f193a7abec00",
   "metadata": {},
   "outputs": [
    {
     "data": {
      "text/html": [
       "<div>\n",
       "<style scoped>\n",
       "    .dataframe tbody tr th:only-of-type {\n",
       "        vertical-align: middle;\n",
       "    }\n",
       "\n",
       "    .dataframe tbody tr th {\n",
       "        vertical-align: top;\n",
       "    }\n",
       "\n",
       "    .dataframe thead th {\n",
       "        text-align: right;\n",
       "    }\n",
       "</style>\n",
       "<table border=\"1\" class=\"dataframe\">\n",
       "  <thead>\n",
       "    <tr style=\"text-align: right;\">\n",
       "      <th></th>\n",
       "      <th>Country</th>\n",
       "      <th>Year</th>\n",
       "      <th>Status</th>\n",
       "      <th>Life exp</th>\n",
       "      <th>Adult Mortality</th>\n",
       "      <th>infant deaths</th>\n",
       "      <th>Alcohol</th>\n",
       "      <th>health exp/GDP</th>\n",
       "      <th>Hepatitis B</th>\n",
       "      <th>Measles</th>\n",
       "      <th>...</th>\n",
       "      <th>Total expenditure</th>\n",
       "      <th>Diphtheria</th>\n",
       "      <th>HIV/AIDS</th>\n",
       "      <th>GDP</th>\n",
       "      <th>Population</th>\n",
       "      <th>thinness  1-19 years</th>\n",
       "      <th>thinness 5-9 years</th>\n",
       "      <th>HDI</th>\n",
       "      <th>Schooling</th>\n",
       "      <th>Region</th>\n",
       "    </tr>\n",
       "  </thead>\n",
       "  <tbody>\n",
       "    <tr>\n",
       "      <th>0</th>\n",
       "      <td>Afghanistan</td>\n",
       "      <td>2015</td>\n",
       "      <td>Developing</td>\n",
       "      <td>65.0</td>\n",
       "      <td>263.0</td>\n",
       "      <td>62</td>\n",
       "      <td>0.01</td>\n",
       "      <td>71.279624</td>\n",
       "      <td>65.0</td>\n",
       "      <td>1154</td>\n",
       "      <td>...</td>\n",
       "      <td>8.16</td>\n",
       "      <td>65.0</td>\n",
       "      <td>0.1</td>\n",
       "      <td>584.25921</td>\n",
       "      <td>33736494.0</td>\n",
       "      <td>17.2</td>\n",
       "      <td>17.3</td>\n",
       "      <td>0.479</td>\n",
       "      <td>10.1</td>\n",
       "      <td>asia</td>\n",
       "    </tr>\n",
       "  </tbody>\n",
       "</table>\n",
       "<p>1 rows × 23 columns</p>\n",
       "</div>"
      ],
      "text/plain": [
       "       Country  Year      Status  Life exp  Adult Mortality  infant deaths  \\\n",
       "0  Afghanistan  2015  Developing      65.0            263.0             62   \n",
       "\n",
       "   Alcohol  health exp/GDP  Hepatitis B  Measles   ...  Total expenditure  \\\n",
       "0     0.01       71.279624         65.0      1154  ...               8.16   \n",
       "\n",
       "   Diphtheria    HIV/AIDS        GDP  Population   thinness  1-19 years  \\\n",
       "0         65.0        0.1  584.25921  33736494.0                   17.2   \n",
       "\n",
       "    thinness 5-9 years    HDI  Schooling  Region  \n",
       "0                 17.3  0.479       10.1    asia  \n",
       "\n",
       "[1 rows x 23 columns]"
      ]
     },
     "execution_count": 21,
     "metadata": {},
     "output_type": "execute_result"
    }
   ],
   "source": [
    "life.head(1)"
   ]
  },
  {
   "cell_type": "code",
   "execution_count": 22,
   "id": "03ff7508-d610-4c5b-8332-f9dafa6e7655",
   "metadata": {},
   "outputs": [
    {
     "data": {
      "text/plain": [
       "Text(0.5, 1.0, 'Years of schooling, global distribution')"
      ]
     },
     "execution_count": 22,
     "metadata": {},
     "output_type": "execute_result"
    },
    {
     "data": {
      "image/png": "[encoded data removed]",
      "text/plain": [
       "<Figure size 640x480 with 1 Axes>"
      ]
     },
     "metadata": {},
     "output_type": "display_data"
    }
   ],
   "source": [
    "p1=sns.histplot( data=life['Schooling'], color='green', kde=True)\n",
    "p1.set_xlim([1,20])\n",
    "p1.set_title('Years of schooling, global distribution')"
   ]
  },
  {
   "cell_type": "code",
   "execution_count": 23,
   "id": "d51526e0-848c-4007-8002-45959fb5e11a",
   "metadata": {},
   "outputs": [
    {
     "name": "stdout",
     "output_type": "stream",
     "text": [
      "                 Adult Mortality  Schooling\n",
      "Adult Mortality         1.000000  -0.452558\n",
      "Schooling              -0.452558   1.000000\n",
      "A negative correlation of adult mortality and years of schooling may be attributed to better healthcare in countries where\n",
      "the population is more educated and has more financial means to seek medical care\n"
     ]
    }
   ],
   "source": [
    "q3=life.loc[:,['Adult Mortality', 'Schooling']].corr()\n",
    "print(q3)\n",
    "print('A negative correlation of adult mortality and years of schooling may be attributed to better healthcare in countries where')\n",
    "print('the population is more educated and has more financial means to seek medical care')"
   ]
  },
  {
   "cell_type": "code",
   "execution_count": 27,
   "id": "fd78d5a3-1ea1-4a33-be13-eac5216151c6",
   "metadata": {},
   "outputs": [
    {
     "name": "stdout",
     "output_type": "stream",
     "text": [
      "<class 'pandas.core.frame.DataFrame'>\n",
      "Index: 2832 entries, 0 to 2937\n",
      "Data columns (total 23 columns):\n",
      " #   Column                 Non-Null Count  Dtype  \n",
      "---  ------                 --------------  -----  \n",
      " 0   Country                2832 non-null   object \n",
      " 1   Year                   2832 non-null   int64  \n",
      " 2   Status                 2832 non-null   object \n",
      " 3   Life exp               2832 non-null   float64\n",
      " 4   Adult Mortality        2832 non-null   float64\n",
      " 5   infant deaths          2832 non-null   int64  \n",
      " 6   Alcohol                2645 non-null   float64\n",
      " 7   health exp/GDP         2832 non-null   float64\n",
      " 8   Hepatitis B            2302 non-null   float64\n",
      " 9   Measles                2832 non-null   int64  \n",
      " 10   BMI                   2800 non-null   float64\n",
      " 11  under-five deaths      2832 non-null   int64  \n",
      " 12  Polio                  2813 non-null   float64\n",
      " 13  Total expenditure      2627 non-null   float64\n",
      " 14  Diphtheria             2813 non-null   float64\n",
      " 15   HIV/AIDS              2832 non-null   float64\n",
      " 16  GDP                    2453 non-null   float64\n",
      " 17  Population             2252 non-null   float64\n",
      " 18   thinness  1-19 years  2800 non-null   float64\n",
      " 19   thinness 5-9 years    2800 non-null   float64\n",
      " 20  HDI                    2720 non-null   float64\n",
      " 21  Schooling              2720 non-null   float64\n",
      " 22  Region                 2832 non-null   object \n",
      "dtypes: float64(16), int64(4), object(3)\n",
      "memory usage: 531.0+ KB\n"
     ]
    }
   ],
   "source": [
    "life.info()"
   ]
  },
  {
   "cell_type": "code",
   "execution_count": 46,
   "id": "9f0187cd-bdbb-46f9-9a08-594cba7e3cad",
   "metadata": {},
   "outputs": [
    {
     "name": "stdout",
     "output_type": "stream",
     "text": [
      "This bar chart shows the number of developing and developed countries in 2015 per region\n"
     ]
    },
    {
     "data": {
      "image/png": "[encoded data removed]",
      "text/plain": [
       "<Figure size 640x480 with 1 Axes>"
      ]
     },
     "metadata": {},
     "output_type": "display_data"
    }
   ],
   "source": [
    "sns.countplot( data=life [ life['Year']==2015], hue='Status', x='Region')\n",
    "print('This bar chart shows the number of developing and developed countries in 2015 per region')"
   ]
  },
  {
   "cell_type": "code",
   "execution_count": 61,
   "id": "82bc27be-d069-4239-98c7-7415fa33045e",
   "metadata": {},
   "outputs": [
    {
     "name": "stdout",
     "output_type": "stream",
     "text": [
      "   region  year  mean life exp\n",
      "0  africa  2000      54.433333\n",
      "1  africa  2001      54.933333\n",
      "2  africa  2002      55.368627\n",
      "3  africa  2003      55.272549\n",
      "4  africa  2004      55.639216\n"
     ]
    }
   ],
   "source": [
    "gr=life.groupby(['Region','Year']).agg({'Life exp':'mean'})\n",
    "gr.reset_index(inplace=True)\n",
    "gr.columns=['region','year','mean life exp']\n",
    "print(gr.head())"
   ]
  },
  {
   "cell_type": "code",
   "execution_count": 72,
   "id": "a4e31e5a-cced-4e58-9126-1ea486b62bb0",
   "metadata": {},
   "outputs": [
    {
     "data": {
      "text/plain": [
       "new cat\n",
       "average life exp    1842\n",
       "high life exp        550\n",
       "low life exp         440\n",
       "Name: count, dtype: int64"
      ]
     },
     "execution_count": 72,
     "metadata": {},
     "output_type": "execute_result"
    }
   ],
   "source": [
    "life['Life exp'].describe()\n",
    "\n",
    "# function that makes a new feature category\n",
    "def lifecat( row):\n",
    "    if row['Life exp'] <= 58:\n",
    "        cat='low life exp'\n",
    "    elif row['Life exp'] > 58 and row['Life exp'] <= 77:\n",
    "        cat='average life exp'\n",
    "    else: \n",
    "        cat='high life exp'\n",
    "    return cat\n",
    "\n",
    "life['new cat']=life.apply( lifecat, axis=1)\n",
    "\n",
    "# function that counts the number of instances the above feature appears to be true\n",
    "def lifecount(data, v1, **kwargs):\n",
    "    normalize=kwargs.get('normalize', False)\n",
    "    if normalize:\n",
    "        return data['new cat'].value_counts(normalize=True).get(v1,0)\n",
    "    else:\n",
    "        return data['new cat'].value_counts().get(v1,0)\n",
    "\n",
    "life.head(1)\n",
    "life['new cat'].value_counts()"
   ]
  },
  {
   "cell_type": "code",
   "execution_count": 80,
   "id": "f8b5cbd0-639e-47a5-9b3e-0aa427fa927f",
   "metadata": {},
   "outputs": [
    {
     "name": "stdout",
     "output_type": "stream",
     "text": [
      "    Year  % of countries low exp\n",
      "0   2000                0.231638\n",
      "1   2001                0.214689\n",
      "2   2002                0.209040\n",
      "3   2003                0.209040\n",
      "4   2004                0.197740\n",
      "5   2005                0.197740\n",
      "6   2006                0.192090\n",
      "7   2007                0.169492\n",
      "8   2008                0.152542\n",
      "9   2009                0.141243\n",
      "10  2010                0.135593\n",
      "11  2011                0.101695\n",
      "12  2012                0.101695\n",
      "13  2013                0.090395\n",
      "14  2014                0.079096\n",
      "15  2015                0.062147\n"
     ]
    },
    {
     "name": "stderr",
     "output_type": "stream",
     "text": [
      "C:\\Users\\dishi\\AppData\\Local\\Temp\\ipykernel_9800\\609174276.py:2: DeprecationWarning:\n",
      "\n",
      "DataFrameGroupBy.apply operated on the grouping columns. This behavior is deprecated, and in a future version of pandas the grouping columns will be excluded from the operation. Either pass `include_groups=False` to exclude the groupings or explicitly select the grouping columns after groupby to silence this warning.\n",
      "\n"
     ]
    }
   ],
   "source": [
    "go=pd.DataFrame( \n",
    "    life.groupby(['Year']).apply( lifecount, v1='low life exp', normalize=True))\n",
    "go.reset_index(inplace=True)\n",
    "go.columns=['Year','% of countries low exp']\n",
    "print(go)"
   ]
  },
  {
   "cell_type": "code",
   "execution_count": 86,
   "id": "61677d42-b0d4-45cf-930e-5c3a047773ae",
   "metadata": {},
   "outputs": [
    {
     "data": {
      "text/plain": [
       "Text(0, 0.5, '% of nations with low life exp')"
      ]
     },
     "execution_count": 86,
     "metadata": {},
     "output_type": "execute_result"
    },
    {
     "data": {
      "image/png": "[encoded data removed]",
      "text/plain": [
       "<Figure size 700x400 with 1 Axes>"
      ]
     },
     "metadata": {},
     "output_type": "display_data"
    }
   ],
   "source": [
    "fig=plt.figure( figsize=(7,4))\n",
    "axes=fig.add_axes( [0.1,0.1,0.8,0.8])\n",
    "axes.plot(go['Year'], go['% of countries low exp'], color='blue', marker='o', lw=3, label='% of low life exp')\n",
    "axes.legend(loc=0)\n",
    "axes.set_xlim([2000,2015])\n",
    "axes.set_xlabel('Years')\n",
    "axes.set_ylabel('% of nations with low life exp')"
   ]
  },
  {
   "cell_type": "raw",
   "id": "e2764492-6fe2-4b4d-8c60-37d0f47d9e6b",
   "metadata": {},
   "source": [
    "Compare the distributions of life expectancy using boxplots grouped by income level and by region—do some regions have wider variability?\n",
    "Can you create a new feature that estimates health investment efficiency (e.g. life expectancy per unit of health expenditure) and rank countries by it?"
   ]
  }
 ],
 "metadata": {
  "kernelspec": {
   "display_name": "Python 3 (ipykernel)",
   "language": "python",
   "name": "python3"
  },
  "language_info": {
   "codemirror_mode": {
    "name": "ipython",
    "version": 3
   },
   "file_extension": ".py",
   "mimetype": "text/x-python",
   "name": "python",
   "nbconvert_exporter": "python",
   "pygments_lexer": "ipython3",
   "version": "3.12.1"
  }
 },
 "nbformat": 4,
 "nbformat_minor": 5
}
