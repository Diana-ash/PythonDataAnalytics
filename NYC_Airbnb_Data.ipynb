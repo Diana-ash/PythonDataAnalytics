{
 "cells": [
  {
   "cell_type": "code",
   "execution_count": 1,
   "id": "4d62b42c-b981-466f-9489-6d45b885f12d",
   "metadata": {},
   "outputs": [],
   "source": [
    "import pandas as pd\n",
    "import numpy as np\n",
    "import matplotlib.pyplot as plt\n",
    "import seaborn as sns\n",
    "import plotly.express as px"
   ]
  },
  {
   "cell_type": "code",
   "execution_count": 2,
   "id": "dd0d830f-ec5e-4efd-a60e-2117f9cbb33e",
   "metadata": {},
   "outputs": [
    {
     "data": {
      "text/html": [
       "<div>\n",
       "<style scoped>\n",
       "    .dataframe tbody tr th:only-of-type {\n",
       "        vertical-align: middle;\n",
       "    }\n",
       "\n",
       "    .dataframe tbody tr th {\n",
       "        vertical-align: top;\n",
       "    }\n",
       "\n",
       "    .dataframe thead th {\n",
       "        text-align: right;\n",
       "    }\n",
       "</style>\n",
       "<table border=\"1\" class=\"dataframe\">\n",
       "  <thead>\n",
       "    <tr style=\"text-align: right;\">\n",
       "      <th></th>\n",
       "      <th>id</th>\n",
       "      <th>name</th>\n",
       "      <th>host_id</th>\n",
       "      <th>host_name</th>\n",
       "      <th>neighbourhood_group</th>\n",
       "      <th>neighbourhood</th>\n",
       "      <th>latitude</th>\n",
       "      <th>longitude</th>\n",
       "      <th>room_type</th>\n",
       "      <th>price</th>\n",
       "      <th>minimum_nights</th>\n",
       "      <th>number_of_reviews</th>\n",
       "      <th>last_review</th>\n",
       "      <th>reviews_per_month</th>\n",
       "      <th>calculated_host_listings_count</th>\n",
       "      <th>availability_365</th>\n",
       "    </tr>\n",
       "  </thead>\n",
       "  <tbody>\n",
       "    <tr>\n",
       "      <th>0</th>\n",
       "      <td>2539</td>\n",
       "      <td>Clean &amp; quiet apt home by the park</td>\n",
       "      <td>2787</td>\n",
       "      <td>John</td>\n",
       "      <td>Brooklyn</td>\n",
       "      <td>Kensington</td>\n",
       "      <td>40.64749</td>\n",
       "      <td>-73.97237</td>\n",
       "      <td>Private room</td>\n",
       "      <td>149</td>\n",
       "      <td>1</td>\n",
       "      <td>9</td>\n",
       "      <td>2018-10-19</td>\n",
       "      <td>0.21</td>\n",
       "      <td>6</td>\n",
       "      <td>365</td>\n",
       "    </tr>\n",
       "    <tr>\n",
       "      <th>1</th>\n",
       "      <td>2595</td>\n",
       "      <td>Skylit Midtown Castle</td>\n",
       "      <td>2845</td>\n",
       "      <td>Jennifer</td>\n",
       "      <td>Manhattan</td>\n",
       "      <td>Midtown</td>\n",
       "      <td>40.75362</td>\n",
       "      <td>-73.98377</td>\n",
       "      <td>Entire home/apt</td>\n",
       "      <td>225</td>\n",
       "      <td>1</td>\n",
       "      <td>45</td>\n",
       "      <td>2019-05-21</td>\n",
       "      <td>0.38</td>\n",
       "      <td>2</td>\n",
       "      <td>355</td>\n",
       "    </tr>\n",
       "  </tbody>\n",
       "</table>\n",
       "</div>"
      ],
      "text/plain": [
       "     id                                name  host_id host_name  \\\n",
       "0  2539  Clean & quiet apt home by the park     2787      John   \n",
       "1  2595               Skylit Midtown Castle     2845  Jennifer   \n",
       "\n",
       "  neighbourhood_group neighbourhood  latitude  longitude        room_type  \\\n",
       "0            Brooklyn    Kensington  40.64749  -73.97237     Private room   \n",
       "1           Manhattan       Midtown  40.75362  -73.98377  Entire home/apt   \n",
       "\n",
       "   price  minimum_nights  number_of_reviews last_review  reviews_per_month  \\\n",
       "0    149               1                  9  2018-10-19               0.21   \n",
       "1    225               1                 45  2019-05-21               0.38   \n",
       "\n",
       "   calculated_host_listings_count  availability_365  \n",
       "0                               6               365  \n",
       "1                               2               355  "
      ]
     },
     "execution_count": 2,
     "metadata": {},
     "output_type": "execute_result"
    }
   ],
   "source": [
    "%matplotlib inline\n",
    "nyc=pd.read_csv(\"C:/Users/dishi/OneDrive/Desktop/PYTHON DATASETS/nycairbnb.csv\")\n",
    "nyc.head(2)"
   ]
  },
  {
   "cell_type": "code",
   "execution_count": 3,
   "id": "33733914-6132-4242-99d5-05178a8a17ac",
   "metadata": {},
   "outputs": [
    {
     "name": "stdout",
     "output_type": "stream",
     "text": [
      "<class 'pandas.core.frame.DataFrame'>\n",
      "RangeIndex: 48895 entries, 0 to 48894\n",
      "Data columns (total 16 columns):\n",
      " #   Column                          Non-Null Count  Dtype  \n",
      "---  ------                          --------------  -----  \n",
      " 0   id                              48895 non-null  int64  \n",
      " 1   name                            48879 non-null  object \n",
      " 2   host_id                         48895 non-null  int64  \n",
      " 3   host_name                       48874 non-null  object \n",
      " 4   neighbourhood_group             48895 non-null  object \n",
      " 5   neighbourhood                   48895 non-null  object \n",
      " 6   latitude                        48895 non-null  float64\n",
      " 7   longitude                       48895 non-null  float64\n",
      " 8   room_type                       48895 non-null  object \n",
      " 9   price                           48895 non-null  int64  \n",
      " 10  minimum_nights                  48895 non-null  int64  \n",
      " 11  number_of_reviews               48895 non-null  int64  \n",
      " 12  last_review                     38843 non-null  object \n",
      " 13  reviews_per_month               38843 non-null  float64\n",
      " 14  calculated_host_listings_count  48895 non-null  int64  \n",
      " 15  availability_365                48895 non-null  int64  \n",
      "dtypes: float64(3), int64(7), object(6)\n",
      "memory usage: 6.0+ MB\n"
     ]
    }
   ],
   "source": [
    "nyc.info()"
   ]
  },
  {
   "cell_type": "raw",
   "id": "12688cbd-c2d1-4c72-a152-7fdd101fff85",
   "metadata": {},
   "source": [
    "Low availability: 0–90 days\n",
    "(available less than 3 months/year – maybe only seasonally or for special events)\n",
    "\n",
    "Medium availability: 91–270 days\n",
    "(available part-time or during most of the year)\n",
    "\n",
    "High availability: 271–365 days\n",
    "(available nearly all year — probably professional hosts)"
   ]
  },
  {
   "cell_type": "code",
   "execution_count": 4,
   "id": "0afe4005-2435-45d6-9f47-c3386a7c658b",
   "metadata": {},
   "outputs": [
    {
     "name": "stdout",
     "output_type": "stream",
     "text": [
      "How does the average reviews_per_month differ between neighborhoods with high vs. low availability_365?\n"
     ]
    },
    {
     "data": {
      "text/html": [
       "<div>\n",
       "<style scoped>\n",
       "    .dataframe tbody tr th:only-of-type {\n",
       "        vertical-align: middle;\n",
       "    }\n",
       "\n",
       "    .dataframe tbody tr th {\n",
       "        vertical-align: top;\n",
       "    }\n",
       "\n",
       "    .dataframe thead th {\n",
       "        text-align: right;\n",
       "    }\n",
       "</style>\n",
       "<table border=\"1\" class=\"dataframe\">\n",
       "  <thead>\n",
       "    <tr style=\"text-align: right;\">\n",
       "      <th></th>\n",
       "      <th>Area</th>\n",
       "      <th>availability_365</th>\n",
       "      <th>Average reviews per month</th>\n",
       "      <th>Category</th>\n",
       "    </tr>\n",
       "  </thead>\n",
       "  <tbody>\n",
       "    <tr>\n",
       "      <th>0</th>\n",
       "      <td>Allerton</td>\n",
       "      <td>171.378378</td>\n",
       "      <td>1.834054</td>\n",
       "      <td>Medium Avaliability</td>\n",
       "    </tr>\n",
       "    <tr>\n",
       "      <th>1</th>\n",
       "      <td>Arden Heights</td>\n",
       "      <td>94.250000</td>\n",
       "      <td>1.040000</td>\n",
       "      <td>Medium Avaliability</td>\n",
       "    </tr>\n",
       "  </tbody>\n",
       "</table>\n",
       "</div>"
      ],
      "text/plain": [
       "            Area  availability_365  Average reviews per month  \\\n",
       "0       Allerton        171.378378                   1.834054   \n",
       "1  Arden Heights         94.250000                   1.040000   \n",
       "\n",
       "              Category  \n",
       "0  Medium Avaliability  \n",
       "1  Medium Avaliability  "
      ]
     },
     "execution_count": 4,
     "metadata": {},
     "output_type": "execute_result"
    }
   ],
   "source": [
    "nyc=nyc[~nyc.isna().any(axis=1)]\n",
    "\n",
    "print('How does the average reviews_per_month differ between neighborhoods with high vs. low availability_365?')\n",
    "\n",
    "def aval(row):\n",
    "    if row['availability_365'] <= 90:\n",
    "        then='low avaliability'\n",
    "    elif row['availability_365'] > 90 and row['availability_365'] <= 270:\n",
    "        then='medium avaliability'\n",
    "    else:\n",
    "        then='high avaliability'\n",
    "    return then\n",
    "\n",
    "nyc['Avaliability']=nyc.apply( aval, axis=1) # applying the custom function to the rows of the dataset\n",
    "nyc.rename( mapper={'neighbourhood_group':'area'}, axis=1, inplace=True)\n",
    "nyc.head(1)\n",
    "\n",
    "g1=nyc.groupby('neighbourhood').agg({'availability_365':'mean', \n",
    "                                   'reviews_per_month':'mean'})\n",
    "g1.reset_index( inplace=True)\n",
    "g1.columns=['Area','availability_365','Average reviews per month']\n",
    "\n",
    "g1['Category']=g1.apply(aval, axis=1) # we apply the availability function to the grouping of mean availability by area\n",
    "g1['Category']=g1['Category'].str.title()\n",
    "g1.head(2)"
   ]
  },
  {
   "cell_type": "code",
   "execution_count": 5,
   "id": "17efea34-e7f2-4498-baf5-77f5a761e4dc",
   "metadata": {},
   "outputs": [],
   "source": [
    "g1.drop(labels='availability_365', axis=1, inplace=True)"
   ]
  },
  {
   "cell_type": "code",
   "execution_count": 6,
   "id": "a7b33219-c87a-423f-8d35-63407bd6abba",
   "metadata": {},
   "outputs": [
    {
     "name": "stdout",
     "output_type": "stream",
     "text": [
      "<class 'pandas.core.frame.DataFrame'>\n",
      "RangeIndex: 218 entries, 0 to 217\n",
      "Data columns (total 3 columns):\n",
      " #   Column                     Non-Null Count  Dtype   \n",
      "---  ------                     --------------  -----   \n",
      " 0   Area                       218 non-null    object  \n",
      " 1   Average reviews per month  218 non-null    float64 \n",
      " 2   Category                   218 non-null    category\n",
      "dtypes: category(1), float64(1), object(1)\n",
      "memory usage: 3.9+ KB\n"
     ]
    }
   ],
   "source": [
    "g1['Average reviews per month']=g1['Average reviews per month'].round(decimals=5)\n",
    "g1['Category']=g1['Category'].astype('category')\n",
    "g1.info()"
   ]
  },
  {
   "cell_type": "code",
   "execution_count": 7,
   "id": "b01c6b46-672c-4c29-945a-5ef7545a2106",
   "metadata": {},
   "outputs": [
    {
     "data": {
      "text/plain": [
       "<Axes: xlabel='Category', ylabel='Average reviews per month'>"
      ]
     },
     "execution_count": 7,
     "metadata": {},
     "output_type": "execute_result"
    },
    {
     "data": {
      "image/png": "[encoded data removed]",
      "text/plain": [
       "<Figure size 640x480 with 1 Axes>"
      ]
     },
     "metadata": {},
     "output_type": "display_data"
    }
   ],
   "source": [
    "sns.barplot( data=g1, x='Category', y='Average reviews per month', color='blue', estimator='mean')"
   ]
  },
  {
   "cell_type": "code",
   "execution_count": 8,
   "id": "732092a5-5f9c-407b-8bc4-e15a79e58132",
   "metadata": {},
   "outputs": [
    {
     "data": {
      "text/html": [
       "<div>\n",
       "<style scoped>\n",
       "    .dataframe tbody tr th:only-of-type {\n",
       "        vertical-align: middle;\n",
       "    }\n",
       "\n",
       "    .dataframe tbody tr th {\n",
       "        vertical-align: top;\n",
       "    }\n",
       "\n",
       "    .dataframe thead th {\n",
       "        text-align: right;\n",
       "    }\n",
       "</style>\n",
       "<table border=\"1\" class=\"dataframe\">\n",
       "  <thead>\n",
       "    <tr style=\"text-align: right;\">\n",
       "      <th></th>\n",
       "      <th>availability_365</th>\n",
       "      <th>reviews_per_month</th>\n",
       "    </tr>\n",
       "  </thead>\n",
       "  <tbody>\n",
       "    <tr>\n",
       "      <th>1</th>\n",
       "      <td>1</td>\n",
       "      <td>1.453079</td>\n",
       "    </tr>\n",
       "    <tr>\n",
       "      <th>2</th>\n",
       "      <td>2</td>\n",
       "      <td>1.528958</td>\n",
       "    </tr>\n",
       "    <tr>\n",
       "      <th>3</th>\n",
       "      <td>3</td>\n",
       "      <td>1.391079</td>\n",
       "    </tr>\n",
       "    <tr>\n",
       "      <th>4</th>\n",
       "      <td>4</td>\n",
       "      <td>1.384450</td>\n",
       "    </tr>\n",
       "    <tr>\n",
       "      <th>5</th>\n",
       "      <td>5</td>\n",
       "      <td>1.379897</td>\n",
       "    </tr>\n",
       "  </tbody>\n",
       "</table>\n",
       "</div>"
      ],
      "text/plain": [
       "   availability_365  reviews_per_month\n",
       "1                 1           1.453079\n",
       "2                 2           1.528958\n",
       "3                 3           1.391079\n",
       "4                 4           1.384450\n",
       "5                 5           1.379897"
      ]
     },
     "execution_count": 8,
     "metadata": {},
     "output_type": "execute_result"
    }
   ],
   "source": [
    "g2=nyc.groupby('availability_365').agg({'reviews_per_month':'mean'})\n",
    "g2.reset_index(inplace=True)\n",
    "g2=g2.loc[1:,:]\n",
    "g2.head()"
   ]
  },
  {
   "cell_type": "code",
   "execution_count": 9,
   "id": "6517bdb2-0114-45aa-b250-7efc014c1a3b",
   "metadata": {},
   "outputs": [
    {
     "data": {
      "text/plain": [
       "<Axes: title={'center': 'Avaliability vs Monthly reviews'}, xlabel='availability_365'>"
      ]
     },
     "execution_count": 9,
     "metadata": {},
     "output_type": "execute_result"
    },
    {
     "data": {
      "image/png": "[encoded data removed]",
      "text/plain": [
       "<Figure size 640x480 with 1 Axes>"
      ]
     },
     "metadata": {},
     "output_type": "display_data"
    }
   ],
   "source": [
    "g2.plot( x='availability_365', y='reviews_per_month', color='blue', lw=1.5, xlim=(1,365), title='Avaliability vs Monthly reviews')"
   ]
  },
  {
   "cell_type": "code",
   "execution_count": 10,
   "id": "4baf152b-097f-4a15-aeb3-fbaf7d215bf9",
   "metadata": {},
   "outputs": [
    {
     "data": {
      "text/html": [
       "<div>\n",
       "<style scoped>\n",
       "    .dataframe tbody tr th:only-of-type {\n",
       "        vertical-align: middle;\n",
       "    }\n",
       "\n",
       "    .dataframe tbody tr th {\n",
       "        vertical-align: top;\n",
       "    }\n",
       "\n",
       "    .dataframe thead th {\n",
       "        text-align: right;\n",
       "    }\n",
       "</style>\n",
       "<table border=\"1\" class=\"dataframe\">\n",
       "  <thead>\n",
       "    <tr style=\"text-align: right;\">\n",
       "      <th></th>\n",
       "      <th>id</th>\n",
       "      <th>name</th>\n",
       "      <th>host_id</th>\n",
       "      <th>host_name</th>\n",
       "      <th>area</th>\n",
       "      <th>neighbourhood</th>\n",
       "      <th>latitude</th>\n",
       "      <th>longitude</th>\n",
       "      <th>room_type</th>\n",
       "      <th>price</th>\n",
       "      <th>minimum_nights</th>\n",
       "      <th>number_of_reviews</th>\n",
       "      <th>last_review</th>\n",
       "      <th>reviews_per_month</th>\n",
       "      <th>calculated_host_listings_count</th>\n",
       "      <th>availability_365</th>\n",
       "      <th>Avaliability</th>\n",
       "    </tr>\n",
       "  </thead>\n",
       "  <tbody>\n",
       "    <tr>\n",
       "      <th>0</th>\n",
       "      <td>2539</td>\n",
       "      <td>Clean &amp; quiet apt home by the park</td>\n",
       "      <td>2787</td>\n",
       "      <td>John</td>\n",
       "      <td>Brooklyn</td>\n",
       "      <td>Kensington</td>\n",
       "      <td>40.64749</td>\n",
       "      <td>-73.97237</td>\n",
       "      <td>Private room</td>\n",
       "      <td>149</td>\n",
       "      <td>1</td>\n",
       "      <td>9</td>\n",
       "      <td>2018-10-19</td>\n",
       "      <td>0.21</td>\n",
       "      <td>6</td>\n",
       "      <td>365</td>\n",
       "      <td>high avaliability</td>\n",
       "    </tr>\n",
       "  </tbody>\n",
       "</table>\n",
       "</div>"
      ],
      "text/plain": [
       "     id                                name  host_id host_name      area  \\\n",
       "0  2539  Clean & quiet apt home by the park     2787      John  Brooklyn   \n",
       "\n",
       "  neighbourhood  latitude  longitude     room_type  price  minimum_nights  \\\n",
       "0    Kensington  40.64749  -73.97237  Private room    149               1   \n",
       "\n",
       "   number_of_reviews last_review  reviews_per_month  \\\n",
       "0                  9  2018-10-19               0.21   \n",
       "\n",
       "   calculated_host_listings_count  availability_365       Avaliability  \n",
       "0                               6               365  high avaliability  "
      ]
     },
     "execution_count": 10,
     "metadata": {},
     "output_type": "execute_result"
    }
   ],
   "source": [
    "nyc.head(1)"
   ]
  },
  {
   "cell_type": "code",
   "execution_count": 11,
   "id": "dfb946a0-403c-4042-b94f-c49969761c41",
   "metadata": {},
   "outputs": [],
   "source": [
    "cats=nyc['area'].str.cat( nyc['neighbourhood'], sep=' and ')\n",
    "nyc['cats']=cats\n",
    "nyc.head(1)\n",
    "\n",
    "nyc=nyc.drop(labels=['cats'], axis=1)"
   ]
  },
  {
   "cell_type": "code",
   "execution_count": 12,
   "id": "f60a0184-5921-4e35-bc35-7f8e5c92729b",
   "metadata": {},
   "outputs": [
    {
     "data": {
      "text/html": [
       "<div>\n",
       "<style scoped>\n",
       "    .dataframe tbody tr th:only-of-type {\n",
       "        vertical-align: middle;\n",
       "    }\n",
       "\n",
       "    .dataframe tbody tr th {\n",
       "        vertical-align: top;\n",
       "    }\n",
       "\n",
       "    .dataframe thead th {\n",
       "        text-align: right;\n",
       "    }\n",
       "</style>\n",
       "<table border=\"1\" class=\"dataframe\">\n",
       "  <thead>\n",
       "    <tr style=\"text-align: right;\">\n",
       "      <th></th>\n",
       "      <th>id</th>\n",
       "      <th>name</th>\n",
       "      <th>host_id</th>\n",
       "      <th>host_name</th>\n",
       "      <th>area</th>\n",
       "      <th>neighbourhood</th>\n",
       "      <th>latitude</th>\n",
       "      <th>longitude</th>\n",
       "      <th>room_type</th>\n",
       "      <th>price</th>\n",
       "      <th>minimum_nights</th>\n",
       "      <th>number_of_reviews</th>\n",
       "      <th>last_review</th>\n",
       "      <th>reviews_per_month</th>\n",
       "      <th>calculated_host_listings_count</th>\n",
       "      <th>availability_365</th>\n",
       "      <th>Avaliability</th>\n",
       "    </tr>\n",
       "  </thead>\n",
       "  <tbody>\n",
       "    <tr>\n",
       "      <th>0</th>\n",
       "      <td>2539</td>\n",
       "      <td>Clean &amp; quiet apt home by the park</td>\n",
       "      <td>2787</td>\n",
       "      <td>John</td>\n",
       "      <td>Brooklyn</td>\n",
       "      <td>Kensington</td>\n",
       "      <td>40.64749</td>\n",
       "      <td>-73.97237</td>\n",
       "      <td>Private room</td>\n",
       "      <td>149</td>\n",
       "      <td>1</td>\n",
       "      <td>9</td>\n",
       "      <td>2018-10-19</td>\n",
       "      <td>0.21</td>\n",
       "      <td>6</td>\n",
       "      <td>365</td>\n",
       "      <td>high avaliability</td>\n",
       "    </tr>\n",
       "  </tbody>\n",
       "</table>\n",
       "</div>"
      ],
      "text/plain": [
       "     id                                name  host_id host_name      area  \\\n",
       "0  2539  Clean & quiet apt home by the park     2787      John  Brooklyn   \n",
       "\n",
       "  neighbourhood  latitude  longitude     room_type  price  minimum_nights  \\\n",
       "0    Kensington  40.64749  -73.97237  Private room    149               1   \n",
       "\n",
       "   number_of_reviews last_review  reviews_per_month  \\\n",
       "0                  9  2018-10-19               0.21   \n",
       "\n",
       "   calculated_host_listings_count  availability_365       Avaliability  \n",
       "0                               6               365  high avaliability  "
      ]
     },
     "execution_count": 12,
     "metadata": {},
     "output_type": "execute_result"
    }
   ],
   "source": [
    "nyc.head(1)"
   ]
  },
  {
   "cell_type": "code",
   "execution_count": 13,
   "id": "ec6897f8-efef-4fbd-8712-a4f4d2d03f99",
   "metadata": {},
   "outputs": [
    {
     "name": "stdout",
     "output_type": "stream",
     "text": [
      "Are hosts with recent reviews more likely to have higher availability?\n"
     ]
    },
    {
     "data": {
      "text/html": [
       "<div>\n",
       "<style scoped>\n",
       "    .dataframe tbody tr th:only-of-type {\n",
       "        vertical-align: middle;\n",
       "    }\n",
       "\n",
       "    .dataframe tbody tr th {\n",
       "        vertical-align: top;\n",
       "    }\n",
       "\n",
       "    .dataframe thead th {\n",
       "        text-align: right;\n",
       "    }\n",
       "</style>\n",
       "<table border=\"1\" class=\"dataframe\">\n",
       "  <thead>\n",
       "    <tr style=\"text-align: right;\">\n",
       "      <th></th>\n",
       "      <th>id</th>\n",
       "      <th>name</th>\n",
       "      <th>host_id</th>\n",
       "      <th>host_name</th>\n",
       "      <th>area</th>\n",
       "      <th>neighbourhood</th>\n",
       "      <th>latitude</th>\n",
       "      <th>longitude</th>\n",
       "      <th>room_type</th>\n",
       "      <th>price</th>\n",
       "      <th>minimum_nights</th>\n",
       "      <th>number_of_reviews</th>\n",
       "      <th>last_review</th>\n",
       "      <th>reviews_per_month</th>\n",
       "      <th>calculated_host_listings_count</th>\n",
       "      <th>availability_365</th>\n",
       "      <th>Avaliability</th>\n",
       "      <th>year</th>\n",
       "      <th>month</th>\n",
       "      <th>day</th>\n",
       "    </tr>\n",
       "  </thead>\n",
       "  <tbody>\n",
       "    <tr>\n",
       "      <th>0</th>\n",
       "      <td>2539</td>\n",
       "      <td>Clean &amp; quiet apt home by the park</td>\n",
       "      <td>2787</td>\n",
       "      <td>John</td>\n",
       "      <td>Brooklyn</td>\n",
       "      <td>Kensington</td>\n",
       "      <td>40.64749</td>\n",
       "      <td>-73.97237</td>\n",
       "      <td>Private room</td>\n",
       "      <td>149</td>\n",
       "      <td>1</td>\n",
       "      <td>9</td>\n",
       "      <td>2018-10-19</td>\n",
       "      <td>0.21</td>\n",
       "      <td>6</td>\n",
       "      <td>365</td>\n",
       "      <td>high avaliability</td>\n",
       "      <td>2018</td>\n",
       "      <td>10</td>\n",
       "      <td>19</td>\n",
       "    </tr>\n",
       "  </tbody>\n",
       "</table>\n",
       "</div>"
      ],
      "text/plain": [
       "     id                                name  host_id host_name      area  \\\n",
       "0  2539  Clean & quiet apt home by the park     2787      John  Brooklyn   \n",
       "\n",
       "  neighbourhood  latitude  longitude     room_type  price  minimum_nights  \\\n",
       "0    Kensington  40.64749  -73.97237  Private room    149               1   \n",
       "\n",
       "   number_of_reviews last_review  reviews_per_month  \\\n",
       "0                  9  2018-10-19               0.21   \n",
       "\n",
       "   calculated_host_listings_count  availability_365       Avaliability  year  \\\n",
       "0                               6               365  high avaliability  2018   \n",
       "\n",
       "  month day  \n",
       "0    10  19  "
      ]
     },
     "execution_count": 13,
     "metadata": {},
     "output_type": "execute_result"
    }
   ],
   "source": [
    "print('Are hosts with recent reviews more likely to have higher availability?')\n",
    "splits=nyc['last_review'].str.split(pat='-', expand=True)\n",
    "splits.head()\n",
    "nyc[['year','month','day']]=splits\n",
    "nyc.head(1)"
   ]
  },
  {
   "cell_type": "code",
   "execution_count": 14,
   "id": "980b2b23-a856-4b33-a67e-73f6afde59d0",
   "metadata": {},
   "outputs": [],
   "source": [
    "def avaliable(data, v1, **kwargs):\n",
    "    normalize=kwargs.get('normalize', False)\n",
    "    if normalize:\n",
    "        return data['Avaliability'].value_counts(normalize=True).get(v1,0)\n",
    "    else:\n",
    "        return data['Avaliability'].value_counts().get(v1,0) "
   ]
  },
  {
   "cell_type": "code",
   "execution_count": 15,
   "id": "49efdb26-c15c-4e8f-b2ca-9b4dd8fc028f",
   "metadata": {},
   "outputs": [
    {
     "name": "stderr",
     "output_type": "stream",
     "text": [
      "C:\\Users\\dishi\\AppData\\Local\\Temp\\ipykernel_25552\\1065754683.py:2: DeprecationWarning: DataFrameGroupBy.apply operated on the grouping columns. This behavior is deprecated, and in a future version of pandas the grouping columns will be excluded from the operation. Either pass `include_groups=False` to exclude the groupings or explicitly select the grouping columns after groupby to silence this warning.\n",
      "  nyc.groupby(['year','month']).apply(avaliable, 'high avaliability', normalize=True))\n"
     ]
    },
    {
     "data": {
      "text/html": [
       "<div>\n",
       "<style scoped>\n",
       "    .dataframe tbody tr th:only-of-type {\n",
       "        vertical-align: middle;\n",
       "    }\n",
       "\n",
       "    .dataframe tbody tr th {\n",
       "        vertical-align: top;\n",
       "    }\n",
       "\n",
       "    .dataframe thead th {\n",
       "        text-align: right;\n",
       "    }\n",
       "</style>\n",
       "<table border=\"1\" class=\"dataframe\">\n",
       "  <thead>\n",
       "    <tr style=\"text-align: right;\">\n",
       "      <th></th>\n",
       "      <th>Year</th>\n",
       "      <th>Month</th>\n",
       "      <th>% high avaliability</th>\n",
       "    </tr>\n",
       "  </thead>\n",
       "  <tbody>\n",
       "    <tr>\n",
       "      <th>87</th>\n",
       "      <td>2019</td>\n",
       "      <td>03</td>\n",
       "      <td>0.223171</td>\n",
       "    </tr>\n",
       "    <tr>\n",
       "      <th>88</th>\n",
       "      <td>2019</td>\n",
       "      <td>04</td>\n",
       "      <td>0.225275</td>\n",
       "    </tr>\n",
       "    <tr>\n",
       "      <th>89</th>\n",
       "      <td>2019</td>\n",
       "      <td>05</td>\n",
       "      <td>0.286526</td>\n",
       "    </tr>\n",
       "    <tr>\n",
       "      <th>90</th>\n",
       "      <td>2019</td>\n",
       "      <td>06</td>\n",
       "      <td>0.257163</td>\n",
       "    </tr>\n",
       "    <tr>\n",
       "      <th>91</th>\n",
       "      <td>2019</td>\n",
       "      <td>07</td>\n",
       "      <td>0.229140</td>\n",
       "    </tr>\n",
       "  </tbody>\n",
       "</table>\n",
       "</div>"
      ],
      "text/plain": [
       "    Year Month  % high avaliability\n",
       "87  2019    03             0.223171\n",
       "88  2019    04             0.225275\n",
       "89  2019    05             0.286526\n",
       "90  2019    06             0.257163\n",
       "91  2019    07             0.229140"
      ]
     },
     "execution_count": 15,
     "metadata": {},
     "output_type": "execute_result"
    }
   ],
   "source": [
    "agg5=pd.DataFrame(\n",
    "    nyc.groupby(['year','month']).apply(avaliable, 'high avaliability', normalize=True)) \n",
    "agg5.reset_index(inplace=True)\n",
    "agg5.columns=['Year','Month','% high avaliability']\n",
    "agg5=agg5.sort_values( by=['Year','Month'], ascending=[True, True])\n",
    "agg5.tail()"
   ]
  },
  {
   "cell_type": "code",
   "execution_count": 16,
   "id": "e6e440ca-0aeb-4708-90e6-249f267a5892",
   "metadata": {},
   "outputs": [
    {
     "data": {
      "text/plain": [
       "92"
      ]
     },
     "execution_count": 16,
     "metadata": {},
     "output_type": "execute_result"
    }
   ],
   "source": [
    "tog=agg5['Year'].str.cat(agg5['Month'], sep='/')\n",
    "agg5['date']=tog\n",
    "agg5['date'].nunique() # cannot plot this ahaha too many unique data points"
   ]
  },
  {
   "cell_type": "code",
   "execution_count": 17,
   "id": "b89d0787-bf0d-46bf-b076-f72ec114dc76",
   "metadata": {},
   "outputs": [
    {
     "name": "stdout",
     "output_type": "stream",
     "text": [
      "<class 'pandas.core.frame.DataFrame'>\n",
      "RangeIndex: 92 entries, 0 to 91\n",
      "Data columns (total 4 columns):\n",
      " #   Column               Non-Null Count  Dtype   \n",
      "---  ------               --------------  -----   \n",
      " 0   Year                 92 non-null     category\n",
      " 1   Month                92 non-null     object  \n",
      " 2   % high avaliability  92 non-null     float64 \n",
      " 3   date                 92 non-null     object  \n",
      "dtypes: category(1), float64(1), object(2)\n",
      "memory usage: 2.7+ KB\n"
     ]
    }
   ],
   "source": [
    "agg5['Year']=agg5['Year'].astype('category')\n",
    "agg5.info()"
   ]
  },
  {
   "cell_type": "code",
   "execution_count": 18,
   "id": "4d89c7af-6fb9-4dd6-b2ff-9c3c8cd6afb5",
   "metadata": {},
   "outputs": [
    {
     "name": "stdout",
     "output_type": "stream",
     "text": [
      "Since the Year represents the year of the last review of a property, there is no evidence that suggests higher avaliability with more recent reviews\n"
     ]
    },
    {
     "data": {
      "image/png": "[encoded data removed]",
      "text/plain": [
       "<Figure size 640x480 with 1 Axes>"
      ]
     },
     "metadata": {},
     "output_type": "display_data"
    }
   ],
   "source": [
    "p1=sns.barplot( data=agg5, x='Year', y='% high avaliability', estimator='mean', color='green')\n",
    "print('Since the Year represents the year of the last review of a property, there is no evidence that suggests higher avaliability with more recent reviews')"
   ]
  },
  {
   "cell_type": "code",
   "execution_count": 19,
   "id": "be9a3f2e-17c0-4195-95f2-d5b581b8ef31",
   "metadata": {},
   "outputs": [
    {
     "name": "stdout",
     "output_type": "stream",
     "text": [
      "If a host has more listings, do they charge a higher price than single property hosts?\n"
     ]
    },
    {
     "data": {
      "text/html": [
       "<div>\n",
       "<style scoped>\n",
       "    .dataframe tbody tr th:only-of-type {\n",
       "        vertical-align: middle;\n",
       "    }\n",
       "\n",
       "    .dataframe tbody tr th {\n",
       "        vertical-align: top;\n",
       "    }\n",
       "\n",
       "    .dataframe thead th {\n",
       "        text-align: right;\n",
       "    }\n",
       "</style>\n",
       "<table border=\"1\" class=\"dataframe\">\n",
       "  <thead>\n",
       "    <tr style=\"text-align: right;\">\n",
       "      <th></th>\n",
       "      <th>id</th>\n",
       "      <th>name</th>\n",
       "      <th>host_id</th>\n",
       "      <th>host_name</th>\n",
       "      <th>area</th>\n",
       "      <th>neighbourhood</th>\n",
       "      <th>latitude</th>\n",
       "      <th>longitude</th>\n",
       "      <th>room_type</th>\n",
       "      <th>price</th>\n",
       "      <th>...</th>\n",
       "      <th>number_of_reviews</th>\n",
       "      <th>last_review</th>\n",
       "      <th>reviews_per_month</th>\n",
       "      <th>num of listings</th>\n",
       "      <th>availability_365</th>\n",
       "      <th>Avaliability</th>\n",
       "      <th>year</th>\n",
       "      <th>month</th>\n",
       "      <th>day</th>\n",
       "      <th>host category</th>\n",
       "    </tr>\n",
       "  </thead>\n",
       "  <tbody>\n",
       "    <tr>\n",
       "      <th>0</th>\n",
       "      <td>2539</td>\n",
       "      <td>Clean &amp; quiet apt home by the park</td>\n",
       "      <td>2787</td>\n",
       "      <td>John</td>\n",
       "      <td>Brooklyn</td>\n",
       "      <td>Kensington</td>\n",
       "      <td>40.64749</td>\n",
       "      <td>-73.97237</td>\n",
       "      <td>Private room</td>\n",
       "      <td>149</td>\n",
       "      <td>...</td>\n",
       "      <td>9</td>\n",
       "      <td>2018-10-19</td>\n",
       "      <td>0.21</td>\n",
       "      <td>6</td>\n",
       "      <td>365</td>\n",
       "      <td>high avaliability</td>\n",
       "      <td>2018</td>\n",
       "      <td>10</td>\n",
       "      <td>19</td>\n",
       "      <td>multiple properties host</td>\n",
       "    </tr>\n",
       "  </tbody>\n",
       "</table>\n",
       "<p>1 rows × 21 columns</p>\n",
       "</div>"
      ],
      "text/plain": [
       "     id                                name  host_id host_name      area  \\\n",
       "0  2539  Clean & quiet apt home by the park     2787      John  Brooklyn   \n",
       "\n",
       "  neighbourhood  latitude  longitude     room_type  price  ...  \\\n",
       "0    Kensington  40.64749  -73.97237  Private room    149  ...   \n",
       "\n",
       "   number_of_reviews  last_review reviews_per_month  num of listings  \\\n",
       "0                  9   2018-10-19              0.21                6   \n",
       "\n",
       "   availability_365       Avaliability  year month day  \\\n",
       "0               365  high avaliability  2018    10  19   \n",
       "\n",
       "              host category  \n",
       "0  multiple properties host  \n",
       "\n",
       "[1 rows x 21 columns]"
      ]
     },
     "execution_count": 19,
     "metadata": {},
     "output_type": "execute_result"
    }
   ],
   "source": [
    "renames={'calculated_host_listings_count':'num of listings'}\n",
    "nyc=nyc.rename(mapper=renames, axis=1)\n",
    "nyc.head(1)\n",
    "\n",
    "print('If a host has more listings, do they charge a higher price than single property hosts?')\n",
    "\n",
    "def listings(row):\n",
    "    if row['num of listings']==1:\n",
    "        out='single property host'\n",
    "    elif (row['num of listings']>1) and row['num of listings'] <= 10:\n",
    "        out='multiple properties host'\n",
    "    else:\n",
    "        out='superhost'\n",
    "    return out\n",
    "\n",
    "nyc['host category']=nyc.apply(listings, axis=1) # applying the custom function to loop through the rows of the dataset\n",
    "nyc.head(1)"
   ]
  },
  {
   "cell_type": "code",
   "execution_count": 20,
   "id": "27d7f659-361c-47de-b03f-883ff98d741b",
   "metadata": {},
   "outputs": [
    {
     "name": "stdout",
     "output_type": "stream",
     "text": [
      "              host category       price\n",
      "2                 superhost  196.412528\n",
      "1      single property host  150.332123\n",
      "0  multiple properties host  116.853094\n",
      "According to the table, single property hosts may charge even more than multiple property hosts, therefore no exact relationship\n",
      "Superhosts charge even more of course\n"
     ]
    }
   ],
   "source": [
    "gr=nyc.groupby('host category').agg({'price':'mean'})\n",
    "gr.reset_index(inplace=True)\n",
    "gr=gr.sort_values(by='price', ascending=False)\n",
    "print(gr)\n",
    "print('According to the table, single property hosts may charge even more than multiple property hosts, therefore no exact relationship')\n",
    "print('Superhosts charge even more of course')"
   ]
  },
  {
   "cell_type": "code",
   "execution_count": 21,
   "id": "98b429d7-88fd-4502-9a9b-971ff8c52db6",
   "metadata": {},
   "outputs": [
    {
     "name": "stdout",
     "output_type": "stream",
     "text": [
      "                    price  num of listings\n",
      "price            1.000000         0.052895\n",
      "num of listings  0.052895         1.000000\n",
      "There seems to be almost no correlation between the price and the number of lisitngs per host\n"
     ]
    }
   ],
   "source": [
    "samp=nyc.loc[:,['price','num of listings']]\n",
    "print(samp.corr())\n",
    "print('There seems to be almost no correlation between the price and the number of lisitngs per host')"
   ]
  },
  {
   "cell_type": "code",
   "execution_count": 22,
   "id": "af227a30-803d-43a2-9e76-abb435b902f5",
   "metadata": {},
   "outputs": [
    {
     "name": "stdout",
     "output_type": "stream",
     "text": [
      "Results change according to the type of property listed\n"
     ]
    },
    {
     "data": {
      "text/html": [
       "<div>\n",
       "<style scoped>\n",
       "    .dataframe tbody tr th:only-of-type {\n",
       "        vertical-align: middle;\n",
       "    }\n",
       "\n",
       "    .dataframe tbody tr th {\n",
       "        vertical-align: top;\n",
       "    }\n",
       "\n",
       "    .dataframe thead th {\n",
       "        text-align: right;\n",
       "    }\n",
       "</style>\n",
       "<table border=\"1\" class=\"dataframe\">\n",
       "  <thead>\n",
       "    <tr style=\"text-align: right;\">\n",
       "      <th></th>\n",
       "      <th>host category</th>\n",
       "      <th>room_type</th>\n",
       "      <th>price</th>\n",
       "    </tr>\n",
       "  </thead>\n",
       "  <tbody>\n",
       "    <tr>\n",
       "      <th>6</th>\n",
       "      <td>superhost</td>\n",
       "      <td>Entire home/apt</td>\n",
       "      <td>238.574523</td>\n",
       "    </tr>\n",
       "    <tr>\n",
       "      <th>0</th>\n",
       "      <td>multiple properties host</td>\n",
       "      <td>Entire home/apt</td>\n",
       "      <td>200.652812</td>\n",
       "    </tr>\n",
       "    <tr>\n",
       "      <th>3</th>\n",
       "      <td>single property host</td>\n",
       "      <td>Entire home/apt</td>\n",
       "      <td>192.135994</td>\n",
       "    </tr>\n",
       "    <tr>\n",
       "      <th>7</th>\n",
       "      <td>superhost</td>\n",
       "      <td>Private room</td>\n",
       "      <td>127.104693</td>\n",
       "    </tr>\n",
       "    <tr>\n",
       "      <th>4</th>\n",
       "      <td>single property host</td>\n",
       "      <td>Private room</td>\n",
       "      <td>84.612168</td>\n",
       "    </tr>\n",
       "    <tr>\n",
       "      <th>5</th>\n",
       "      <td>single property host</td>\n",
       "      <td>Shared room</td>\n",
       "      <td>84.028369</td>\n",
       "    </tr>\n",
       "    <tr>\n",
       "      <th>1</th>\n",
       "      <td>multiple properties host</td>\n",
       "      <td>Private room</td>\n",
       "      <td>80.018582</td>\n",
       "    </tr>\n",
       "    <tr>\n",
       "      <th>2</th>\n",
       "      <td>multiple properties host</td>\n",
       "      <td>Shared room</td>\n",
       "      <td>54.942000</td>\n",
       "    </tr>\n",
       "    <tr>\n",
       "      <th>8</th>\n",
       "      <td>superhost</td>\n",
       "      <td>Shared room</td>\n",
       "      <td>36.125000</td>\n",
       "    </tr>\n",
       "  </tbody>\n",
       "</table>\n",
       "</div>"
      ],
      "text/plain": [
       "              host category        room_type       price\n",
       "6                 superhost  Entire home/apt  238.574523\n",
       "0  multiple properties host  Entire home/apt  200.652812\n",
       "3      single property host  Entire home/apt  192.135994\n",
       "7                 superhost     Private room  127.104693\n",
       "4      single property host     Private room   84.612168\n",
       "5      single property host      Shared room   84.028369\n",
       "1  multiple properties host     Private room   80.018582\n",
       "2  multiple properties host      Shared room   54.942000\n",
       "8                 superhost      Shared room   36.125000"
      ]
     },
     "execution_count": 22,
     "metadata": {},
     "output_type": "execute_result"
    }
   ],
   "source": [
    "gr1=nyc.groupby(['host category','room_type']).agg({'price':'mean'})\n",
    "gr1.reset_index(inplace=True)\n",
    "print('Results change according to the type of property listed')\n",
    "gr1=gr1.sort_values(by='price', ascending=False)\n",
    "gr1"
   ]
  },
  {
   "cell_type": "code",
   "execution_count": 23,
   "id": "6ef67493-4e9e-4c69-a596-6401652ac2a2",
   "metadata": {},
   "outputs": [
    {
     "data": {
      "text/plain": [
       "Text(0.5, 1.0, 'Distribution of the number of listings')"
      ]
     },
     "execution_count": 23,
     "metadata": {},
     "output_type": "execute_result"
    },
    {
     "data": {
      "image/png": "[encoded data removed]",
      "text/plain": [
       "<Figure size 640x480 with 1 Axes>"
      ]
     },
     "metadata": {},
     "output_type": "display_data"
    }
   ],
   "source": [
    "p1=sns.histplot(nyc['num of listings'], color='green', kde=True, bins=40)\n",
    "p1.set_ylim([0,400])\n",
    "p1.set_title('Distribution of the number of listings')"
   ]
  },
  {
   "cell_type": "code",
   "execution_count": 24,
   "id": "6a2bb843-fcef-4b42-b6e1-fcf64b51a015",
   "metadata": {},
   "outputs": [
    {
     "data": {
      "text/plain": [
       "count    38821.000000\n",
       "mean         5.166611\n",
       "std         26.302954\n",
       "min          1.000000\n",
       "25%          1.000000\n",
       "50%          1.000000\n",
       "75%          2.000000\n",
       "max        327.000000\n",
       "Name: num of listings, dtype: float64"
      ]
     },
     "execution_count": 24,
     "metadata": {},
     "output_type": "execute_result"
    }
   ],
   "source": [
    "nyc['num of listings'].describe()"
   ]
  },
  {
   "cell_type": "code",
   "execution_count": null,
   "id": "af4b5cbe-54eb-4f10-a4d5-63d7cfc3cd9e",
   "metadata": {},
   "outputs": [],
   "source": []
  }
 ],
 "metadata": {
  "kernelspec": {
   "display_name": "Python 3 (ipykernel)",
   "language": "python",
   "name": "python3"
  },
  "language_info": {
   "codemirror_mode": {
    "name": "ipython",
    "version": 3
   },
   "file_extension": ".py",
   "mimetype": "text/x-python",
   "name": "python",
   "nbconvert_exporter": "python",
   "pygments_lexer": "ipython3",
   "version": "3.12.1"
  }
 },
 "nbformat": 4,
 "nbformat_minor": 5
}
