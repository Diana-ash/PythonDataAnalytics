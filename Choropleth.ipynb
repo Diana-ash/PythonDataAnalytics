{
 "cells": [
  {
   "cell_type": "code",
   "execution_count": 2,
   "id": "d4540189-6b89-4f81-8c27-ea3d7d722292",
   "metadata": {},
   "outputs": [
    {
     "name": "stdout",
     "output_type": "stream",
     "text": [
      "<class 'pandas.core.frame.DataFrame'>\n",
      "RangeIndex: 12 entries, 0 to 11\n",
      "Data columns (total 7 columns):\n",
      " #   Column     Non-Null Count  Dtype \n",
      "---  ------     --------------  ----- \n",
      " 0   Month      12 non-null     object\n",
      " 1   Madrid     12 non-null     int64 \n",
      " 2   London     12 non-null     int64 \n",
      " 3   Paris      12 non-null     int64 \n",
      " 4   Berlin     12 non-null     int64 \n",
      " 5   Rome       12 non-null     int64 \n",
      " 6   Amsterdam  12 non-null     int64 \n",
      "dtypes: int64(6), object(1)\n",
      "memory usage: 804.0+ bytes\n"
     ]
    }
   ],
   "source": [
    "import pandas as pd\n",
    "import numpy as np\n",
    "import plotly.express as px\n",
    "\n",
    "d1=pd.read_csv(\"C:/Users/dishi/OneDrive/Desktop/PYTHON DATASETS/plotly.csv\")\n",
    "d1.info()"
   ]
  },
  {
   "cell_type": "code",
   "execution_count": 6,
   "id": "ae1fee9f-d526-4562-b34c-7f0004ae7fe1",
   "metadata": {},
   "outputs": [
    {
     "data": {
      "text/html": [
       "<div>\n",
       "<style scoped>\n",
       "    .dataframe tbody tr th:only-of-type {\n",
       "        vertical-align: middle;\n",
       "    }\n",
       "\n",
       "    .dataframe tbody tr th {\n",
       "        vertical-align: top;\n",
       "    }\n",
       "\n",
       "    .dataframe thead th {\n",
       "        text-align: right;\n",
       "    }\n",
       "</style>\n",
       "<table border=\"1\" class=\"dataframe\">\n",
       "  <thead>\n",
       "    <tr style=\"text-align: right;\">\n",
       "      <th></th>\n",
       "      <th>Month</th>\n",
       "      <th>Madrid</th>\n",
       "      <th>London</th>\n",
       "      <th>Paris</th>\n",
       "      <th>Berlin</th>\n",
       "      <th>Rome</th>\n",
       "      <th>Amsterdam</th>\n",
       "    </tr>\n",
       "  </thead>\n",
       "  <tbody>\n",
       "    <tr>\n",
       "      <th>0</th>\n",
       "      <td>January</td>\n",
       "      <td>6</td>\n",
       "      <td>5</td>\n",
       "      <td>4</td>\n",
       "      <td>0</td>\n",
       "      <td>8</td>\n",
       "      <td>3</td>\n",
       "    </tr>\n",
       "    <tr>\n",
       "      <th>1</th>\n",
       "      <td>February</td>\n",
       "      <td>8</td>\n",
       "      <td>6</td>\n",
       "      <td>6</td>\n",
       "      <td>2</td>\n",
       "      <td>9</td>\n",
       "      <td>4</td>\n",
       "    </tr>\n",
       "  </tbody>\n",
       "</table>\n",
       "</div>"
      ],
      "text/plain": [
       "      Month  Madrid  London  Paris  Berlin  Rome  Amsterdam\n",
       "0   January       6       5      4       0     8          3\n",
       "1  February       8       6      6       2     9          4"
      ]
     },
     "execution_count": 6,
     "metadata": {},
     "output_type": "execute_result"
    }
   ],
   "source": [
    "d1.head(2)"
   ]
  },
  {
   "cell_type": "code",
   "execution_count": 5,
   "id": "a5f5c101-c2b3-4739-9e16-e9851aceafb6",
   "metadata": {},
   "outputs": [
    {
     "data": {
      "text/html": [
       "<div>\n",
       "<style scoped>\n",
       "    .dataframe tbody tr th:only-of-type {\n",
       "        vertical-align: middle;\n",
       "    }\n",
       "\n",
       "    .dataframe tbody tr th {\n",
       "        vertical-align: top;\n",
       "    }\n",
       "\n",
       "    .dataframe thead th {\n",
       "        text-align: right;\n",
       "    }\n",
       "</style>\n",
       "<table border=\"1\" class=\"dataframe\">\n",
       "  <thead>\n",
       "    <tr style=\"text-align: right;\">\n",
       "      <th></th>\n",
       "      <th>Month</th>\n",
       "      <th>Cities</th>\n",
       "      <th>Temperature</th>\n",
       "    </tr>\n",
       "  </thead>\n",
       "  <tbody>\n",
       "    <tr>\n",
       "      <th>0</th>\n",
       "      <td>January</td>\n",
       "      <td>Madrid</td>\n",
       "      <td>6</td>\n",
       "    </tr>\n",
       "    <tr>\n",
       "      <th>1</th>\n",
       "      <td>February</td>\n",
       "      <td>Madrid</td>\n",
       "      <td>8</td>\n",
       "    </tr>\n",
       "    <tr>\n",
       "      <th>2</th>\n",
       "      <td>March</td>\n",
       "      <td>Madrid</td>\n",
       "      <td>12</td>\n",
       "    </tr>\n",
       "    <tr>\n",
       "      <th>3</th>\n",
       "      <td>April</td>\n",
       "      <td>Madrid</td>\n",
       "      <td>15</td>\n",
       "    </tr>\n",
       "    <tr>\n",
       "      <th>4</th>\n",
       "      <td>May</td>\n",
       "      <td>Madrid</td>\n",
       "      <td>20</td>\n",
       "    </tr>\n",
       "  </tbody>\n",
       "</table>\n",
       "</div>"
      ],
      "text/plain": [
       "      Month  Cities  Temperature\n",
       "0   January  Madrid            6\n",
       "1  February  Madrid            8\n",
       "2     March  Madrid           12\n",
       "3     April  Madrid           15\n",
       "4       May  Madrid           20"
      ]
     },
     "execution_count": 5,
     "metadata": {},
     "output_type": "execute_result"
    }
   ],
   "source": [
    "d1melted=d1.melt( id_vars='Month', var_name='Cities', value_name='Temperature')\n",
    "d1melted.head() # now we have melted the dataset"
   ]
  },
  {
   "cell_type": "code",
   "execution_count": 8,
   "id": "e8223c9a-caf6-45b1-b5a2-2d105ad6b8f2",
   "metadata": {},
   "outputs": [
    {
     "data": {
      "application/vnd.plotly.v1+json": {
       "config": {
        "plotlyServerURL": "https://plot.ly"
       },
       "data": [
        {
         "hovertemplate": "Cities=Madrid<br>Month date=%{x}<br>Temp in Celcius=%{y}<extra></extra>",
         "legendgroup": "Madrid",
         "line": {
          "color": "#636efa",
          "dash": "solid"
         },
         "marker": {
          "symbol": "circle"
         },
         "mode": "lines",
         "name": "Madrid",
         "orientation": "v",
         "showlegend": true,
         "type": "scatter",
         "x": [
          "January",
          "February",
          "March",
          "April",
          "May",
          "June",
          "July",
          "August",
          "September",
          "October",
          "November",
          "December"
         ],
         "xaxis": "x",
         "y": {
          "_inputArray": {
           "0": 6,
           "1": 8,
           "10": 11,
           "11": 7,
           "2": 12,
           "3": 15,
           "4": 20,
           "5": 25,
           "6": 30,
           "7": 30,
           "8": 25,
           "9": 18,
           "bdata": "BggMDxQZHh4ZEgsH",
           "dtype": "i1",
           "shape": "12"
          },
          "bdata": "BggMDxQZHh4ZEgsH",
          "dtype": "i1"
         },
         "yaxis": "y"
        },
        {
         "hovertemplate": "Cities=London<br>Month date=%{x}<br>Temp in Celcius=%{y}<extra></extra>",
         "legendgroup": "London",
         "line": {
          "color": "#EF553B",
          "dash": "solid"
         },
         "marker": {
          "symbol": "circle"
         },
         "mode": "lines",
         "name": "London",
         "orientation": "v",
         "showlegend": true,
         "type": "scatter",
         "x": [
          "January",
          "February",
          "March",
          "April",
          "May",
          "June",
          "July",
          "August",
          "September",
          "October",
          "November",
          "December"
         ],
         "xaxis": "x",
         "y": {
          "_inputArray": {
           "0": 5,
           "1": 6,
           "10": 9,
           "11": 6,
           "2": 9,
           "3": 12,
           "4": 16,
           "5": 19,
           "6": 22,
           "7": 21,
           "8": 18,
           "9": 14,
           "bdata": "BQYJDBATFhUSDgkG",
           "dtype": "i1",
           "shape": "12"
          },
          "bdata": "BQYJDBATFhUSDgkG",
          "dtype": "i1"
         },
         "yaxis": "y"
        },
        {
         "hovertemplate": "Cities=Paris<br>Month date=%{x}<br>Temp in Celcius=%{y}<extra></extra>",
         "legendgroup": "Paris",
         "line": {
          "color": "#00cc96",
          "dash": "solid"
         },
         "marker": {
          "symbol": "circle"
         },
         "mode": "lines",
         "name": "Paris",
         "orientation": "v",
         "showlegend": true,
         "type": "scatter",
         "x": [
          "January",
          "February",
          "March",
          "April",
          "May",
          "June",
          "July",
          "August",
          "September",
          "October",
          "November",
          "December"
         ],
         "xaxis": "x",
         "y": {
          "_inputArray": {
           "0": 4,
           "1": 6,
           "10": 9,
           "11": 5,
           "2": 10,
           "3": 13,
           "4": 17,
           "5": 21,
           "6": 24,
           "7": 24,
           "8": 20,
           "9": 15,
           "bdata": "BAYKDREVGBgUDwkF",
           "dtype": "i1",
           "shape": "12"
          },
          "bdata": "BAYKDREVGBgUDwkF",
          "dtype": "i1"
         },
         "yaxis": "y"
        },
        {
         "hovertemplate": "Cities=Berlin<br>Month date=%{x}<br>Temp in Celcius=%{y}<extra></extra>",
         "legendgroup": "Berlin",
         "line": {
          "color": "#ab63fa",
          "dash": "solid"
         },
         "marker": {
          "symbol": "circle"
         },
         "mode": "lines",
         "name": "Berlin",
         "orientation": "v",
         "showlegend": true,
         "type": "scatter",
         "x": [
          "January",
          "February",
          "March",
          "April",
          "May",
          "June",
          "July",
          "August",
          "September",
          "October",
          "November",
          "December"
         ],
         "xaxis": "x",
         "y": {
          "_inputArray": {
           "0": 0,
           "1": 2,
           "10": 5,
           "11": 2,
           "2": 6,
           "3": 10,
           "4": 15,
           "5": 18,
           "6": 20,
           "7": 20,
           "8": 16,
           "9": 10,
           "bdata": "AAIGCg8SFBQQCgUC",
           "dtype": "i1",
           "shape": "12"
          },
          "bdata": "AAIGCg8SFBQQCgUC",
          "dtype": "i1"
         },
         "yaxis": "y"
        },
        {
         "hovertemplate": "Cities=Rome<br>Month date=%{x}<br>Temp in Celcius=%{y}<extra></extra>",
         "legendgroup": "Rome",
         "line": {
          "color": "#FFA15A",
          "dash": "solid"
         },
         "marker": {
          "symbol": "circle"
         },
         "mode": "lines",
         "name": "Rome",
         "orientation": "v",
         "showlegend": true,
         "type": "scatter",
         "x": [
          "January",
          "February",
          "March",
          "April",
          "May",
          "June",
          "July",
          "August",
          "September",
          "October",
          "November",
          "December"
         ],
         "xaxis": "x",
         "y": {
          "_inputArray": {
           "0": 8,
           "1": 9,
           "10": 13,
           "11": 9,
           "2": 12,
           "3": 15,
           "4": 20,
           "5": 24,
           "6": 28,
           "7": 28,
           "8": 24,
           "9": 18,
           "bdata": "CAkMDxQYHBwYEg0J",
           "dtype": "i1",
           "shape": "12"
          },
          "bdata": "CAkMDxQYHBwYEg0J",
          "dtype": "i1"
         },
         "yaxis": "y"
        },
        {
         "hovertemplate": "Cities=Amsterdam<br>Month date=%{x}<br>Temp in Celcius=%{y}<extra></extra>",
         "legendgroup": "Amsterdam",
         "line": {
          "color": "#19d3f3",
          "dash": "solid"
         },
         "marker": {
          "symbol": "circle"
         },
         "mode": "lines",
         "name": "Amsterdam",
         "orientation": "v",
         "showlegend": true,
         "type": "scatter",
         "x": [
          "January",
          "February",
          "March",
          "April",
          "May",
          "June",
          "July",
          "August",
          "September",
          "October",
          "November",
          "December"
         ],
         "xaxis": "x",
         "y": {
          "_inputArray": {
           "0": 3,
           "1": 4,
           "10": 8,
           "11": 4,
           "2": 7,
           "3": 10,
           "4": 14,
           "5": 17,
           "6": 20,
           "7": 20,
           "8": 17,
           "9": 13,
           "bdata": "AwQHCg4RFBQRDQgE",
           "dtype": "i1",
           "shape": "12"
          },
          "bdata": "AwQHCg4RFBQRDQgE",
          "dtype": "i1"
         },
         "yaxis": "y"
        }
       ],
       "layout": {
        "autosize": true,
        "legend": {
         "title": {
          "text": "Cities"
         },
         "tracegroupgap": 0
        },
        "template": {
         "data": {
          "bar": [
           {
            "error_x": {
             "color": "#2a3f5f"
            },
            "error_y": {
             "color": "#2a3f5f"
            },
            "marker": {
             "line": {
              "color": "#E5ECF6",
              "width": 0.5
             },
             "pattern": {
              "fillmode": "overlay",
              "size": 10,
              "solidity": 0.2
             }
            },
            "type": "bar"
           }
          ],
          "barpolar": [
           {
            "marker": {
             "line": {
              "color": "#E5ECF6",
              "width": 0.5
             },
             "pattern": {
              "fillmode": "overlay",
              "size": 10,
              "solidity": 0.2
             }
            },
            "type": "barpolar"
           }
          ],
          "carpet": [
           {
            "aaxis": {
             "endlinecolor": "#2a3f5f",
             "gridcolor": "white",
             "linecolor": "white",
             "minorgridcolor": "white",
             "startlinecolor": "#2a3f5f"
            },
            "baxis": {
             "endlinecolor": "#2a3f5f",
             "gridcolor": "white",
             "linecolor": "white",
             "minorgridcolor": "white",
             "startlinecolor": "#2a3f5f"
            },
            "type": "carpet"
           }
          ],
          "choropleth": [
           {
            "colorbar": {
             "outlinewidth": 0,
             "ticks": ""
            },
            "type": "choropleth"
           }
          ],
          "contour": [
           {
            "colorbar": {
             "outlinewidth": 0,
             "ticks": ""
            },
            "colorscale": [
             [
              0,
              "#0d0887"
             ],
             [
              0.1111111111111111,
              "#46039f"
             ],
             [
              0.2222222222222222,
              "#7201a8"
             ],
             [
              0.3333333333333333,
              "#9c179e"
             ],
             [
              0.4444444444444444,
              "#bd3786"
             ],
             [
              0.5555555555555556,
              "#d8576b"
             ],
             [
              0.6666666666666666,
              "#ed7953"
             ],
             [
              0.7777777777777778,
              "#fb9f3a"
             ],
             [
              0.8888888888888888,
              "#fdca26"
             ],
             [
              1,
              "#f0f921"
             ]
            ],
            "type": "contour"
           }
          ],
          "contourcarpet": [
           {
            "colorbar": {
             "outlinewidth": 0,
             "ticks": ""
            },
            "type": "contourcarpet"
           }
          ],
          "heatmap": [
           {
            "colorbar": {
             "outlinewidth": 0,
             "ticks": ""
            },
            "colorscale": [
             [
              0,
              "#0d0887"
             ],
             [
              0.1111111111111111,
              "#46039f"
             ],
             [
              0.2222222222222222,
              "#7201a8"
             ],
             [
              0.3333333333333333,
              "#9c179e"
             ],
             [
              0.4444444444444444,
              "#bd3786"
             ],
             [
              0.5555555555555556,
              "#d8576b"
             ],
             [
              0.6666666666666666,
              "#ed7953"
             ],
             [
              0.7777777777777778,
              "#fb9f3a"
             ],
             [
              0.8888888888888888,
              "#fdca26"
             ],
             [
              1,
              "#f0f921"
             ]
            ],
            "type": "heatmap"
           }
          ],
          "histogram": [
           {
            "marker": {
             "pattern": {
              "fillmode": "overlay",
              "size": 10,
              "solidity": 0.2
             }
            },
            "type": "histogram"
           }
          ],
          "histogram2d": [
           {
            "colorbar": {
             "outlinewidth": 0,
             "ticks": ""
            },
            "colorscale": [
             [
              0,
              "#0d0887"
             ],
             [
              0.1111111111111111,
              "#46039f"
             ],
             [
              0.2222222222222222,
              "#7201a8"
             ],
             [
              0.3333333333333333,
              "#9c179e"
             ],
             [
              0.4444444444444444,
              "#bd3786"
             ],
             [
              0.5555555555555556,
              "#d8576b"
             ],
             [
              0.6666666666666666,
              "#ed7953"
             ],
             [
              0.7777777777777778,
              "#fb9f3a"
             ],
             [
              0.8888888888888888,
              "#fdca26"
             ],
             [
              1,
              "#f0f921"
             ]
            ],
            "type": "histogram2d"
           }
          ],
          "histogram2dcontour": [
           {
            "colorbar": {
             "outlinewidth": 0,
             "ticks": ""
            },
            "colorscale": [
             [
              0,
              "#0d0887"
             ],
             [
              0.1111111111111111,
              "#46039f"
             ],
             [
              0.2222222222222222,
              "#7201a8"
             ],
             [
              0.3333333333333333,
              "#9c179e"
             ],
             [
              0.4444444444444444,
              "#bd3786"
             ],
             [
              0.5555555555555556,
              "#d8576b"
             ],
             [
              0.6666666666666666,
              "#ed7953"
             ],
             [
              0.7777777777777778,
              "#fb9f3a"
             ],
             [
              0.8888888888888888,
              "#fdca26"
             ],
             [
              1,
              "#f0f921"
             ]
            ],
            "type": "histogram2dcontour"
           }
          ],
          "mesh3d": [
           {
            "colorbar": {
             "outlinewidth": 0,
             "ticks": ""
            },
            "type": "mesh3d"
           }
          ],
          "parcoords": [
           {
            "line": {
             "colorbar": {
              "outlinewidth": 0,
              "ticks": ""
             }
            },
            "type": "parcoords"
           }
          ],
          "pie": [
           {
            "automargin": true,
            "type": "pie"
           }
          ],
          "scatter": [
           {
            "fillpattern": {
             "fillmode": "overlay",
             "size": 10,
             "solidity": 0.2
            },
            "type": "scatter"
           }
          ],
          "scatter3d": [
           {
            "line": {
             "colorbar": {
              "outlinewidth": 0,
              "ticks": ""
             }
            },
            "marker": {
             "colorbar": {
              "outlinewidth": 0,
              "ticks": ""
             }
            },
            "type": "scatter3d"
           }
          ],
          "scattercarpet": [
           {
            "marker": {
             "colorbar": {
              "outlinewidth": 0,
              "ticks": ""
             }
            },
            "type": "scattercarpet"
           }
          ],
          "scattergeo": [
           {
            "marker": {
             "colorbar": {
              "outlinewidth": 0,
              "ticks": ""
             }
            },
            "type": "scattergeo"
           }
          ],
          "scattergl": [
           {
            "marker": {
             "colorbar": {
              "outlinewidth": 0,
              "ticks": ""
             }
            },
            "type": "scattergl"
           }
          ],
          "scattermap": [
           {
            "marker": {
             "colorbar": {
              "outlinewidth": 0,
              "ticks": ""
             }
            },
            "type": "scattermap"
           }
          ],
          "scattermapbox": [
           {
            "marker": {
             "colorbar": {
              "outlinewidth": 0,
              "ticks": ""
             }
            },
            "type": "scattermapbox"
           }
          ],
          "scatterpolar": [
           {
            "marker": {
             "colorbar": {
              "outlinewidth": 0,
              "ticks": ""
             }
            },
            "type": "scatterpolar"
           }
          ],
          "scatterpolargl": [
           {
            "marker": {
             "colorbar": {
              "outlinewidth": 0,
              "ticks": ""
             }
            },
            "type": "scatterpolargl"
           }
          ],
          "scatterternary": [
           {
            "marker": {
             "colorbar": {
              "outlinewidth": 0,
              "ticks": ""
             }
            },
            "type": "scatterternary"
           }
          ],
          "surface": [
           {
            "colorbar": {
             "outlinewidth": 0,
             "ticks": ""
            },
            "colorscale": [
             [
              0,
              "#0d0887"
             ],
             [
              0.1111111111111111,
              "#46039f"
             ],
             [
              0.2222222222222222,
              "#7201a8"
             ],
             [
              0.3333333333333333,
              "#9c179e"
             ],
             [
              0.4444444444444444,
              "#bd3786"
             ],
             [
              0.5555555555555556,
              "#d8576b"
             ],
             [
              0.6666666666666666,
              "#ed7953"
             ],
             [
              0.7777777777777778,
              "#fb9f3a"
             ],
             [
              0.8888888888888888,
              "#fdca26"
             ],
             [
              1,
              "#f0f921"
             ]
            ],
            "type": "surface"
           }
          ],
          "table": [
           {
            "cells": {
             "fill": {
              "color": "#EBF0F8"
             },
             "line": {
              "color": "white"
             }
            },
            "header": {
             "fill": {
              "color": "#C8D4E3"
             },
             "line": {
              "color": "white"
             }
            },
            "type": "table"
           }
          ]
         },
         "layout": {
          "annotationdefaults": {
           "arrowcolor": "#2a3f5f",
           "arrowhead": 0,
           "arrowwidth": 1
          },
          "autotypenumbers": "strict",
          "coloraxis": {
           "colorbar": {
            "outlinewidth": 0,
            "ticks": ""
           }
          },
          "colorscale": {
           "diverging": [
            [
             0,
             "#8e0152"
            ],
            [
             0.1,
             "#c51b7d"
            ],
            [
             0.2,
             "#de77ae"
            ],
            [
             0.3,
             "#f1b6da"
            ],
            [
             0.4,
             "#fde0ef"
            ],
            [
             0.5,
             "#f7f7f7"
            ],
            [
             0.6,
             "#e6f5d0"
            ],
            [
             0.7,
             "#b8e186"
            ],
            [
             0.8,
             "#7fbc41"
            ],
            [
             0.9,
             "#4d9221"
            ],
            [
             1,
             "#276419"
            ]
           ],
           "sequential": [
            [
             0,
             "#0d0887"
            ],
            [
             0.1111111111111111,
             "#46039f"
            ],
            [
             0.2222222222222222,
             "#7201a8"
            ],
            [
             0.3333333333333333,
             "#9c179e"
            ],
            [
             0.4444444444444444,
             "#bd3786"
            ],
            [
             0.5555555555555556,
             "#d8576b"
            ],
            [
             0.6666666666666666,
             "#ed7953"
            ],
            [
             0.7777777777777778,
             "#fb9f3a"
            ],
            [
             0.8888888888888888,
             "#fdca26"
            ],
            [
             1,
             "#f0f921"
            ]
           ],
           "sequentialminus": [
            [
             0,
             "#0d0887"
            ],
            [
             0.1111111111111111,
             "#46039f"
            ],
            [
             0.2222222222222222,
             "#7201a8"
            ],
            [
             0.3333333333333333,
             "#9c179e"
            ],
            [
             0.4444444444444444,
             "#bd3786"
            ],
            [
             0.5555555555555556,
             "#d8576b"
            ],
            [
             0.6666666666666666,
             "#ed7953"
            ],
            [
             0.7777777777777778,
             "#fb9f3a"
            ],
            [
             0.8888888888888888,
             "#fdca26"
            ],
            [
             1,
             "#f0f921"
            ]
           ]
          },
          "colorway": [
           "#636efa",
           "#EF553B",
           "#00cc96",
           "#ab63fa",
           "#FFA15A",
           "#19d3f3",
           "#FF6692",
           "#B6E880",
           "#FF97FF",
           "#FECB52"
          ],
          "font": {
           "color": "#2a3f5f"
          },
          "geo": {
           "bgcolor": "white",
           "lakecolor": "white",
           "landcolor": "#E5ECF6",
           "showlakes": true,
           "showland": true,
           "subunitcolor": "white"
          },
          "hoverlabel": {
           "align": "left"
          },
          "hovermode": "closest",
          "mapbox": {
           "style": "light"
          },
          "paper_bgcolor": "white",
          "plot_bgcolor": "#E5ECF6",
          "polar": {
           "angularaxis": {
            "gridcolor": "white",
            "linecolor": "white",
            "ticks": ""
           },
           "bgcolor": "#E5ECF6",
           "radialaxis": {
            "gridcolor": "white",
            "linecolor": "white",
            "ticks": ""
           }
          },
          "scene": {
           "xaxis": {
            "backgroundcolor": "#E5ECF6",
            "gridcolor": "white",
            "gridwidth": 2,
            "linecolor": "white",
            "showbackground": true,
            "ticks": "",
            "zerolinecolor": "white"
           },
           "yaxis": {
            "backgroundcolor": "#E5ECF6",
            "gridcolor": "white",
            "gridwidth": 2,
            "linecolor": "white",
            "showbackground": true,
            "ticks": "",
            "zerolinecolor": "white"
           },
           "zaxis": {
            "backgroundcolor": "#E5ECF6",
            "gridcolor": "white",
            "gridwidth": 2,
            "linecolor": "white",
            "showbackground": true,
            "ticks": "",
            "zerolinecolor": "white"
           }
          },
          "shapedefaults": {
           "line": {
            "color": "#2a3f5f"
           }
          },
          "ternary": {
           "aaxis": {
            "gridcolor": "white",
            "linecolor": "white",
            "ticks": ""
           },
           "baxis": {
            "gridcolor": "white",
            "linecolor": "white",
            "ticks": ""
           },
           "bgcolor": "#E5ECF6",
           "caxis": {
            "gridcolor": "white",
            "linecolor": "white",
            "ticks": ""
           }
          },
          "title": {
           "x": 0.05
          },
          "xaxis": {
           "automargin": true,
           "gridcolor": "white",
           "linecolor": "white",
           "ticks": "",
           "title": {
            "standoff": 15
           },
           "zerolinecolor": "white",
           "zerolinewidth": 2
          },
          "yaxis": {
           "automargin": true,
           "gridcolor": "white",
           "linecolor": "white",
           "ticks": "",
           "title": {
            "standoff": 15
           },
           "zerolinecolor": "white",
           "zerolinewidth": 2
          }
         }
        },
        "title": {
         "text": "Average daily temperature in 2025"
        },
        "xaxis": {
         "anchor": "y",
         "autorange": true,
         "domain": [
          0,
          1
         ],
         "range": [
          0,
          11
         ],
         "title": {
          "text": "Month date"
         },
         "type": "category"
        },
        "yaxis": {
         "anchor": "x",
         "autorange": true,
         "domain": [
          0,
          1
         ],
         "range": [
          -1.6666666666666665,
          31.666666666666668
         ],
         "title": {
          "text": "Temp in Celcius"
         },
         "type": "linear"
        }
       }
      },
      "image/png": "[encoded data removed]"
     },
     "metadata": {},
     "output_type": "display_data"
    }
   ],
   "source": [
    "p1=px.line(d1melted, x='Month', y='Temperature', color='Cities', labels={'Month':'Month date',\n",
    "                                                                         'Temperature':'Temp in Celcius'}, \n",
    "           title='Average daily temperature in 2025')\n",
    "p1.show() # to view the interactive plot"
   ]
  },
  {
   "cell_type": "code",
   "execution_count": 23,
   "id": "3ba5e3fb-a8d5-4137-9dc8-6366c50f5dd2",
   "metadata": {},
   "outputs": [],
   "source": [
    "d2=pd.read_csv(\"C:/Users/dishi/OneDrive/Desktop/PYTHON DATASETS/geo1.csv\")\n",
    "d2.head()\n",
    "d2002=d2[ d2['Year']==2002 ] # filtering only by 1 year"
   ]
  },
  {
   "cell_type": "code",
   "execution_count": 33,
   "id": "4778b4a4-3622-41ed-8c74-185df25e0110",
   "metadata": {},
   "outputs": [
    {
     "data": {
      "application/vnd.plotly.v1+json": {
       "config": {
        "plotlyServerURL": "https://plot.ly"
       },
       "data": [
        {
         "coloraxis": "coloraxis",
         "geo": "geo",
         "hovertemplate": "<b>%{hovertext}</b><br><br>Code=%{location}<br>gdp pc=%{z}<extra></extra>",
         "hovertext": [
          "Afghanistan",
          "Albania",
          "Algeria",
          "Andorra",
          "Angola",
          "Antigua and Barbuda",
          "Argentina",
          "Armenia",
          "Aruba",
          "Australia",
          "Austria",
          "Azerbaijan",
          "Bahamas",
          "Bahrain",
          "Bangladesh",
          "Barbados",
          "Belarus",
          "Belgium",
          "Belize",
          "Benin",
          "Bermuda",
          "Bhutan",
          "Bolivia",
          "Bosnia and Herzegovina",
          "Botswana",
          "Brazil",
          "Brunei",
          "Bulgaria",
          "Burkina Faso",
          "Burundi",
          "Cambodia",
          "Cameroon",
          "Canada",
          "Cape Verde",
          "Central African Republic",
          "Chad",
          "Chile",
          "China",
          "Colombia",
          "Comoros",
          "Congo",
          "Costa Rica",
          "Cote d'Ivoire",
          "Croatia",
          "Curacao",
          "Cyprus",
          "Czechia",
          "Democratic Republic of Congo",
          "Denmark",
          "Dominica",
          "Dominican Republic",
          "East Asia and Pacific (WB)",
          "East Timor",
          "Ecuador",
          "Egypt",
          "El Salvador",
          "Equatorial Guinea",
          "Estonia",
          "Eswatini",
          "Ethiopia",
          "Europe and Central Asia (WB)",
          "European Union (27)",
          "Fiji",
          "Finland",
          "France",
          "Gabon",
          "Gambia",
          "Georgia",
          "Germany",
          "Ghana",
          "Greece",
          "Greenland",
          "Grenada",
          "Guatemala",
          "Guinea",
          "Guinea-Bissau",
          "Guyana",
          "Haiti",
          "High-income countries",
          "Honduras",
          "Hong Kong",
          "Hungary",
          "Iceland",
          "India",
          "Indonesia",
          "Iran",
          "Iraq",
          "Ireland",
          "Israel",
          "Italy",
          "Jamaica",
          "Japan",
          "Jordan",
          "Kazakhstan",
          "Kenya",
          "Kiribati",
          "Kuwait",
          "Kyrgyzstan",
          "Laos",
          "Latin America and Caribbean (WB)",
          "Latvia",
          "Lebanon",
          "Lesotho",
          "Liberia",
          "Libya",
          "Lithuania",
          "Low-income countries",
          "Lower-middle-income countries",
          "Luxembourg",
          "Macao",
          "Madagascar",
          "Malawi",
          "Malaysia",
          "Maldives",
          "Mali",
          "Malta",
          "Marshall Islands",
          "Mauritania",
          "Mauritius",
          "Mexico",
          "Micronesia (country)",
          "Middle East and North Africa (WB)",
          "Middle-income countries",
          "Moldova",
          "Mongolia",
          "Montenegro",
          "Morocco",
          "Mozambique",
          "Myanmar",
          "Namibia",
          "Nauru",
          "Nepal",
          "Netherlands",
          "New Zealand",
          "Nicaragua",
          "Niger",
          "Nigeria",
          "North America (WB)",
          "North Macedonia",
          "Norway",
          "Oman",
          "Pakistan",
          "Palau",
          "Palestine",
          "Panama",
          "Papua New Guinea",
          "Paraguay",
          "Peru",
          "Philippines",
          "Poland",
          "Portugal",
          "Puerto Rico",
          "Qatar",
          "Romania",
          "Russia",
          "Rwanda",
          "Saint Kitts and Nevis",
          "Saint Lucia",
          "Saint Vincent and the Grenadines",
          "Samoa",
          "San Marino",
          "Sao Tome and Principe",
          "Saudi Arabia",
          "Senegal",
          "Serbia",
          "Seychelles",
          "Sierra Leone",
          "Singapore",
          "Slovakia",
          "Slovenia",
          "Solomon Islands",
          "Somalia",
          "South Africa",
          "South Asia (WB)",
          "South Korea",
          "Spain",
          "Sri Lanka",
          "Sub-Saharan Africa (WB)",
          "Sudan",
          "Suriname",
          "Sweden",
          "Switzerland",
          "Syria",
          "Tajikistan",
          "Tanzania",
          "Thailand",
          "Togo",
          "Tonga",
          "Trinidad and Tobago",
          "Tunisia",
          "Turkey",
          "Turkmenistan",
          "Tuvalu",
          "Uganda",
          "Ukraine",
          "United Arab Emirates",
          "United Kingdom",
          "United States",
          "United States Virgin Islands",
          "Upper-middle-income countries",
          "Uruguay",
          "Uzbekistan",
          "Vanuatu",
          "Vietnam",
          "World",
          "Zambia",
          "Zimbabwe"
         ],
         "locations": [
          "AFG",
          "ALB",
          "DZA",
          "AND",
          "AGO",
          "ATG",
          "ARG",
          "ARM",
          "ABW",
          "AUS",
          "AUT",
          "AZE",
          "BHS",
          "BHR",
          "BGD",
          "BRB",
          "BLR",
          "BEL",
          "BLZ",
          "BEN",
          "BMU",
          "BTN",
          "BOL",
          "BIH",
          "BWA",
          "BRA",
          "BRN",
          "BGR",
          "BFA",
          "BDI",
          "KHM",
          "CMR",
          "CAN",
          "CPV",
          "CAF",
          "TCD",
          "CHL",
          "CHN",
          "COL",
          "COM",
          "COG",
          "CRI",
          "CIV",
          "HRV",
          "CUW",
          "CYP",
          "CZE",
          "COD",
          "DNK",
          "DMA",
          "DOM",
          null,
          "TLS",
          "ECU",
          "EGY",
          "SLV",
          "GNQ",
          "EST",
          "SWZ",
          "ETH",
          null,
          null,
          "FJI",
          "FIN",
          "FRA",
          "GAB",
          "GMB",
          "GEO",
          "DEU",
          "GHA",
          "GRC",
          "GRL",
          "GRD",
          "GTM",
          "GIN",
          "GNB",
          "GUY",
          "HTI",
          null,
          "HND",
          "HKG",
          "HUN",
          "ISL",
          "IND",
          "IDN",
          "IRN",
          "IRQ",
          "IRL",
          "ISR",
          "ITA",
          "JAM",
          "JPN",
          "JOR",
          "KAZ",
          "KEN",
          "KIR",
          "KWT",
          "KGZ",
          "LAO",
          null,
          "LVA",
          "LBN",
          "LSO",
          "LBR",
          "LBY",
          "LTU",
          null,
          null,
          "LUX",
          "MAC",
          "MDG",
          "MWI",
          "MYS",
          "MDV",
          "MLI",
          "MLT",
          "MHL",
          "MRT",
          "MUS",
          "MEX",
          "FSM",
          null,
          null,
          "MDA",
          "MNG",
          "MNE",
          "MAR",
          "MOZ",
          "MMR",
          "NAM",
          "NRU",
          "NPL",
          "NLD",
          "NZL",
          "NIC",
          "NER",
          "NGA",
          null,
          "MKD",
          "NOR",
          "OMN",
          "PAK",
          "PLW",
          "PSE",
          "PAN",
          "PNG",
          "PRY",
          "PER",
          "PHL",
          "POL",
          "PRT",
          "PRI",
          "QAT",
          "ROU",
          "RUS",
          "RWA",
          "KNA",
          "LCA",
          "VCT",
          "WSM",
          "SMR",
          "STP",
          "SAU",
          "SEN",
          "SRB",
          "SYC",
          "SLE",
          "SGP",
          "SVK",
          "SVN",
          "SLB",
          "SOM",
          "ZAF",
          null,
          "KOR",
          "ESP",
          "LKA",
          null,
          "SDN",
          "SUR",
          "SWE",
          "CHE",
          "SYR",
          "TJK",
          "TZA",
          "THA",
          "TGO",
          "TON",
          "TTO",
          "TUN",
          "TUR",
          "TKM",
          "TUV",
          "UGA",
          "UKR",
          "ARE",
          "GBR",
          "USA",
          "VIR",
          null,
          "URY",
          "UZB",
          "VUT",
          "VNM",
          "OWID_WRL",
          "ZMB",
          "ZWE"
         ],
         "name": "",
         "type": "choropleth",
         "z": {
          "_inputArray": {
           "0": 1774.3087,
           "1": 7565.8213,
           "10": 55158.492,
           "100": 16490.418,
           "101": 12053.834,
           "102": 2024.7872,
           "103": 1887.646,
           "104": 16625.059,
           "105": 18445.715,
           "106": 1857.5642,
           "107": 3754.3452,
           "108": 120262.86,
           "109": 61564.754,
           "11": 6599.6577,
           "110": 1491.6256,
           "111": 1140.8428,
           "112": 18708.87,
           "113": 13630.594,
           "114": 1951.7542,
           "115": 31961.555,
           "116": 4121.84,
           "117": 4806.8984,
           "118": 13784.199,
           "119": 19981.475,
           "12": 35600.33,
           "120": 3696.5852,
           "121": 13827.769,
           "122": 6061.9297,
           "123": 6580.2783,
           "124": 6117.9824,
           "125": 15020.825,
           "126": 5544.072,
           "127": 842.64526,
           "128": 1661.7358,
           "129": 8017.2812,
           "13": 55096.656,
           "130": 7593.0654,
           "131": 2380.2441,
           "132": 57283.96,
           "133": 38152.508,
           "134": 4895.006,
           "135": 1248.8231,
           "136": 3806.2158,
           "137": 54806.977,
           "138": 11951.697,
           "139": 79647.98,
           "14": 2866.4346,
           "140": 42654.15,
           "141": 3563.6785,
           "142": 16980.83,
           "143": 3409.1729,
           "144": 14507.144,
           "145": 3100.7952,
           "146": 9610.748,
           "147": 7932.991,
           "148": 4856.4995,
           "149": 19500.68,
           "15": 18404.15,
           "150": 35766.66,
           "151": 39879.73,
           "152": 94111.69,
           "153": 17213.893,
           "154": 22546.727,
           "155": 1219.6971,
           "156": 20824.742,
           "157": 17911.477,
           "158": 10619.379,
           "159": 5183.4546,
           "16": 12443.933,
           "160": 79649.53,
           "161": 3942.7605,
           "162": 46435.48,
           "163": 3075.2317,
           "164": 12803.79,
           "165": 19777.752,
           "166": 1884.5352,
           "167": 67451.72,
           "168": 19790.836,
           "169": 32088.34,
           "17": 52519.62,
           "170": 1960.441,
           "171": 749.64453,
           "172": 11711.884,
           "173": 3258.4636,
           "174": 28072.367,
           "175": 41589.918,
           "176": 6409.863,
           "177": 3309.2983,
           "178": 3814.3132,
           "179": 16678.072,
           "18": 11816.598,
           "180": 49646.94,
           "181": 68055.63,
           "182": 7811.816,
           "183": 1594.939,
           "184": 1982.6443,
           "185": 12511.738,
           "186": 2084.2305,
           "187": 6085.114,
           "188": 22050.355,
           "189": 9355.396,
           "19": 2630.1807,
           "190": 14565.538,
           "191": 5138.871,
           "192": 4042.897,
           "193": 1598.5829,
           "194": 12092.789,
           "195": 84871.6,
           "196": 46462.96,
           "197": 55436.117,
           "198": 54299.23,
           "199": 8169.632,
           "2": 12213.126,
           "20": 101739.79,
           "200": 16626.63,
           "201": 3604.6934,
           "202": 2911.0413,
           "203": 4809.6216,
           "204": 13052.895,
           "205": 2299.333,
           "206": 3701.458,
           "21": 5991.255,
           "22": 6193.2637,
           "23": 8482.108,
           "24": 13479.724,
           "25": 14265.905,
           "26": 101571.586,
           "27": 14505.831,
           "28": 1494.678,
           "29": 998.5613,
           "3": 61188.637,
           "30": 2126.3416,
           "31": 3951.4194,
           "32": 48943.543,
           "33": 4710.241,
           "34": 1290.3832,
           "35": 1232.8087,
           "36": 18246.645,
           "37": 4650.897,
           "38": 11124.361,
           "39": 3059.31,
           "4": 6645.4775,
           "40": 7729.3887,
           "41": 14670.719,
           "42": 4368.928,
           "43": 24126.75,
           "44": 35436.176,
           "45": 38988.723,
           "46": 32342.531,
           "47": 839.76624,
           "48": 58369.234,
           "49": 12586.051,
           "5": 23962.965,
           "50": 11242.072,
           "51": 8788.615,
           "52": 3481.0798,
           "53": 9685.621,
           "54": 10143.506,
           "55": 7675.671,
           "56": 20242.432,
           "57": 24218.04,
           "58": 6425.4883,
           "59": 838.298,
           "6": 18571.701,
           "60": 31558.252,
           "61": 41908.22,
           "62": 9724.101,
           "63": 49246.05,
           "64": 47838.926,
           "65": 20981.48,
           "66": 2578.5571,
           "67": 6464.325,
           "68": 50849.594,
           "69": 3425.6182,
           "7": 5731.3535,
           "70": 34128.145,
           "71": 44173.93,
           "72": 11684.859,
           "73": 8904.632,
           "74": 2498.1318,
           "75": 1997.1658,
           "76": 8314.027,
           "77": 3163.5898,
           "78": 42360.01,
           "79": 4627.023,
           "8": 39846.062,
           "80": 40258.234,
           "81": 24466.445,
           "82": 49100.117,
           "83": 3250.6956,
           "84": 6381.9497,
           "85": 11788.8955,
           "86": 11144.051,
           "87": 57709.8,
           "88": 31770.395,
           "89": 52056.73,
           "9": 45920.18,
           "90": 9716.8955,
           "91": 39201.977,
           "92": 8638.08,
           "93": 15960.874,
           "94": 3681.2568,
           "95": 2341.6946,
           "96": 59050.246,
           "97": 3760.5325,
           "98": 3143.2234,
           "99": 14437.22,
           "bdata": "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",
           "dtype": "f8",
           "shape": "207"
          },
          "bdata": "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",
          "dtype": "f8"
         }
        }
       ],
       "layout": {
        "coloraxis": {
         "colorbar": {
          "title": {
           "text": "gdp pc"
          }
         },
         "colorscale": [
          [
           0,
           "#0d0887"
          ],
          [
           0.1111111111111111,
           "#46039f"
          ],
          [
           0.2222222222222222,
           "#7201a8"
          ],
          [
           0.3333333333333333,
           "#9c179e"
          ],
          [
           0.4444444444444444,
           "#bd3786"
          ],
          [
           0.5555555555555556,
           "#d8576b"
          ],
          [
           0.6666666666666666,
           "#ed7953"
          ],
          [
           0.7777777777777778,
           "#fb9f3a"
          ],
          [
           0.8888888888888888,
           "#fdca26"
          ],
          [
           1,
           "#f0f921"
          ]
         ]
        },
        "geo": {
         "center": {},
         "domain": {
          "x": [
           0,
           1
          ],
          "y": [
           0,
           1
          ]
         },
         "projection": {
          "type": "natural earth"
         }
        },
        "height": 500,
        "legend": {
         "tracegroupgap": 0
        },
        "template": {
         "data": {
          "bar": [
           {
            "error_x": {
             "color": "#2a3f5f"
            },
            "error_y": {
             "color": "#2a3f5f"
            },
            "marker": {
             "line": {
              "color": "#E5ECF6",
              "width": 0.5
             },
             "pattern": {
              "fillmode": "overlay",
              "size": 10,
              "solidity": 0.2
             }
            },
            "type": "bar"
           }
          ],
          "barpolar": [
           {
            "marker": {
             "line": {
              "color": "#E5ECF6",
              "width": 0.5
             },
             "pattern": {
              "fillmode": "overlay",
              "size": 10,
              "solidity": 0.2
             }
            },
            "type": "barpolar"
           }
          ],
          "carpet": [
           {
            "aaxis": {
             "endlinecolor": "#2a3f5f",
             "gridcolor": "white",
             "linecolor": "white",
             "minorgridcolor": "white",
             "startlinecolor": "#2a3f5f"
            },
            "baxis": {
             "endlinecolor": "#2a3f5f",
             "gridcolor": "white",
             "linecolor": "white",
             "minorgridcolor": "white",
             "startlinecolor": "#2a3f5f"
            },
            "type": "carpet"
           }
          ],
          "choropleth": [
           {
            "colorbar": {
             "outlinewidth": 0,
             "ticks": ""
            },
            "type": "choropleth"
           }
          ],
          "contour": [
           {
            "colorbar": {
             "outlinewidth": 0,
             "ticks": ""
            },
            "colorscale": [
             [
              0,
              "#0d0887"
             ],
             [
              0.1111111111111111,
              "#46039f"
             ],
             [
              0.2222222222222222,
              "#7201a8"
             ],
             [
              0.3333333333333333,
              "#9c179e"
             ],
             [
              0.4444444444444444,
              "#bd3786"
             ],
             [
              0.5555555555555556,
              "#d8576b"
             ],
             [
              0.6666666666666666,
              "#ed7953"
             ],
             [
              0.7777777777777778,
              "#fb9f3a"
             ],
             [
              0.8888888888888888,
              "#fdca26"
             ],
             [
              1,
              "#f0f921"
             ]
            ],
            "type": "contour"
           }
          ],
          "contourcarpet": [
           {
            "colorbar": {
             "outlinewidth": 0,
             "ticks": ""
            },
            "type": "contourcarpet"
           }
          ],
          "heatmap": [
           {
            "colorbar": {
             "outlinewidth": 0,
             "ticks": ""
            },
            "colorscale": [
             [
              0,
              "#0d0887"
             ],
             [
              0.1111111111111111,
              "#46039f"
             ],
             [
              0.2222222222222222,
              "#7201a8"
             ],
             [
              0.3333333333333333,
              "#9c179e"
             ],
             [
              0.4444444444444444,
              "#bd3786"
             ],
             [
              0.5555555555555556,
              "#d8576b"
             ],
             [
              0.6666666666666666,
              "#ed7953"
             ],
             [
              0.7777777777777778,
              "#fb9f3a"
             ],
             [
              0.8888888888888888,
              "#fdca26"
             ],
             [
              1,
              "#f0f921"
             ]
            ],
            "type": "heatmap"
           }
          ],
          "histogram": [
           {
            "marker": {
             "pattern": {
              "fillmode": "overlay",
              "size": 10,
              "solidity": 0.2
             }
            },
            "type": "histogram"
           }
          ],
          "histogram2d": [
           {
            "colorbar": {
             "outlinewidth": 0,
             "ticks": ""
            },
            "colorscale": [
             [
              0,
              "#0d0887"
             ],
             [
              0.1111111111111111,
              "#46039f"
             ],
             [
              0.2222222222222222,
              "#7201a8"
             ],
             [
              0.3333333333333333,
              "#9c179e"
             ],
             [
              0.4444444444444444,
              "#bd3786"
             ],
             [
              0.5555555555555556,
              "#d8576b"
             ],
             [
              0.6666666666666666,
              "#ed7953"
             ],
             [
              0.7777777777777778,
              "#fb9f3a"
             ],
             [
              0.8888888888888888,
              "#fdca26"
             ],
             [
              1,
              "#f0f921"
             ]
            ],
            "type": "histogram2d"
           }
          ],
          "histogram2dcontour": [
           {
            "colorbar": {
             "outlinewidth": 0,
             "ticks": ""
            },
            "colorscale": [
             [
              0,
              "#0d0887"
             ],
             [
              0.1111111111111111,
              "#46039f"
             ],
             [
              0.2222222222222222,
              "#7201a8"
             ],
             [
              0.3333333333333333,
              "#9c179e"
             ],
             [
              0.4444444444444444,
              "#bd3786"
             ],
             [
              0.5555555555555556,
              "#d8576b"
             ],
             [
              0.6666666666666666,
              "#ed7953"
             ],
             [
              0.7777777777777778,
              "#fb9f3a"
             ],
             [
              0.8888888888888888,
              "#fdca26"
             ],
             [
              1,
              "#f0f921"
             ]
            ],
            "type": "histogram2dcontour"
           }
          ],
          "mesh3d": [
           {
            "colorbar": {
             "outlinewidth": 0,
             "ticks": ""
            },
            "type": "mesh3d"
           }
          ],
          "parcoords": [
           {
            "line": {
             "colorbar": {
              "outlinewidth": 0,
              "ticks": ""
             }
            },
            "type": "parcoords"
           }
          ],
          "pie": [
           {
            "automargin": true,
            "type": "pie"
           }
          ],
          "scatter": [
           {
            "fillpattern": {
             "fillmode": "overlay",
             "size": 10,
             "solidity": 0.2
            },
            "type": "scatter"
           }
          ],
          "scatter3d": [
           {
            "line": {
             "colorbar": {
              "outlinewidth": 0,
              "ticks": ""
             }
            },
            "marker": {
             "colorbar": {
              "outlinewidth": 0,
              "ticks": ""
             }
            },
            "type": "scatter3d"
           }
          ],
          "scattercarpet": [
           {
            "marker": {
             "colorbar": {
              "outlinewidth": 0,
              "ticks": ""
             }
            },
            "type": "scattercarpet"
           }
          ],
          "scattergeo": [
           {
            "marker": {
             "colorbar": {
              "outlinewidth": 0,
              "ticks": ""
             }
            },
            "type": "scattergeo"
           }
          ],
          "scattergl": [
           {
            "marker": {
             "colorbar": {
              "outlinewidth": 0,
              "ticks": ""
             }
            },
            "type": "scattergl"
           }
          ],
          "scattermap": [
           {
            "marker": {
             "colorbar": {
              "outlinewidth": 0,
              "ticks": ""
             }
            },
            "type": "scattermap"
           }
          ],
          "scattermapbox": [
           {
            "marker": {
             "colorbar": {
              "outlinewidth": 0,
              "ticks": ""
             }
            },
            "type": "scattermapbox"
           }
          ],
          "scatterpolar": [
           {
            "marker": {
             "colorbar": {
              "outlinewidth": 0,
              "ticks": ""
             }
            },
            "type": "scatterpolar"
           }
          ],
          "scatterpolargl": [
           {
            "marker": {
             "colorbar": {
              "outlinewidth": 0,
              "ticks": ""
             }
            },
            "type": "scatterpolargl"
           }
          ],
          "scatterternary": [
           {
            "marker": {
             "colorbar": {
              "outlinewidth": 0,
              "ticks": ""
             }
            },
            "type": "scatterternary"
           }
          ],
          "surface": [
           {
            "colorbar": {
             "outlinewidth": 0,
             "ticks": ""
            },
            "colorscale": [
             [
              0,
              "#0d0887"
             ],
             [
              0.1111111111111111,
              "#46039f"
             ],
             [
              0.2222222222222222,
              "#7201a8"
             ],
             [
              0.3333333333333333,
              "#9c179e"
             ],
             [
              0.4444444444444444,
              "#bd3786"
             ],
             [
              0.5555555555555556,
              "#d8576b"
             ],
             [
              0.6666666666666666,
              "#ed7953"
             ],
             [
              0.7777777777777778,
              "#fb9f3a"
             ],
             [
              0.8888888888888888,
              "#fdca26"
             ],
             [
              1,
              "#f0f921"
             ]
            ],
            "type": "surface"
           }
          ],
          "table": [
           {
            "cells": {
             "fill": {
              "color": "#EBF0F8"
             },
             "line": {
              "color": "white"
             }
            },
            "header": {
             "fill": {
              "color": "#C8D4E3"
             },
             "line": {
              "color": "white"
             }
            },
            "type": "table"
           }
          ]
         },
         "layout": {
          "annotationdefaults": {
           "arrowcolor": "#2a3f5f",
           "arrowhead": 0,
           "arrowwidth": 1
          },
          "autotypenumbers": "strict",
          "coloraxis": {
           "colorbar": {
            "outlinewidth": 0,
            "ticks": ""
           }
          },
          "colorscale": {
           "diverging": [
            [
             0,
             "#8e0152"
            ],
            [
             0.1,
             "#c51b7d"
            ],
            [
             0.2,
             "#de77ae"
            ],
            [
             0.3,
             "#f1b6da"
            ],
            [
             0.4,
             "#fde0ef"
            ],
            [
             0.5,
             "#f7f7f7"
            ],
            [
             0.6,
             "#e6f5d0"
            ],
            [
             0.7,
             "#b8e186"
            ],
            [
             0.8,
             "#7fbc41"
            ],
            [
             0.9,
             "#4d9221"
            ],
            [
             1,
             "#276419"
            ]
           ],
           "sequential": [
            [
             0,
             "#0d0887"
            ],
            [
             0.1111111111111111,
             "#46039f"
            ],
            [
             0.2222222222222222,
             "#7201a8"
            ],
            [
             0.3333333333333333,
             "#9c179e"
            ],
            [
             0.4444444444444444,
             "#bd3786"
            ],
            [
             0.5555555555555556,
             "#d8576b"
            ],
            [
             0.6666666666666666,
             "#ed7953"
            ],
            [
             0.7777777777777778,
             "#fb9f3a"
            ],
            [
             0.8888888888888888,
             "#fdca26"
            ],
            [
             1,
             "#f0f921"
            ]
           ],
           "sequentialminus": [
            [
             0,
             "#0d0887"
            ],
            [
             0.1111111111111111,
             "#46039f"
            ],
            [
             0.2222222222222222,
             "#7201a8"
            ],
            [
             0.3333333333333333,
             "#9c179e"
            ],
            [
             0.4444444444444444,
             "#bd3786"
            ],
            [
             0.5555555555555556,
             "#d8576b"
            ],
            [
             0.6666666666666666,
             "#ed7953"
            ],
            [
             0.7777777777777778,
             "#fb9f3a"
            ],
            [
             0.8888888888888888,
             "#fdca26"
            ],
            [
             1,
             "#f0f921"
            ]
           ]
          },
          "colorway": [
           "#636efa",
           "#EF553B",
           "#00cc96",
           "#ab63fa",
           "#FFA15A",
           "#19d3f3",
           "#FF6692",
           "#B6E880",
           "#FF97FF",
           "#FECB52"
          ],
          "font": {
           "color": "#2a3f5f"
          },
          "geo": {
           "bgcolor": "white",
           "lakecolor": "white",
           "landcolor": "#E5ECF6",
           "showlakes": true,
           "showland": true,
           "subunitcolor": "white"
          },
          "hoverlabel": {
           "align": "left"
          },
          "hovermode": "closest",
          "mapbox": {
           "style": "light"
          },
          "paper_bgcolor": "white",
          "plot_bgcolor": "#E5ECF6",
          "polar": {
           "angularaxis": {
            "gridcolor": "white",
            "linecolor": "white",
            "ticks": ""
           },
           "bgcolor": "#E5ECF6",
           "radialaxis": {
            "gridcolor": "white",
            "linecolor": "white",
            "ticks": ""
           }
          },
          "scene": {
           "xaxis": {
            "backgroundcolor": "#E5ECF6",
            "gridcolor": "white",
            "gridwidth": 2,
            "linecolor": "white",
            "showbackground": true,
            "ticks": "",
            "zerolinecolor": "white"
           },
           "yaxis": {
            "backgroundcolor": "#E5ECF6",
            "gridcolor": "white",
            "gridwidth": 2,
            "linecolor": "white",
            "showbackground": true,
            "ticks": "",
            "zerolinecolor": "white"
           },
           "zaxis": {
            "backgroundcolor": "#E5ECF6",
            "gridcolor": "white",
            "gridwidth": 2,
            "linecolor": "white",
            "showbackground": true,
            "ticks": "",
            "zerolinecolor": "white"
           }
          },
          "shapedefaults": {
           "line": {
            "color": "#2a3f5f"
           }
          },
          "ternary": {
           "aaxis": {
            "gridcolor": "white",
            "linecolor": "white",
            "ticks": ""
           },
           "baxis": {
            "gridcolor": "white",
            "linecolor": "white",
            "ticks": ""
           },
           "bgcolor": "#E5ECF6",
           "caxis": {
            "gridcolor": "white",
            "linecolor": "white",
            "ticks": ""
           }
          },
          "title": {
           "x": 0.05
          },
          "xaxis": {
           "automargin": true,
           "gridcolor": "white",
           "linecolor": "white",
           "ticks": "",
           "title": {
            "standoff": 15
           },
           "zerolinecolor": "white",
           "zerolinewidth": 2
          },
          "yaxis": {
           "automargin": true,
           "gridcolor": "white",
           "linecolor": "white",
           "ticks": "",
           "title": {
            "standoff": 15
           },
           "zerolinecolor": "white",
           "zerolinewidth": 2
          }
         }
        },
        "title": {
         "text": "GDP pc, 2002"
        },
        "width": 900
       }
      },
      "image/png": "[encoded data removed]"
     },
     "metadata": {},
     "output_type": "display_data"
    }
   ],
   "source": [
    "f2=px.choropleth( d2002, locations='Code', color='gdp pc', hover_name='Entity', projection='natural earth', title='GDP pc, 2002')\n",
    "f2.update_layout( width=900, \n",
    "                 height=500)\n",
    "f2.show()"
   ]
  },
  {
   "cell_type": "code",
   "execution_count": 22,
   "id": "2a13afdd-2eaf-4197-8953-13d10f9ed665",
   "metadata": {},
   "outputs": [],
   "source": [
    "d2pivot=pd.pivot_table( data=d2, values='gdp pc', columns='Entity', index='Year')\n",
    "d2pivot=d2pivot.dropna( axis=1)\n",
    "# practicing data reshaping\n",
    "d2pivot.reset_index(inplace=True)"
   ]
  }
 ],
 "metadata": {
  "kernelspec": {
   "display_name": "Python 3 (ipykernel)",
   "language": "python",
   "name": "python3"
  },
  "language_info": {
   "codemirror_mode": {
    "name": "ipython",
    "version": 3
   },
   "file_extension": ".py",
   "mimetype": "text/x-python",
   "name": "python",
   "nbconvert_exporter": "python",
   "pygments_lexer": "ipython3",
   "version": "3.12.1"
  }
 },
 "nbformat": 4,
 "nbformat_minor": 5
}
